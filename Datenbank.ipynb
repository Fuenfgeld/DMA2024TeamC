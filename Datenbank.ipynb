{
  "nbformat": 4,
  "nbformat_minor": 0,
  "metadata": {
    "colab": {
      "provenance": [],
      "authorship_tag": "ABX9TyN2Evh2wIi5jffb3IjWZH7d",
      "include_colab_link": true
    },
    "kernelspec": {
      "name": "python3",
      "display_name": "Python 3"
    },
    "language_info": {
      "name": "python"
    }
  },
  "cells": [
    {
      "cell_type": "markdown",
      "metadata": {
        "id": "view-in-github",
        "colab_type": "text"
      },
      "source": [
        "<a href=\"https://colab.research.google.com/github/Fuenfgeld/DMA2024TeamC/blob/main/Datenbank.ipynb\" target=\"_parent\"><img src=\"https://colab.research.google.com/assets/colab-badge.svg\" alt=\"Open In Colab\"/></a>"
      ]
    },
    {
      "cell_type": "markdown",
      "source": [
        "**Kursarbeit Datenmanagement und -Archivierung WS 23/24**\n",
        "\n",
        "Master-Code Name-Projekt\n"
      ],
      "metadata": {
        "id": "vHosyFJW4vm1"
      }
    },
    {
      "cell_type": "markdown",
      "source": [
        "**Erstellung der Datenbank**\n",
        "\n",
        "\n",
        "*   Datenbankinitialisierung:\n",
        "\n",
        "\n",
        "> Datebankinitialisierung im Memory\n",
        "Quelldatenimport\n",
        "Ausgabe der Connection- und Cursor-Syntax\n"
      ],
      "metadata": {
        "id": "mZXn3MCm6EUw"
      }
    },
    {
      "cell_type": "markdown",
      "source": [
        "> Importing Libraries"
      ],
      "metadata": {
        "id": "R4Vq7BBP-kj0"
      }
    },
    {
      "cell_type": "code",
      "source": [
        "import pandas as pd\n",
        "from functools import reduce\n",
        "import sqlite3\n",
        "from sqlite3 import Error\n",
        "import csv\n",
        "import requests"
      ],
      "metadata": {
        "id": "eriJl5b7-haW"
      },
      "execution_count": 10,
      "outputs": []
    },
    {
      "cell_type": "markdown",
      "source": [
        "> Verbindung zu Googledrive herstellen (Ablageort der CSV-Dateien)"
      ],
      "metadata": {
        "id": "c9whsxq3-FwZ"
      }
    },
    {
      "cell_type": "code",
      "source": [
        "from google.colab import drive\n",
        "drive.mount(\"/content/drive\")"
      ],
      "metadata": {
        "id": "ZSbZ7Syq7OoY",
        "colab": {
          "base_uri": "https://localhost:8080/"
        },
        "outputId": "119bdf79-2211-4b1d-9dc1-db6e332125ad"
      },
      "execution_count": 5,
      "outputs": [
        {
          "output_type": "stream",
          "name": "stdout",
          "text": [
            "Mounted at /content/drive\n"
          ]
        }
      ]
    },
    {
      "cell_type": "code",
      "source": [
        "material_path = \"/content/drive/My Drive/csv_data\""
      ],
      "metadata": {
        "id": "RqKBRmeR-COy"
      },
      "execution_count": 6,
      "outputs": []
    },
    {
      "cell_type": "code",
      "source": [
        "!ls \"/content/drive/My Drive/csv_data\""
      ],
      "metadata": {
        "colab": {
          "base_uri": "https://localhost:8080/"
        },
        "id": "YcniAsRNA99q",
        "outputId": "7ed1883a-246d-4a47-ad6c-4720381e71d7"
      },
      "execution_count": 7,
      "outputs": [
        {
          "output_type": "stream",
          "name": "stdout",
          "text": [
            " allergy       asthma\t       colorectal_cancer   dermatitis\t metabolic_syndrome_disease\n",
            " allergy.csv   breast_cancer   covid19\t\t   lung_cancer\t'Outline COVID-19.gdoc'\n"
          ]
        }
      ]
    },
    {
      "cell_type": "markdown",
      "source": [
        "> Verbindung zu SQLite herstellen"
      ],
      "metadata": {
        "id": "NwJSSy7UDMoE"
      }
    },
    {
      "cell_type": "code",
      "source": [
        "# SQLite connection\n",
        "# Create a SQLite database in memory from python\n",
        "\n",
        "def create_connection_memory():\n",
        "    \"\"\" create a database connection to a database that resides\n",
        "        in the memory\n",
        "    \"\"\"\n",
        "    conn = None;\n",
        "    try:\n",
        "       #Establishing the connection\n",
        "        conn = sqlite3.connect(':memory:')\n",
        "        return conn\n",
        "        print(sqlite3.version)\n",
        "    except Error as e:\n",
        "        print(\"Error while connecting to sqlite\", e)\n",
        "    # finally:\n",
        "    #     if conn:\n",
        "    #         conn.close()"
      ],
      "metadata": {
        "id": "-MiH3_RuC-Mu"
      },
      "execution_count": 8,
      "outputs": []
    },
    {
      "cell_type": "code",
      "source": [
        "# Creating a temporary empty database in the memory.\n",
        "conn = create_connection_memory()\n",
        "# Creating a cursor object using the cursor() method\n",
        "cur = conn.cursor()\n",
        "print(\"Successfully Connected to SQLite\")\n"
      ],
      "metadata": {
        "colab": {
          "base_uri": "https://localhost:8080/"
        },
        "id": "GcTWPtWskbTM",
        "outputId": "ed25990b-2a87-4751-f9dd-bfac3f3b1dd5"
      },
      "execution_count": 9,
      "outputs": [
        {
          "output_type": "stream",
          "name": "stdout",
          "text": [
            "Successfully Connected to SQLite\n"
          ]
        }
      ]
    },
    {
      "cell_type": "code",
      "source": [
        "# Load CSVs\n",
        "#careplans = pd.read_csv('../Daten/careplans.csv', sep=\",\")\n",
        "#conditions = pd.read_csv('../Daten/conditions.csv', sep=\",\")\n",
        "#immunizations = pd.read_csv('../Daten/immunizations.csv', sep=\",\")\n",
        "#medications = pd.read_csv('../Daten/medications.csv', sep=\",\")\n",
        "#observations = pd.read_csv('../Daten/observations.csv', sep=\",\")\n",
        "patients = pd.read_csv('/content/drive/My Drive/csv_data/breast_cancer/patients.csv', sep=\",\")"
      ],
      "metadata": {
        "id": "1Uffy7Q6yWD_"
      },
      "execution_count": 14,
      "outputs": []
    },
    {
      "cell_type": "code",
      "source": [
        "#Delete Tables in case they exist\n",
        "cur.execute(\"DROP TABLE IF EXISTS careplans\")\n",
        "cur.execute(\"DROP TABLE IF EXISTS conditions\")\n",
        "cur.execute(\"DROP TABLE IF EXISTS disease\")\n",
        "cur.execute(\"DROP TABLE IF EXISTS immunizations\")\n",
        "cur.execute(\"DROP TABLE IF EXISTS medications\")\n",
        "cur.execute(\"DROP TABLE IF EXISTS observations\")\n",
        "cur.execute(\"DROP TABLE IF EXISTS patients\")\n",
        "cur.execute(\"DROP TABLE IF EXISTS facts_table\")"
      ],
      "metadata": {
        "colab": {
          "base_uri": "https://localhost:8080/"
        },
        "id": "omHiPDL_yWH2",
        "outputId": "3a9548dc-e7c8-462c-f938-4d8bf292d2e3"
      },
      "execution_count": 15,
      "outputs": [
        {
          "output_type": "execute_result",
          "data": {
            "text/plain": [
              "<sqlite3.Cursor at 0x7a1f4c15e0c0>"
            ]
          },
          "metadata": {},
          "execution_count": 15
        }
      ]
    },
    {
      "cell_type": "code",
      "source": [
        "# Create patient table\n",
        "sql_create_source_data = requests.get('https://raw.githubusercontent.com/Fuenfgeld/DMA2024TeamC/main/create_statements_db.sql').text\n",
        "cur.executescript(sql_create_source_data)\n",
        "conn.commit()\n",
        "print(\"Successfully created patients table in the database\")"
      ],
      "metadata": {
        "colab": {
          "base_uri": "https://localhost:8080/"
        },
        "id": "ErcedcDWlSbo",
        "outputId": "de0a1a90-1e93-4e73-fa95-aa7df5fd45b8"
      },
      "execution_count": 13,
      "outputs": [
        {
          "output_type": "stream",
          "name": "stdout",
          "text": [
            "Successfully created patients table in the database\n"
          ]
        }
      ]
    },
    {
      "cell_type": "code",
      "source": [
        "#Insert data into table\n",
        "#careplans.to_sql('careplans', conn, if_exists='append', index=False)\n",
        "#conditions.to_sql('conditions', conn, if_exists='append', index=False)\n",
        "#immunizations.to_sql('immunizations', conn, if_exists='append', index=False)\n",
        "#medications.to_sql('medications', conn, if_exists='append', index=False)\n",
        "#observations.to_sql('observations', conn, if_exists='append', index=False)\n",
        "patients.to_sql('patients', conn, if_exists='append', index=False)"
      ],
      "metadata": {
        "colab": {
          "base_uri": "https://localhost:8080/"
        },
        "id": "GV-I0HHdyYl2",
        "outputId": "cb93c681-29af-401f-a7c3-ec31f43421ce"
      },
      "execution_count": 16,
      "outputs": [
        {
          "output_type": "execute_result",
          "data": {
            "text/plain": [
              "1019"
            ]
          },
          "metadata": {},
          "execution_count": 16
        }
      ]
    },
    {
      "cell_type": "code",
      "source": [
        "#Select data\n",
        "# show table: retrieve all the column of each records and 4 rows\n",
        "cur.execute(\"SELECT * FROM patients\")\n",
        "records = cur.fetchall()\n",
        "# show 4 rows\n",
        "for row in records[:4]:\n",
        "  print(row)"
      ],
      "metadata": {
        "colab": {
          "base_uri": "https://localhost:8080/"
        },
        "id": "bkOtFAoFlS5H",
        "outputId": "8a60c681-fca8-4dad-ba1b-773931eeb7ad"
      },
      "execution_count": 17,
      "outputs": [
        {
          "output_type": "stream",
          "name": "stdout",
          "text": [
            "('d2061cc7-bee0-0e6c-3ac4-15c197c474e0', '1956-06-22', None, '999-51-6528', 'S99944910', 'X29408602X', 'Mr.', 'Lucio648', 'Simonis280', None, None, 'M', 'white', 'nonhispanic', 'M', 'Worcester  Massachusetts  US', '636 Wiegand Loaf', 'Cambridge', 'Massachusetts', 'Middlesex County', 2140.0, 42.35992586937376, -71.11326024935221, 1475230.0, 4244.639999999999)\n",
            "('073d8e80-ff90-1c8d-57e4-29bfca52c87f', '1964-08-28', None, '999-90-4728', 'S99976204', 'X17497441X', 'Mrs.', 'Buffy238', 'Wolf938', None, 'Williamson769', 'M', 'white', 'nonhispanic', 'F', 'Somerville  Massachusetts  US', '972 Satterfield Trafficway Apt 71', 'North Brookfield', 'Massachusetts', 'Worcester County', 1535.0, 42.25784546955933, -72.02631680460482, 1489125.0, 4016.36)\n",
            "('e1ff7e68-4097-9faf-514d-e4cfcfdf252e', '1998-08-28', None, '999-82-3645', 'S99973929', 'X88553898X', 'Ms.', 'Debora709', 'Klocko335', None, None, None, 'white', 'nonhispanic', 'F', 'Williamstown  Massachusetts  US', '589 Koss Station', 'Worcester', 'Massachusetts', 'Worcester County', 1545.0, 42.204289674137854, -71.8184488503781, 57142.44, 2103.2)\n",
            "('a0f679cc-875f-dd72-ed13-9ca863ec6cf3', '2004-01-20', None, '999-93-6431', 'S99923001', None, None, 'Walton167', 'Kessler503', None, None, None, 'asian', 'nonhispanic', 'M', 'New Braintree  Massachusetts  US', '777 Gusikowski Drive', 'Weymouth', 'Massachusetts', 'Norfolk County', None, 42.15026973562508, -70.90408406035422, 408520.0, 2709.0)\n"
          ]
        }
      ]
    },
    {
      "cell_type": "code",
      "source": [
        "# List of columns in a table\n",
        "cur.execute (\"select * from patients\")\n",
        "col_names = cur.description\n",
        "for row in col_names:\n",
        "  print(row[0])\n"
      ],
      "metadata": {
        "colab": {
          "base_uri": "https://localhost:8080/"
        },
        "id": "Wq5wsv3D3_Bg",
        "outputId": "7fdfd886-a6ad-44eb-ea99-103ab75da024"
      },
      "execution_count": 18,
      "outputs": [
        {
          "output_type": "stream",
          "name": "stdout",
          "text": [
            "Id\n",
            "BIRTHDATE\n",
            "DEATHDATE\n",
            "SSN\n",
            "DRIVERS\n",
            "PASSPORT\n",
            "PREFIX\n",
            "FIRST\n",
            "LAST\n",
            "SUFFIX\n",
            "MAIDEN\n",
            "MARITAL\n",
            "RACE\n",
            "ETHNICITY\n",
            "GENDER\n",
            "BIRTHPLACE\n",
            "ADDRESS\n",
            "CITY\n",
            "STATE\n",
            "COUNTY\n",
            "ZIP\n",
            "LAT\n",
            "LON\n",
            "HEALTHCARE_EXPENSES\n",
            "HEALTHCARE_COVERAGE\n"
          ]
        }
      ]
    },
    {
      "cell_type": "markdown",
      "source": [],
      "metadata": {
        "id": "cZoPnEBelTSP"
      }
    }
  ]
}