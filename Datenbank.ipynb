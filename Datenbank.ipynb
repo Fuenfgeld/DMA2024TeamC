{
  "nbformat": 4,
  "nbformat_minor": 0,
  "metadata": {
    "colab": {
      "provenance": [],
      "authorship_tag": "ABX9TyMaBwLTuelZZpxQiIJaMvV4",
      "include_colab_link": true
    },
    "kernelspec": {
      "name": "python3",
      "display_name": "Python 3"
    },
    "language_info": {
      "name": "python"
    }
  },
  "cells": [
    {
      "cell_type": "markdown",
      "metadata": {
        "id": "view-in-github",
        "colab_type": "text"
      },
      "source": [
        "<a href=\"https://colab.research.google.com/github/Fuenfgeld/DMA2024TeamC/blob/main/Datenbank.ipynb\" target=\"_parent\"><img src=\"https://colab.research.google.com/assets/colab-badge.svg\" alt=\"Open In Colab\"/></a>"
      ]
    },
    {
      "cell_type": "markdown",
      "source": [
        "**Kursarbeit Datenmanagement und -Archivierung WS 23/24**\n",
        "\n",
        "Master-Code Name-Projekt\n"
      ],
      "metadata": {
        "id": "vHosyFJW4vm1"
      }
    },
    {
      "cell_type": "markdown",
      "source": [
        "**Erstellung der Datenbank**\n",
        "\n",
        "\n",
        "*   Datenbankinitialisierung:\n",
        "\n"
      ],
      "metadata": {
        "id": "mZXn3MCm6EUw"
      }
    },
    {
      "cell_type": "markdown",
      "source": [
        "> Importing Libraries"
      ],
      "metadata": {
        "id": "R4Vq7BBP-kj0"
      }
    },
    {
      "cell_type": "code",
      "source": [
        "import pandas as pd\n",
        "from functools import reduce\n",
        "import sqlite3\n",
        "from sqlite3 import Error\n",
        "import csv\n",
        "import requests"
      ],
      "metadata": {
        "id": "eriJl5b7-haW"
      },
      "execution_count": null,
      "outputs": []
    },
    {
      "cell_type": "markdown",
      "source": [
        "> Verbindung zu Googledrive herstellen (Ablageort der CSV-Dateien)"
      ],
      "metadata": {
        "id": "c9whsxq3-FwZ"
      }
    },
    {
      "cell_type": "code",
      "source": [
        "from google.colab import drive\n",
        "drive.mount(\"/content/drive\", force_remount=True)"
      ],
      "metadata": {
        "id": "ZSbZ7Syq7OoY"
      },
      "execution_count": null,
      "outputs": []
    },
    {
      "cell_type": "code",
      "source": [
        "material_path = \"/content/drive/My Drive/csv_data\""
      ],
      "metadata": {
        "id": "RqKBRmeR-COy"
      },
      "execution_count": null,
      "outputs": []
    },
    {
      "cell_type": "code",
      "source": [
        "!ls \"/content/drive/My Drive/csv_data\""
      ],
      "metadata": {
        "id": "YcniAsRNA99q"
      },
      "execution_count": null,
      "outputs": []
    },
    {
      "cell_type": "markdown",
      "source": [
        "> Verbindung zu SQLite herstellen und Datebankinitialisierung im Memory\n"
      ],
      "metadata": {
        "id": "NwJSSy7UDMoE"
      }
    },
    {
      "cell_type": "code",
      "source": [
        "# SQLite connection\n",
        "# Create a SQLite database in memory from python\n",
        "\n",
        "def create_connection_memory():\n",
        "    \"\"\" create a database connection to a database that resides\n",
        "        in the memory\n",
        "    \"\"\"\n",
        "    conn = None;\n",
        "    try:\n",
        "       #Establishing the connection\n",
        "        conn = sqlite3.connect(':memory:')\n",
        "        return conn\n",
        "        print(sqlite3.version)\n",
        "    except Error as e:\n",
        "        print(\"Error while connecting to sqlite\", e)\n",
        "    # finally:\n",
        "    #     if conn:\n",
        "    #         conn.close()"
      ],
      "metadata": {
        "id": "-MiH3_RuC-Mu"
      },
      "execution_count": null,
      "outputs": []
    },
    {
      "cell_type": "markdown",
      "source": [],
      "metadata": {
        "id": "rQQfNOR7jFuD"
      }
    },
    {
      "cell_type": "code",
      "source": [
        "# Creating a temporary empty database in the memory.\n",
        "conn = create_connection_memory()\n",
        "# Creating a cursor object using the cursor() method\n",
        "cur = conn.cursor()\n",
        "print(\"Successfully Connected to SQLite\")\n"
      ],
      "metadata": {
        "id": "GcTWPtWskbTM"
      },
      "execution_count": null,
      "outputs": []
    },
    {
      "cell_type": "code",
      "source": [
        "def create_connection_local(local_path):\n",
        "  conn = None;\n",
        "  try:\n",
        "    #Establishing the connection\n",
        "    conn = sqlite3.connect(local_path+'/project_public.db')\n",
        "    return conn\n",
        "    print(sqlite3.version)\n",
        "  except Error as e:\n",
        "    print(\"Error while connecting to sqlite\", e)\n",
        "conn = create_connection_local('/content/drive/My Drive/Datenmanagement_und_Archivierung_im_Umfeld_der_Forschung')\n",
        "# Creating a cursor object using the cursor() method\n",
        "cur = conn.cursor()\n",
        "print(\"Successfully Connected to SQLite Public Data Warehouse\")\n"
      ],
      "metadata": {
        "id": "5VAxi8iZnsCJ"
      },
      "execution_count": null,
      "outputs": []
    },
    {
      "cell_type": "markdown",
      "source": [
        "> Quelldatenimport"
      ],
      "metadata": {
        "id": "_WfYcr6eZGTz"
      }
    },
    {
      "cell_type": "code",
      "source": [
        "# Load breast cancer CSVs\n",
        "procedures_bc = pd.read_csv('/content/drive/My Drive/csv_data/breast_cancer/procedures.csv', sep=\",\")\n",
        "encounters_bc = pd.read_csv('/content/drive/My Drive/csv_data/breast_cancer/encounters.csv', sep=\",\")\n",
        "immunizations_bc = pd.read_csv('/content/drive/My Drive/csv_data/breast_cancer/immunizations.csv', sep=\",\")\n",
        "medications_bc = pd.read_csv('/content/drive/My Drive/csv_data/breast_cancer/medications.csv', sep=\",\")\n",
        "observations_bc = pd.read_csv('/content/drive/My Drive/csv_data/breast_cancer/observations.csv', sep=\",\")\n",
        "patients_bc = pd.read_csv('/content/drive/My Drive/csv_data/breast_cancer/patients.csv', sep=\",\")"
      ],
      "metadata": {
        "id": "1Uffy7Q6yWD_"
      },
      "execution_count": null,
      "outputs": []
    },
    {
      "cell_type": "code",
      "source": [
        "#Delete Tables in case they exist\n",
        "cur.execute(\"DROP TABLE IF EXISTS procedures_bc\")\n",
        "cur.execute(\"DROP TABLE IF EXISTS encounters_bc\")\n",
        "cur.execute(\"DROP TABLE IF EXISTS immunizations_bc\")\n",
        "cur.execute(\"DROP TABLE IF EXISTS medications_bc\")\n",
        "cur.execute(\"DROP TABLE IF EXISTS observations_bc\")\n",
        "cur.execute(\"DROP TABLE IF EXISTS patients_bc\")\n",
        "cur.execute(\"DROP TABLE IF EXISTS facts_table\")"
      ],
      "metadata": {
        "id": "omHiPDL_yWH2"
      },
      "execution_count": null,
      "outputs": []
    },
    {
      "cell_type": "code",
      "source": [
        "# Create tables\n",
        "sql_create_source_data = requests.get('https://raw.githubusercontent.com/Fuenfgeld/DMA2024TeamC/main/Code/create_statements_db.sql').text\n",
        "cur.executescript(sql_create_source_data)\n",
        "conn.commit()\n",
        "print(\"Successfully created tables in the database\")"
      ],
      "metadata": {
        "id": "ErcedcDWlSbo"
      },
      "execution_count": null,
      "outputs": []
    },
    {
      "cell_type": "code",
      "source": [
        "#Insert data into table\n",
        "procedures_bc.to_sql('procedures_bc', conn, if_exists='append', index=False)\n",
        "encounters_bc.to_sql('encounters_bc', conn, if_exists='append', index=False)\n",
        "immunizations_bc.to_sql('immunizations_bc', conn, if_exists='append', index=False)\n",
        "medications_bc.to_sql('medications_bc', conn, if_exists='append', index=False)\n",
        "observations_bc.to_sql('observations_bc', conn, if_exists='append', index=False)\n",
        "patients_bc.to_sql('patients_bc', conn, if_exists='append', index=False)"
      ],
      "metadata": {
        "id": "GV-I0HHdyYl2"
      },
      "execution_count": null,
      "outputs": []
    },
    {
      "cell_type": "code",
      "source": [
        "#Select data\n",
        "# show table: retrieve all the column of each records and 4 rows\n",
        "cur.execute(\"SELECT * FROM patients_bc\")\n",
        "records = cur.fetchall()\n",
        "# show 4 rows\n",
        "for row in records[:4]:\n",
        "  print(row)"
      ],
      "metadata": {
        "id": "bkOtFAoFlS5H"
      },
      "execution_count": null,
      "outputs": []
    },
    {
      "cell_type": "code",
      "source": [
        "# List of columns in a table\n",
        "cur.execute (\"select * from procedures_bc\")\n",
        "col_names = cur.description\n",
        "for row in col_names:\n",
        "  print(row[0])\n"
      ],
      "metadata": {
        "id": "Wq5wsv3D3_Bg"
      },
      "execution_count": null,
      "outputs": []
    },
    {
      "cell_type": "markdown",
      "source": [],
      "metadata": {
        "id": "cZoPnEBelTSP"
      }
    }
  ]
}