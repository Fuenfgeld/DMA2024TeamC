{
  "nbformat": 4,
  "nbformat_minor": 0,
  "metadata": {
    "colab": {
      "provenance": [],
      "authorship_tag": "ABX9TyMaBwLTuelZZpxQiIJaMvV4",
      "include_colab_link": true
    },
    "kernelspec": {
      "name": "python3",
      "display_name": "Python 3"
    },
    "language_info": {
      "name": "python"
    }
  },
  "cells": [
    {
      "cell_type": "markdown",
      "metadata": {
        "id": "view-in-github",
        "colab_type": "text"
      },
      "source": [
        "<a href=\"https://colab.research.google.com/github/Fuenfgeld/DMA2024TeamC/blob/main/Datenbank.ipynb\" target=\"_parent\"><img src=\"https://colab.research.google.com/assets/colab-badge.svg\" alt=\"Open In Colab\"/></a>"
      ]
    },
    {
      "cell_type": "markdown",
      "source": [
        "**Kursarbeit Datenmanagement und -Archivierung WS 23/24**\n",
        "\n",
        "Master-Code Name-Projekt\n"
      ],
      "metadata": {
        "id": "vHosyFJW4vm1"
      }
    },
    {
      "cell_type": "markdown",
      "source": [
        "**Erstellung der Datenbank**\n",
        "\n",
        "\n",
        "*   Datenbankinitialisierung:\n",
        "\n"
      ],
      "metadata": {
        "id": "mZXn3MCm6EUw"
      }
    },
    {
      "cell_type": "markdown",
      "source": [
        "> Importing Libraries"
      ],
      "metadata": {
        "id": "R4Vq7BBP-kj0"
      }
    },
    {
      "cell_type": "code",
      "source": [
        "import pandas as pd\n",
        "from functools import reduce\n",
        "import sqlite3\n",
        "from sqlite3 import Error\n",
        "import csv\n",
        "import requests"
      ],
      "metadata": {
        "id": "eriJl5b7-haW"
      },
      "execution_count": 67,
      "outputs": []
    },
    {
      "cell_type": "markdown",
      "source": [
        "> Verbindung zu Googledrive herstellen (Ablageort der CSV-Dateien)"
      ],
      "metadata": {
        "id": "c9whsxq3-FwZ"
      }
    },
    {
      "cell_type": "code",
      "source": [
        "from google.colab import drive\n",
        "drive.mount(\"/content/drive\", force_remount=True)"
      ],
      "metadata": {
        "id": "ZSbZ7Syq7OoY",
        "colab": {
          "base_uri": "https://localhost:8080/"
        },
        "outputId": "baa70cdd-d54d-4205-a5f3-178edd56030f"
      },
      "execution_count": 78,
      "outputs": [
        {
          "output_type": "stream",
          "name": "stdout",
          "text": [
            "Mounted at /content/drive\n"
          ]
        }
      ]
    },
    {
      "cell_type": "code",
      "source": [
        "material_path = \"/content/drive/My Drive/csv_data\""
      ],
      "metadata": {
        "id": "RqKBRmeR-COy"
      },
      "execution_count": 79,
      "outputs": []
    },
    {
      "cell_type": "code",
      "source": [
        "!ls \"/content/drive/My Drive/csv_data\""
      ],
      "metadata": {
        "colab": {
          "base_uri": "https://localhost:8080/"
        },
        "id": "YcniAsRNA99q",
        "outputId": "a7ebd555-80df-406f-ecb9-d6746e707c85"
      },
      "execution_count": 80,
      "outputs": [
        {
          "output_type": "stream",
          "name": "stdout",
          "text": [
            " allergy       asthma\t       colorectal_cancer   dermatitis\t metabolic_syndrome_disease\n",
            " allergy.csv   breast_cancer   covid19\t\t   lung_cancer\t'Outline COVID-19.gdoc'\n"
          ]
        }
      ]
    },
    {
      "cell_type": "markdown",
      "source": [
        "> Verbindung zu SQLite herstellen und Datebankinitialisierung im Memory\n"
      ],
      "metadata": {
        "id": "NwJSSy7UDMoE"
      }
    },
    {
      "cell_type": "code",
      "source": [
        "# SQLite connection\n",
        "# Create a SQLite database in memory from python\n",
        "\n",
        "def create_connection_memory():\n",
        "    \"\"\" create a database connection to a database that resides\n",
        "        in the memory\n",
        "    \"\"\"\n",
        "    conn = None;\n",
        "    try:\n",
        "       #Establishing the connection\n",
        "        conn = sqlite3.connect(':memory:')\n",
        "        return conn\n",
        "        print(sqlite3.version)\n",
        "    except Error as e:\n",
        "        print(\"Error while connecting to sqlite\", e)\n",
        "    # finally:\n",
        "    #     if conn:\n",
        "    #         conn.close()"
      ],
      "metadata": {
        "id": "-MiH3_RuC-Mu"
      },
      "execution_count": 81,
      "outputs": []
    },
    {
      "cell_type": "markdown",
      "source": [],
      "metadata": {
        "id": "rQQfNOR7jFuD"
      }
    },
    {
      "cell_type": "code",
      "source": [
        "# Creating a temporary empty database in the memory.\n",
        "conn = create_connection_memory()\n",
        "# Creating a cursor object using the cursor() method\n",
        "cur = conn.cursor()\n",
        "print(\"Successfully Connected to SQLite\")\n"
      ],
      "metadata": {
        "colab": {
          "base_uri": "https://localhost:8080/"
        },
        "id": "GcTWPtWskbTM",
        "outputId": "b49b6d9e-22e8-4c5d-ee08-dc00ace87b7b"
      },
      "execution_count": 82,
      "outputs": [
        {
          "output_type": "stream",
          "name": "stdout",
          "text": [
            "Successfully Connected to SQLite\n"
          ]
        }
      ]
    },
    {
      "cell_type": "code",
      "source": [
        "def create_connection_local(local_path):\n",
        "  conn = None;\n",
        "  try:\n",
        "    #Establishing the connection\n",
        "    conn = sqlite3.connect(local_path+'/project_public.db')\n",
        "    return conn\n",
        "    print(sqlite3.version)\n",
        "  except Error as e:\n",
        "    print(\"Error while connecting to sqlite\", e)\n",
        "conn = create_connection_local('/content/drive/My Drive/Datenmanagement_und_Archivierung_im_Umfeld_der_Forschung')\n",
        "# Creating a cursor object using the cursor() method\n",
        "cur = conn.cursor()\n",
        "print(\"Successfully Connected to SQLite Public Data Warehouse\")\n"
      ],
      "metadata": {
        "colab": {
          "base_uri": "https://localhost:8080/"
        },
        "id": "5VAxi8iZnsCJ",
        "outputId": "7638a92f-d989-4ff7-91a8-569e5c519c45"
      },
      "execution_count": 83,
      "outputs": [
        {
          "output_type": "stream",
          "name": "stdout",
          "text": [
            "Successfully Connected to SQLite Public Data Warehouse\n"
          ]
        }
      ]
    },
    {
      "cell_type": "markdown",
      "source": [
        "> Quelldatenimport"
      ],
      "metadata": {
        "id": "_WfYcr6eZGTz"
      }
    },
    {
      "cell_type": "code",
      "source": [
        "# Load breast cancer CSVs\n",
        "procedures_bc = pd.read_csv('/content/drive/My Drive/csv_data/breast_cancer/procedures.csv', sep=\",\")\n",
        "encounters_bc = pd.read_csv('/content/drive/My Drive/csv_data/breast_cancer/encounters.csv', sep=\",\")\n",
        "immunizations_bc = pd.read_csv('/content/drive/My Drive/csv_data/breast_cancer/immunizations.csv', sep=\",\")\n",
        "medications_bc = pd.read_csv('/content/drive/My Drive/csv_data/breast_cancer/medications.csv', sep=\",\")\n",
        "observations_bc = pd.read_csv('/content/drive/My Drive/csv_data/breast_cancer/observations.csv', sep=\",\")\n",
        "patients_bc = pd.read_csv('/content/drive/My Drive/csv_data/breast_cancer/patients.csv', sep=\",\")"
      ],
      "metadata": {
        "id": "1Uffy7Q6yWD_"
      },
      "execution_count": 84,
      "outputs": []
    },
    {
      "cell_type": "code",
      "source": [
        "#Delete Tables in case they exist\n",
        "cur.execute(\"DROP TABLE IF EXISTS procedures_bc\")\n",
        "cur.execute(\"DROP TABLE IF EXISTS encounters_bc\")\n",
        "cur.execute(\"DROP TABLE IF EXISTS immunizations_bc\")\n",
        "cur.execute(\"DROP TABLE IF EXISTS medications_bc\")\n",
        "cur.execute(\"DROP TABLE IF EXISTS observations_bc\")\n",
        "cur.execute(\"DROP TABLE IF EXISTS patients_bc\")\n",
        "cur.execute(\"DROP TABLE IF EXISTS facts_table\")"
      ],
      "metadata": {
        "colab": {
          "base_uri": "https://localhost:8080/"
        },
        "id": "omHiPDL_yWH2",
        "outputId": "84f9c808-a8cf-4ee6-d707-6f113595d41d"
      },
      "execution_count": 85,
      "outputs": [
        {
          "output_type": "execute_result",
          "data": {
            "text/plain": [
              "<sqlite3.Cursor at 0x7ae65b062d40>"
            ]
          },
          "metadata": {},
          "execution_count": 85
        }
      ]
    },
    {
      "cell_type": "code",
      "source": [
        "# Create tables\n",
        "sql_create_source_data = requests.get('https://raw.githubusercontent.com/Fuenfgeld/DMA2024TeamC/main/Code/create_statements_db.sql').text\n",
        "cur.executescript(sql_create_source_data)\n",
        "conn.commit()\n",
        "print(\"Successfully created tables in the database\")"
      ],
      "metadata": {
        "colab": {
          "base_uri": "https://localhost:8080/"
        },
        "id": "ErcedcDWlSbo",
        "outputId": "210b9d27-1c73-4cfa-ce79-4409d84a5fda"
      },
      "execution_count": 86,
      "outputs": [
        {
          "output_type": "stream",
          "name": "stdout",
          "text": [
            "Successfully created tables in the database\n"
          ]
        }
      ]
    },
    {
      "cell_type": "code",
      "source": [
        "#Insert data into table\n",
        "procedures_bc.to_sql('procedures_bc', conn, if_exists='append', index=False)\n",
        "encounters_bc.to_sql('encounters_bc', conn, if_exists='append', index=False)\n",
        "immunizations_bc.to_sql('immunizations_bc', conn, if_exists='append', index=False)\n",
        "medications_bc.to_sql('medications_bc', conn, if_exists='append', index=False)\n",
        "observations_bc.to_sql('observations_bc', conn, if_exists='append', index=False)\n",
        "patients_bc.to_sql('patients_bc', conn, if_exists='append', index=False)"
      ],
      "metadata": {
        "colab": {
          "base_uri": "https://localhost:8080/"
        },
        "id": "GV-I0HHdyYl2",
        "outputId": "c123ec97-cee5-4ff8-dc11-4cc980a3389d"
      },
      "execution_count": 87,
      "outputs": [
        {
          "output_type": "execute_result",
          "data": {
            "text/plain": [
              "1019"
            ]
          },
          "metadata": {},
          "execution_count": 87
        }
      ]
    },
    {
      "cell_type": "code",
      "source": [
        "#Select data\n",
        "# show table: retrieve all the column of each records and 4 rows\n",
        "cur.execute(\"SELECT * FROM patients_bc\")\n",
        "records = cur.fetchall()\n",
        "# show 4 rows\n",
        "for row in records[:4]:\n",
        "  print(row)"
      ],
      "metadata": {
        "colab": {
          "base_uri": "https://localhost:8080/"
        },
        "id": "bkOtFAoFlS5H",
        "outputId": "90f2345a-b0e5-45af-ef6f-2d1937834a31"
      },
      "execution_count": 88,
      "outputs": [
        {
          "output_type": "stream",
          "name": "stdout",
          "text": [
            "('d2061cc7-bee0-0e6c-3ac4-15c197c474e0', '1956-06-22', None, '999-51-6528', 'S99944910', 'X29408602X', 'Mr.', 'Lucio648', 'Simonis280', None, None, 'M', 'white', 'nonhispanic', 'M', 'Worcester  Massachusetts  US', '636 Wiegand Loaf', 'Cambridge', 'Massachusetts', 'Middlesex County', 2140, 42.35992586937376, -71.11326024935221, 1475230, 4244.639999999999)\n",
            "('073d8e80-ff90-1c8d-57e4-29bfca52c87f', '1964-08-28', None, '999-90-4728', 'S99976204', 'X17497441X', 'Mrs.', 'Buffy238', 'Wolf938', None, 'Williamson769', 'M', 'white', 'nonhispanic', 'F', 'Somerville  Massachusetts  US', '972 Satterfield Trafficway Apt 71', 'North Brookfield', 'Massachusetts', 'Worcester County', 1535, 42.25784546955933, -72.02631680460482, 1489125, 4016.36)\n",
            "('e1ff7e68-4097-9faf-514d-e4cfcfdf252e', '1998-08-28', None, '999-82-3645', 'S99973929', 'X88553898X', 'Ms.', 'Debora709', 'Klocko335', None, None, None, 'white', 'nonhispanic', 'F', 'Williamstown  Massachusetts  US', '589 Koss Station', 'Worcester', 'Massachusetts', 'Worcester County', 1545, 42.204289674137854, -71.8184488503781, 57142.44, 2103.2)\n",
            "('a0f679cc-875f-dd72-ed13-9ca863ec6cf3', '2004-01-20', None, '999-93-6431', 'S99923001', None, None, 'Walton167', 'Kessler503', None, None, None, 'asian', 'nonhispanic', 'M', 'New Braintree  Massachusetts  US', '777 Gusikowski Drive', 'Weymouth', 'Massachusetts', 'Norfolk County', None, 42.15026973562508, -70.90408406035422, 408520, 2709)\n"
          ]
        }
      ]
    },
    {
      "cell_type": "code",
      "source": [
        "# List of columns in a table\n",
        "cur.execute (\"select * from procedures_bc\")\n",
        "col_names = cur.description\n",
        "for row in col_names:\n",
        "  print(row[0])\n"
      ],
      "metadata": {
        "colab": {
          "base_uri": "https://localhost:8080/"
        },
        "id": "Wq5wsv3D3_Bg",
        "outputId": "c63464e8-a0d5-4dfa-d26f-b9dd96f7243a"
      },
      "execution_count": 89,
      "outputs": [
        {
          "output_type": "stream",
          "name": "stdout",
          "text": [
            "DATE\n",
            "PATIENT\n",
            "ENCOUNTER\n",
            "CODE\n",
            "DESCRIPTION\n",
            "BASE_COST\n",
            "REASONCODE\n",
            "REASONDESCRIPTION\n"
          ]
        }
      ]
    },
    {
      "cell_type": "markdown",
      "source": [],
      "metadata": {
        "id": "cZoPnEBelTSP"
      }
    }
  ]
}