{
  "nbformat": 4,
  "nbformat_minor": 0,
  "metadata": {
    "colab": {
      "provenance": [],
      "authorship_tag": "ABX9TyMvmgD99OVmYQpR6KdNUNW8",
      "include_colab_link": true
    },
    "kernelspec": {
      "name": "python3",
      "display_name": "Python 3"
    },
    "language_info": {
      "name": "python"
    }
  },
  "cells": [
    {
      "cell_type": "markdown",
      "metadata": {
        "id": "view-in-github",
        "colab_type": "text"
      },
      "source": [
        "<a href=\"https://colab.research.google.com/github/Fuenfgeld/DMA2024TeamC/blob/main/Datenbank.ipynb\" target=\"_parent\"><img src=\"https://colab.research.google.com/assets/colab-badge.svg\" alt=\"Open In Colab\"/></a>"
      ]
    },
    {
      "cell_type": "markdown",
      "source": [
        "**Kursarbeit Datenmanagement und -Archivierung WS 23/24**\n",
        "\n",
        "Master-Code Name-Projekt\n"
      ],
      "metadata": {
        "id": "vHosyFJW4vm1"
      }
    },
    {
      "cell_type": "markdown",
      "source": [
        "**Erstellung der Datenbank**\n",
        "\n",
        "\n",
        "*   Datenbankinitialisierung:\n",
        "> Verbindung zu Googledrive herstellen (Ablageort der CSV-Dateien)\n",
        "> Verbindung zu SQLite herstellen\n",
        "> Datebankinitialisierung im Memory\n",
        "Quelldatenimport\n",
        "Ausgabe der Connection- und Cursor-Syntax\n"
      ],
      "metadata": {
        "id": "mZXn3MCm6EUw"
      }
    },
    {
      "cell_type": "code",
      "source": [],
      "metadata": {
        "id": "ZSbZ7Syq7OoY"
      },
      "execution_count": null,
      "outputs": []
    }
  ]
}