{
  "nbformat": 4,
  "nbformat_minor": 0,
  "metadata": {
    "colab": {
      "provenance": [],
      "authorship_tag": "ABX9TyO2hZV7XC0zPEggKCzkJM4Z",
      "include_colab_link": true
    },
    "kernelspec": {
      "name": "python3",
      "display_name": "Python 3"
    },
    "language_info": {
      "name": "python"
    }
  },
  "cells": [
    {
      "cell_type": "markdown",
      "metadata": {
        "id": "view-in-github",
        "colab_type": "text"
      },
      "source": [
        "<a href=\"https://colab.research.google.com/github/Fuenfgeld/DMA2024TeamC/blob/main/Code/EDA.ipynb\" target=\"_parent\"><img src=\"https://colab.research.google.com/assets/colab-badge.svg\" alt=\"Open In Colab\"/></a>"
      ]
    },
    {
      "cell_type": "markdown",
      "source": [
        "**Kursarbeit Datenmanagement und -Archivierung WS 23/24**\n",
        "\n",
        "Master-Code Name-CALICO:MA\n"
      ],
      "metadata": {
        "id": "vHosyFJW4vm1"
      }
    },
    {
      "cell_type": "markdown",
      "source": [
        "**Explorative Datenanalyse**"
      ],
      "metadata": {
        "id": "mZXn3MCm6EUw"
      }
    },
    {
      "cell_type": "markdown",
      "source": [
        "> Laden Libraries"
      ],
      "metadata": {
        "id": "R4Vq7BBP-kj0"
      }
    },
    {
      "cell_type": "code",
      "source": [
        "import pandas as pd\n",
        "import sqlite3\n",
        "import matplotlib\n",
        "import matplotlib.pyplot as plt\n",
        "import seaborn as sns\n",
        "import sklearn"
      ],
      "metadata": {
        "id": "eriJl5b7-haW"
      },
      "execution_count": 1,
      "outputs": []
    },
    {
      "cell_type": "code",
      "source": [
        "from google.colab import drive\n",
        "drive.mount(\"/content/drive\", force_remount=True)"
      ],
      "metadata": {
        "colab": {
          "base_uri": "https://localhost:8080/"
        },
        "id": "ERJ65WLALM5_",
        "outputId": "b77886d1-ace4-48b8-8dc1-377543d26c49"
      },
      "execution_count": 2,
      "outputs": [
        {
          "output_type": "stream",
          "name": "stdout",
          "text": [
            "Mounted at /content/drive\n"
          ]
        }
      ]
    },
    {
      "cell_type": "markdown",
      "source": [
        "\n",
        "> Verbindung zur Datenbank\n",
        "\n"
      ],
      "metadata": {
        "id": "ObT848lewmdG"
      }
    },
    {
      "cell_type": "code",
      "source": [
        "#connect to DB\n",
        "conn = sqlite3.connect('/content/drive/My Drive/Datenmanagement_und_Archivierung_im_Umfeld_der_Forschung/CALICO_MA/datawarehouse.db')\n",
        "cursor = conn.cursor()\n",
        "print(\"Datenbank wurde erfolgreich geöffnet\")"
      ],
      "metadata": {
        "id": "VvBROB0Eh7xm",
        "colab": {
          "base_uri": "https://localhost:8080/"
        },
        "outputId": "fca4f74e-389b-4ea5-db6c-cbd17b1dc8c8"
      },
      "execution_count": 3,
      "outputs": [
        {
          "output_type": "stream",
          "name": "stdout",
          "text": [
            "Datenbank wurde erfolgreich geöffnet\n"
          ]
        }
      ]
    },
    {
      "cell_type": "code",
      "source": [
        "print(pd.read_sql_query('''\n",
        "SELECT name FROM sqlite_master\n",
        "WHERE type='table'\n",
        "ORDER BY name;\n",
        "     ''', conn))"
      ],
      "metadata": {
        "id": "bkOtFAoFlS5H",
        "colab": {
          "base_uri": "https://localhost:8080/"
        },
        "outputId": "be38b1f7-f67d-4e72-b027-108c5e82999c"
      },
      "execution_count": 4,
      "outputs": [
        {
          "output_type": "stream",
          "name": "stdout",
          "text": [
            "              name\n",
            "0       encounters\n",
            "1      facts_table\n",
            "2    immunizations\n",
            "3      medications\n",
            "4     observations\n",
            "5         patients\n",
            "6       procedures\n",
            "7  sqlite_sequence\n"
          ]
        }
      ]
    },
    {
      "cell_type": "markdown",
      "source": [
        "\n",
        "> Laden die Daten aus der Datenbank in die DataFrames für die weitere Analyse\n",
        "\n"
      ],
      "metadata": {
        "id": "-vkKjRGDxByv"
      }
    },
    {
      "cell_type": "code",
      "source": [
        "df_encounters = pd.read_sql_query(\"SELECT * FROM encounters\", conn)\n",
        "df_facts_table = pd.read_sql_query(\"SELECT * FROM facts_table\", conn)\n",
        "df_immunizations = pd.read_sql_query(\"SELECT * FROM immunizations\", conn)\n",
        "df_medications = pd.read_sql_query(\"SELECT * FROM medications\", conn)\n",
        "df_observations = pd.read_sql_query(\"SELECT * FROM observations\", conn)\n",
        "df_patients = pd.read_sql_query(\"SELECT * FROM patients\", conn)\n",
        "df_procedures = pd.read_sql_query(\"SELECT * FROM procedures\", conn)"
      ],
      "metadata": {
        "id": "Wq5wsv3D3_Bg"
      },
      "execution_count": 5,
      "outputs": []
    },
    {
      "cell_type": "code",
      "source": [
        "df2 = df_patients.groupby(['Table_Names'])['Id'].count()\n",
        "print(df2)\n",
        "df2.plot.bar()"
      ],
      "metadata": {
        "id": "mv7Qe6PqyIaL",
        "colab": {
          "base_uri": "https://localhost:8080/",
          "height": 620
        },
        "outputId": "8a709b09-15d3-47c5-945b-04cc1bcd329c"
      },
      "execution_count": 6,
      "outputs": [
        {
          "output_type": "stream",
          "name": "stdout",
          "text": [
            "Table_Names\n",
            "patients_bc    1019\n",
            "patients_cc    1035\n",
            "patients_lc    1030\n",
            "Name: Id, dtype: int64\n"
          ]
        },
        {
          "output_type": "execute_result",
          "data": {
            "text/plain": [
              "<Axes: xlabel='Table_Names'>"
            ]
          },
          "metadata": {},
          "execution_count": 6
        },
        {
          "output_type": "display_data",
          "data": {
            "text/plain": [
              "<Figure size 640x480 with 1 Axes>"
            ],
            "image/png": "[encoded data removed]"
          },
          "metadata": {}
        }
      ]
    },
    {
      "cell_type": "markdown",
      "source": [
        "Grafiken\n",
        "\n",
        "*  Kosten fur jeder krebsarten (Insgesamt)\n",
        "*  Kosten fur jeder krebsarten (getrennt)\n",
        "*  Life quality (QALY) mit kosten korrelieren (Insgesamt) (pending if we will assume 4 more yearly observations and add 4 to last value in the data of 2020, death date not available)\n",
        "*  Life quality (QALY) mit kosten korrelieren (getrennt)\n",
        "*  Verhaltnis QALY - aktuelle alter (von BIRTHDATE (patients))\n",
        "*  Statistiche auswertung\n",
        "\n",
        "\n",
        "\n",
        "\n",
        "\n",
        "\n",
        "\n",
        "\n"
      ],
      "metadata": {
        "id": "62k8xsc5Lgbs"
      }
    },
    {
      "cell_type": "code",
      "source": [],
      "metadata": {
        "id": "3I6CZJKeLfQA"
      },
      "execution_count": null,
      "outputs": []
    }
  ]
}