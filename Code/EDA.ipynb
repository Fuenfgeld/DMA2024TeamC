{
  "nbformat": 4,
  "nbformat_minor": 0,
  "metadata": {
    "colab": {
      "provenance": [],
      "include_colab_link": true
    },
    "kernelspec": {
      "name": "python3",
      "display_name": "Python 3"
    },
    "language_info": {
      "name": "python"
    }
  },
  "cells": [
    {
      "cell_type": "markdown",
      "metadata": {
        "id": "view-in-github",
        "colab_type": "text"
      },
      "source": [
        "<a href=\"https://colab.research.google.com/github/Fuenfgeld/DMA2024TeamC/blob/main/Code/EDA.ipynb\" target=\"_parent\"><img src=\"https://colab.research.google.com/assets/colab-badge.svg\" alt=\"Open In Colab\"/></a>"
      ]
    },
    {
      "cell_type": "markdown",
      "source": [
        "**Kursarbeit Datenmanagement und -Archivierung WS 23/24**\n",
        "\n",
        "Master-Code Name-CALICO:MA\n"
      ],
      "metadata": {
        "id": "vHosyFJW4vm1"
      }
    },
    {
      "cell_type": "markdown",
      "source": [],
      "metadata": {
        "id": "ubOHGKqL-Yub"
      }
    },
    {
      "cell_type": "markdown",
      "source": [
        "**Explorative Datenanalyse**"
      ],
      "metadata": {
        "id": "mZXn3MCm6EUw"
      }
    },
    {
      "cell_type": "markdown",
      "source": [
        "> Laden Libraries"
      ],
      "metadata": {
        "id": "R4Vq7BBP-kj0"
      }
    },
    {
      "cell_type": "code",
      "source": [
        "import pandas as pd\n",
        "import sqlite3\n",
        "import matplotlib\n",
        "import matplotlib.pyplot as plt\n",
        "from matplotlib.ticker import FuncFormatter\n",
        "import seaborn as sns\n",
        "import sklearn"
      ],
      "metadata": {
        "id": "eriJl5b7-haW"
      },
      "execution_count": null,
      "outputs": []
    },
    {
      "cell_type": "code",
      "source": [
        "from google.colab import drive\n",
        "drive.mount(\"/content/drive\", force_remount=True)"
      ],
      "metadata": {
        "id": "HNu6pwzIyzMN"
      },
      "execution_count": null,
      "outputs": []
    },
    {
      "cell_type": "markdown",
      "source": [
        "\n",
        "> Verbindung zur Datenbank\n",
        "\n"
      ],
      "metadata": {
        "id": "ObT848lewmdG"
      }
    },
    {
      "cell_type": "code",
      "source": [
        "#connect to DB\n",
        "conn = sqlite3.connect('/content/drive/My Drive/Datenmanagement_und_Archivierung_im_Umfeld_der_Forschung/CALICO_MA/datawarehouse.db')\n",
        "cursor = conn.cursor()\n",
        "\n",
        "print(\"Datenbank wurde erfolgreich geöffnet\")"
      ],
      "metadata": {
        "id": "VvBROB0Eh7xm"
      },
      "execution_count": null,
      "outputs": []
    },
    {
      "cell_type": "code",
      "source": [
        "print(pd.read_sql_query('''\n",
        "SELECT name FROM sqlite_master\n",
        "WHERE type='table'\n",
        "ORDER BY name;\n",
        "     ''', conn))"
      ],
      "metadata": {
        "id": "bkOtFAoFlS5H"
      },
      "execution_count": null,
      "outputs": []
    },
    {
      "cell_type": "markdown",
      "source": [
        "\n",
        "> Laden die Daten aus der Datenbank in die DataFrames für die weitere Analyse\n",
        "\n"
      ],
      "metadata": {
        "id": "-vkKjRGDxByv"
      }
    },
    {
      "cell_type": "code",
      "source": [
        "df_encounters = pd.read_sql_query(\"SELECT * FROM encounters\", conn)\n",
        "df_facts_table = pd.read_sql_query(\"SELECT * FROM facts_table\", conn)\n",
        "df_immunizations = pd.read_sql_query(\"SELECT * FROM immunizations\", conn)\n",
        "df_medications = pd.read_sql_query(\"SELECT * FROM medications\", conn)\n",
        "df_observations = pd.read_sql_query(\"SELECT * FROM observations\", conn)\n",
        "df_patients = pd.read_sql_query(\"SELECT * FROM patients\", conn)\n",
        "df_procedures = pd.read_sql_query(\"SELECT * FROM procedures\", conn)"
      ],
      "metadata": {
        "id": "Wq5wsv3D3_Bg"
      },
      "execution_count": null,
      "outputs": []
    },
    {
      "cell_type": "code",
      "source": [
        "df2 = df_patients.groupby(['cancer_type'])['Id'].count()\n",
        "print(df2)\n",
        "df2.plot.bar()"
      ],
      "metadata": {
        "id": "mv7Qe6PqyIaL"
      },
      "execution_count": null,
      "outputs": []
    },
    {
      "cell_type": "code",
      "source": [
        "# facts_table is not loading data in many columns\n",
        "df3 = df_medications.head(3)\n",
        "print(df3)"
      ],
      "metadata": {
        "id": "HjjRDpVbzHVz"
      },
      "execution_count": null,
      "outputs": []
    },
    {
      "cell_type": "markdown",
      "source": [
        "Abbildungen\n",
        "\n",
        "1.   Kosten fur jeder krebsarten (Insgesamt)\n",
        "2.   Kosten fur jeder krebsarten (getrennt)\n",
        "3.   Life quality (QALY) mit kosten korrelieren (Insgesamt) (death date not available)\n",
        "4.   Life quality (QALY) mit kosten korrelieren (getrennt)\n",
        "5.   Verhaltnis QALY - aktuelle alter (von BIRTHDATE (patients))\n",
        "6.   Statistiche auswertung"
      ],
      "metadata": {
        "id": "b5rSlR7UWu_N"
      }
    },
    {
      "cell_type": "markdown",
      "source": [
        "#Abbildung 1"
      ],
      "metadata": {
        "id": "i-FuK1HxgVOm"
      }
    },
    {
      "cell_type": "code",
      "source": [
        "#Abbildung 1\n",
        "#Query for cost comparison between cancer types (inluding joins because facts_table is not properly populated)\n",
        "#Use this code in case expenses and coverage wants to be included \"COALESCE(CAST(f.patient_HEALTHCARE_EXPENSES AS DECIMAL(6,2)), 0) + COALESCE(CAST(f.patient_HEALTHCARE_COVERAGE AS DECIMAL(6,2)), 0)\"\n",
        "query_1 = \"\"\"\n",
        "    SELECT\n",
        "        f.cancer_type,\n",
        "        SUM(\n",
        "            COALESCE(CAST(f.procedures_BASE_COST AS DECIMAL(6,2)), 0) +\n",
        "            COALESCE(CAST(f.medications_TOTALCOST AS DECIMAL(6,2)), 0) +\n",
        "            COALESCE(CAST(f.immunizations_BASE_COST AS DECIMAL(6,2)), 0) +\n",
        "            COALESCE(CAST(f.encounter_BASE_ENCOUNTER_COST AS DECIMAL(6,2)), 0)\n",
        "        ) AS total_cost\n",
        "    FROM facts_table f\n",
        "    LEFT JOIN patients p ON f.patient_ID = p.Id\n",
        "    LEFT JOIN procedures pr ON f.patient_ID = pr.PATIENT AND f.encounter_ID = pr.ENCOUNTER\n",
        "    LEFT JOIN medications m ON f.patient_ID = m.PATIENT AND f.encounter_ID = m.ENCOUNTER\n",
        "    LEFT JOIN immunizations i ON f.patient_ID = i.PATIENT AND f.encounter_ID = i.ENCOUNTER\n",
        "    LEFT JOIN encounters e ON f.patient_ID = e.PATIENT AND f.encounter_ID = e.Id\n",
        "    GROUP BY f.cancer_type;\n",
        "\"\"\"\n",
        "\n",
        "# Execute the query and fetch the results into a Pandas DataFrame\n",
        "df = pd.read_sql_query(query_1, conn)\n",
        "print(df.head())\n"
      ],
      "metadata": {
        "id": "c4NhtKRbr5Sk"
      },
      "execution_count": null,
      "outputs": []
    },
    {
      "cell_type": "code",
      "source": [
        "df['cancer_type'] = df['cancer_type'].fillna('Unknown')  # Replace None with 'Unknown'\n",
        "\n",
        "cancer_types = df['cancer_type']\n",
        "total_costs = df['total_cost']\n",
        "\n",
        "# Plotting the bar plot\n",
        "plt.figure(figsize=(10, 6))\n",
        "bars = plt.bar(cancer_types, total_costs, color='orange')\n",
        "plt.xlabel('Cancer Type')\n",
        "plt.ylabel('Total Cost (in millions)')\n",
        "plt.title('Total Cost for Each Cancer Type')\n",
        "\n",
        "# Format y-axis ticks to display values in millions\n",
        "formatter = FuncFormatter(lambda x, _: f'{x / 1e6:.1f}M')\n",
        "plt.gca().yaxis.set_major_formatter(formatter)\n",
        "\n",
        "# Add exact value in million dollars on top of each column\n",
        "for bar, cost in zip(bars, total_costs):\n",
        "    plt.text(bar.get_x() + bar.get_width() / 2, bar.get_height(),\n",
        "             f'{cost / 1e6:.1f}M', ha='center', va='bottom', fontsize=9)\n",
        "\n",
        "plt.xticks(rotation=45, ha='right')  # Rotate x-axis labels for better readability\n",
        "plt.tight_layout()\n",
        "\n",
        "# Show the plot\n",
        "plt.show()"
      ],
      "metadata": {
        "id": "rjnEASqFvLWY"
      },
      "execution_count": null,
      "outputs": []
    },
    {
      "cell_type": "markdown",
      "source": [
        "#Abbildung 2\n",
        "Below code not working for all joins, there is not enough RAM capacity\n",
        "\n",
        "\n",
        "query_2 =\"\"\"\n",
        "SELECT\n",
        "      patient_ID,\n",
        "      facts_table.cancer_type,\n",
        "      encounters.BASE_ENCOUNTER_COST AS encounters_BASE_ENCOUNTER_COST,\n",
        "      immunizations.BASE_COST AS immunizations_BASE_COST,\n",
        "      procedures.BASE_COST AS procedures_BASE_COST,\n",
        "      observations.VALUE AS observation_VALUE,\n",
        "      medications.TOTALCOST AS medications_TOTALCOST\n",
        "FROM facts_table\n",
        "      LEFT JOIN encounters ON facts_table.patient_ID = encounters.PATIENT\n",
        "      LEFT JOIN immunizations ON facts_table.patient_ID = immunizations.PATIENT\n",
        "      LEFT JOIN procedures ON facts_table.patient_ID = procedures.PATIENT\n",
        "      LEFT JOIN observations ON facts_table.patient_ID = observations.PATIENT\n",
        "      LEFT JOIN medications ON facts_table.patient_ID = medications.PATIENT\n",
        "GROUP BY facts_table.cancer_type;\n",
        "\"\"\"\n",
        "\n",
        "df = pd.read_sql_query(query_2, conn)\n",
        "print(df.head())\n"
      ],
      "metadata": {
        "id": "7nzpP-kef7oE"
      }
    },
    {
      "cell_type": "code",
      "source": [
        "#Abbildung 2\n",
        "#\n",
        "query_2 =\"\"\"SELECT\n",
        "      patient_ID,\n",
        "      f.cancer_type,\n",
        "      encounters.BASE_ENCOUNTER_COST AS encounters_BASE_ENCOUNTER_COST,\n",
        "      immunizations.BASE_COST AS immunizations_BASE_COST,\n",
        "      procedures.BASE_COST AS procedures_BASE_COST\n",
        "FROM facts_table f\n",
        "LEFT JOIN encounters ON f.patient_ID = encounters.PATIENT\n",
        "LEFT JOIN immunizations ON f.patient_ID = immunizations.PATIENT\n",
        "LEFT JOIN procedures ON f.patient_ID = procedures.PATIENT\n",
        "GROUP BY f.cancer_type;\n",
        "\n",
        "\"\"\"\n",
        "df = pd.read_sql_query(query_2, conn)\n",
        "print(df.head())\n",
        "\n"
      ],
      "metadata": {
        "id": "q-OiGAZNcFjL"
      },
      "execution_count": null,
      "outputs": []
    },
    {
      "cell_type": "code",
      "source": [
        "df['encounters_BASE_ENCOUNTER_COST'] = df['encounters_BASE_ENCOUNTER_COST'].astype(str)\n",
        "df['immunizations_BASE_COST'] = df['immunizations_BASE_COST'].astype(str)\n",
        "df['procedures_BASE_COST'] = df['procedures_BASE_COST'].astype(str)\n",
        "\n",
        "# Define a function to clean and convert to numeric\n",
        "def clean_and_convert(value):\n",
        "    try:\n",
        "        return pd.to_numeric(value.replace(',', ''), errors='coerce')\n",
        "    except AttributeError:\n",
        "        return value\n",
        "\n",
        "# Apply the function to the cost columns\n",
        "df['encounters_BASE_ENCOUNTER_COST'] = df['encounters_BASE_ENCOUNTER_COST'].apply(clean_and_convert)\n",
        "df['immunizations_BASE_COST'] = df['immunizations_BASE_COST'].apply(clean_and_convert)\n",
        "df['procedures_BASE_COST'] = df['procedures_BASE_COST'].apply(clean_and_convert)\n",
        "\n",
        "# Create separate DataFrames for each cancer type\n",
        "breast_cancer_df = df[df['cancer_type'] == 'breast_cancer']\n",
        "colorectal_cancer_df = df[df['cancer_type'] == 'colorectal_cancer']\n",
        "lung_cancer_df = df[df['cancer_type'] == 'lung_cancer']\n",
        "\n",
        "# Plotting\n",
        "plt.figure(figsize=(15, 5))\n",
        "\n",
        "# Plot 1: Breast Cancer\n",
        "plt.subplot(1, 3, 1)\n",
        "sns.barplot(data=breast_cancer_df[cost_columns], ci=None)\n",
        "plt.title('Breast Cancer Costs')\n",
        "plt.ylim(0, 120000)  # Set y-axis limits\n",
        "plt.xticks(rotation=45, ha='right')  # Rotate x-axis labels\n",
        "for i, val in enumerate(breast_cancer_df[cost_columns].mean()):\n",
        "    plt.text(i, val + 500, f'{val:.2f}', ha='center', va='bottom')\n",
        "\n",
        "# Plot 2: Colorectal Cancer\n",
        "plt.subplot(1, 3, 2)\n",
        "sns.barplot(data=colorectal_cancer_df[cost_columns], ci=None)\n",
        "plt.title('Colorectal Cancer Costs')\n",
        "plt.ylim(0, 120000)  # Set y-axis limits\n",
        "plt.xticks(rotation=45, ha='right')  # Rotate x-axis labels\n",
        "for i, val in enumerate(colorectal_cancer_df[cost_columns].mean()):\n",
        "    plt.text(i, val + 500, f'{val:.2f}', ha='center', va='bottom')\n",
        "\n",
        "# Plot 3: Lung Cancer\n",
        "plt.subplot(1, 3, 3)\n",
        "sns.barplot(data=lung_cancer_df[cost_columns], ci=None)\n",
        "plt.title('Lung Cancer Costs')\n",
        "plt.ylim(0, 120000)  # Set y-axis limits\n",
        "plt.xticks(rotation=45, ha='right')  # Rotate x-axis labels\n",
        "for i, val in enumerate(lung_cancer_df[cost_columns].mean()):\n",
        "    plt.text(i, val + 500, f'{val:.2f}', ha='center', va='bottom')\n",
        "\n",
        "plt.tight_layout()\n",
        "plt.show()"
      ],
      "metadata": {
        "id": "frNWaaU8ERZH"
      },
      "execution_count": null,
      "outputs": []
    },
    {
      "cell_type": "code",
      "source": [
        "df_facts_table_2 = pd.read_csv('/content/drive/My Drive/Datenmanagement_und_Archivierung_im_Umfeld_der_Forschung/CALICO_MA/Fact_table.csv', sep=\",\")\n",
        "df_facts_table_2.head(3)"
      ],
      "metadata": {
        "id": "r__evI8HD2vj"
      },
      "execution_count": null,
      "outputs": []
    }
  ]
}