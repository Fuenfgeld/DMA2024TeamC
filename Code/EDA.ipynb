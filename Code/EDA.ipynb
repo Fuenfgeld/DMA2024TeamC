{
  "nbformat": 4,
  "nbformat_minor": 0,
  "metadata": {
    "colab": {
      "provenance": [],
      "authorship_tag": "ABX9TyNNvnWfA50HPOU4MGij+umT",
      "include_colab_link": true
    },
    "kernelspec": {
      "name": "python3",
      "display_name": "Python 3"
    },
    "language_info": {
      "name": "python"
    }
  },
  "cells": [
    {
      "cell_type": "markdown",
      "metadata": {
        "id": "view-in-github",
        "colab_type": "text"
      },
      "source": [
        "<a href=\"https://colab.research.google.com/github/Fuenfgeld/DMA2024TeamC/blob/main/Code/EDA.ipynb\" target=\"_parent\"><img src=\"https://colab.research.google.com/assets/colab-badge.svg\" alt=\"Open In Colab\"/></a>"
      ]
    },
    {
      "cell_type": "markdown",
      "source": [
        "**Kursarbeit Datenmanagement und -Archivierung WS 23/24**\n",
        "\n",
        "Master-Code Name-CALICO:MA\n"
      ],
      "metadata": {
        "id": "vHosyFJW4vm1"
      }
    },
    {
      "cell_type": "markdown",
      "source": [
        "**Explorative Datenanalyse**"
      ],
      "metadata": {
        "id": "mZXn3MCm6EUw"
      }
    },
    {
      "cell_type": "markdown",
      "source": [
        "> Laden Libraries"
      ],
      "metadata": {
        "id": "R4Vq7BBP-kj0"
      }
    },
    {
      "cell_type": "code",
      "source": [
        "import pandas as pd\n",
        "import sqlite3\n",
        "import matplotlib\n",
        "import matplotlib.pyplot as plt\n",
        "import seaborn as sns\n",
        "import sklearn"
      ],
      "metadata": {
        "id": "eriJl5b7-haW"
      },
      "execution_count": null,
      "outputs": []
    },
    {
      "cell_type": "markdown",
      "source": [
        "\n",
        "> Verbindung zur Datenbank\n",
        "\n"
      ],
      "metadata": {
        "id": "ObT848lewmdG"
      }
    },
    {
      "cell_type": "code",
      "source": [
        "#connect to DB\n",
        "conn = sqlite3.connect('/content/drive/My Drive/Datenmanagement_und_Archivierung_im_Umfeld_der_Forschung/CALICO_MA/datawarehouse.db')\n",
        "cursor = conn.cursor()\n",
        "print(\"Datenbank wurde erfolgreich geöffnet\")"
      ],
      "metadata": {
        "id": "VvBROB0Eh7xm"
      },
      "execution_count": null,
      "outputs": []
    },
    {
      "cell_type": "code",
      "source": [
        "print(pd.read_sql_query('''\n",
        "SELECT name FROM sqlite_master\n",
        "WHERE type='table'\n",
        "ORDER BY name;\n",
        "     ''', conn))"
      ],
      "metadata": {
        "id": "bkOtFAoFlS5H"
      },
      "execution_count": null,
      "outputs": []
    },
    {
      "cell_type": "markdown",
      "source": [
        "\n",
        "> Laden die Daten aus der Datenbank in die DataFrames für die weitere Analyse\n",
        "\n"
      ],
      "metadata": {
        "id": "-vkKjRGDxByv"
      }
    },
    {
      "cell_type": "code",
      "source": [
        "df_encounters = pd.read_sql_query(\"SELECT * FROM encounters\", conn)\n",
        "df_facts_table = pd.read_sql_query(\"SELECT * FROM facts_table\", conn)\n",
        "df_immunizations = pd.read_sql_query(\"SELECT * FROM immunizations\", conn)\n",
        "df_medications = pd.read_sql_query(\"SELECT * FROM medications\", conn)\n",
        "df_observations = pd.read_sql_query(\"SELECT * FROM observations\", conn)\n",
        "df_patients = pd.read_sql_query(\"SELECT * FROM patients\", conn)\n",
        "df_procedures = pd.read_sql_query(\"SELECT * FROM procedures\", conn)"
      ],
      "metadata": {
        "id": "Wq5wsv3D3_Bg"
      },
      "execution_count": null,
      "outputs": []
    },
    {
      "cell_type": "code",
      "source": [
        "df2 = df_patients.groupby(['Table_Names'])['Id'].count()\n",
        "print(df2)\n",
        "df2.plot.bar()"
      ],
      "metadata": {
        "id": "mv7Qe6PqyIaL"
      },
      "execution_count": null,
      "outputs": []
    }
  ]
}