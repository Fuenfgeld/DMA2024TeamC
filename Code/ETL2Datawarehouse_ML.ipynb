{
  "cells": [
    {
      "cell_type": "markdown",
      "metadata": {
        "id": "view-in-github",
        "colab_type": "text"
      },
      "source": [
        "<a href=\"https://colab.research.google.com/github/Fuenfgeld/DMA2024TeamC/blob/main/Code/ETL2Datawarehouse_ML.ipynb\" target=\"_parent\"><img src=\"https://colab.research.google.com/assets/colab-badge.svg\" alt=\"Open In Colab\"/></a>"
      ]
    },
    {
      "cell_type": "markdown",
      "metadata": {
        "id": "vHosyFJW4vm1"
      },
      "source": [
        "**Kursarbeit Datenmanagement und -Archivierung WS 23/24**\n",
        "\n",
        "Master-Code Name-CALICO:MA\n"
      ]
    },
    {
      "cell_type": "markdown",
      "metadata": {
        "id": "mZXn3MCm6EUw"
      },
      "source": [
        "**Erstellung der Datenbank**\n",
        "\n",
        "\n",
        "*   Datenbankinitialisierung:\n",
        "\n"
      ]
    },
    {
      "cell_type": "markdown",
      "metadata": {
        "id": "R4Vq7BBP-kj0"
      },
      "source": [
        "> Laden Libraries"
      ]
    },
    {
      "cell_type": "code",
      "execution_count": 113,
      "metadata": {
        "id": "eriJl5b7-haW"
      },
      "outputs": [],
      "source": [
        "import os\n",
        "import pandas as pd\n",
        "from functools import reduce\n",
        "import sqlite3\n",
        "from sqlite3 import Error\n",
        "import csv\n",
        "#import requests"
      ]
    },
    {
      "cell_type": "markdown",
      "metadata": {
        "id": "VXZWN4WFzTND"
      },
      "source": [
        ">Google drive verbinden"
      ]
    },
    {
      "cell_type": "code",
      "execution_count": 114,
      "metadata": {
        "colab": {
          "base_uri": "https://localhost:8080/"
        },
        "id": "TCr42mndzTNE",
        "outputId": "fbfbf31b-c07f-40d9-bdbe-eab63edcf589"
      },
      "outputs": [
        {
          "output_type": "stream",
          "name": "stdout",
          "text": [
            "Mounted at /content/drive\n",
            "MyDrive  Shareddrives\n"
          ]
        }
      ],
      "source": [
        "from google.colab import drive\n",
        "drive.mount(\"/content/drive\", force_remount=True)\n",
        "!ls drive/"
      ]
    },
    {
      "cell_type": "markdown",
      "metadata": {
        "id": "OK5l6qwhzTNF"
      },
      "source": [
        ">connect to repo"
      ]
    },
    {
      "cell_type": "code",
      "execution_count": 115,
      "metadata": {
        "colab": {
          "base_uri": "https://localhost:8080/"
        },
        "id": "OWR3D4bBzTNG",
        "outputId": "61415969-8753-4e46-ee82-81693f9fb6d3"
      },
      "outputs": [
        {
          "output_type": "stream",
          "name": "stdout",
          "text": [
            "Unterordner 'mein_unterordner' existiert bereits.\n"
          ]
        }
      ],
      "source": [
        "# Pfad zum Ordner\n",
        "ordner_pfad = \"/pfad/zum/ordner\"\n",
        "unterordner_name = \"mein_unterordner\"\n",
        "\n",
        "# Vollständiger Pfad zum Unterordner\n",
        "unterordner_pfad = os.path.join(ordner_pfad, unterordner_name)\n",
        "\n",
        "# Überprüfen, ob der Unterordner existiert\n",
        "if not os.path.exists(unterordner_pfad):\n",
        "    # Wenn der Unterordner nicht existiert, erstellen Sie ihn\n",
        "    os.makedirs(unterordner_pfad)\n",
        "    print(f\"Unterordner '{unterordner_name}' wurde erstellt.\")\n",
        "else:\n",
        "    print(f\"Unterordner '{unterordner_name}' existiert bereits.\")"
      ]
    },
    {
      "cell_type": "code",
      "execution_count": 116,
      "metadata": {
        "colab": {
          "base_uri": "https://localhost:8080/"
        },
        "id": "hCN64E-FzTNI",
        "outputId": "7d41826f-dd60-40b9-fdcd-d8c2c40b1675"
      },
      "outputs": [
        {
          "output_type": "stream",
          "name": "stdout",
          "text": [
            "Ordner drive/MyDrive/calico_ma_repo existiert bereits\n"
          ]
        }
      ],
      "source": [
        "#definieren des Ordners in dem die repo gesichert werdern soll\n",
        "google_drive_folder = \"drive/MyDrive\"\n",
        "repo_colab_name = \"calico_ma_repo\"\n",
        "#full_path_repo_colab = f\"{google_drive_folder}+\"//\"+{repo_colab_name}\"\n",
        "full_path_repo_colab = os.path.join(google_drive_folder,repo_colab_name)\n",
        "if not os.path.exists(full_path_repo_colab):\n",
        "    os.makedirs(full_path_repo_colab)\n",
        "    print(f\"Ordner {full_path_repo_colab} ajngelegt\")\n",
        "else:\n",
        "    print(f\"Ordner {full_path_repo_colab} existiert bereits\")"
      ]
    },
    {
      "cell_type": "code",
      "execution_count": 117,
      "metadata": {
        "colab": {
          "base_uri": "https://localhost:8080/"
        },
        "id": "t_eLGJVAzTNI",
        "outputId": "2714523e-316b-4865-800a-b2dfd271ffb4"
      },
      "outputs": [
        {
          "output_type": "stream",
          "name": "stdout",
          "text": [
            "Reading package lists... Done\n",
            "Building dependency tree... Done\n",
            "Reading state information... Done\n",
            "git is already the newest version (1:2.34.1-1ubuntu1.10).\n",
            "0 upgraded, 0 newly installed, 0 to remove and 33 not upgraded.\n"
          ]
        }
      ],
      "source": [
        "! apt-get install git"
      ]
    },
    {
      "cell_type": "code",
      "execution_count": 118,
      "metadata": {
        "colab": {
          "base_uri": "https://localhost:8080/"
        },
        "id": "v6k0GYw4zTNJ",
        "outputId": "25e8aad8-af97-40fb-a877-c9ef7d52c52d"
      },
      "outputs": [
        {
          "output_type": "stream",
          "name": "stdout",
          "text": [
            "fatal: destination path 'drive/MyDrive/calico_ma_repo' already exists and is not an empty directory.\n"
          ]
        }
      ],
      "source": [
        "!git clone https://github.com/Fuenfgeld/DMA2024TeamC.git $full_path_repo_colab"
      ]
    },
    {
      "cell_type": "code",
      "execution_count": 119,
      "metadata": {
        "colab": {
          "base_uri": "https://localhost:8080/"
        },
        "id": "ijnO0_LlzTNK",
        "outputId": "fe59aa8a-8baa-4eb4-fbfb-3aa9cd17a0fd"
      },
      "outputs": [
        {
          "output_type": "stream",
          "name": "stdout",
          "text": [
            "Code  Data  Documentation  LICENSE  README.md\n"
          ]
        }
      ],
      "source": [
        "!ls $full_path_repo_colab"
      ]
    },
    {
      "cell_type": "markdown",
      "metadata": {
        "id": "c9whsxq3-FwZ"
      },
      "source": [
        ">Definition der Umgebnungsvariablen\n",
        "\n",
        ">Verbindung zu CSV-Dateien herstellen und Kategorisierung nach der Tumorerkrankung\n",
        "**AMENDMENT FOR ML: project_name = \"CALICO_MA_ML\"**"
      ]
    },
    {
      "cell_type": "code",
      "execution_count": 120,
      "metadata": {
        "colab": {
          "base_uri": "https://localhost:8080/"
        },
        "id": "lEgV_Mbhhlv-",
        "outputId": "82b211bf-d379-4655-c5ff-a183f4cc49dc"
      },
      "outputs": [
        {
          "output_type": "stream",
          "name": "stdout",
          "text": [
            "drive/MyDrive/calico_ma_repo/\n",
            "drive/MyDrive/calico_ma_repo/Data/Quelldaten/CSV_Data/\n"
          ]
        }
      ],
      "source": [
        "#repo_home = \"/home/gunnar/DMA2024TeamC/\" ## muss entsprechend angepasst werden für das lokale repo verzeichnis\n",
        "repo_home = full_path_repo_colab+\"/\" ## repo in google drive\n",
        "csv_data_folder = repo_home + \"Data/Quelldaten/CSV_Data/\"\n",
        "project_name = \"CALICO_MA_ML\"\n",
        "print(repo_home)\n",
        "print (csv_data_folder)"
      ]
    },
    {
      "cell_type": "markdown",
      "metadata": {
        "id": "rQQfNOR7jFuD"
      },
      "source": [
        "\n",
        "\n",
        "> Verbindung zu SQLite herstellen und Datebankinitialisierung Local\n",
        "\n",
        "\n"
      ]
    },
    {
      "cell_type": "markdown",
      "metadata": {
        "id": "lqxU1QoYzTNM"
      },
      "source": [
        ">The provided code is a Python script that establishes a connection to a SQLite database and creates a cursor object for executing SQL commands.\n",
        ">The `create_connection_local` function is defined to establish a connection to a SQLite database. The function takes one parameter, `local_path`, which is the path to the database file. Inside the function, a `try` block is used to attempt to establish the connection. The `sqlite3.connect` function is called with the path to the database file, which is constructed by concatenating `local_path`, the string 'Data/CALICO_MA_Database/', and the global variable `project_name` with '.db' extension. If the connection is established successfully, the connection object is returned. However, the `print(sqlite3.version)` statement after the `return` statement will never be executed because the function exits as soon as it hits the `return` statement. If there is an error while establishing the connection, it is caught by the `except` block, and a message is printed to the console.\n",
        ">After the `create_connection_local` function is defined, it is called with `repo_home` as the argument, and the returned connection object is stored in the `conn` variable.\n",
        ">Next, a cursor object is created by calling the `cursor` method on the connection object. This cursor object, stored in the `cur` variable, can be used to execute SQL commands.\n",
        ">Finally, a success message is printed to the console, indicating that the connection to the SQLite database was established successfully. The message includes the path to the database file."
      ]
    },
    {
      "cell_type": "code",
      "execution_count": 121,
      "metadata": {
        "colab": {
          "base_uri": "https://localhost:8080/"
        },
        "id": "5VAxi8iZnsCJ",
        "outputId": "5bdaf926-bc44-438b-b582-426685e92f96"
      },
      "outputs": [
        {
          "output_type": "stream",
          "name": "stdout",
          "text": [
            "Successfully Connected to SQLite Public Data Warehouse: drive/MyDrive/calico_ma_repo/Data/CALICO_MA_Database/CALICO_MA_ML.db\n"
          ]
        }
      ],
      "source": [
        "def create_connection_local(local_path):\n",
        "  conn = None;\n",
        "  try:\n",
        "    #Establishing the connection\n",
        "    conn = sqlite3.connect(local_path+'Data/CALICO_MA_Database/'+project_name+'.db')\n",
        "    return conn\n",
        "    print(sqlite3.version)\n",
        "  except Error as e:\n",
        "    print(\"Error while connecting to sqlite\", e)\n",
        "conn = create_connection_local(repo_home)\n",
        "# Creating a cursor object using the cursor() method\n",
        "cur = conn.cursor()\n",
        "print(\"Successfully Connected to SQLite Public Data Warehouse: \"+repo_home+'Data/CALICO_MA_Database/'+project_name+'.db')\n"
      ]
    },
    {
      "cell_type": "markdown",
      "metadata": {
        "id": "_WfYcr6eZGTz"
      },
      "source": [
        "> Quelldatenimport"
      ]
    },
    {
      "cell_type": "markdown",
      "metadata": {
        "id": "N6uOOgxwzTNN"
      },
      "source": [
        "This Python script is used to read multiple CSV files from different directories, create pandas DataFrames from them, and then concatenate these DataFrames based on their types.\n",
        "\n",
        "Here's a step-by-step explanation:\n",
        "\n",
        "1. Two lists are defined: `csvs` and `tumortypes`. `csvs` contains the names of different types of CSV files, and `tumortypes` contains the names of different types of tumors.\n",
        "\n",
        "2. An empty dictionary `df` is created to store the DataFrames.\n",
        "\n",
        "3. The script then enters a nested loop where it iterates over each tumor type and each CSV type. For each combination, it constructs a key (e.g., \"procedures_Breast_Cancer\") and a file path.\n",
        "\n",
        "4. It reads the CSV file at the constructed path into a DataFrame, adds a new column `cancer_type` to the DataFrame, and stores the DataFrame in the `df` dictionary with the constructed key.\n",
        "\n",
        "5. The DataFrame is also appended to a list in the `csv_dfs` dictionary corresponding to its CSV type.\n",
        "\n",
        "6. After all CSV files have been read and their DataFrames stored, the script concatenates the DataFrames in each list in the `csv_dfs` dictionary. The result is a dictionary where each key is a CSV type and each value is a DataFrame that is the concatenation of all DataFrames of that CSV type.\n",
        "\n",
        "7. Finally, the script prints the first few rows of each DataFrame in the `df` and `csv_dfs` dictionaries.\n",
        "\n",
        "The commented-out code at the end of the script shows how individual CSV files were previously read into DataFrames. This code has been replaced by the loop that reads and concatenates all CSV files."
      ]
    },
    {
      "cell_type": "code",
      "execution_count": 122,
      "metadata": {
        "id": "1Uffy7Q6yWD_",
        "colab": {
          "base_uri": "https://localhost:8080/"
        },
        "outputId": "559c4ba0-9e42-4439-af04-1a27ccd5e968"
      },
      "outputs": [
        {
          "output_type": "stream",
          "name": "stdout",
          "text": [
            "Total number of rows in original dataframes for procedures: 2140\n",
            "\n",
            "\n",
            "Total number of rows in original dataframes for encounters: 25836\n",
            "\n",
            "\n",
            "Total number of rows in original dataframes for immunizations: 37878\n",
            "\n",
            "\n",
            "Total number of rows in original dataframes for medications: 1258\n",
            "\n",
            "\n",
            "Total number of rows in original dataframes for observations: 95849\n",
            "\n",
            "\n",
            "Total number of rows in original dataframes for patients: 3084\n",
            "\n",
            "\n",
            "Concatenated DataFrame for procedures:\n",
            "Number of rows: 2140\n",
            "Unique cancer types: ['Breast_Cancer' 'Lung_Cancer' 'Colorectal_Cancer']\n",
            "\n",
            "\n",
            "Concatenated DataFrame for encounters:\n",
            "Number of rows: 25836\n",
            "Unique cancer types: ['Breast_Cancer' 'Lung_Cancer' 'Colorectal_Cancer']\n",
            "\n",
            "\n",
            "Concatenated DataFrame for immunizations:\n",
            "Number of rows: 37878\n",
            "Unique cancer types: ['Breast_Cancer' 'Lung_Cancer' 'Colorectal_Cancer']\n",
            "\n",
            "\n",
            "Concatenated DataFrame for medications:\n",
            "Number of rows: 1258\n",
            "Unique cancer types: ['Breast_Cancer' 'Lung_Cancer' 'Colorectal_Cancer']\n",
            "\n",
            "\n",
            "Concatenated DataFrame for observations:\n",
            "Number of rows: 95849\n",
            "Unique cancer types: ['Breast_Cancer' 'Lung_Cancer' 'Colorectal_Cancer']\n",
            "\n",
            "\n",
            "Concatenated DataFrame for patients:\n",
            "Number of rows: 3084\n",
            "Unique cancer types: ['Breast_Cancer' 'Lung_Cancer' 'Colorectal_Cancer']\n",
            "\n",
            "\n"
          ]
        }
      ],
      "source": [
        "# Generate dataframes and add cancer_type information as a new column\n",
        "\n",
        "csvs = [\"procedures\", \"encounters\", \"immunizations\", \"medications\", \"observations\", \"patients\"]\n",
        "\n",
        "tumortypes = [\"Breast_Cancer\", \"Lung_Cancer\", \"Colorectal_Cancer\"]\n",
        "\n",
        "df = {}\n",
        "csv_dfs = {csv: [] for csv in csvs}\n",
        "\n",
        "for tumor in tumortypes:\n",
        "    for csv in csvs:\n",
        "        key = f\"{csv}_{tumor}\"\n",
        "        path = f\"{csv_data_folder}{tumor}/{csv}.csv\"\n",
        "        df[key] = pd.read_csv(path, sep=\",\")\n",
        "        df[key] = df[key].assign(cancer_type=tumor)\n",
        "\n",
        "        # Add the dataframe to the list for this csv\n",
        "        csv_dfs[csv].append(df[key])\n",
        "\n",
        "# Check the sum of the number of rows in the original dataframes for each csv\n",
        "for csv in csvs:\n",
        "    total_rows = sum(len(df[csv + '_' + tumor]) for tumor in tumortypes)\n",
        "    print(f\"Total number of rows in original dataframes for {csv}: {total_rows}\")\n",
        "    print(\"\\n\")\n",
        "# Concatenate the dataframes for each csv\n",
        "for csv in csvs:\n",
        "    csv_dfs[csv] = pd.concat(csv_dfs[csv])\n",
        "\n",
        "# Check the number of rows and unique cancer types in each concatenated dataframe\n",
        "for csv, df in csv_dfs.items():\n",
        "    print(f\"Concatenated DataFrame for {csv}:\")\n",
        "    print(f\"Number of rows: {len(df)}\")\n",
        "    print(f\"Unique cancer types: {df['cancer_type'].unique()}\")\n",
        "    print(\"\\n\")\n"
      ]
    },
    {
      "cell_type": "markdown",
      "metadata": {
        "id": "nfGcCcEizTNO"
      },
      "source": [
        ">Quality checks of the dataframes"
      ]
    },
    {
      "cell_type": "code",
      "execution_count": 123,
      "metadata": {
        "colab": {
          "base_uri": "https://localhost:8080/"
        },
        "id": "HOTYJKSZzTNO",
        "outputId": "c971e107-4001-46c1-cb7f-936aef781f6f"
      },
      "outputs": [
        {
          "output_type": "stream",
          "name": "stdout",
          "text": [
            "Quality for concatenated DataFrame procedures:\n",
            "DATE                 1804\n",
            "PATIENT               449\n",
            "ENCOUNTER            1593\n",
            "CODE                   37\n",
            "DESCRIPTION            37\n",
            "BASE_COST            2044\n",
            "REASONCODE             11\n",
            "REASONDESCRIPTION      11\n",
            "cancer_type             3\n",
            "dtype: int64\n",
            "\n",
            "\n",
            "Quality for concatenated DataFrame encounters:\n",
            "Id                     25836\n",
            "START                  25521\n",
            "STOP                   25720\n",
            "PATIENT                 3084\n",
            "ORGANIZATION            2268\n",
            "PROVIDER                2806\n",
            "PAYER                     10\n",
            "ENCOUNTERCLASS             5\n",
            "CODE                      15\n",
            "DESCRIPTION               18\n",
            "BASE_ENCOUNTER_COST        2\n",
            "TOTAL_CLAIM_COST           2\n",
            "PAYER_COVERAGE            15\n",
            "REASONCODE                11\n",
            "REASONDESCRIPTION         11\n",
            "cancer_type                3\n",
            "dtype: int64\n",
            "\n",
            "\n",
            "Quality for concatenated DataFrame immunizations:\n",
            "DATE           23245\n",
            "PATIENT         3084\n",
            "ENCOUNTER      23349\n",
            "CODE              18\n",
            "DESCRIPTION       18\n",
            "BASE_COST          1\n",
            "cancer_type        3\n",
            "dtype: int64\n",
            "\n",
            "\n",
            "Quality for concatenated DataFrame medications:\n",
            "START                 594\n",
            "STOP                  222\n",
            "PATIENT               314\n",
            "PAYER                  10\n",
            "ENCOUNTER             595\n",
            "CODE                   24\n",
            "DESCRIPTION            24\n",
            "BASE_COST            1199\n",
            "PAYER_COVERAGE        123\n",
            "DISPENSES             238\n",
            "TOTALCOST            1241\n",
            "REASONCODE              4\n",
            "REASONDESCRIPTION       4\n",
            "cancer_type             3\n",
            "dtype: int64\n",
            "\n",
            "\n",
            "Quality for concatenated DataFrame observations:\n",
            "DATE           31296\n",
            "PATIENT         3084\n",
            "ENCOUNTER        289\n",
            "CODE              53\n",
            "DESCRIPTION       55\n",
            "VALUE           1268\n",
            "UNITS             18\n",
            "TYPE               2\n",
            "cancer_type        3\n",
            "dtype: int64\n",
            "\n",
            "\n",
            "Quality for concatenated DataFrame patients:\n",
            "Id                     3084\n",
            "BIRTHDATE              2860\n",
            "DEATHDATE                84\n",
            "SSN                    3078\n",
            "DRIVERS                2503\n",
            "PASSPORT               2377\n",
            "PREFIX                    3\n",
            "FIRST                  2055\n",
            "LAST                    660\n",
            "SUFFIX                    3\n",
            "MAIDEN                  423\n",
            "MARITAL                   2\n",
            "RACE                      5\n",
            "ETHNICITY                 2\n",
            "GENDER                    2\n",
            "BIRTHPLACE              369\n",
            "ADDRESS                3084\n",
            "CITY                    295\n",
            "STATE                     1\n",
            "COUNTY                   14\n",
            "ZIP                     272\n",
            "LAT                    3084\n",
            "LON                    3084\n",
            "HEALTHCARE_EXPENSES    2624\n",
            "HEALTHCARE_COVERAGE     948\n",
            "cancer_type               3\n",
            "dtype: int64\n",
            "\n",
            "\n"
          ]
        }
      ],
      "source": [
        "# .nunique(axis=0) returns the number of unique values for each columns in the concanated dataframes.\n",
        "for csv, df in csv_dfs.items():\n",
        "    print(f\"Quality for concatenated DataFrame {csv}:\\n{df.nunique(axis=0)}\")\n",
        "    print(\"\\n\")\n",
        "\n"
      ]
    },
    {
      "cell_type": "code",
      "execution_count": 124,
      "metadata": {
        "colab": {
          "base_uri": "https://localhost:8080/"
        },
        "id": "LAV9BkOHzTNO",
        "outputId": "2641e1b0-fa83-4f63-b383-ccf262f751f0"
      },
      "outputs": [
        {
          "output_type": "stream",
          "name": "stdout",
          "text": [
            "percentage of not null values in each column of concatenated DataFrame procedures:\n",
            "DATE                 100.000000\n",
            "PATIENT              100.000000\n",
            "ENCOUNTER            100.000000\n",
            "CODE                 100.000000\n",
            "DESCRIPTION          100.000000\n",
            "BASE_COST            100.000000\n",
            "REASONCODE            74.439252\n",
            "REASONDESCRIPTION     74.439252\n",
            "cancer_type          100.000000\n",
            "dtype: float64\n",
            "\n",
            "\n",
            "percentage of not null values in each column of concatenated DataFrame encounters:\n",
            "Id                     100.0000\n",
            "START                  100.0000\n",
            "STOP                   100.0000\n",
            "PATIENT                100.0000\n",
            "ORGANIZATION           100.0000\n",
            "PROVIDER               100.0000\n",
            "PAYER                  100.0000\n",
            "ENCOUNTERCLASS         100.0000\n",
            "CODE                   100.0000\n",
            "DESCRIPTION            100.0000\n",
            "BASE_ENCOUNTER_COST    100.0000\n",
            "TOTAL_CLAIM_COST       100.0000\n",
            "PAYER_COVERAGE         100.0000\n",
            "REASONCODE               2.2488\n",
            "REASONDESCRIPTION        2.2488\n",
            "cancer_type            100.0000\n",
            "dtype: float64\n",
            "\n",
            "\n",
            "percentage of not null values in each column of concatenated DataFrame immunizations:\n",
            "DATE           100.0\n",
            "PATIENT        100.0\n",
            "ENCOUNTER      100.0\n",
            "CODE           100.0\n",
            "DESCRIPTION    100.0\n",
            "BASE_COST      100.0\n",
            "cancer_type    100.0\n",
            "dtype: float64\n",
            "\n",
            "\n",
            "percentage of not null values in each column of concatenated DataFrame medications:\n",
            "START                100.000000\n",
            "STOP                  39.666137\n",
            "PATIENT              100.000000\n",
            "PAYER                100.000000\n",
            "ENCOUNTER            100.000000\n",
            "CODE                 100.000000\n",
            "DESCRIPTION          100.000000\n",
            "BASE_COST            100.000000\n",
            "PAYER_COVERAGE       100.000000\n",
            "DISPENSES            100.000000\n",
            "TOTALCOST            100.000000\n",
            "REASONCODE             6.915739\n",
            "REASONDESCRIPTION      6.915739\n",
            "cancer_type          100.000000\n",
            "dtype: float64\n",
            "\n",
            "\n",
            "percentage of not null values in each column of concatenated DataFrame observations:\n",
            "DATE           100.000000\n",
            "PATIENT        100.000000\n",
            "ENCOUNTER        2.296320\n",
            "CODE           100.000000\n",
            "DESCRIPTION    100.000000\n",
            "VALUE          100.000000\n",
            "UNITS           99.837244\n",
            "TYPE           100.000000\n",
            "cancer_type    100.000000\n",
            "dtype: float64\n",
            "\n",
            "\n",
            "percentage of not null values in each column of concatenated DataFrame patients:\n",
            "Id                     100.000000\n",
            "BIRTHDATE              100.000000\n",
            "DEATHDATE                2.723735\n",
            "SSN                    100.000000\n",
            "DRIVERS                 82.328145\n",
            "PASSPORT                77.075227\n",
            "PREFIX                  79.863813\n",
            "FIRST                  100.000000\n",
            "LAST                   100.000000\n",
            "SUFFIX                   1.037613\n",
            "MAIDEN                  26.426719\n",
            "MARITAL                 66.147860\n",
            "RACE                   100.000000\n",
            "ETHNICITY              100.000000\n",
            "GENDER                 100.000000\n",
            "BIRTHPLACE             100.000000\n",
            "ADDRESS                100.000000\n",
            "CITY                   100.000000\n",
            "STATE                  100.000000\n",
            "COUNTY                 100.000000\n",
            "ZIP                     53.988327\n",
            "LAT                    100.000000\n",
            "LON                    100.000000\n",
            "HEALTHCARE_EXPENSES    100.000000\n",
            "HEALTHCARE_COVERAGE    100.000000\n",
            "cancer_type            100.000000\n",
            "dtype: float64\n",
            "\n",
            "\n"
          ]
        }
      ],
      "source": [
        "#percentage of not null values in each column in the concanated dataframes.\n",
        "for csv, df in csv_dfs.items():\n",
        "    print(f\"percentage of not null values in each column of concatenated DataFrame {csv}:\\n{df.count()/len(df) * 100}\")\n",
        "    print(\"\\n\")\n"
      ]
    },
    {
      "cell_type": "code",
      "execution_count": 125,
      "metadata": {
        "colab": {
          "base_uri": "https://localhost:8080/"
        },
        "id": "omHiPDL_yWH2",
        "outputId": "441936a1-c3dd-41c9-af52-a28503829baa"
      },
      "outputs": [
        {
          "output_type": "execute_result",
          "data": {
            "text/plain": [
              "<sqlite3.Cursor at 0x7e67e36cde40>"
            ]
          },
          "metadata": {},
          "execution_count": 125
        }
      ],
      "source": [
        "#Delete Tables in case they exist\n",
        "cur.execute(\"DROP TABLE IF EXISTS procedures\")\n",
        "cur.execute(\"DROP TABLE IF EXISTS encounters\")\n",
        "cur.execute(\"DROP TABLE IF EXISTS immunizations\")\n",
        "cur.execute(\"DROP TABLE IF EXISTS medications\")\n",
        "cur.execute(\"DROP TABLE IF EXISTS observations\")\n",
        "cur.execute(\"DROP TABLE IF EXISTS patients\")\n",
        "cur.execute(\"DROP TABLE IF EXISTS facts_table\")"
      ]
    },
    {
      "cell_type": "markdown",
      "metadata": {
        "id": "MPDvy1jAzTNP"
      },
      "source": [
        ">Create tables including facts_table\n",
        "**AMENDMENTS FOR ML: COUNTY as STRING, ZIP as STRING**"
      ]
    },
    {
      "cell_type": "code",
      "execution_count": 126,
      "metadata": {
        "id": "PYnfBkKTzTNP"
      },
      "outputs": [],
      "source": [
        "# Create tables including facts_table\n",
        "\n",
        "sql_table = {}\n",
        "\n",
        "create_table_command = \"\"\"CREATE TABLE IF NOT EXISTS patients (\n",
        "                           Id         STRING PRIMARY KEY,\n",
        "                           BIRTHDATE  DATE,\n",
        "                           DEATHDATE  DATE,\n",
        "                           SSN        STRING,\n",
        "                           DRIVERS    STRING,\n",
        "                           PASSPORT   STRING,\n",
        "                           PREFIX     STRING,\n",
        "                           FIRST      STRING,\n",
        "                           LAST       STRING,\n",
        "                           SUFFIX     STRING,\n",
        "                           MAIDEN     STRING,\n",
        "                           MARITAL    STRING,\n",
        "                           RACE       STRING,\n",
        "                           ETHNICITY  STRING,\n",
        "                           GENDER     STRING,\n",
        "                           BIRTHPLACE STRING,\n",
        "                           ADDRESS    STRING,\n",
        "                           CITY       STRING,\n",
        "                           STATE      STRING,\n",
        "                           COUNTY     STRING,\n",
        "                           ZIP        STRING,\n",
        "                           LAT        DECIMAL(6,2),\n",
        "                           LON        DECIMAL(6,2),\n",
        "                           HEALTHCARE_EXPENSES DECIMAL(9,2),\n",
        "                           HEALTHCARE_COVERAGE DECIMAL(9,2),\n",
        "                           cancer_type STRING\n",
        "  );\n",
        "\n",
        "CREATE TABLE IF NOT EXISTS encounters (\n",
        "                           Id STRING PRIMARY KEY,\n",
        "                           START DATE,\n",
        "                           STOP DATE,\n",
        "                           PATIENT STRING,\n",
        "                           ORGANIZATION STRING,\n",
        "                           PROVIDER STRING,\n",
        "                           PAYER STRING,\n",
        "                           ENCOUNTERCLASS STRING,\n",
        "                           CODE STRING,\n",
        "                           DESCRIPTION STRING,\n",
        "                           BASE_ENCOUNTER_COST DECIMAL(9,2),\n",
        "                           TOTAL_CLAIM_COST DECIMAL(9,2),\n",
        "                           PAYER_COVERAGE DECIMAL(9,2),\n",
        "                           REASONCODE STRING,\n",
        "                           REASONDESCRIPTION STRING,\n",
        "                           cancer_type STRING,\n",
        "                           FOREIGN KEY (PATIENT)\n",
        "                              REFERENCES patients (Id)\n",
        ");\n",
        "\n",
        "\n",
        "\n",
        "CREATE TABLE IF NOT EXISTS observations (\n",
        "                           DATE DATE,\n",
        "                           PATIENT STRING,\n",
        "                           ENCOUNTER STRING,\n",
        "                           CODE STRING,\n",
        "                           DESCRIPTION STRING,\n",
        "                           VALUE STRING,\n",
        "                           UNITS STRING,\n",
        "                           TYPE STRING,\n",
        "                           cancer_type STRING,\n",
        "                           FOREIGN KEY (PATIENT) REFERENCES patients (Id),\n",
        "                           FOREIGN KEY (Encounter) REFERENCES encounters (Id)\n",
        ");\n",
        "\n",
        "\n",
        "CREATE TABLE IF NOT EXISTS medications (\n",
        "                           START DATE,\n",
        "                           STOP DATE,\n",
        "                           PATIENT STRING,\n",
        "                           PAYER STRING,\n",
        "                           ENCOUNTER STRING,\n",
        "                           CODE STRING,\n",
        "                           DESCRIPTION STRING,\n",
        "                           BASE_COST DECIMAL(9,2),\n",
        "                           PAYER_COVERAGE DECIMAL(9,2),\n",
        "                           DISPENSES DECIMAL(9,2),\n",
        "                           TOTALCOST DECIMAL(9,2),\n",
        "                           REASONCODE STRING,\n",
        "                           REASONDESCRIPTION STRING,\n",
        "                           cancer_type STRING,\n",
        "                           FOREIGN KEY (PATIENT)\n",
        "                              REFERENCES patients (Id)\n",
        "                           FOREIGN KEY (Encounter)\n",
        "                              REFERENCES encounters (Id)\n",
        "  );\n",
        "\n",
        "CREATE TABLE IF NOT EXISTS procedures (\n",
        "                           DATE DATE,\n",
        "                           PATIENT STRING,\n",
        "                           ENCOUNTER STRING,\n",
        "                           CODE STRING,\n",
        "                           DESCRIPTION STRING,\n",
        "                           BASE_COST DECIMAL(9,2),\n",
        "                           REASONCODE STRING,\n",
        "                           REASONDESCRIPTION STRING,\n",
        "                           cancer_type STRING,\n",
        "                           FOREIGN KEY (PATIENT) REFERENCES patients (Id),\n",
        "                           FOREIGN KEY (Encounter) REFERENCES encounters (Id)\n",
        "                       );\n",
        "\n",
        "CREATE TABLE IF NOT EXISTS immunizations (\n",
        "                           DATE DATE,\n",
        "                           PATIENT STRING,\n",
        "                           ENCOUNTER STRING,\n",
        "                           CODE STRING,\n",
        "                           DESCRIPTION STRING,\n",
        "                           BASE_COST DECIMAL(9,2),\n",
        "                           cancer_type STRING,\n",
        "                           FOREIGN KEY (PATIENT)\n",
        "                              REFERENCES patients (Id)\n",
        "                           FOREIGN KEY (Encounter)\n",
        "                              REFERENCES encounters (Id)\n",
        "  );\n",
        "\n",
        "CREATE TABLE IF NOT EXISTS facts_table (\n",
        "                          cancer_type STRING,\n",
        "                          patient_ID STRING,\n",
        "                          encounter_ID STRING,\n",
        "                          patient_LAT        DECIMAL(6,2),\n",
        "                          patient_LON        DECIMAL(6,2),\n",
        "                          patient_COUNTY     STRING,\n",
        "                          patient_ZIP        STRING,\n",
        "                          patient_HEALTHCARE_EXPENSES DECIMAL(9,2),\n",
        "                          patient_HEALTHCARE_COVERAGE DECIMAL(9,2),\n",
        "                          patient_BIRTHDATE DATE,\n",
        "                          observations_CODE STRING,\n",
        "                          observations_VALUE STRING,\n",
        "                          observations_DATE  DATE,\n",
        "                          observations_AGE DECIMAL(6,2),\n",
        "                          procedures_BASE_COST DECIMAL(11,2),\n",
        "                          medications_TOTALCOST DECIMAL(11,2),\n",
        "                          immunizations_BASE_COST DECIMAL(11,2),\n",
        "                          encounter_BASE_ENCOUNTER_COST DECIMAL(11,2),\n",
        "                          FOREIGN KEY (patient_ID) REFERENCES patients (Id),\n",
        "                          FOREIGN KEY (patient_ID) REFERENCES observations (PATIENT),\n",
        "                          FOREIGN KEY (encounter_ID) REFERENCES observations (ENCOUNTER),\n",
        "                          FOREIGN KEY (patient_ID) REFERENCES encounters (PATIENT),\n",
        "                          FOREIGN KEY (encounter_ID) REFERENCES encounters (Id),\n",
        "                          FOREIGN KEY (patient_ID) REFERENCES procedures (PATIENT),\n",
        "                          FOREIGN KEY (encounter_ID) REFERENCES procedures (ENCOUNTER),\n",
        "                          FOREIGN KEY (patient_ID) REFERENCES medications (PATIENT),\n",
        "                          FOREIGN KEY (encounter_ID) REFERENCES medications (ENCOUNTER),\n",
        "                          FOREIGN KEY (patient_ID) REFERENCES immunizations (PATIENT),\n",
        "                          FOREIGN KEY (encounter_ID) REFERENCES immunizations (ENCOUNTER)\n",
        "\n",
        ");\n",
        "\"\"\"\n",
        "# Execute the SQL command\n",
        "cur.executescript(create_table_command)\n",
        "\n",
        "conn.commit()"
      ]
    },
    {
      "cell_type": "code",
      "execution_count": 127,
      "metadata": {
        "id": "WdrO61KGzTNQ"
      },
      "outputs": [],
      "source": [
        "#Insert data from the concanated data frames into the tables\n",
        "\n",
        "for csv, df in csv_dfs.items():\n",
        "    df.to_sql(csv, conn, if_exists='append', index=False)\n",
        "\n",
        "conn.commit()"
      ]
    },
    {
      "cell_type": "code",
      "execution_count": 128,
      "metadata": {
        "colab": {
          "base_uri": "https://localhost:8080/"
        },
        "id": "sq04Zs5BzTNQ",
        "outputId": "6789a71c-6a9b-4cdc-a958-3e635ef33db6"
      },
      "outputs": [
        {
          "output_type": "stream",
          "name": "stdout",
          "text": [
            "SQL tables from drive/MyDrive/calico_ma_repo/Data/CALICO_MA_Database/CALICO_MA_ML.db' \n",
            "\n",
            "procedures                    DATE                               PATIENT  \\\n",
            "0  2012-02-25T10:12:31Z  e0819e1b-ea7c-1918-6a7a-84dc6a4056d5   \n",
            "1  2005-10-12T11:18:01Z  09cefca5-6f18-be2a-121e-6f62d2cc8df6   \n",
            "2  2013-11-15T13:27:49Z  d9bb031b-ddd4-a8e4-4114-ff796da7b937   \n",
            "3  2013-09-02T12:19:57Z  58345179-2358-e92d-045d-874129cf3763   \n",
            "4  2016-10-13T06:38:25Z  93aa9006-970e-1dfc-8719-2fe918d6f270   \n",
            "5  2014-09-01T08:00:58Z  e2f4128f-618a-1518-7641-289832c5cd6e   \n",
            "6  2016-06-02T16:28:59Z  68a0c89e-48a3-93b7-06c2-72f2a70ff380   \n",
            "7  2016-02-01T16:20:48Z  97d417ae-0897-260b-0c8b-66ac074228c1   \n",
            "8  2011-11-03T17:24:44Z  0af84bc9-acf2-684f-c04e-d9d1dac08f97   \n",
            "9  2014-06-14T14:08:09Z  08cb85d1-8298-1135-45ae-c90df3160ead   \n",
            "\n",
            "                              ENCOUNTER       CODE  \\\n",
            "0  e8daf9a6-452e-1776-242b-919f7179e7ca   73761001   \n",
            "1  13e6d643-cc69-0234-93a8-40ea00700a61   40701008   \n",
            "2  747e09a1-a3c1-6db5-92d2-ed1846847f22   18286008   \n",
            "3  6b0cd608-fe54-a1d1-c742-fe24a4c2f2f7   40701008   \n",
            "4  e650a9f0-925d-3ca2-b3bc-637938630f7c  703423002   \n",
            "5  f99420be-c639-c470-f6ab-ea628c165426   43075005   \n",
            "6  fff1ff62-1d9c-605a-8410-d767650e1214   73761001   \n",
            "7  13e25faf-1e30-cf9c-2f76-dcca0be47255   40701008   \n",
            "8  cc0157fa-add0-d691-5a6a-bdd56f5fcc06   73761001   \n",
            "9  f5305689-3baf-0190-4942-1d5b87c013b2   40701008   \n",
            "\n",
            "                                         DESCRIPTION  BASE_COST   REASONCODE  \\\n",
            "0                                        Colonoscopy   21856.08          NaN   \n",
            "1                       Echocardiography (procedure)    1614.73  230690007.0   \n",
            "2               Catheter ablation of tissue of heart   11847.76  410429000.0   \n",
            "3                       Echocardiography (procedure)    1336.33  410429000.0   \n",
            "4  Combined chemotherapy and radiation therapy (p...   11605.19  363406005.0   \n",
            "5                         Partial resection of colon   39586.31  109838007.0   \n",
            "6                                        Colonoscopy   13553.90          NaN   \n",
            "7                       Echocardiography (procedure)     946.15  230690007.0   \n",
            "8                                        Colonoscopy    7597.16          NaN   \n",
            "9                       Echocardiography (procedure)    1152.29  410429000.0   \n",
            "\n",
            "                         REASONDESCRIPTION        cancer_type  \n",
            "0                                     None  Colorectal_Cancer  \n",
            "1                                   Stroke        Lung_Cancer  \n",
            "2                           Cardiac Arrest  Colorectal_Cancer  \n",
            "3                           Cardiac Arrest      Breast_Cancer  \n",
            "4                 Malignant tumor of colon  Colorectal_Cancer  \n",
            "5  Overlapping malignant neoplasm of colon  Colorectal_Cancer  \n",
            "6                                     None  Colorectal_Cancer  \n",
            "7                                   Stroke  Colorectal_Cancer  \n",
            "8                                     None  Colorectal_Cancer  \n",
            "9                           Cardiac Arrest        Lung_Cancer   \n",
            "SQL tables from drive/MyDrive/calico_ma_repo/Data/CALICO_MA_Database/CALICO_MA_ML.db' \n",
            "\n",
            "encounters                                      Id                 START  \\\n",
            "0  b90f4542-c957-1c87-fe7d-f96564f3a4ec  2013-05-11T09:08:36Z   \n",
            "1  fb030501-369f-51b9-e40a-1749ebf0556a  2019-01-03T13:08:55Z   \n",
            "2  68956f3a-33fe-07bc-8f03-337d14a1a85d  2009-10-31T19:20:12Z   \n",
            "3  6c7f2f50-b632-7b20-f494-53819f86c608  2014-08-18T02:39:03Z   \n",
            "4  7b15291b-a511-1c8e-e922-9d9d60bcb77e  2019-11-29T04:49:35Z   \n",
            "5  201a62aa-02d2-af78-f005-eaf5297ff239  2020-07-29T23:25:58Z   \n",
            "6  895671c8-7ec1-e0c4-10bc-eaed376efc7c  2013-08-27T17:32:45Z   \n",
            "7  dfce5d8c-b308-b274-6525-178a09be2acf  2018-04-28T01:41:55Z   \n",
            "8  93a41cb8-25de-b5f7-e327-86445fcabd24  2019-07-19T08:38:34Z   \n",
            "9  6d5e18f9-2fd1-b867-87c1-6868f09fdd77  2018-03-16T00:26:59Z   \n",
            "\n",
            "                   STOP                               PATIENT  \\\n",
            "0  2013-05-11T09:23:36Z  2864e2f7-620f-b3a4-b2b5-73a3285f5ab8   \n",
            "1  2019-01-03T13:23:55Z  bb376ea0-838b-d239-2d91-34273927b271   \n",
            "2  2009-10-31T19:35:12Z  cd5280ba-3b1f-138a-9095-6c14d28dad53   \n",
            "3  2014-08-18T02:54:03Z  c0e562c3-4684-8382-c500-a4f62cde300d   \n",
            "4  2019-11-29T05:04:35Z  16a39528-75cb-e6e6-2e82-4638bec2f34d   \n",
            "5  2020-07-29T23:40:58Z  ed0b3ef2-0183-dec0-857e-be4d9abd4f28   \n",
            "6  2013-08-27T17:47:45Z  a074323e-861d-5d3e-fa07-db5579ce1270   \n",
            "7  2018-04-28T01:56:55Z  2b7ba549-a22d-daf9-c31b-08ceec3640d9   \n",
            "8  2019-07-19T08:53:34Z  6a9bb834-e50b-8e3e-d84a-7584f09dea3c   \n",
            "9  2018-03-16T00:41:59Z  d2d8822f-6e67-86f9-056f-2fb2b6fc1a12   \n",
            "\n",
            "                           ORGANIZATION                              PROVIDER  \\\n",
            "0  cd2adec5-2598-3c48-88b5-75860fcdd58b  e97fa3c8-89d8-398d-a588-0e1ba3501442   \n",
            "1  b8ddc33c-68b3-3ca8-bd6c-b01654c228bd  5b72c53a-4a9f-3b9c-a828-3e11c3671bc9   \n",
            "2  c7bb6571-b70a-3b7b-8884-af90e8c548cc  8a57273e-5a9d-3ded-87b6-c6878a02a69f   \n",
            "3  9c63ad13-cd5d-3ef0-a476-9f482c980b5f  fc0b68c9-76f9-31ce-a9d6-cdd1997f5bd7   \n",
            "4  1c9f06a8-38bb-3d07-99b2-176d626bc4c2  29b9f39d-cf5b-33f1-8cc0-ae7bca5d9026   \n",
            "5  870c851a-1a2f-3a4d-b01a-6572b6f4f042  12faaa2e-01e2-3d77-bb3c-f91c57ca5fa4   \n",
            "6  e46b96a5-54e4-34ab-89d1-54645eb2ce6e  e71a2f81-870e-3a1a-b060-a5e6480c773d   \n",
            "7  2d8989f4-642f-31b3-84b0-56643ae70b2d  d78bd2d1-8c87-3946-96ef-68d6d8601757   \n",
            "8  1f1f6e6b-1ca7-3d0a-8bad-2c9fb1bcc4ee  2c6aa770-3c91-3602-b396-eb6e77d60882   \n",
            "9  4280a520-966f-3a69-8f11-b1cd1079f1a9  6c97544b-c9d9-386e-8026-bd4500fc3674   \n",
            "\n",
            "                                  PAYER ENCOUNTERCLASS       CODE  \\\n",
            "0  42c4fca7-f8a9-3cd1-982a-dd9751bf3e2a       wellness  410620009   \n",
            "1  6e2f1a2d-27bd-3701-8d08-dae202c58632       wellness  162673000   \n",
            "2  047f6ec3-6215-35eb-9608-f9dda363a44c       wellness  308646001   \n",
            "3  42c4fca7-f8a9-3cd1-982a-dd9751bf3e2a       wellness  410620009   \n",
            "4  7caa7254-5050-3b5e-9eae-bd5ea30e809c       wellness  162673000   \n",
            "5  7c4411ce-02f1-39b5-b9ec-dfbea9ad3c1a       wellness  410620009   \n",
            "6  7caa7254-5050-3b5e-9eae-bd5ea30e809c       wellness  162673000   \n",
            "7  4d71f845-a6a9-3c39-b242-14d25ef86a8d       wellness  162673000   \n",
            "8  6e2f1a2d-27bd-3701-8d08-dae202c58632       wellness  162673000   \n",
            "9  42c4fca7-f8a9-3cd1-982a-dd9751bf3e2a       wellness  410620009   \n",
            "\n",
            "                                  DESCRIPTION  BASE_ENCOUNTER_COST  \\\n",
            "0                Well child visit (procedure)               129.16   \n",
            "1  General examination of patient (procedure)               129.16   \n",
            "2                         Death Certification               129.16   \n",
            "3                Well child visit (procedure)               129.16   \n",
            "4  General examination of patient (procedure)               129.16   \n",
            "5                Well child visit (procedure)               129.16   \n",
            "6  General examination of patient (procedure)               129.16   \n",
            "7  General examination of patient (procedure)               129.16   \n",
            "8  General examination of patient (procedure)               129.16   \n",
            "9                Well child visit (procedure)               129.16   \n",
            "\n",
            "   TOTAL_CLAIM_COST  PAYER_COVERAGE  REASONCODE      REASONDESCRIPTION  \\\n",
            "0            129.16          129.16         NaN                   None   \n",
            "1            129.16          129.16         NaN                   None   \n",
            "2            129.16            0.00  22298006.0  Myocardial Infarction   \n",
            "3            129.16          129.16         NaN                   None   \n",
            "4            129.16          129.16         NaN                   None   \n",
            "5            129.16          129.16         NaN                   None   \n",
            "6            129.16          129.16         NaN                   None   \n",
            "7            129.16          129.16         NaN                   None   \n",
            "8            129.16          129.16         NaN                   None   \n",
            "9            129.16          129.16         NaN                   None   \n",
            "\n",
            "         cancer_type  \n",
            "0        Lung_Cancer  \n",
            "1  Colorectal_Cancer  \n",
            "2  Colorectal_Cancer  \n",
            "3      Breast_Cancer  \n",
            "4      Breast_Cancer  \n",
            "5  Colorectal_Cancer  \n",
            "6  Colorectal_Cancer  \n",
            "7      Breast_Cancer  \n",
            "8  Colorectal_Cancer  \n",
            "9      Breast_Cancer   \n",
            "SQL tables from drive/MyDrive/calico_ma_repo/Data/CALICO_MA_Database/CALICO_MA_ML.db' \n",
            "\n",
            "immunizations                    DATE                               PATIENT  \\\n",
            "0  2017-11-05T23:03:35Z  e7deb6c0-ff45-4c41-eff9-92cb20d16716   \n",
            "1  2017-05-15T18:59:12Z  ff67da77-8b6a-bf5e-9001-eeb258c47e86   \n",
            "2  2020-05-21T01:57:20Z  d3ff0080-286f-7790-c29d-192178b43d72   \n",
            "3  2019-09-25T01:59:22Z  d532a97c-ab75-dc27-c8c9-8f75a126c6a1   \n",
            "4  2011-09-23T12:31:32Z  50f6542e-ab90-0462-196b-70b361c7837e   \n",
            "5  2016-03-23T20:30:53Z  9815cc95-5df6-f3f3-2e72-77732a35190d   \n",
            "6  2018-02-14T22:20:27Z  d3bcfd25-2247-ff7f-41c1-89e625a7c8f5   \n",
            "7  2018-09-24T19:35:53Z  1c652a0f-4085-3e25-8816-d8b95fefab46   \n",
            "8  2013-12-03T20:25:50Z  08c4db6f-bfb1-a1e6-c80a-53ef91f149ed   \n",
            "9  2020-07-21T06:47:11Z  c2bd5fd2-b082-cad8-7ed8-38f980537b3f   \n",
            "\n",
            "                              ENCOUNTER  CODE  \\\n",
            "0  a9b34fbe-a656-245d-3855-64f1adf274d2   140   \n",
            "1  90573b41-8a94-863c-f021-41ccbba547c6   140   \n",
            "2  29483464-c253-dd9b-49df-4cc77085deac   140   \n",
            "3  fab1fff7-f15b-1646-8d76-6eac99750666   113   \n",
            "4  a3cbc28a-4669-a6c8-bb72-62ce5e101319   140   \n",
            "5  f5693688-59b1-d2e0-1897-71650668718a    20   \n",
            "6  15c0f495-8a32-2dac-d5a8-9b09e7d90aa7   140   \n",
            "7  a4f658fd-332b-577e-2446-c9cccd2634e7   140   \n",
            "8  f8689875-88de-6ea0-5b88-59ab0fd91940    52   \n",
            "9  e4a23cef-8fe0-803a-1987-cd2e5b5d2649   114   \n",
            "\n",
            "                                         DESCRIPTION  BASE_COST  \\\n",
            "0  Influenza  seasonal  injectable  preservative ...     140.52   \n",
            "1  Influenza  seasonal  injectable  preservative ...     140.52   \n",
            "2  Influenza  seasonal  injectable  preservative ...     140.52   \n",
            "3                       Td (adult) preservative free     140.52   \n",
            "4  Influenza  seasonal  injectable  preservative ...     140.52   \n",
            "5                                               DTaP     140.52   \n",
            "6  Influenza  seasonal  injectable  preservative ...     140.52   \n",
            "7  Influenza  seasonal  injectable  preservative ...     140.52   \n",
            "8                                       Hep A  adult     140.52   \n",
            "9                                meningococcal MCV4P     140.52   \n",
            "\n",
            "         cancer_type  \n",
            "0  Colorectal_Cancer  \n",
            "1        Lung_Cancer  \n",
            "2      Breast_Cancer  \n",
            "3  Colorectal_Cancer  \n",
            "4      Breast_Cancer  \n",
            "5  Colorectal_Cancer  \n",
            "6        Lung_Cancer  \n",
            "7  Colorectal_Cancer  \n",
            "8      Breast_Cancer  \n",
            "9        Lung_Cancer   \n",
            "SQL tables from drive/MyDrive/calico_ma_repo/Data/CALICO_MA_Database/CALICO_MA_ML.db' \n",
            "\n",
            "medications                   START                  STOP  \\\n",
            "0  2008-07-09T04:03:45Z                  None   \n",
            "1  2006-09-19T00:07:53Z  2006-09-19T00:22:53Z   \n",
            "2  2015-01-29T12:38:16Z                  None   \n",
            "3  1995-04-22T19:20:12Z                  None   \n",
            "4  2001-09-12T09:32:31Z                  None   \n",
            "5  2016-06-11T11:49:58Z  2016-06-11T12:04:58Z   \n",
            "6  2017-09-06T17:46:46Z  2017-09-06T18:01:46Z   \n",
            "7  2000-01-13T07:18:32Z  2004-10-14T07:33:32Z   \n",
            "8  2004-03-21T20:43:32Z                  None   \n",
            "9  2016-08-20T22:24:17Z                  None   \n",
            "\n",
            "                                PATIENT                                 PAYER  \\\n",
            "0  790c338a-1bd7-d389-2bc4-a03ef7314473  6e2f1a2d-27bd-3701-8d08-dae202c58632   \n",
            "1  883bf970-27df-659a-71ab-f44051494b76  b1c428d6-4f07-31e0-90f0-68ffa6ff8c76   \n",
            "2  a77957a3-37bf-e5e5-deeb-920f24051c8f  7caa7254-5050-3b5e-9eae-bd5ea30e809c   \n",
            "3  cd5280ba-3b1f-138a-9095-6c14d28dad53  047f6ec3-6215-35eb-9608-f9dda363a44c   \n",
            "4  3def9006-2154-9ccb-b94e-13a9a4d98b09  d47b3510-2895-3b70-9897-342d681c769d   \n",
            "5  744ec380-15f2-ac6c-ab1b-2c62c22e68b2  7caa7254-5050-3b5e-9eae-bd5ea30e809c   \n",
            "6  1c9add2d-49f5-fe97-849d-f38c96b63f2b  4d71f845-a6a9-3c39-b242-14d25ef86a8d   \n",
            "7  d6137b18-1283-0bea-8331-209f0473f188  6e2f1a2d-27bd-3701-8d08-dae202c58632   \n",
            "8  7ff5ff1d-51a5-fe85-5bbb-a9d1ec5a2fde  047f6ec3-6215-35eb-9608-f9dda363a44c   \n",
            "9  61b5ef0d-a064-5f1e-02ae-6d408e7765aa  4d71f845-a6a9-3c39-b242-14d25ef86a8d   \n",
            "\n",
            "                              ENCOUNTER     CODE  \\\n",
            "0  712851f3-8ef4-695a-2760-c922b1790db4   705129   \n",
            "1  2a61efac-aa4b-44d2-7d4b-6ccbb023b55c  1804799   \n",
            "2  209cdb94-abb3-d7a1-febe-36ba771a56ff   855332   \n",
            "3  06d871cb-f60c-552b-2fc9-511e3b9eb086   197361   \n",
            "4  7657ff10-e09f-d8fc-f598-ef8ae917c4d6   705129   \n",
            "5  a1cef97b-4d9b-dbbb-f1d5-fa519f29a5c1   834357   \n",
            "6  0e2efb93-3855-b94c-dd6a-46a8e4c0129c   834357   \n",
            "7  e9a2c3d7-3594-dc7d-a52b-861d468ee814   309362   \n",
            "8  bfee6bcc-f046-9b10-2b78-82d3a9f5bac3   197361   \n",
            "9  3739fe4e-a097-3b9a-daf6-cf2e56521991   897718   \n",
            "\n",
            "                                         DESCRIPTION  BASE_COST  \\\n",
            "0          Nitroglycerin 0.4 MG/ACTUAT Mucosal Spray      58.05   \n",
            "1                         Alteplase 100 MG Injection    6662.93   \n",
            "2                   Warfarin Sodium 5 MG Oral Tablet      81.48   \n",
            "3                        Amlodipine 5 MG Oral Tablet      60.69   \n",
            "4          Nitroglycerin 0.4 MG/ACTUAT Mucosal Spray      92.86   \n",
            "5  3 ML Amiodarone hydrocholoride 50 MG/ML Prefil...     267.83   \n",
            "6  3 ML Amiodarone hydrocholoride 50 MG/ML Prefil...      84.53   \n",
            "7                      Clopidogrel 75 MG Oral Tablet      80.16   \n",
            "8                        Amlodipine 5 MG Oral Tablet      40.84   \n",
            "9                      Verapamil Hydrochloride 40 MG     253.83   \n",
            "\n",
            "   PAYER_COVERAGE  DISPENSES  TOTALCOST REASONCODE REASONDESCRIPTION  \\\n",
            "0            0.00        151    8765.55       None              None   \n",
            "1            0.00          1    6662.93       None              None   \n",
            "2            0.00         71    5785.08       None              None   \n",
            "3            0.00        176   10681.44       None              None   \n",
            "4            0.00        234   21729.24       None              None   \n",
            "5          227.83          1     267.83       None              None   \n",
            "6            0.00          1      84.53       None              None   \n",
            "7            5.16         57    4569.12       None              None   \n",
            "8            0.00        203    8290.52       None              None   \n",
            "9            0.00         52   13199.16       None              None   \n",
            "\n",
            "         cancer_type  \n",
            "0  Colorectal_Cancer  \n",
            "1        Lung_Cancer  \n",
            "2        Lung_Cancer  \n",
            "3  Colorectal_Cancer  \n",
            "4      Breast_Cancer  \n",
            "5  Colorectal_Cancer  \n",
            "6        Lung_Cancer  \n",
            "7      Breast_Cancer  \n",
            "8  Colorectal_Cancer  \n",
            "9      Breast_Cancer   \n",
            "SQL tables from drive/MyDrive/calico_ma_repo/Data/CALICO_MA_Database/CALICO_MA_ML.db' \n",
            "\n",
            "observations                    DATE                               PATIENT ENCOUNTER  CODE  \\\n",
            "0  2016-02-03T18:19:53Z  adaab21d-b067-9626-318f-5a5984771927      None  DALY   \n",
            "1  2017-11-13T23:10:15Z  6ddc1a28-00c1-b993-626a-1b41541ac461      None  QALY   \n",
            "2  2016-10-22T08:23:06Z  6faf9bb8-6985-3e55-9b8c-7ef4bd204ef1      None  QALY   \n",
            "3  2013-07-06T19:50:29Z  acbfc0c8-4313-3be5-ca90-a4f0befe0fd6      None  QOLS   \n",
            "4  2020-05-21T22:47:26Z  2de456cf-4af9-e7ca-75d3-4273f137a78e      None  QOLS   \n",
            "5  2015-10-01T19:33:12Z  621a42ba-cc4c-2699-14bd-625c5c2952ab      None  QALY   \n",
            "6  2012-05-18T16:36:05Z  53a888f2-39af-6111-5cd7-fb32576c8b5c      None  DALY   \n",
            "7  2016-01-16T23:35:20Z  62f50210-b6a7-d08d-8c5e-6e3aa5d06038      None  QALY   \n",
            "8  2014-02-08T08:26:08Z  5eff99ae-54d1-4098-6cea-56fe97f84895      None  QALY   \n",
            "9  2012-12-18T19:12:13Z  f4b0d754-7a20-309c-11fa-95dae9a671bb      None  QOLS   \n",
            "\n",
            "  DESCRIPTION  VALUE    UNITS     TYPE        cancer_type  \n",
            "0        DALY      0        a  numeric        Lung_Cancer  \n",
            "1        QALY     35        a  numeric      Breast_Cancer  \n",
            "2        QALY     53        a  numeric      Breast_Cancer  \n",
            "3        QOLS      1  {score}  numeric  Colorectal_Cancer  \n",
            "4        QOLS      1  {score}  numeric  Colorectal_Cancer  \n",
            "5        QALY     71        a  numeric      Breast_Cancer  \n",
            "6        DALY      0        a  numeric  Colorectal_Cancer  \n",
            "7        QALY     18        a  numeric      Breast_Cancer  \n",
            "8        QALY     66        a  numeric      Breast_Cancer  \n",
            "9        QOLS      1  {score}  numeric  Colorectal_Cancer   \n",
            "SQL tables from drive/MyDrive/calico_ma_repo/Data/CALICO_MA_Database/CALICO_MA_ML.db' \n",
            "\n",
            "patients                                      Id   BIRTHDATE   DEATHDATE          SSN  \\\n",
            "0  3d527450-4fcc-6d9c-b580-23886f1b2b71  1967-11-27        None  999-60-5617   \n",
            "1  77e3ea22-2040-a3f5-784f-2efeb2edec83  1995-07-15        None  999-97-4248   \n",
            "2  86e2bd14-e97c-76ad-7b68-4dfae7017f01  1985-05-01        None  999-57-2114   \n",
            "3  528b6380-43e8-7493-b3a0-21162d59304f  1952-11-10  2018-01-01  999-90-2577   \n",
            "4  7f15281b-a6d5-5e01-0663-d4c697009d4a  1997-07-26        None  999-48-6612   \n",
            "5  ebbcd8bb-e7e6-cfef-a31c-d76a214fcb6e  1973-11-30        None  999-30-1307   \n",
            "6  a159c72d-a731-fa77-6714-3386edb65e0c  1949-09-01        None  999-85-4637   \n",
            "7  8cb61eed-9a97-362c-c98e-707677421458  2001-04-10        None  999-27-4662   \n",
            "8  018cd61a-915f-1e3d-a068-1b488bb93afa  1981-10-26        None  999-83-4831   \n",
            "9  9d9535d3-8d7e-c04e-c47b-748e832e3771  2004-09-06        None  999-61-6213   \n",
            "\n",
            "     DRIVERS    PASSPORT PREFIX        FIRST          LAST SUFFIX  ...  \\\n",
            "0  S99980761  X47992530X   Mrs.   Lawanna610      Bauch723   None  ...   \n",
            "1  S99924435  X55361261X    Ms.     Clyde817    Monahan736   None  ...   \n",
            "2  S99931437  X38543322X    Mr.      Adán600     Rangel145   None  ...   \n",
            "3  S99988217  X44423355X    Mr.  Cristian531    Arguello39   None  ...   \n",
            "4  S99979145  X73102990X    Ms.    Deedra511      Kunde533   None  ...   \n",
            "5  S99954324  X40158121X    Mr.  Benjamín452      Vigil207   None  ...   \n",
            "6  S99985406  X24638483X   Mrs.    Yvette315    Trantow673   None  ...   \n",
            "7  S99948988        None    Ms.   Ariadna374    Collado928   None  ...   \n",
            "8  S99973828  X15930827X    Mr.  Mckinley734    Cummings51   None  ...   \n",
            "9  S99936233        None   None     Delia459  Marquardt819   None  ...   \n",
            "\n",
            "                          ADDRESS         CITY          STATE  \\\n",
            "0        805 Torphy Ferry Unit 97   Greenfield  Massachusetts   \n",
            "1             435 Anderson Harbor    Watertown  Massachusetts   \n",
            "2  345 Hartmann Extension Unit 40    Fitchburg  Massachusetts   \n",
            "3      870 Johnston Fort Suite 92     Yarmouth  Massachusetts   \n",
            "4            1090 Emmerich Hollow   Shrewsbury  Massachusetts   \n",
            "5               243 Ebert Viaduct       Boston  Massachusetts   \n",
            "6        369 Nikolaus Drive Apt 7     Weymouth  Massachusetts   \n",
            "7           543 Kris Park Unit 99   Leominster  Massachusetts   \n",
            "8         655 Ratke Alley Unit 60  Westhampton  Massachusetts   \n",
            "9                  477 Terry Lane      Peabody  Massachusetts   \n",
            "\n",
            "              COUNTY     ZIP        LAT        LON HEALTHCARE_EXPENSES  \\\n",
            "0    Franklin County  1301.0  42.650612 -72.609628          1149150.00   \n",
            "1   Middlesex County  2472.0  42.393417 -71.223005           674245.00   \n",
            "2   Worcester County  1420.0  42.600479 -71.798554           772500.00   \n",
            "3  Barnstable County     NaN  41.657908 -70.275476          1643900.00   \n",
            "4   Worcester County     NaN  42.331976 -71.728934           535090.00   \n",
            "5     Suffolk County  2109.0  42.466589 -70.990044          1244760.00   \n",
            "6     Norfolk County  2188.0  42.232628 -70.963428          1504220.00   \n",
            "7   Worcester County     NaN  42.500300 -71.727629            45892.44   \n",
            "8   Hampshire County     NaN  42.286168 -72.806268           895030.00   \n",
            "9       Essex County     NaN  42.493204 -71.025502           431585.00   \n",
            "\n",
            "  HEALTHCARE_COVERAGE        cancer_type  \n",
            "0             2874.72      Breast_Cancer  \n",
            "1             2829.80        Lung_Cancer  \n",
            "2             2162.28      Breast_Cancer  \n",
            "3             4604.52  Colorectal_Cancer  \n",
            "4             2555.64        Lung_Cancer  \n",
            "5             3148.08      Breast_Cancer  \n",
            "6             4529.60      Breast_Cancer  \n",
            "7             1974.04        Lung_Cancer  \n",
            "8             2361.44  Colorectal_Cancer  \n",
            "9             2844.00  Colorectal_Cancer  \n",
            "\n",
            "[10 rows x 26 columns] \n"
          ]
        }
      ],
      "source": [
        "#Check if data is in the tables. 10 random rows are selected from each table\n",
        "\n",
        "for csv in csvs:\n",
        "    cur.execute(f\"SELECT * FROM {csv} ORDER BY RANDOM() LIMIT 10\")\n",
        "    rows = cur.fetchall()\n",
        "    df_random = pd.DataFrame(rows, columns=[desc[0] for desc in cur.description])\n",
        "    print(f\"SQL tables from {repo_home}Data/CALICO_MA_Database/{project_name}.db' \\n\\n{csv} {df_random} \")\n"
      ]
    },
    {
      "cell_type": "markdown",
      "metadata": {
        "id": "inn0cONkebqW"
      },
      "source": [
        "### Die Daten werden aus den verschiedenen Tabellen extrahiert und ggf. transformiert\n",
        " >Die Daten aus **Patients** werden erstmal in die Faktentabelle übertragen. Es handelt sich um die Krebsart, die Patienten ID, die geographische Koordinaten, die Healthcarekosten, die vom Patient getragen werden und diejenigen, die von der Krankenversicherung bezahlt werden, und zum Ende das Geburtsdatum.\n",
        "Damit die Faktentabelle keine Redundanzen aufweist, werden die Encounter ID nicht mehr einzeln gespeichert. Stattdessen werden in der Faktentabelle für jeden Patienten die gesamten Kosten gespeichert, die in jeder Kategorie (Encounters, Observations, Immunizations, Procedures umd Medications) verursacht wurden.  \n",
        "Die Transaktion in der Faktentabelle der Datenbank wird mit commit beendet.\n",
        "**AMENDMENT FOR ML: patient_COUNTY and patient_ZIP included**\n",
        "\n",
        "ACHTUNG: 53% der Patienten haben keine ZIP\n",
        "\n"
      ]
    },
    {
      "cell_type": "code",
      "execution_count": 129,
      "metadata": {
        "id": "bo0kcX-xiSMa"
      },
      "outputs": [],
      "source": [
        "# TEST how many patients undergo Procedures\n",
        "#cur.execute('''SELECT COUNT(*) from procedures GROUP BY procedures.PATIENT''')\n",
        "#records = cur.fetchall()\n",
        "#i=1\n",
        "#for row in records:\n",
        "#  print(f'patient', i, 'undergoes ', row,' procedures')\n",
        "#  i=i+1"
      ]
    },
    {
      "cell_type": "code",
      "execution_count": 130,
      "metadata": {
        "colab": {
          "base_uri": "https://localhost:8080/"
        },
        "id": "YXJ3K44okdLR",
        "outputId": "d39b4d9a-9897-4424-d8bd-a2f5a291d069"
      },
      "outputs": [
        {
          "output_type": "stream",
          "name": "stdout",
          "text": [
            "('d2061cc7-bee0-0e6c-3ac4-15c197c474e0', 'Middlesex County', 2140, -71.11326024935221, 42.35992586937376, 1475230, 4244.639999999999, '1956-06-22')\n",
            "('073d8e80-ff90-1c8d-57e4-29bfca52c87f', 'Worcester County', 1535, -72.02631680460482, 42.25784546955933, 1489125, 4016.36, '1964-08-28')\n",
            "('e1ff7e68-4097-9faf-514d-e4cfcfdf252e', 'Worcester County', 1545, -71.8184488503781, 42.204289674137854, 57142.44, 2103.2, '1998-08-28')\n",
            "('a0f679cc-875f-dd72-ed13-9ca863ec6cf3', 'Norfolk County', None, -70.90408406035422, 42.15026973562508, 408520, 2709, '2004-01-20')\n",
            "('e4166a9c-f7c5-bef7-ea43-b96281a2d586', 'Worcester County', 1609, -71.78487317237207, 42.2920819230455, 320400, 2970.68, '2006-03-23')\n",
            "('ee537126-7509-05de-2349-ab19604545d8', 'Suffolk County', 2134, -71.04135024287056, 42.347570821295285, 784465, 2738.96, '1991-05-21')\n",
            "('826d5ce3-2b23-8bd8-b352-a77fdd083d68', 'Middlesex County', 1890, -71.14747985490884, 42.52234296982323, 1425900, 3841.36, '1964-07-20')\n",
            "('0edfef0f-fa74-ab35-1122-4c537bb9765d', 'Plymouth County', None, -71.00357653769244, 42.00384862981888, 512475, 2470.64, '1997-05-05')\n",
            "('0fe7e161-0f29-2b70-8e3d-757b15026295', 'Middlesex County', None, -71.68411643063111, 42.58537262421069, 302400, 2583.2, '2008-12-26')\n",
            "('478e120c-67a4-4375-646f-c41e74f72478', 'Bristol County', None, -71.19387487133108, 41.96958788099574, 1202145, 2892.24, '1971-01-02')\n"
          ]
        }
      ],
      "source": [
        "# Datenextraktion aus der Patientstabelle\n",
        "cur.execute('''INSERT INTO facts_table\n",
        "                    ( cancer_type, patient_ID, encounter_ID, patient_LAT, patient_LON, patient_COUNTY, patient_ZIP, patient_HEALTHCARE_EXPENSES , patient_HEALTHCARE_COVERAGE, patient_BIRTHDATE)\n",
        "                    SELECT\n",
        "                        p.cancer_type AS cancer_type,\n",
        "                        p.Id AS patient_ID,\n",
        "                        NULL AS encounter_ID,  -- Replace with the actual encounter_ID or set to NULL if not applicable\n",
        "                        p.LAT AS patient_LAT,\n",
        "                        p.LON AS patient_LON,\n",
        "                        p.COUNTY AS patient_COUNTY,\n",
        "                        p.ZIP AS patient_ZIP,\n",
        "                        p.HEALTHCARE_EXPENSES AS patient_HEALTHCARE_EXPENSES,\n",
        "                        p.HEALTHCARE_COVERAGE AS patient_HEALTHCARE_COVERAGE,\n",
        "                        p.BIRTHDATE AS patient_BIRTHDATE\n",
        "                    FROM patients p\n",
        "                    ;''')\n",
        "\n",
        "# Ende der Transaktion\n",
        "conn.commit()\n",
        "\n",
        "# Schnelle Überprüfung der Datenübertragung ins die Faktentabelle\n",
        "cur.execute('''SELECT patient_ID, patient_COUNTY, patient_ZIP, patient_LON, patient_LAT, patient_HEALTHCARE_EXPENSES, patient_HEALTHCARE_COVERAGE, patient_BIRTHDATE FROM facts_table''')\n",
        "records = cur.fetchall()\n",
        "# show 10 rows\n",
        "for row in records[:10]:\n",
        "  print(row)"
      ]
    },
    {
      "cell_type": "markdown",
      "metadata": {
        "id": "oXjw01ODlnpI"
      },
      "source": [
        "Die Daten werden aus **Observations** eintragen:\n",
        "nur die Tuples mit dem neuesten Datum werden berücksichtigt. Gespeichert werden die Art der Observation, in unserem Fall **nur den QALY**, den neuesten Wert und das entsprechende Datum. Ausserdem wird das Alter am Tag der letzten Observation berechnet und eingetragen. Die Transaktion wird mit commit beendet. Das Speichern der neuen Einträge wird überprüft."
      ]
    },
    {
      "cell_type": "code",
      "execution_count": 131,
      "metadata": {
        "colab": {
          "base_uri": "https://localhost:8080/"
        },
        "id": "F9g6vWyIVbmE",
        "outputId": "ff26b712-f60b-412e-cd88-0ded86980f7a"
      },
      "outputs": [
        {
          "output_type": "stream",
          "name": "stdout",
          "text": [
            "('d2061cc7-bee0-0e6c-3ac4-15c197c474e0', 'QALY', 63, '1956-06-22', '2020-06-22T10:47:46Z', 64)\n",
            "('073d8e80-ff90-1c8d-57e4-29bfca52c87f', 'QALY', 55, '1964-08-28', '2020-08-28T16:45:45Z', 56)\n",
            "('e1ff7e68-4097-9faf-514d-e4cfcfdf252e', 'QALY', 21, '1998-08-28', '2020-08-28T07:43:32Z', 22)\n",
            "('a0f679cc-875f-dd72-ed13-9ca863ec6cf3', 'QALY', 15, '2004-01-20', '2020-01-20T15:27:37Z', 16)\n",
            "('e4166a9c-f7c5-bef7-ea43-b96281a2d586', 'QALY', 13, '2006-03-23', '2020-03-23T22:58:03Z', 14)\n",
            "('ee537126-7509-05de-2349-ab19604545d8', 'QALY', 28, '1991-05-21', '2020-05-21T01:23:21Z', 29)\n",
            "('826d5ce3-2b23-8bd8-b352-a77fdd083d68', 'QALY', 55, '1964-07-20', '2020-07-20T05:08:46Z', 56)\n",
            "('0edfef0f-fa74-ab35-1122-4c537bb9765d', 'QALY', 22, '1997-05-05', '2020-05-04T22:31:18Z', 23)\n",
            "('0fe7e161-0f29-2b70-8e3d-757b15026295', 'QALY', 10, '2008-12-26', '2019-12-26T13:49:03Z', 11)\n",
            "('478e120c-67a4-4375-646f-c41e74f72478', 'QALY', 49, '1971-01-02', '2020-01-02T11:38:08Z', 49)\n",
            "('622b5d81-6868-03d0-85b2-1d5bb908f6a5', 'QALY', 1, '2018-05-25', '2020-05-25T09:05:41Z', 2)\n",
            "('9a4276b9-1377-f7fc-e011-1d27499c6d01', 'QALY', 16, '2003-09-13', '2020-09-13T08:21:28Z', 17)\n",
            "('2cc8c44f-74da-eae3-72ae-ba126845090f', 'QALY', 22, '1997-10-21', '2020-10-21T02:35:08Z', 23)\n",
            "('997c74a7-dd20-7297-43cf-eac7288e5600', 'QALY', 73, '1946-11-20', '2020-11-20T16:08:00Z', 74)\n",
            "('b4001499-a15a-980e-e3bb-e73b63045411', 'QALY', 78.9, '1936-10-14', '2020-10-14T15:26:07Z', 84)\n",
            "('0d66b030-4794-8f98-431f-b9278319483b', 'QALY', 63, '1956-11-10', '2020-11-10T04:41:11Z', 64)\n",
            "('70b626d0-ac97-e723-5e28-7648fd1bc9cf', 'QALY', 31, '1988-08-31', '2020-08-31T07:30:32Z', 32)\n",
            "('daf6ffbc-efad-50be-8816-a2e6d456477b', 'QALY', 74, '1945-07-20', '2020-07-20T19:41:20Z', 75)\n",
            "('6c7c535b-322d-362f-2767-f80b0a03b7f8', 'QALY', 30.6, '1983-04-06', '2020-04-06T20:15:30Z', 37)\n",
            "('acf9dbc7-08f4-7241-229f-3bad03a29acc', 'QALY', 29, '1990-05-21', '2020-05-21T07:19:27Z', 30)\n",
            "('469faecb-5a98-fdc4-1ce1-cd200ca5868d', 'QALY', 56, '1963-10-06', '2020-10-05T23:07:31Z', 57)\n",
            "('17eeae84-fd93-4f1f-e4f4-d01f4b3d6819', 'QALY', 25, '1994-03-21', '2020-03-21T02:21:40Z', 26)\n",
            "('33684ffd-e9d9-4ed4-ec47-b12ebb06642b', 'QALY', 65, '1954-09-19', '2020-09-19T08:13:26Z', 66)\n",
            "('f5a6e3b3-781d-d800-d4c3-1782e39258e8', 'QALY', 76.9, '1942-04-01', '2020-04-01T02:29:33Z', 78)\n",
            "('cb62ff66-c7a3-dec3-01c3-f7596d1f569e', 'QALY', 63.4, '1955-02-01', '2020-02-01T18:37:33Z', 65)\n",
            "('172337a7-9ac6-39cd-37db-20e1fcab4f2e', 'QALY', 49, '1970-11-27', '2020-11-27T09:14:30Z', 50)\n",
            "('224d86b9-eeda-e164-7e1f-cba4ec973cc6', 'QALY', 12, '2007-11-24', '2020-11-24T14:42:02Z', 13)\n",
            "('1c212fec-e110-ee77-3f78-eb6141aca633', 'QALY', 40, '1979-06-29', '2020-06-29T10:10:32Z', 41)\n",
            "('f8871273-1db8-1c87-fe2e-f87766b4e7f5', 'QALY', 14, '2005-07-09', '2020-07-09T21:35:20Z', 15)\n",
            "('5ea2c6ab-c205-ca9a-9e57-3acf569b93bf', 'QALY', 37, '1981-12-07', '2019-12-07T03:31:26Z', 38)\n",
            "\n",
            "\n"
          ]
        }
      ],
      "source": [
        "# Datenextraktion aus der Observationstabelle\n",
        "cur.execute('''UPDATE\n",
        "                  facts_table\n",
        "               SET\n",
        "                  observations_CODE = obs.CODE,\n",
        "                  observations_VALUE = obs.maxVALUE,\n",
        "                  observations_DATE = obs.maxDATE,\n",
        "                  observations_AGE = obs.maxDATE- patient_BIRTHDATE\n",
        "               FROM\n",
        "                    (SELECT PATIENT, CODE, MAX(VALUE) as maxVALUE, MAX(observations.DATE) as maxDATE\n",
        "                    FROM observations\n",
        "                    WHERE CODE LIKE \"QALY\"\n",
        "                    GROUP BY PATIENT\n",
        "                    ) AS obs\n",
        "                WHERE\n",
        "                  facts_table.patient_ID = obs.PATIENT\n",
        "                    ;''')\n",
        "\n",
        "# Ende der Transaktion\n",
        "conn.commit()\n",
        "\n",
        "# Schnelle Überprüfung der Datenübertragung ins die Faktentabelle\n",
        "cur.execute('''SELECT patient_ID, observations_CODE, observations_VALUE, patient_BIRTHDATE, observations_DATE, observations_AGE  FROM facts_table ''')\n",
        "records = cur.fetchall()\n",
        "# show 10 rows\n",
        "for row in records[:30]:\n",
        "  print(row)\n",
        "\n",
        "print(\"\\n\")\n",
        "\n",
        "#cur.execute(''' SELECT COUNT(DISTINCT PATIENT) FROM observations''')\n",
        "#records = cur.fetchall()\n",
        "#print(f\"#patients in observations: {records[-1][-1]}\")\n",
        "\n",
        "#cur.execute(''' SELECT PATIENT, MAX(VALUE), MAX(DATE) FROM observations GROUP BY PATIENT ''')\n",
        "#records = cur.fetchall()\n",
        "#for row in records[:50]:\n",
        "#  print(row)\n",
        "#print(records[-1][-1])\n",
        "\n",
        "#print(\"\\n\")\n",
        "#cur.execute(''' SELECT PATIENT, CODE, VALUE, DATE FROM observations WHERE CODE LIKE \"DALY\" AND VALUE >= 1 ''')\n",
        "#records = cur.fetchall()\n",
        "#for row in records[:60]:\n",
        "#  print(row)\n",
        "#print(\"\\n\")\n",
        "\n",
        "#cur.execute(''' SELECT PATIENT, CODE, MAX(VALUE), MAX(DATE) FROM observations WHERE PATIENT = \"950a56cd-d2d5-785c-d80c-c126912fbf88\" AND CODE LIKE \"QALY\"''')\n",
        "#records = cur.fetchall()\n",
        "#for row in records[:60]:\n",
        "#  print(row)\n",
        "#print(\"\\n\")\n",
        "\n",
        "\n",
        "#print(\"\\n\")\n"
      ]
    },
    {
      "cell_type": "markdown",
      "metadata": {
        "id": "Escam_11H8Vr"
      },
      "source": [
        "Die Daten werden aus **Encounters** eintragen. Es handelt sich um die Summe aller Encounter Kosten für jeden einzelnen Patienten.\n",
        "Falls dieser Wert nicht existiert, wird an ihrer Stelle 0 eingetragen.\n",
        "Jede Transaktion wird mit commt beendet. Das Speichern der neuen Einträge in die Faktentabelle wird überprüft.\n"
      ]
    },
    {
      "cell_type": "code",
      "execution_count": 132,
      "metadata": {
        "colab": {
          "base_uri": "https://localhost:8080/"
        },
        "id": "bkOtFAoFlS5H",
        "outputId": "c174ee7f-deab-4863-f31c-b599e882a35a"
      },
      "outputs": [
        {
          "output_type": "stream",
          "name": "stdout",
          "text": [
            "('d2061cc7-bee0-0e6c-3ac4-15c197c474e0', 1291.6000000000001)\n",
            "('073d8e80-ff90-1c8d-57e4-29bfca52c87f', 1033.28)\n",
            "('e1ff7e68-4097-9faf-514d-e4cfcfdf252e', 1033.28)\n",
            "('a0f679cc-875f-dd72-ed13-9ca863ec6cf3', 1291.6000000000001)\n",
            "('e4166a9c-f7c5-bef7-ea43-b96281a2d586', 1291.6000000000001)\n",
            "('ee537126-7509-05de-2349-ab19604545d8', 387.48)\n",
            "('826d5ce3-2b23-8bd8-b352-a77fdd083d68', 1033.28)\n",
            "('0edfef0f-fa74-ab35-1122-4c537bb9765d', 904.1199999999999)\n",
            "('0fe7e161-0f29-2b70-8e3d-757b15026295', 1420.7600000000002)\n",
            "('478e120c-67a4-4375-646f-c41e74f72478', 645.8)\n"
          ]
        }
      ],
      "source": [
        "# Datenextraktion aus der Encounterstabelle und Berechnung der Summe aller Encounterkosten für jeden Patienten\n",
        "cur.execute('''UPDATE\n",
        "                  facts_table\n",
        "               SET\n",
        "                  encounter_Base_Encounter_Cost = enc.TOTALCOST\n",
        "               FROM\n",
        "                    (SELECT PATIENT, SUM(BASE_ENCOUNTER_COST) as TOTALCOST\n",
        "                    FROM encounters, facts_table\n",
        "                    WHERE facts_table.patient_ID = encounters.PATIENT\n",
        "                    GROUP BY PATIENT\n",
        "                    ) AS enc\n",
        "                WHERE\n",
        "                  facts_table.patient_ID = enc.PATIENT\n",
        "                    ;''')\n",
        "\n",
        "# Ende der Transaktion\n",
        "conn.commit()\n",
        "\n",
        "# Falls es keine Encounterkosten gibt, wird der Wert 0 stattdessen eingetragen\n",
        "cur.execute('''UPDATE\n",
        "                  facts_table\n",
        "               SET\n",
        "                  encounter_Base_Encounter_Cost = 0\n",
        "                WHERE encounter_Base_Encounter_Cost IS NULL\n",
        "                    ;''')\n",
        "\n",
        "# Ende der Transaktion\n",
        "conn.commit()\n",
        "\n",
        "# Kurze Überprüfung\n",
        "cur.execute('''SELECT patient_ID, encounter_BASE_ENCOUNTER_COST FROM facts_table''')\n",
        "records = cur.fetchall()\n",
        "# show 10 rows\n",
        "for row in records[:10]:\n",
        "  print(row)\n",
        "\n"
      ]
    },
    {
      "cell_type": "code",
      "execution_count": 133,
      "metadata": {
        "colab": {
          "base_uri": "https://localhost:8080/"
        },
        "id": "JizAqymQbKRv",
        "outputId": "67722e8c-0e22-4848-d007-47508d3f89c0"
      },
      "outputs": [
        {
          "output_type": "stream",
          "name": "stdout",
          "text": [
            "('001c3804-81e8-740e-dd91-973b584a2dd9', 387.48, 387.48)\n",
            "('002a707d-ba35-3d1a-46c0-ad8a98a22137', 774.9599999999999, 774.9599999999999)\n",
            "('003c0d44-9dfc-ca91-6121-373a8e265bd4', 1446.5800000000002, 1446.5800000000002)\n",
            "('008b26ab-5c12-7a5b-cda4-f54484d5f749', 1291.6000000000001, 1291.6000000000001)\n",
            "('009121bf-a672-8942-443e-85e18a33f766', 1162.44, 1162.44)\n",
            "('00e798f6-7d02-8485-c5fd-4b6bfb114c69', 516.64, 516.64)\n",
            "('00edcb46-afd4-4687-c16a-f4e20dfc3e92', 1188.26, 1188.26)\n",
            "('0103a559-910a-03df-6117-ec429eeb4ac9', 774.9599999999999, 774.9599999999999)\n",
            "('01518fe2-bd76-d1e9-a656-1e7eae35dd17', 1446.5800000000002, 1446.5800000000002)\n",
            "('01581211-2e47-027b-71a0-dcbf0f4e6622', 1317.42, 1317.42)\n"
          ]
        }
      ],
      "source": [
        "cur.execute('''SELECT patient_ID, encounter_BASE_ENCOUNTER_COST, SUM(BASE_ENCOUNTER_COST)\n",
        "                FROM facts_table, encounters WHERE facts_table.patient_ID = encounters.PATIENT\n",
        "                GROUP BY patient_ID''')\n",
        "records = cur.fetchall()\n",
        "# show 10 rows\n",
        "for row in records[:10]:\n",
        "  print(row)"
      ]
    },
    {
      "cell_type": "markdown",
      "metadata": {
        "id": "8w6rP5_JcgFK"
      },
      "source": [
        "Die Daten werden aus **Medications** eintragen. Es handelt sich um die Summe aller MedikationsKosten für jeden einzelnen Patienten.\n",
        "Falls dieser Wert nicht existiert, wird an ihrer Stelle 0 eingetragen.\n",
        "Jede Transaktion wird mit commt beendet. Das Speichern der neuen Einträge in die Faktentabelle wird überprüft."
      ]
    },
    {
      "cell_type": "code",
      "execution_count": 134,
      "metadata": {
        "id": "2_lPlR2bVq5Z"
      },
      "outputs": [],
      "source": [
        "cur.execute('''     UPDATE facts_table SET medications_TotalCost = med.TOTALCOST\n",
        "                    FROM\n",
        "                    (SELECT PATIENT, SUM(Totalcost) as TOTALCOST\n",
        "                    FROM medications, facts_table\n",
        "                    WHERE facts_table.patient_ID = medications.PATIENT\n",
        "                    GROUP BY PATIENT) as med\n",
        "                    WHERE facts_table.patient_ID = med.PATIENT\n",
        "                    ;''')\n",
        "conn.commit()"
      ]
    },
    {
      "cell_type": "code",
      "execution_count": 135,
      "metadata": {
        "id": "nMyPAw3Zgv9I"
      },
      "outputs": [],
      "source": [
        "cur.execute('''UPDATE\n",
        "                  facts_table\n",
        "               SET\n",
        "                  medications_TOTALCOST = 0\n",
        "                WHERE medications_TOTALCOST IS NULL\n",
        "                    ;''')\n",
        "conn.commit()"
      ]
    },
    {
      "cell_type": "code",
      "execution_count": 136,
      "metadata": {
        "colab": {
          "base_uri": "https://localhost:8080/"
        },
        "id": "24D1RL11XU9_",
        "outputId": "c962730d-9af6-4cf2-ec78-57897d9819c4"
      },
      "outputs": [
        {
          "output_type": "stream",
          "name": "stdout",
          "text": [
            "('003c0d44-9dfc-ca91-6121-373a8e265bd4', 30329.850000000002, 30329.85)\n",
            "('01d6dc15-6313-5327-8491-49be72f40d59', 113865.26, 113865.26000000001)\n",
            "('023c4bb2-6dc3-972e-379a-af19b8a2392d', 117956.49000000002, 117956.49)\n",
            "('02db7f22-8617-0cf7-fa10-d820d596a81a', 101166.45000000001, 101166.45000000001)\n",
            "('030287cd-dbd1-d7e1-6959-cfdfa0e271bd', 230.28, 230.28)\n",
            "('037404e1-0c87-534d-0fe2-e21ef20640f6', 70052.88, 70052.88)\n",
            "('038eb669-b744-c2bc-18c6-6e37068c722f', 49598.27, 49598.270000000004)\n",
            "('05023597-744e-9369-c390-e4090447a247', 63036.16, 63036.16)\n",
            "('05a3a33e-e9b1-0aaa-66f4-f0e2b57dce04', 3219.0699999999997, 3219.0699999999997)\n",
            "('072229fb-e8b1-a9ff-61b1-0cdab70c3c4c', 6615.34, 6615.34)\n"
          ]
        }
      ],
      "source": [
        "cur.execute('''SELECT patient_ID, medications_TOTALCOST, SUM(TOTALCOST)\n",
        "                FROM facts_table, medications WHERE facts_table.patient_ID = medications.PATIENT\n",
        "                GROUP BY patient_ID''')\n",
        "records = cur.fetchall()\n",
        "# show 10 rows\n",
        "for row in records[:10]:\n",
        "  print(row)"
      ]
    },
    {
      "cell_type": "markdown",
      "metadata": {
        "id": "i_zuP5pEBWyl"
      },
      "source": [
        "Die Daten werden aus **Procedures** eintragen. Es handelt sich um die Summe aller Prozedurenkosten für jeden einzelnen Patienten. Falls dieser Wert nicht existiert, wird an ihrer Stelle 0 eingetragen. Jede Transaktion wird mit commt beendet. Das Speichern der neuen Einträge in die Faktentabelle wird überprüft"
      ]
    },
    {
      "cell_type": "code",
      "execution_count": 137,
      "metadata": {
        "id": "PhHZdBsxczzX"
      },
      "outputs": [],
      "source": [
        "cur.execute('''     UPDATE facts_table SET procedures_BASE_COST = proc.TOTALCOST\n",
        "                    FROM\n",
        "                    (SELECT PATIENT, SUM(BASE_COST) as TOTALCOST\n",
        "                    FROM procedures, facts_table\n",
        "                    WHERE facts_table.patient_ID = procedures.PATIENT\n",
        "                    GROUP BY PATIENT) as proc\n",
        "                    WHERE facts_table.patient_ID = proc.PATIENT\n",
        "                    ;''')\n",
        "conn.commit()"
      ]
    },
    {
      "cell_type": "code",
      "execution_count": 138,
      "metadata": {
        "id": "Xk-l3nUpgoQv"
      },
      "outputs": [],
      "source": [
        "cur.execute('''UPDATE\n",
        "                  facts_table\n",
        "               SET\n",
        "                  procedures_BASE_COST = 0\n",
        "                WHERE procedures_BASE_COST IS NULL\n",
        "                    ;''')\n",
        "conn.commit()"
      ]
    },
    {
      "cell_type": "code",
      "execution_count": 139,
      "metadata": {
        "colab": {
          "base_uri": "https://localhost:8080/"
        },
        "id": "kOVBHeRwdTUH",
        "outputId": "b0a042f4-811b-4abc-f0e2-f7d137eb39db"
      },
      "outputs": [
        {
          "output_type": "stream",
          "name": "stdout",
          "text": [
            "('003c0d44-9dfc-ca91-6121-373a8e265bd4', 297586.43, 297586.43)\n",
            "('00edcb46-afd4-4687-c16a-f4e20dfc3e92', 23882.18, 23882.18)\n",
            "('01518fe2-bd76-d1e9-a656-1e7eae35dd17', 22514.35, 22514.35)\n",
            "('01581211-2e47-027b-71a0-dcbf0f4e6622', 34044.95, 34044.95)\n",
            "('01d6dc15-6313-5327-8491-49be72f40d59', 405522.31, 405522.31)\n",
            "('023c4bb2-6dc3-972e-379a-af19b8a2392d', 56170.43, 56170.43)\n",
            "('030287cd-dbd1-d7e1-6959-cfdfa0e271bd', 34779.04, 34779.04)\n",
            "('037404e1-0c87-534d-0fe2-e21ef20640f6', 28800.590000000004, 28800.59)\n",
            "('038eb669-b744-c2bc-18c6-6e37068c722f', 225341.52000000002, 225341.52)\n",
            "('05398088-a847-099e-3c61-c6153d83e024', 35182.2, 35182.2)\n"
          ]
        }
      ],
      "source": [
        "cur.execute('''SELECT patient_ID, procedures_Base_COST, SUM(Base_COST)\n",
        "                FROM facts_table, procedures WHERE facts_table.patient_ID = procedures.PATIENT\n",
        "                GROUP BY patient_ID''')\n",
        "records = cur.fetchall()\n",
        "# show 10 rows\n",
        "for row in records[:10]:\n",
        "  print(row)"
      ]
    },
    {
      "cell_type": "markdown",
      "metadata": {
        "id": "kBhSa5_4nceK"
      },
      "source": [
        "Die Daten werden aus **Immunizations** eintragen. Es handelt sich um die Summe aller Immunizationskosten für jeden einzelnen Patienten. Falls dieser Wert nicht existiert, wird an ihrer Stelle 0 eingetragen. Jede Transaktion wird mit commt beendet. Das Speichern der neuen Einträge in die Faktentabelle wird überprüft"
      ]
    },
    {
      "cell_type": "code",
      "execution_count": 140,
      "metadata": {
        "id": "yuvXDCf5dq0P"
      },
      "outputs": [],
      "source": [
        "cur.execute('''     UPDATE facts_table SET immunizations_Base_Cost = im.TOTALCOST\n",
        "                    FROM\n",
        "                    (SELECT PATIENT, SUM(Base_Cost) as TOTALCOST\n",
        "                    FROM immunizations, facts_table\n",
        "                    WHERE facts_table.patient_ID = immunizations.PATIENT\n",
        "                    GROUP BY PATIENT) as im\n",
        "                    WHERE facts_table.patient_ID = im.PATIENT\n",
        "                    ;''')\n",
        "conn.commit()"
      ]
    },
    {
      "cell_type": "code",
      "execution_count": 141,
      "metadata": {
        "id": "Tn5448tAgivf"
      },
      "outputs": [],
      "source": [
        "cur.execute('''UPDATE\n",
        "                  facts_table\n",
        "               SET\n",
        "                  immunizations_BASE_COST = 0\n",
        "                WHERE immunizations_BASE_COST IS NULL\n",
        "                    ;''')\n",
        "conn.commit()"
      ]
    },
    {
      "cell_type": "code",
      "execution_count": 142,
      "metadata": {
        "colab": {
          "base_uri": "https://localhost:8080/"
        },
        "id": "LZqMFbLhfXC4",
        "outputId": "9c003b35-cd9b-4465-ad2c-5e0b7605e077"
      },
      "outputs": [
        {
          "output_type": "stream",
          "name": "stdout",
          "text": [
            "('001c3804-81e8-740e-dd91-973b584a2dd9', 562.08, 562.08)\n",
            "('002a707d-ba35-3d1a-46c0-ad8a98a22137', 1264.68, 1264.68)\n",
            "('003c0d44-9dfc-ca91-6121-373a8e265bd4', 1405.2, 1405.2)\n",
            "('008b26ab-5c12-7a5b-cda4-f54484d5f749', 1545.72, 1545.72)\n",
            "('009121bf-a672-8942-443e-85e18a33f766', 1545.72, 1545.72)\n",
            "('00e798f6-7d02-8485-c5fd-4b6bfb114c69', 983.64, 983.64)\n",
            "('00edcb46-afd4-4687-c16a-f4e20dfc3e92', 1545.72, 1545.72)\n",
            "('0103a559-910a-03df-6117-ec429eeb4ac9', 1264.68, 1264.68)\n",
            "('01518fe2-bd76-d1e9-a656-1e7eae35dd17', 1826.76, 1826.76)\n",
            "('01581211-2e47-027b-71a0-dcbf0f4e6622', 1686.24, 1686.24)\n"
          ]
        }
      ],
      "source": [
        "cur.execute(''' SELECT patient_ID, immunizations_BASE_COST, SUM(BASE_COST) FROM facts_table, immunizations\n",
        "                WHERE facts_table.patient_ID = immunizations.PATIENT\n",
        "                GROUP BY patient_ID''' )\n",
        "records = cur.fetchall()\n",
        "# show 10 rows\n",
        "for row in records[:10]:\n",
        "  print(row)"
      ]
    },
    {
      "cell_type": "markdown",
      "metadata": {
        "id": "6zKcvT4DzTNV"
      },
      "source": [
        "> Werte in der Faktentabelle haben Komma statt Dot für die Dezimale. Konvertierung dieser.\n"
      ]
    },
    {
      "cell_type": "code",
      "execution_count": 143,
      "metadata": {
        "id": "bBgzg_CDzTNV"
      },
      "outputs": [],
      "source": [
        "cur.execute(''' UPDATE facts_table SET\n",
        "patient_LAT = REPLACE(patient_LAT,',','.'),\n",
        "patient_LON = REPLACE(patient_LON,',','.'),\n",
        "patient_HEALTHCARE_EXPENSES = REPLACE(patient_HEALTHCARE_EXPENSES,',','.'),\n",
        "patient_HEALTHCARE_COVERAGE = REPLACE(patient_HEALTHCARE_COVERAGE,',','.')\n",
        ";''')\n",
        "conn.commit()"
      ]
    },
    {
      "cell_type": "markdown",
      "metadata": {
        "id": "XMGm9tGzoD78"
      },
      "source": [
        "##Das Datawarehouse ist fertig ausgefüllt.\n",
        "Hier werden die ersten Tupeln der Faktentabelle angezeigt.\n",
        "Der \"None\"-Eintrag entspricht der Spalte für Encounters. Diese Spalte wird nicht benutzt, deshalb wurde sie nicht ausgefüllt."
      ]
    },
    {
      "cell_type": "code",
      "execution_count": 144,
      "metadata": {
        "colab": {
          "base_uri": "https://localhost:8080/"
        },
        "id": "EdRm9dEhoNiU",
        "outputId": "a5c253a6-dc60-479b-dbf3-da9824616c8e"
      },
      "outputs": [
        {
          "output_type": "stream",
          "name": "stdout",
          "text": [
            "('Breast_Cancer', '94f48939-0594-53c8-f7da-996aa887fe5f', None, 41.9283192930599, -71.3978013233582, 'Bristol County', 2703, 15400, 516.64, '2020-06-21', 'QALY', 0, '2020-06-21T06:00:09Z', 0, 0, 0, 1686.24, 516.64)\n",
            "('Breast_Cancer', 'f34dae69-de67-8541-042d-df4671369643', None, 42.3100339434173, -71.1055244423829, 'Suffolk County', 2116, 660202.23, 2102.28, '1988-09-27', 'QALY', 26.3, '2020-09-27T14:33:11Z', 32, 0, 0, 562.08, 516.64)\n",
            "('Colorectal_Cancer', '60d8cacf-1fb4-228d-6e6a-fdbe7e9be9b1', None, 41.979602200122, -70.9494293899555, 'Plymouth County', 2324, 5037.24, 0, '1971-06-28', 'QALY', 48, '2020-06-28T07:28:26Z', 49, 0, 0, 1124.16, 645.8)\n",
            "('Breast_Cancer', 'c769c552-e932-c403-1a24-73001ce334a7', None, 42.3374116953539, -71.0216377863025, 'Norfolk County', 2171, 612180, 2665.64, '1996-09-25', 'QALY', 23, '2020-09-25T13:28:04Z', 24, 0, 0, 1405.2, 774.9599999999999)\n",
            "('Breast_Cancer', '5745bb2e-d3b4-dd64-2821-c0e51442037e', None, 41.9055618437118, -70.8257952497624, 'Plymouth County', None, 901885, 2506.44, '1983-06-24', 'QALY', 36, '2020-06-24T12:54:27Z', 37, 0, 0, 702.6, 516.64)\n",
            "('Lung_Cancer', '28eff14d-f5f0-5afa-06df-d9b34ba845f3', None, 42.2098579117827, -71.7918436151348, 'Worcester County', None, 640725, 2278.96, '1991-06-06', 'QALY', 28, '2020-06-06T13:00:08Z', 29, 0, 0, 843.12, 387.48)\n",
            "('Lung_Cancer', '05ce875e-547f-a09d-3bbc-9de5f6f5a695', None, 41.4402143360176, -70.6151762435439, 'Dukes County', None, 1356450, 3866.32, '1958-05-21', 'QALY', 61, '2020-05-21T13:43:17Z', 62, 0, 0, 1545.72, 1291.6000000000001)\n",
            "('Breast_Cancer', 'acf9dbc7-08f4-7241-229f-3bad03a29acc', None, 42.2766996276058, -71.1158775952769, 'Norfolk County', 2215, 810920, 2683.96, '1990-05-21', 'QALY', 29, '2020-05-21T07:19:27Z', 30, 0, 0, 843.12, 387.48)\n",
            "('Colorectal_Cancer', '2777c495-706c-7e23-cab8-dcd6133fec19', None, 42.649602422368, -73.0885594511278, 'Berkshire County', 1247, 982440, 2651.44, '1982-01-30', 'QALY', 37, '2020-01-30T19:27:52Z', 38, 0, 0, 562.08, 387.48)\n",
            "('Colorectal_Cancer', 'a050cf42-4e20-4138-3cd0-d5d21bc3f9e9', None, 42.2350300738754, -70.8848859443472, 'Norfolk County', 2189, 1351800, 3632.15, '1961-11-05', 'QALY', 58, '2020-11-05T13:51:57Z', 59, 61233.14, 0, 1686.24, 1394.91)\n",
            "('Colorectal_Cancer', 'fb943999-a364-1914-4dd7-e153b161545a', None, 42.3040055920836, -71.01296936252, 'Suffolk County', 2113, 594880, 2865.64, '1998-07-20', 'QALY', 21, '2020-07-20T08:27:00Z', 22, 0, 0, 1826.76, 1033.28)\n",
            "('Lung_Cancer', '38421270-49c8-8665-29e3-73716ffd69bd', None, 41.7589873925247, -71.2506447670061, 'Bristol County', None, 1584805, 4823.76, '1948-09-26', 'QALY', 71, '2020-09-25T23:50:15Z', 72, 0, 0, 1686.24, 1162.44)\n",
            "('Breast_Cancer', 'eacaf1a4-762b-9028-40f5-fc2e7d259ccb', None, 42.3466816337187, -71.0394678710916, 'Suffolk County', 2132, 1340390, 3922.12, '1952-11-13', 'QALY', 67, '2020-11-13T06:25:08Z', 68, 0, 0, 1826.76, 1291.6000000000001)\n",
            "('Lung_Cancer', 'f7b24f3c-5922-63f3-bb6b-971ddfe25557', None, 42.3946076540405, -71.015860787967, 'Suffolk County', 2110, 784740, 2563.96, '1989-12-05', 'QALY', 29, '2019-12-05T08:07:20Z', 30, 0, 0, 843.12, 387.48)\n",
            "('Lung_Cancer', '17d0295e-73a0-ac2d-1746-114a3ff29d06', None, 42.8826117227732, -70.8585772059941, 'Essex County', 1952, 1538535, 4310.48, '1957-01-13', 'QALY', 62, '2020-01-13T12:07:00Z', 63, 0, 0, 1545.72, 1291.6000000000001)\n",
            "('Breast_Cancer', '028848bc-1f0d-adaf-8f13-567ff4488924', None, 42.3434632065096, -72.0181295990757, 'Worcester County', None, 1088015, 2763.92, '1975-10-04', 'QALY', 44, '2020-10-04T06:23:17Z', 45, 0, 0, 983.64, 516.64)\n",
            "('Lung_Cancer', '48e0e484-5ce8-ac31-4e99-3e7b62cf0030', None, 41.7499627982557, -70.5576881026213, 'Barnstable County', 2532, 1346040, 3513.88, '1967-09-06', 'QALY', 52, '2020-09-06T20:00:43Z', 53, 0, 0, 1405.2, 904.1199999999999)\n",
            "('Lung_Cancer', 'da6db106-1a90-36e3-6b58-ba2ec03f4f2a', None, 42.0571442841234, -72.6039370850356, 'Hampden County', 1105, 100284.96, 2098.16, '1987-09-04', 'QALY', 32, '2020-09-04T06:28:05Z', 33, 0, 0, 562.08, 387.48)\n",
            "('Lung_Cancer', '1a558c8a-bf13-20d2-57ed-db46369bfd81', None, 42.5834061459821, -71.4958387410432, 'Middlesex County', None, 273000, 2454.04, '2010-03-09', 'QALY', 9, '2020-03-09T18:30:04Z', 10, 0, 0, 2810.4, 1808.2400000000005)\n",
            "('Colorectal_Cancer', 'a81e75a5-b892-d036-5e7b-a0259a47a5d5', None, 42.3924921787217, -71.1106228546128, 'Middlesex County', 2155, 118800, 1808.24, '2015-07-08', 'QALY', 4, '2020-07-08T02:12:15Z', 5, 0, 0, 4496.640000000001, 1808.2400000000005)\n",
            "('Breast_Cancer', '93be14fe-518f-2c26-69f6-bbc44bf81158', None, 41.9143668332407, -71.2456163340539, 'Bristol County', 2861, 1682590, 12169.7, '1942-11-22', 'QALY', 76.9, '2020-11-22T06:11:49Z', 78, 27936.23, 6626.820000000001, 1545.72, 1420.7600000000002)\n",
            "('Colorectal_Cancer', 'fba26d3f-fbd7-46fa-4816-7fa26e5e7144', None, 42.3506785876974, -71.0387942523002, 'Suffolk County', 2119, 581170, 2575.64, '1996-11-22', 'QALY', 23, '2020-11-22T10:04:42Z', 24, 0, 0, 1545.72, 904.1199999999999)\n",
            "('Breast_Cancer', '29bcfb98-e507-642e-b4fc-e48fd77581fc', None, 41.9129607570629, -71.0161662769872, 'Bristol County', None, 1244700, 3370.52, '1963-07-20', 'QALY', 56, '2020-07-20T12:08:36Z', 57, 0, 0, 1686.24, 1162.44)\n",
            "('Breast_Cancer', '01b18347-90d9-e2b1-b142-8252c92cef8c', None, 42.7327575395844, -73.1164403963086, 'Berkshire County', None, 1293420, 3596.32, '1957-10-18', 'QALY', 62, '2020-10-18T18:20:50Z', 63, 0, 0, 1405.2, 1162.44)\n",
            "('Lung_Cancer', '5dd49a88-88a0-ad38-889e-4b806420446d', None, 42.5032872472346, -71.2421790220734, 'Middlesex County', None, 550770, 2846.48, '2000-03-17', 'QALY', 19, '2020-03-17T22:54:44Z', 20, 0, 0, 2107.8, 1162.44)\n",
            "('Lung_Cancer', 'e5346664-6e36-2c2b-e700-da997489c8d0', None, 42.2334793183818, -71.8033194712169, 'Worcester County', 1605, 742555, 2719.8, '1992-11-28', 'QALY', 27, '2020-11-28T19:04:32Z', 28, 0, 0, 983.64, 516.64)\n",
            "('Breast_Cancer', '4be3db3f-d095-76fb-3db5-1de4df892cca', None, 41.7020739271984, -70.442427415011, 'Barnstable County', None, 1456390, 4951.2, '1940-06-12', 'QALY', 78.3, '2020-06-11T23:45:55Z', 80, 308555.47000000003, 17914.29, 1545.72, 1291.6000000000001)\n",
            "('Lung_Cancer', 'cc3ce8cd-7f3c-5225-ff4d-ec047cf2e178', None, 41.7682001914954, -70.8927991671287, 'Bristol County', 2743, 72570.68, 3066.4, '1946-10-16', 'QALY', 73, '2020-10-16T12:05:09Z', 74, 0, 0, 1826.76, 1291.6000000000001)\n",
            "('Breast_Cancer', 'd5f292de-7541-5270-b783-c23d8efb844d', None, 42.6539963399593, -71.3239384434712, 'Middlesex County', None, 1110450, 2870.6, '1978-12-27', 'QALY', 40, '2019-12-27T16:40:08Z', 41, 0, 0, 562.08, 387.48)\n",
            "('Lung_Cancer', 'aeef69b7-73c4-f7ce-170d-f2c2d1fde677', None, 42.456100598428, -71.0595466913062, 'Middlesex County', 2148, 1321815, 3222.24, '1970-12-30', 'QALY', 48, '2019-12-30T06:45:36Z', 49, 0, 0, 1124.16, 645.8)\n"
          ]
        }
      ],
      "source": [
        "cur.execute('''SELECT * FROM facts_table\n",
        " ORDER BY RANDOM()''')\n",
        "records = cur.fetchall()\n",
        "# show 4 rows\n",
        "for row in records[:30]:\n",
        "  print(row)"
      ]
    },
    {
      "cell_type": "code",
      "execution_count": 145,
      "metadata": {
        "colab": {
          "base_uri": "https://localhost:8080/"
        },
        "id": "aLWYwQVkmDrU",
        "outputId": "abf960b4-a01c-47ed-f308-8fc35c841b39"
      },
      "outputs": [
        {
          "output_type": "stream",
          "name": "stdout",
          "text": [
            "    cid                           name           type  notnull dflt_value  pk\n",
            "0     0                    cancer_type         STRING        0       None   0\n",
            "1     1                     patient_ID         STRING        0       None   0\n",
            "2     2                   encounter_ID         STRING        0       None   0\n",
            "3     3                    patient_LAT   DECIMAL(6,2)        0       None   0\n",
            "4     4                    patient_LON   DECIMAL(6,2)        0       None   0\n",
            "5     5                 patient_COUNTY         STRING        0       None   0\n",
            "6     6                    patient_ZIP         STRING        0       None   0\n",
            "7     7    patient_HEALTHCARE_EXPENSES   DECIMAL(9,2)        0       None   0\n",
            "8     8    patient_HEALTHCARE_COVERAGE   DECIMAL(9,2)        0       None   0\n",
            "9     9              patient_BIRTHDATE           DATE        0       None   0\n",
            "10   10              observations_CODE         STRING        0       None   0\n",
            "11   11             observations_VALUE         STRING        0       None   0\n",
            "12   12              observations_DATE           DATE        0       None   0\n",
            "13   13               observations_AGE   DECIMAL(6,2)        0       None   0\n",
            "14   14           procedures_BASE_COST  DECIMAL(11,2)        0       None   0\n",
            "15   15          medications_TOTALCOST  DECIMAL(11,2)        0       None   0\n",
            "16   16        immunizations_BASE_COST  DECIMAL(11,2)        0       None   0\n",
            "17   17  encounter_BASE_ENCOUNTER_COST  DECIMAL(11,2)        0       None   0\n"
          ]
        }
      ],
      "source": [
        "print(pd.read_sql_query(\"PRAGMA table_info('facts_table')\", conn))"
      ]
    },
    {
      "cell_type": "markdown",
      "source": [
        "# Bereinigung der Faktentabelle\n",
        "\n",
        "## Delele all rows with Age = 0"
      ],
      "metadata": {
        "id": "kosWigrzTO7w"
      }
    },
    {
      "cell_type": "code",
      "source": [
        "cur.execute('''SELECT COUNT(*)  FROM facts_table\n",
        " WHERE observations_AGE == 0''')\n",
        "result = cur.fetchall()\n",
        "print(f\"Number of rows where observations_AGE == 0 : {result[-1][-1]}\")\n",
        "print(\"\\n\")\n",
        "\n",
        "cur.execute(''' DELETE FROM facts_table WHERE observations_AGE = 0\n",
        ";''')\n",
        "conn.commit()\n",
        "\n",
        "cur.execute('''SELECT COUNT(*)  FROM facts_table\n",
        " WHERE observations_AGE == 0''')\n",
        "result = cur.fetchall()\n",
        "print(f\"Nach Bereinigung: Number of rows where observations_AGE == 0 : {result[-1][-1]}\")\n",
        "print(\"\\n\")\n"
      ],
      "metadata": {
        "colab": {
          "base_uri": "https://localhost:8080/"
        },
        "id": "EvfrNdOpTDk_",
        "outputId": "d1648c82-5c78-46b7-c777-d732eb741d10"
      },
      "execution_count": 146,
      "outputs": [
        {
          "output_type": "stream",
          "name": "stdout",
          "text": [
            "Number of rows where observations_AGE == 0 : 30\n",
            "\n",
            "\n",
            "Nach Bereinigung: Number of rows where observations_AGE == 0 : 0\n",
            "\n",
            "\n"
          ]
        }
      ]
    },
    {
      "cell_type": "markdown",
      "source": [
        "##Close Database connection"
      ],
      "metadata": {
        "id": "tgbR8213DgPt"
      }
    },
    {
      "cell_type": "code",
      "source": [
        "#conn.close()\n",
        "#print(\"The Sqlite connection is closed\")"
      ],
      "metadata": {
        "id": "UUhrJw5EDcJF"
      },
      "execution_count": 147,
      "outputs": []
    }
  ],
  "metadata": {
    "colab": {
      "provenance": [],
      "include_colab_link": true
    },
    "kernelspec": {
      "display_name": "Python 3",
      "name": "python3"
    },
    "language_info": {
      "codemirror_mode": {
        "name": "ipython",
        "version": 3
      },
      "file_extension": ".py",
      "mimetype": "text/x-python",
      "name": "python",
      "nbconvert_exporter": "python",
      "pygments_lexer": "ipython3",
      "version": "3.10.13"
    }
  },
  "nbformat": 4,
  "nbformat_minor": 0
}