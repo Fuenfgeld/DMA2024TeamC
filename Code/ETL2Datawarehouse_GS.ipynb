{
  "cells": [
    {
      "cell_type": "markdown",
      "metadata": {
        "colab_type": "text",
        "id": "view-in-github"
      },
      "source": [
        "<a href=\"https://colab.research.google.com/github/Fuenfgeld/DMA2024TeamC/blob/main/Code/ETL2Datawarehouse_GS.ipynb\" target=\"_parent\"><img src=\"https://colab.research.google.com/assets/colab-badge.svg\" alt=\"Open In Colab\"/></a>"
      ]
    },
    {
      "cell_type": "markdown",
      "metadata": {
        "id": "vHosyFJW4vm1"
      },
      "source": [
        "**Kursarbeit Datenmanagement und -Archivierung WS 23/24**\n",
        "\n",
        "Master-Code Name-CALICO:MA\n"
      ]
    },
    {
      "cell_type": "markdown",
      "metadata": {
        "id": "mZXn3MCm6EUw"
      },
      "source": [
        "**Erstellung der Datenbank**\n",
        "\n",
        "\n",
        "*   Datenbankinitialisierung:\n",
        "\n"
      ]
    },
    {
      "cell_type": "markdown",
      "metadata": {
        "id": "R4Vq7BBP-kj0"
      },
      "source": [
        "> Laden Libraries"
      ]
    },
    {
      "cell_type": "code",
      "execution_count": 25,
      "metadata": {
        "id": "eriJl5b7-haW"
      },
      "outputs": [],
      "source": [
        "import os\n",
        "import pandas as pd\n",
        "from functools import reduce\n",
        "import sqlite3\n",
        "from sqlite3 import Error\n",
        "import csv\n",
        "#import requests"
      ]
    },
    {
      "cell_type": "markdown",
      "metadata": {},
      "source": [
        ">Google drive verbinden"
      ]
    },
    {
      "cell_type": "code",
      "execution_count": null,
      "metadata": {},
      "outputs": [],
      "source": [
        "from google.colab import drive\n",
        "drive.mount(\"/content/drive\", force_remount=True)\n",
        "!ls drive/"
      ]
    },
    {
      "cell_type": "markdown",
      "metadata": {},
      "source": [
        ">connect to repo"
      ]
    },
    {
      "cell_type": "code",
      "execution_count": null,
      "metadata": {},
      "outputs": [],
      "source": [
        "# Pfad zum Ordner\n",
        "ordner_pfad = \"/pfad/zum/ordner\"\n",
        "unterordner_name = \"mein_unterordner\"\n",
        "\n",
        "# Vollständiger Pfad zum Unterordner\n",
        "unterordner_pfad = os.path.join(ordner_pfad, unterordner_name)\n",
        "\n",
        "# Überprüfen, ob der Unterordner existiert\n",
        "if not os.path.exists(unterordner_pfad):\n",
        "    # Wenn der Unterordner nicht existiert, erstellen Sie ihn\n",
        "    os.makedirs(unterordner_pfad)\n",
        "    print(f\"Unterordner '{unterordner_name}' wurde erstellt.\")\n",
        "else:\n",
        "    print(f\"Unterordner '{unterordner_name}' existiert bereits.\")"
      ]
    },
    {
      "cell_type": "code",
      "execution_count": null,
      "metadata": {},
      "outputs": [],
      "source": [
        "#definieren des Ordners in dem die repo gesichert werdern soll\n",
        "google_drive_folder = \"drive/MyDrive\"\n",
        "repo_colab_name = \"calico_ma_repo\"\n",
        "#full_path_repo_colab = f\"{google_drive_folder}+\"//\"+{repo_colab_name}\"\n",
        "full_path_repo_colab = os.path.join(google_drive_folder,repo_colab_name)\n",
        "if not os.path.exists(full_path_repo_colab):\n",
        "    os.makedirs(full_path_repo_colab)\n",
        "    print(f\"Ordner {full_path_repo_colab} ajngelegt\")\n",
        "else:\n",
        "    print(f\"Ordner {full_path_repo_colab} existiert bereits\")"
      ]
    },
    {
      "cell_type": "code",
      "execution_count": null,
      "metadata": {},
      "outputs": [],
      "source": [
        "! apt-get install git"
      ]
    },
    {
      "cell_type": "code",
      "execution_count": null,
      "metadata": {},
      "outputs": [],
      "source": [
        "!git clone https://github.com/Fuenfgeld/DMA2024TeamC.git $full_path_repo_colab"
      ]
    },
    {
      "cell_type": "code",
      "execution_count": null,
      "metadata": {},
      "outputs": [],
      "source": [
        "!ls $full_path_repo_colab"
      ]
    },
    {
      "cell_type": "markdown",
      "metadata": {
        "id": "c9whsxq3-FwZ"
      },
      "source": [
        ">Definition der Umgebnungsvariablen \n",
        "\n",
        ">Verbindung zu CSV-Dateien herstellen und Kategorisierung nach der Tumorerkrankung"
      ]
    },
    {
      "cell_type": "code",
      "execution_count": 26,
      "metadata": {
        "colab": {
          "base_uri": "https://localhost:8080/"
        },
        "id": "lEgV_Mbhhlv-",
        "outputId": "7765daab-b7d1-49ec-d5c8-4a41a52e986d"
      },
      "outputs": [
        {
          "name": "stdout",
          "output_type": "stream",
          "text": [
            "/home/gunnar/DMA2024TeamC/\n",
            "/home/gunnar/DMA2024TeamC/Data/Quelldaten/CSV_Data/\n"
          ]
        }
      ],
      "source": [
        "#repo_home = \"/home/gunnar/DMA2024TeamC/\" ## muss entsprechend angepasst werden für das lokale repo verzeichnis\n",
        "repo_home = full_path_repo_colab+\"/\" ## repo in google drive \n",
        "csv_data_folder = repo_home + \"Data/Quelldaten/CSV_Data/\"\n",
        "project_name = \"CALICO_MA\"\n",
        "print(repo_home)\n",
        "print (csv_data_folder)"
      ]
    },
    {
      "cell_type": "markdown",
      "metadata": {
        "id": "rQQfNOR7jFuD"
      },
      "source": [
        "\n",
        "\n",
        "> Verbindung zu SQLite herstellen und Datebankinitialisierung Local\n",
        "\n",
        "\n"
      ]
    },
    {
      "cell_type": "markdown",
      "metadata": {},
      "source": [
        ">The provided code is a Python script that establishes a connection to a SQLite database and creates a cursor object for executing SQL commands.\n",
        ">The `create_connection_local` function is defined to establish a connection to a SQLite database. The function takes one parameter, `local_path`, which is the path to the database file. Inside the function, a `try` block is used to attempt to establish the connection. The `sqlite3.connect` function is called with the path to the database file, which is constructed by concatenating `local_path`, the string 'Data/CALICO_MA_Database/', and the global variable `project_name` with '.db' extension. If the connection is established successfully, the connection object is returned. However, the `print(sqlite3.version)` statement after the `return` statement will never be executed because the function exits as soon as it hits the `return` statement. If there is an error while establishing the connection, it is caught by the `except` block, and a message is printed to the console.\n",
        ">After the `create_connection_local` function is defined, it is called with `repo_home` as the argument, and the returned connection object is stored in the `conn` variable.\n",
        ">Next, a cursor object is created by calling the `cursor` method on the connection object. This cursor object, stored in the `cur` variable, can be used to execute SQL commands.\n",
        ">Finally, a success message is printed to the console, indicating that the connection to the SQLite database was established successfully. The message includes the path to the database file."
      ]
    },
    {
      "cell_type": "code",
      "execution_count": 27,
      "metadata": {
        "colab": {
          "base_uri": "https://localhost:8080/"
        },
        "id": "5VAxi8iZnsCJ",
        "outputId": "82c54f0b-90b4-4d07-bb88-e907958deaa9"
      },
      "outputs": [
        {
          "name": "stdout",
          "output_type": "stream",
          "text": [
            "Successfully Connected to SQLite Public Data Warehouse: /home/gunnar/DMA2024TeamC/Data/CALICO_MA_Database/CALICO_MA.db\n"
          ]
        }
      ],
      "source": [
        "def create_connection_local(local_path):\n",
        "  conn = None;\n",
        "  try:\n",
        "    #Establishing the connection\n",
        "    conn = sqlite3.connect(local_path+'Data/CALICO_MA_Database/'+project_name+'.db')\n",
        "    return conn\n",
        "    print(sqlite3.version)\n",
        "  except Error as e:\n",
        "    print(\"Error while connecting to sqlite\", e)\n",
        "conn = create_connection_local(repo_home)\n",
        "# Creating a cursor object using the cursor() method\n",
        "cur = conn.cursor()\n",
        "print(\"Successfully Connected to SQLite Public Data Warehouse: \"+repo_home+'Data/CALICO_MA_Database/'+project_name+'.db')\n"
      ]
    },
    {
      "cell_type": "markdown",
      "metadata": {
        "id": "_WfYcr6eZGTz"
      },
      "source": [
        "> Quelldatenimport"
      ]
    },
    {
      "cell_type": "markdown",
      "metadata": {},
      "source": [
        "This Python script is used to read multiple CSV files from different directories, create pandas DataFrames from them, and then concatenate these DataFrames based on their types.\n",
        "\n",
        "Here's a step-by-step explanation:\n",
        "\n",
        "1. Two lists are defined: `csvs` and `tumortypes`. `csvs` contains the names of different types of CSV files, and `tumortypes` contains the names of different types of tumors.\n",
        "\n",
        "2. An empty dictionary `df` is created to store the DataFrames.\n",
        "\n",
        "3. The script then enters a nested loop where it iterates over each tumor type and each CSV type. For each combination, it constructs a key (e.g., \"procedures_Breast_Cancer\") and a file path.\n",
        "\n",
        "4. It reads the CSV file at the constructed path into a DataFrame, adds a new column `cancer_type` to the DataFrame, and stores the DataFrame in the `df` dictionary with the constructed key.\n",
        "\n",
        "5. The DataFrame is also appended to a list in the `csv_dfs` dictionary corresponding to its CSV type.\n",
        "\n",
        "6. After all CSV files have been read and their DataFrames stored, the script concatenates the DataFrames in each list in the `csv_dfs` dictionary. The result is a dictionary where each key is a CSV type and each value is a DataFrame that is the concatenation of all DataFrames of that CSV type.\n",
        "\n",
        "7. Finally, the script prints the first few rows of each DataFrame in the `df` and `csv_dfs` dictionaries.\n",
        "\n",
        "The commented-out code at the end of the script shows how individual CSV files were previously read into DataFrames. This code has been replaced by the loop that reads and concatenates all CSV files."
      ]
    },
    {
      "cell_type": "code",
      "execution_count": 28,
      "metadata": {
        "id": "1Uffy7Q6yWD_"
      },
      "outputs": [
        {
          "name": "stdout",
          "output_type": "stream",
          "text": [
            "Total number of rows in original dataframes for procedures: 2140\n",
            "\n",
            "\n",
            "Total number of rows in original dataframes for encounters: 25836\n",
            "\n",
            "\n",
            "Total number of rows in original dataframes for immunizations: 37878\n",
            "\n",
            "\n",
            "Total number of rows in original dataframes for medications: 1258\n",
            "\n",
            "\n",
            "Total number of rows in original dataframes for observations: 95849\n",
            "\n",
            "\n",
            "Total number of rows in original dataframes for patients: 3084\n",
            "\n",
            "\n",
            "Concatenated DataFrame for procedures:\n",
            "Number of rows: 2140\n",
            "Unique cancer types: ['Breast_Cancer' 'Lung_Cancer' 'Colectoral_Cancer']\n",
            "\n",
            "\n",
            "Concatenated DataFrame for encounters:\n",
            "Number of rows: 25836\n",
            "Unique cancer types: ['Breast_Cancer' 'Lung_Cancer' 'Colectoral_Cancer']\n",
            "\n",
            "\n",
            "Concatenated DataFrame for immunizations:\n",
            "Number of rows: 37878\n",
            "Unique cancer types: ['Breast_Cancer' 'Lung_Cancer' 'Colectoral_Cancer']\n",
            "\n",
            "\n",
            "Concatenated DataFrame for medications:\n",
            "Number of rows: 1258\n",
            "Unique cancer types: ['Breast_Cancer' 'Lung_Cancer' 'Colectoral_Cancer']\n",
            "\n",
            "\n",
            "Concatenated DataFrame for observations:\n",
            "Number of rows: 95849\n",
            "Unique cancer types: ['Breast_Cancer' 'Lung_Cancer' 'Colectoral_Cancer']\n",
            "\n",
            "\n",
            "Concatenated DataFrame for patients:\n",
            "Number of rows: 3084\n",
            "Unique cancer types: ['Breast_Cancer' 'Lung_Cancer' 'Colectoral_Cancer']\n",
            "\n",
            "\n"
          ]
        }
      ],
      "source": [
        "# Generate dataframes and add cancer_type information as a new column\n",
        "\n",
        "csvs = [\"procedures\", \"encounters\", \"immunizations\", \"medications\", \"observations\", \"patients\"]\n",
        "\n",
        "tumortypes = [\"Breast_Cancer\", \"Lung_Cancer\", \"Colectoral_Cancer\"]\n",
        "\n",
        "df = {}\n",
        "csv_dfs = {csv: [] for csv in csvs}\n",
        "\n",
        "for tumor in tumortypes:\n",
        "    for csv in csvs:\n",
        "        key = f\"{csv}_{tumor}\"\n",
        "        path = f\"{csv_data_folder}{tumor}/{csv}.csv\"\n",
        "        df[key] = pd.read_csv(path, sep=\",\")\n",
        "        df[key] = df[key].assign(cancer_type=tumor)\n",
        "\n",
        "        # Add the dataframe to the list for this csv\n",
        "        csv_dfs[csv].append(df[key])\n",
        "\n",
        "# Check the sum of the number of rows in the original dataframes for each csv\n",
        "for csv in csvs:\n",
        "    total_rows = sum(len(df[csv + '_' + tumor]) for tumor in tumortypes)\n",
        "    print(f\"Total number of rows in original dataframes for {csv}: {total_rows}\")\n",
        "    print(\"\\n\")\n",
        "# Concatenate the dataframes for each csv\n",
        "for csv in csvs:\n",
        "    csv_dfs[csv] = pd.concat(csv_dfs[csv])\n",
        "\n",
        "# Check the number of rows and unique cancer types in each concatenated dataframe\n",
        "for csv, df in csv_dfs.items():\n",
        "    print(f\"Concatenated DataFrame for {csv}:\")\n",
        "    print(f\"Number of rows: {len(df)}\")\n",
        "    print(f\"Unique cancer types: {df['cancer_type'].unique()}\")\n",
        "    print(\"\\n\")\n",
        "    "
      ]
    },
    {
      "cell_type": "markdown",
      "metadata": {},
      "source": [
        ">Quality checks of the dataframes"
      ]
    },
    {
      "cell_type": "code",
      "execution_count": 29,
      "metadata": {},
      "outputs": [
        {
          "name": "stdout",
          "output_type": "stream",
          "text": [
            "Quality for concanated DataFrame procedures:\n",
            "DATE                 1804\n",
            "PATIENT               449\n",
            "ENCOUNTER            1593\n",
            "CODE                   37\n",
            "DESCRIPTION            37\n",
            "BASE_COST            2044\n",
            "REASONCODE             11\n",
            "REASONDESCRIPTION      11\n",
            "cancer_type             3\n",
            "dtype: int64\n",
            "\n",
            "\n",
            "Quality for concanated DataFrame encounters:\n",
            "Id                     25836\n",
            "START                  25521\n",
            "STOP                   25720\n",
            "PATIENT                 3084\n",
            "ORGANIZATION            2268\n",
            "PROVIDER                2806\n",
            "PAYER                     10\n",
            "ENCOUNTERCLASS             5\n",
            "CODE                      15\n",
            "DESCRIPTION               18\n",
            "BASE_ENCOUNTER_COST        2\n",
            "TOTAL_CLAIM_COST           2\n",
            "PAYER_COVERAGE            15\n",
            "REASONCODE                11\n",
            "REASONDESCRIPTION         11\n",
            "cancer_type                3\n",
            "dtype: int64\n",
            "\n",
            "\n",
            "Quality for concanated DataFrame immunizations:\n",
            "DATE           23245\n",
            "PATIENT         3084\n",
            "ENCOUNTER      23349\n",
            "CODE              18\n",
            "DESCRIPTION       18\n",
            "BASE_COST          1\n",
            "cancer_type        3\n",
            "dtype: int64\n",
            "\n",
            "\n",
            "Quality for concanated DataFrame medications:\n",
            "START                 594\n",
            "STOP                  222\n",
            "PATIENT               314\n",
            "PAYER                  10\n",
            "ENCOUNTER             595\n",
            "CODE                   24\n",
            "DESCRIPTION            24\n",
            "BASE_COST            1199\n",
            "PAYER_COVERAGE        123\n",
            "DISPENSES             238\n",
            "TOTALCOST            1241\n",
            "REASONCODE              4\n",
            "REASONDESCRIPTION       4\n",
            "cancer_type             3\n",
            "dtype: int64\n",
            "\n",
            "\n",
            "Quality for concanated DataFrame observations:\n",
            "DATE           31296\n",
            "PATIENT         3084\n",
            "ENCOUNTER        289\n",
            "CODE              53\n",
            "DESCRIPTION       55\n",
            "VALUE           1268\n",
            "UNITS             18\n",
            "TYPE               2\n",
            "cancer_type        3\n",
            "dtype: int64\n",
            "\n",
            "\n",
            "Quality for concanated DataFrame patients:\n",
            "Id                     3084\n",
            "BIRTHDATE              2860\n",
            "DEATHDATE                84\n",
            "SSN                    3078\n",
            "DRIVERS                2503\n",
            "PASSPORT               2377\n",
            "PREFIX                    3\n",
            "FIRST                  2055\n",
            "LAST                    660\n",
            "SUFFIX                    3\n",
            "MAIDEN                  423\n",
            "MARITAL                   2\n",
            "RACE                      5\n",
            "ETHNICITY                 2\n",
            "GENDER                    2\n",
            "BIRTHPLACE              369\n",
            "ADDRESS                3084\n",
            "CITY                    295\n",
            "STATE                     1\n",
            "COUNTY                   14\n",
            "ZIP                     272\n",
            "LAT                    3084\n",
            "LON                    3084\n",
            "HEALTHCARE_EXPENSES    2624\n",
            "HEALTHCARE_COVERAGE     948\n",
            "cancer_type               3\n",
            "dtype: int64\n",
            "\n",
            "\n"
          ]
        }
      ],
      "source": [
        "# .nunique(axis=0) returns the number of unique values for each columns in the concanated dataframes.\n",
        "for csv, df in csv_dfs.items():\n",
        "    print(f\"Quality for concanated DataFrame {csv}:\\n{df.nunique(axis=0)}\")\n",
        "    print(\"\\n\")\n",
        "\n"
      ]
    },
    {
      "cell_type": "code",
      "execution_count": 30,
      "metadata": {},
      "outputs": [
        {
          "name": "stdout",
          "output_type": "stream",
          "text": [
            "percentage of not null values in each column of concanated DataFrame procedures:\n",
            "DATE                 100.000000\n",
            "PATIENT              100.000000\n",
            "ENCOUNTER            100.000000\n",
            "CODE                 100.000000\n",
            "DESCRIPTION          100.000000\n",
            "BASE_COST            100.000000\n",
            "REASONCODE            74.439252\n",
            "REASONDESCRIPTION     74.439252\n",
            "cancer_type          100.000000\n",
            "dtype: float64\n",
            "\n",
            "\n",
            "percentage of not null values in each column of concanated DataFrame encounters:\n",
            "Id                     100.0000\n",
            "START                  100.0000\n",
            "STOP                   100.0000\n",
            "PATIENT                100.0000\n",
            "ORGANIZATION           100.0000\n",
            "PROVIDER               100.0000\n",
            "PAYER                  100.0000\n",
            "ENCOUNTERCLASS         100.0000\n",
            "CODE                   100.0000\n",
            "DESCRIPTION            100.0000\n",
            "BASE_ENCOUNTER_COST    100.0000\n",
            "TOTAL_CLAIM_COST       100.0000\n",
            "PAYER_COVERAGE         100.0000\n",
            "REASONCODE               2.2488\n",
            "REASONDESCRIPTION        2.2488\n",
            "cancer_type            100.0000\n",
            "dtype: float64\n",
            "\n",
            "\n",
            "percentage of not null values in each column of concanated DataFrame immunizations:\n",
            "DATE           100.0\n",
            "PATIENT        100.0\n",
            "ENCOUNTER      100.0\n",
            "CODE           100.0\n",
            "DESCRIPTION    100.0\n",
            "BASE_COST      100.0\n",
            "cancer_type    100.0\n",
            "dtype: float64\n",
            "\n",
            "\n",
            "percentage of not null values in each column of concanated DataFrame medications:\n",
            "START                100.000000\n",
            "STOP                  39.666137\n",
            "PATIENT              100.000000\n",
            "PAYER                100.000000\n",
            "ENCOUNTER            100.000000\n",
            "CODE                 100.000000\n",
            "DESCRIPTION          100.000000\n",
            "BASE_COST            100.000000\n",
            "PAYER_COVERAGE       100.000000\n",
            "DISPENSES            100.000000\n",
            "TOTALCOST            100.000000\n",
            "REASONCODE             6.915739\n",
            "REASONDESCRIPTION      6.915739\n",
            "cancer_type          100.000000\n",
            "dtype: float64\n",
            "\n",
            "\n",
            "percentage of not null values in each column of concanated DataFrame observations:\n",
            "DATE           100.000000\n",
            "PATIENT        100.000000\n",
            "ENCOUNTER        2.296320\n",
            "CODE           100.000000\n",
            "DESCRIPTION    100.000000\n",
            "VALUE          100.000000\n",
            "UNITS           99.837244\n",
            "TYPE           100.000000\n",
            "cancer_type    100.000000\n",
            "dtype: float64\n",
            "\n",
            "\n",
            "percentage of not null values in each column of concanated DataFrame patients:\n",
            "Id                     100.000000\n",
            "BIRTHDATE              100.000000\n",
            "DEATHDATE                2.723735\n",
            "SSN                    100.000000\n",
            "DRIVERS                 82.328145\n",
            "PASSPORT                77.075227\n",
            "PREFIX                  79.863813\n",
            "FIRST                  100.000000\n",
            "LAST                   100.000000\n",
            "SUFFIX                   1.037613\n",
            "MAIDEN                  26.426719\n",
            "MARITAL                 66.147860\n",
            "RACE                   100.000000\n",
            "ETHNICITY              100.000000\n",
            "GENDER                 100.000000\n",
            "BIRTHPLACE             100.000000\n",
            "ADDRESS                100.000000\n",
            "CITY                   100.000000\n",
            "STATE                  100.000000\n",
            "COUNTY                 100.000000\n",
            "ZIP                     53.988327\n",
            "LAT                    100.000000\n",
            "LON                    100.000000\n",
            "HEALTHCARE_EXPENSES    100.000000\n",
            "HEALTHCARE_COVERAGE    100.000000\n",
            "cancer_type            100.000000\n",
            "dtype: float64\n",
            "\n",
            "\n"
          ]
        }
      ],
      "source": [
        "#percentage of not null values in each column in the concanated dataframes.\n",
        "for csv, df in csv_dfs.items():\n",
        "    print(f\"percentage of not null values in each column of concanated DataFrame {csv}:\\n{df.count()/len(df) * 100}\")\n",
        "    print(\"\\n\")\n"
      ]
    },
    {
      "cell_type": "code",
      "execution_count": 31,
      "metadata": {
        "colab": {
          "base_uri": "https://localhost:8080/"
        },
        "id": "omHiPDL_yWH2",
        "outputId": "19f00a9c-8e7d-408f-956a-4287e4a6e3ad"
      },
      "outputs": [
        {
          "data": {
            "text/plain": [
              "<sqlite3.Cursor at 0x7f3763f5f1c0>"
            ]
          },
          "execution_count": 31,
          "metadata": {},
          "output_type": "execute_result"
        }
      ],
      "source": [
        "#Delete Tables in case they exist\n",
        "cur.execute(\"DROP TABLE IF EXISTS procedures\")\n",
        "cur.execute(\"DROP TABLE IF EXISTS encounters\")\n",
        "cur.execute(\"DROP TABLE IF EXISTS immunizations\")\n",
        "cur.execute(\"DROP TABLE IF EXISTS medications\")\n",
        "cur.execute(\"DROP TABLE IF EXISTS observations\")\n",
        "cur.execute(\"DROP TABLE IF EXISTS patients\")\n",
        "cur.execute(\"DROP TABLE IF EXISTS facts_table\")"
      ]
    },
    {
      "cell_type": "markdown",
      "metadata": {},
      "source": [
        ">Create tables including facts_table"
      ]
    },
    {
      "cell_type": "code",
      "execution_count": 34,
      "metadata": {},
      "outputs": [],
      "source": [
        "# Create tables including facts_table\n",
        "\n",
        "sql_table = {}\n",
        "\n",
        "create_table_command = \"\"\"CREATE TABLE IF NOT EXISTS patients (\n",
        "                           Id         STRING PRIMARY KEY,\n",
        "                           BIRTHDATE  DATE,\n",
        "                           DEATHDATE  DATE,\n",
        "                           SSN        STRING,\n",
        "                           DRIVERS    STRING,\n",
        "                           PASSPORT   STRING,\n",
        "                           PREFIX     STRING,\n",
        "                           FIRST      STRING,\n",
        "                           LAST       STRING,\n",
        "                           SUFFIX     STRING,\n",
        "                           MAIDEN     STRING,\n",
        "                           MARITAL    STRING,\n",
        "                           RACE       STRING,\n",
        "                           ETHNICITY  STRING,\n",
        "                           GENDER     STRING,\n",
        "                           BIRTHPLACE STRING,\n",
        "                           ADDRESS    STRING,\n",
        "                           CITY       STRING,\n",
        "                           STATE      STRING,\n",
        "                           COUNTY    STRING,\n",
        "                           ZIP        STRING,\n",
        "                           LAT        DECIMAL(6,2),\n",
        "                           LON        DECIMAL(6,2),\n",
        "                           HEALTHCARE_EXPENSES DECIMAL(9,2),\n",
        "                           HEALTHCARE_COVERAGE DECIMAL(9,2),\n",
        "                           cancer_type STRING\n",
        "  );\n",
        "\n",
        "CREATE TABLE IF NOT EXISTS encounters (\n",
        "                           Id STRING PRIMARY KEY,\n",
        "                           START DATE,\n",
        "                           STOP DATE,\n",
        "                           PATIENT STRING,\n",
        "                           ORGANIZATION STRING,\n",
        "                           PROVIDER STRING,\n",
        "                           PAYER STRING,\n",
        "                           ENCOUNTERCLASS STRING,\n",
        "                           CODE STRING,\n",
        "                           DESCRIPTION STRING,\n",
        "                           BASE_ENCOUNTER_COST DECIMAL(9,2),\n",
        "                           TOTAL_CLAIM_COST DECIMAL(9,2),\n",
        "                           PAYER_COVERAGE DECIMAL(9,2),\n",
        "                           REASONCODE STRING,\n",
        "                           REASONDESCRIPTION STRING,\n",
        "                           cancer_type STRING,\n",
        "                           FOREIGN KEY (PATIENT) \n",
        "                              REFERENCES patients (Id) \n",
        ");\n",
        "\n",
        "\n",
        "\n",
        "CREATE TABLE IF NOT EXISTS observations (\n",
        "                           DATE DATE,\n",
        "                           PATIENT STRING,\n",
        "                           ENCOUNTER STRING,\n",
        "                           CODE STRING,\n",
        "                           DESCRIPTION STRING,\n",
        "                           VALUE STRING,\n",
        "                           UNITS STRING,\n",
        "                           TYPE STRING,\n",
        "                           cancer_type STRING,\n",
        "                           FOREIGN KEY (PATIENT) REFERENCES patients (Id),\n",
        "                           FOREIGN KEY (Encounter) REFERENCES encounters (Id) \n",
        ");\n",
        "\n",
        "\n",
        "CREATE TABLE IF NOT EXISTS medications (\n",
        "                           START DATE,\n",
        "                           STOP DATE,\n",
        "                           PATIENT STRING,\n",
        "                           PAYER STRING,\n",
        "                           ENCOUNTER STRING,\n",
        "                           CODE STRING,\n",
        "                           DESCRIPTION STRING,\n",
        "                           BASE_COST DECIMAL(9,2),\n",
        "                           PAYER_COVERAGE DECIMAL(9,2),\n",
        "                           DISPENSES DECIMAL(9,2),\n",
        "                           TOTALCOST DECIMAL(9,2),\n",
        "                           REASONCODE STRING,\n",
        "                           REASONDESCRIPTION STRING,\n",
        "                           cancer_type STRING,\n",
        "                           FOREIGN KEY (PATIENT) \n",
        "                              REFERENCES patients (Id)\n",
        "                           FOREIGN KEY (Encounter) \n",
        "                              REFERENCES encounters (Id) \n",
        "  );\n",
        "\n",
        "CREATE TABLE IF NOT EXISTS procedures (                       \n",
        "                           DATE DATE,\n",
        "                           PATIENT STRING,\n",
        "                           ENCOUNTER STRING,\n",
        "                           CODE STRING,\n",
        "                           DESCRIPTION STRING,\n",
        "                           BASE_COST DECIMAL(9,2),\n",
        "                           REASONCODE STRING,\n",
        "                           REASONDESCRIPTION STRING,\n",
        "                           cancer_type STRING,\n",
        "                           FOREIGN KEY (PATIENT) REFERENCES patients (Id),\n",
        "                           FOREIGN KEY (Encounter) REFERENCES encounters (Id) \n",
        "                       );\n",
        " \n",
        "CREATE TABLE IF NOT EXISTS immunizations (                 \n",
        "                           DATE DATE,\n",
        "                           PATIENT STRING,\n",
        "                           ENCOUNTER STRING,\n",
        "                           CODE STRING,\n",
        "                           DESCRIPTION STRING,\n",
        "                           BASE_COST DECIMAL(9,2),\n",
        "                           cancer_type STRING,\n",
        "                           FOREIGN KEY (PATIENT) \n",
        "                              REFERENCES patients (Id) \n",
        "                           FOREIGN KEY (Encounter) \n",
        "                              REFERENCES encounters (Id) \n",
        "  );\n",
        "\n",
        "CREATE TABLE IF NOT EXISTS facts_table (\n",
        "                          cancer_type STRING,\n",
        "                          patient_ID STRING,\n",
        "                          encounter_ID STRING,\n",
        "                          patient_LAT        DECIMAL(6,2),\n",
        "                          patient_LON        DECIMAL(6,2),\n",
        "                          patient_HEALTHCARE_EXPENSES DECIMAL(9,2),\n",
        "                          patient_HEALTHCARE_COVERAGE DECIMAL(9,2),\n",
        "                          patient_BIRTHDATE DATE,\n",
        "                          observations_CODE STRING,\n",
        "                          observations_VALUE STRING,\n",
        "                          observations_DATE  DATE,\n",
        "                          observations_AGE DECIMAL(6,2),\n",
        "                          procedures_BASE_COST DECIMAL(11,2),\n",
        "                          medications_TOTALCOST DECIMAL(11,2),\n",
        "                          immunizations_BASE_COST DECIMAL(11,2),\n",
        "                          encounter_BASE_ENCOUNTER_COST DECIMAL(11,2),\n",
        "                          FOREIGN KEY (patient_ID) REFERENCES patients (Id),\n",
        "                          FOREIGN KEY (patient_ID) REFERENCES observations (PATIENT),\n",
        "                          FOREIGN KEY (encounter_ID) REFERENCES observations (ENCOUNTER),\n",
        "                          FOREIGN KEY (patient_ID) REFERENCES encounters (PATIENT),\n",
        "                          FOREIGN KEY (encounter_ID) REFERENCES encounters (Id),\n",
        "                          FOREIGN KEY (patient_ID) REFERENCES procedures (PATIENT),\n",
        "                          FOREIGN KEY (encounter_ID) REFERENCES procedures (ENCOUNTER),\n",
        "                          FOREIGN KEY (patient_ID) REFERENCES medications (PATIENT),\n",
        "                          FOREIGN KEY (encounter_ID) REFERENCES medications (ENCOUNTER),\n",
        "                          FOREIGN KEY (patient_ID) REFERENCES immunizations (PATIENT),\n",
        "                          FOREIGN KEY (encounter_ID) REFERENCES immunizations (ENCOUNTER)\n",
        "\n",
        ");\n",
        "\"\"\"\n",
        "# Execute the SQL command\n",
        "cur.executescript(create_table_command)\n",
        "\n",
        "conn.commit()"
      ]
    },
    {
      "cell_type": "code",
      "execution_count": 35,
      "metadata": {},
      "outputs": [],
      "source": [
        "#Insert data from the concanated data frames into the tables\n",
        "\n",
        "for csv, df in csv_dfs.items():\n",
        "    df.to_sql(csv, conn, if_exists='append', index=False)\n",
        "\n",
        "conn.commit()"
      ]
    },
    {
      "cell_type": "code",
      "execution_count": 47,
      "metadata": {},
      "outputs": [
        {
          "name": "stdout",
          "output_type": "stream",
          "text": [
            "SQL tables from /home/gunnar/DMA2024TeamC/Data/CALICO_MA_Database/CALICO_MA.db' \n",
            "\n",
            "procedures                    DATE                               PATIENT  \\\n",
            "0  2012-08-18T01:15:42Z  8417ea73-2556-9bc3-817e-964762bda4ae   \n",
            "1  2018-07-10T02:28:40Z  bbd3db10-bbdb-8d43-61aa-ad2dab78459a   \n",
            "2  2017-08-10T00:29:05Z  d72aeff7-23b0-ada3-3816-c526929756af   \n",
            "3  2017-02-14T23:51:25Z  003c0d44-9dfc-ca91-6121-373a8e265bd4   \n",
            "4  2015-01-15T21:33:08Z  af00d875-b1d1-f35d-edc2-d5c9dc2a1510   \n",
            "5  2014-11-08T22:14:05Z  d72aeff7-23b0-ada3-3816-c526929756af   \n",
            "6  2017-02-04T12:29:47Z  e803d488-9ca7-ac8b-ae6a-f5fc546fc87e   \n",
            "7  2018-04-11T15:42:52Z  01d6dc15-6313-5327-8491-49be72f40d59   \n",
            "8  2013-02-06T02:40:40Z  bbd3db10-bbdb-8d43-61aa-ad2dab78459a   \n",
            "9  2015-01-25T08:00:58Z  e2f4128f-618a-1518-7641-289832c5cd6e   \n",
            "\n",
            "                              ENCOUNTER       CODE  \\\n",
            "0  fbc75bf8-eeb8-669a-b2eb-cca6d6b4486f  434363004   \n",
            "1  d6bde22a-eedb-9767-5598-43042bab7636   71651007   \n",
            "2  fce6e4a7-71d2-9afb-a46a-c5e175a86422   35025007   \n",
            "3  9d52b645-99ca-0828-02db-a785561ad946   40701008   \n",
            "4  5b7d820b-86d8-2e4c-c0a9-328fe23fbcf5   73761001   \n",
            "5  7da7fa5a-8ca3-e735-5733-f875a93c44b4   35025007   \n",
            "6  7db375a6-8f56-ae45-ed11-bc39856ff8aa  180325003   \n",
            "7  85d322db-ea0b-55de-965f-c64818801f3e  180325003   \n",
            "8  102b2953-08b9-d478-3a85-579e29f4887f  385798007   \n",
            "9  5e016db7-286d-8dc6-5c07-47c68c463eec  703423002   \n",
            "\n",
            "                                         DESCRIPTION  BASE_COST   REASONCODE  \\\n",
            "0  Human epidermal growth factor receptor 2 gene ...    2688.54  254837009.0   \n",
            "1                            Mammography (procedure)     128.75  254837009.0   \n",
            "2              Manual pelvic examination (procedure)     232.12  254837009.0   \n",
            "3                       Echocardiography (procedure)    1054.03  230690007.0   \n",
            "4                                        Colonoscopy   17440.94          NaN   \n",
            "5              Manual pelvic examination (procedure)     247.17  254837009.0   \n",
            "6                           Electrical cardioversion   36712.54   49436004.0   \n",
            "7                           Electrical cardioversion   31351.09   49436004.0   \n",
            "8            Radiation therapy care (regime/therapy)     516.65  254837009.0   \n",
            "9  Combined chemotherapy and radiation therapy (p...   12759.15  109838007.0   \n",
            "\n",
            "                         REASONDESCRIPTION        cancer_type  \n",
            "0  Malignant neoplasm of breast (disorder)      Breast_Cancer  \n",
            "1  Malignant neoplasm of breast (disorder)      Breast_Cancer  \n",
            "2  Malignant neoplasm of breast (disorder)      Breast_Cancer  \n",
            "3                                   Stroke  Colectoral_Cancer  \n",
            "4                                     None  Colectoral_Cancer  \n",
            "5  Malignant neoplasm of breast (disorder)      Breast_Cancer  \n",
            "6                      Atrial Fibrillation        Lung_Cancer  \n",
            "7                      Atrial Fibrillation  Colectoral_Cancer  \n",
            "8  Malignant neoplasm of breast (disorder)      Breast_Cancer  \n",
            "9  Overlapping malignant neoplasm of colon  Colectoral_Cancer   \n",
            "SQL tables from /home/gunnar/DMA2024TeamC/Data/CALICO_MA_Database/CALICO_MA.db' \n",
            "\n",
            "encounters                                      Id                 START  \\\n",
            "0  6584e362-d4f9-cbd1-3f7e-ff24cbfa48a1  2017-01-06T21:42:05Z   \n",
            "1  b8d1d5d8-1a35-12fc-7b8a-4f91653b2e4f  2014-10-27T08:00:58Z   \n",
            "2  979ad135-2d1b-b32f-23af-c78a044d8744  2020-03-26T12:11:14Z   \n",
            "3  4f9dab67-79a1-de53-e722-3a237ac1ce66  2017-11-03T23:06:52Z   \n",
            "4  1e4de702-aa80-e20f-cbea-25921d9ac7cc  2019-11-03T09:55:33Z   \n",
            "5  bbd02bcc-4889-4c26-553f-a721e35abfd5  2020-03-26T19:45:13Z   \n",
            "6  f2a38216-93eb-03b4-4891-46142c906454  2015-05-30T06:47:42Z   \n",
            "7  7814470a-568f-3015-ab50-d992df070189  2014-10-10T09:14:26Z   \n",
            "8  ee13fcb6-2426-841a-4198-fd680f22f4f0  2018-02-18T03:32:45Z   \n",
            "9  284e4c09-bb63-f8ba-5b97-8e0de30cdc58  2017-07-17T05:42:19Z   \n",
            "\n",
            "                   STOP                               PATIENT  \\\n",
            "0  2017-01-06T21:57:05Z  84c7eb88-a5fe-7c7f-5d6e-a3e82492c184   \n",
            "1  2014-10-27T08:15:58Z  e2f4128f-618a-1518-7641-289832c5cd6e   \n",
            "2  2020-03-26T12:26:14Z  27732fb0-22fe-e64f-0a7a-3d5b9e281fc5   \n",
            "3  2017-11-03T23:21:52Z  10afb0e0-45b3-3874-05f0-00c4fe6deec1   \n",
            "4  2019-11-03T10:10:33Z  521c8f28-3ea8-99d6-3ce0-081d0d0fc557   \n",
            "5  2020-03-26T20:00:13Z  0a6fe14e-0475-af2c-fe56-e22d1c7b3c00   \n",
            "6  2015-05-30T07:02:42Z  be1c6182-1c1f-7494-baf7-e34f85424d74   \n",
            "7  2014-10-10T09:29:26Z  7c048eb0-6e28-1f24-d145-bc30361a00dd   \n",
            "8  2018-02-18T03:47:45Z  299f3805-d723-9012-7ad8-e2732754dc45   \n",
            "9  2017-07-17T05:57:19Z  e9dcd588-0c86-b470-3957-0ef2b05758d9   \n",
            "\n",
            "                           ORGANIZATION                              PROVIDER  \\\n",
            "0  ee1a65b6-9cdc-32ca-a8ea-8c1b1bfca928  4023f5e0-e23e-3b6b-950d-df29d6e2e40e   \n",
            "1  bee3973f-125a-3713-807e-8e9c0f9e304e  3261663e-b1d1-3e52-840c-c3a4583b3f50   \n",
            "2  de941e1d-95b9-3fb4-8657-035745b38061  68db7858-3ee7-31a6-8e71-b3f46a88ecef   \n",
            "3  0302307f-be1c-3f1c-9529-366199ca523d  56018688-3fc7-3748-938a-444ad415b10f   \n",
            "4  9473c85d-4979-35a3-bf0f-58a99b1f8d23  5ab715bc-c239-3d9f-b1d8-7cd05fd60e9f   \n",
            "5  7517e2f9-f8ee-3767-8a0c-afc8899a7207  9984ea0d-22b5-37f6-89c9-a5c174d60b92   \n",
            "6  c4fc1acd-2559-3301-9e04-f9cc7995fc20  fdda24e5-2ed1-3d6f-86e8-ff3489a85bad   \n",
            "7  d8a128bf-29b5-3b32-b832-27cc03ae2b1c  f80683bf-7f52-3181-a49d-05372195d8c4   \n",
            "8  78f24216-8805-3436-ae9f-53aa1cb276b7  b8794c4e-d47d-39e3-b802-f97c93f6f4be   \n",
            "9  1a3625e3-aae0-305c-ae4b-ed26eaefa2b6  eda243b6-68ff-32ea-ae8c-d93c5a0e5787   \n",
            "\n",
            "                                  PAYER ENCOUNTERCLASS       CODE  \\\n",
            "0  5059a55e-5d6e-34d1-b6cb-d83d16e57bcf       wellness  410620009   \n",
            "1  b1c428d6-4f07-31e0-90f0-68ffa6ff8c76       wellness  162673000   \n",
            "2  6e2f1a2d-27bd-3701-8d08-dae202c58632       wellness  162673000   \n",
            "3  d47b3510-2895-3b70-9897-342d681c769d       wellness  410620009   \n",
            "4  7caa7254-5050-3b5e-9eae-bd5ea30e809c       wellness  162673000   \n",
            "5  7caa7254-5050-3b5e-9eae-bd5ea30e809c       wellness  162673000   \n",
            "6  7c4411ce-02f1-39b5-b9ec-dfbea9ad3c1a       wellness  162673000   \n",
            "7  b1c428d6-4f07-31e0-90f0-68ffa6ff8c76       wellness  162673000   \n",
            "8  42c4fca7-f8a9-3cd1-982a-dd9751bf3e2a       wellness  410620009   \n",
            "9  7c4411ce-02f1-39b5-b9ec-dfbea9ad3c1a       wellness  162673000   \n",
            "\n",
            "                                  DESCRIPTION  BASE_ENCOUNTER_COST  \\\n",
            "0                Well child visit (procedure)               129.16   \n",
            "1  General examination of patient (procedure)               129.16   \n",
            "2  General examination of patient (procedure)               129.16   \n",
            "3                Well child visit (procedure)               129.16   \n",
            "4  General examination of patient (procedure)               129.16   \n",
            "5  General examination of patient (procedure)               129.16   \n",
            "6  General examination of patient (procedure)               129.16   \n",
            "7  General examination of patient (procedure)               129.16   \n",
            "8                Well child visit (procedure)               129.16   \n",
            "9  General examination of patient (procedure)               129.16   \n",
            "\n",
            "   TOTAL_CLAIM_COST  PAYER_COVERAGE REASONCODE REASONDESCRIPTION  \\\n",
            "0            129.16          129.16       None              None   \n",
            "1            129.16            0.00       None              None   \n",
            "2            129.16          129.16       None              None   \n",
            "3            129.16          129.16       None              None   \n",
            "4            129.16          129.16       None              None   \n",
            "5            129.16          129.16       None              None   \n",
            "6            129.16          129.16       None              None   \n",
            "7            129.16            0.00       None              None   \n",
            "8            129.16          129.16       None              None   \n",
            "9            129.16          129.16       None              None   \n",
            "\n",
            "         cancer_type  \n",
            "0      Breast_Cancer  \n",
            "1  Colectoral_Cancer  \n",
            "2  Colectoral_Cancer  \n",
            "3  Colectoral_Cancer  \n",
            "4  Colectoral_Cancer  \n",
            "5        Lung_Cancer  \n",
            "6      Breast_Cancer  \n",
            "7      Breast_Cancer  \n",
            "8      Breast_Cancer  \n",
            "9      Breast_Cancer   \n",
            "SQL tables from /home/gunnar/DMA2024TeamC/Data/CALICO_MA_Database/CALICO_MA.db' \n",
            "\n",
            "immunizations                    DATE                               PATIENT  \\\n",
            "0  2019-07-05T13:28:52Z  8280d079-3c14-370e-b69a-b9830298ddc0   \n",
            "1  2018-04-28T01:41:55Z  2b7ba549-a22d-daf9-c31b-08ceec3640d9   \n",
            "2  2020-03-06T10:12:17Z  c3f75f0e-0020-f8d0-f949-da7f945d8ee1   \n",
            "3  2013-05-01T06:10:28Z  480d4518-2165-c7b9-ecb4-bd67093054b2   \n",
            "4  2011-03-23T04:39:36Z  0e404532-50c2-7c12-e9f3-a45cec84a6f0   \n",
            "5  2011-10-13T23:27:09Z  1f0c1f1f-a1c2-1965-c1cd-e97d019db9fb   \n",
            "6  2020-06-27T09:53:58Z  ecc446f4-ba4e-3b1a-6aac-2e9f8f912555   \n",
            "7  2014-01-13T19:12:43Z  a2edf112-0de1-1f99-a8bb-f04b5a810d41   \n",
            "8  2014-04-21T07:49:00Z  1a496aad-4447-2f6c-d595-cac7a1f5acea   \n",
            "9  2019-12-14T05:05:00Z  8a91307b-a11e-2478-7c80-2de286b0a8b5   \n",
            "\n",
            "                              ENCOUNTER  CODE  \\\n",
            "0  ce9f6eb5-b2e6-63de-ccc8-6b8638033fed    83   \n",
            "1  dfce5d8c-b308-b274-6525-178a09be2acf   140   \n",
            "2  4014f48f-7774-90ea-12a1-cec99eb21a6b   113   \n",
            "3  b103fb7b-2cc4-86d4-d21f-028c473677cc   140   \n",
            "4  c79d6838-07ae-8277-8102-9f4c9a0b8351   133   \n",
            "5  bdcb0a97-2e68-1015-5a7c-c4172ff31a59   140   \n",
            "6  c7127ace-f28d-e6b2-f5b8-609b39128926   140   \n",
            "7  0ed41e5c-1663-f358-29a3-d72be6edd117     8   \n",
            "8  22b57949-2391-13cb-b3aa-e45b7570815c    20   \n",
            "9  21eb29b3-e04f-9854-5bc5-4c191fbb21f8   140   \n",
            "\n",
            "                                         DESCRIPTION  BASE_COST  \\\n",
            "0                            Hep A  ped/adol  2 dose     140.52   \n",
            "1  Influenza  seasonal  injectable  preservative ...     140.52   \n",
            "2                       Td (adult) preservative free     140.52   \n",
            "3  Influenza  seasonal  injectable  preservative ...     140.52   \n",
            "4                      Pneumococcal conjugate PCV 13     140.52   \n",
            "5  Influenza  seasonal  injectable  preservative ...     140.52   \n",
            "6  Influenza  seasonal  injectable  preservative ...     140.52   \n",
            "7                     Hep B  adolescent or pediatric     140.52   \n",
            "8                                               DTaP     140.52   \n",
            "9  Influenza  seasonal  injectable  preservative ...     140.52   \n",
            "\n",
            "         cancer_type  \n",
            "0        Lung_Cancer  \n",
            "1      Breast_Cancer  \n",
            "2  Colectoral_Cancer  \n",
            "3  Colectoral_Cancer  \n",
            "4        Lung_Cancer  \n",
            "5  Colectoral_Cancer  \n",
            "6        Lung_Cancer  \n",
            "7  Colectoral_Cancer  \n",
            "8        Lung_Cancer  \n",
            "9  Colectoral_Cancer   \n",
            "SQL tables from /home/gunnar/DMA2024TeamC/Data/CALICO_MA_Database/CALICO_MA.db' \n",
            "\n",
            "medications                   START                  STOP  \\\n",
            "0  2011-08-20T20:58:16Z  2011-08-20T22:40:16Z   \n",
            "1  2012-01-30T00:38:49Z  2012-01-30T00:53:49Z   \n",
            "2  2002-09-12T06:25:59Z                  None   \n",
            "3  1984-06-24T05:28:23Z  1985-05-19T05:43:23Z   \n",
            "4  1995-04-07T18:41:15Z  1995-04-07T18:56:15Z   \n",
            "5  2005-06-04T19:29:01Z  2005-06-04T19:44:01Z   \n",
            "6  2018-05-30T18:22:47Z                  None   \n",
            "7  1991-10-13T02:27:51Z                  None   \n",
            "8  2012-07-11T05:29:26Z                  None   \n",
            "9  2020-07-16T14:10:54Z  2020-07-16T14:25:54Z   \n",
            "\n",
            "                                PATIENT                                 PAYER  \\\n",
            "0  d42d555a-8825-38af-e8c3-1b7f503730e9  047f6ec3-6215-35eb-9608-f9dda363a44c   \n",
            "1  76ec4c4d-02cf-14d9-3986-d48fc07b056e  b1c428d6-4f07-31e0-90f0-68ffa6ff8c76   \n",
            "2  2c22e51c-43cb-977a-8db1-b6f2ee6dc70f  4d71f845-a6a9-3c39-b242-14d25ef86a8d   \n",
            "3  b7e4a7a2-7391-d075-1178-29bad30ba676  7c4411ce-02f1-39b5-b9ec-dfbea9ad3c1a   \n",
            "4  cdd5d10d-6913-075b-6c54-56276e111bee  5059a55e-5d6e-34d1-b6cb-d83d16e57bcf   \n",
            "5  af90f8f3-2bdd-c30b-0ac4-27c98972c091  047f6ec3-6215-35eb-9608-f9dda363a44c   \n",
            "6  21d15e99-a155-d48f-86e6-ee767ca17745  7caa7254-5050-3b5e-9eae-bd5ea30e809c   \n",
            "7  d1c6678d-f036-07df-1a26-bbeb68cfe38e  7caa7254-5050-3b5e-9eae-bd5ea30e809c   \n",
            "8  86b73fb5-f60e-1e0c-bf82-8e87bb5927bd  b1c428d6-4f07-31e0-90f0-68ffa6ff8c76   \n",
            "9  038eb669-b744-c2bc-18c6-6e37068c722f  7caa7254-5050-3b5e-9eae-bd5ea30e809c   \n",
            "\n",
            "                              ENCOUNTER     CODE  \\\n",
            "0  ebeaa9d4-c9c7-d9e0-31ec-febac0284f60   583214   \n",
            "1  86e2f41a-ed8c-699b-2aed-2d78b434e9fb  1660014   \n",
            "2  d0721b53-e7a6-79e3-4477-8db6884e5b08   309362   \n",
            "3  9d653d34-8a7b-5de2-d4bf-159b3ae5d3ed   705129   \n",
            "4  56c14336-a9fa-be47-6f6a-409dbea2d2de  1190795   \n",
            "5  1999b2c0-938a-591c-ef2a-afd79fda9a66   259255   \n",
            "6  546c749c-b0e7-e538-9508-71ed0b1b87b8   197361   \n",
            "7  079f784d-1a5e-1cb2-3ce0-3f9de8d0bf06   312961   \n",
            "8  dee1e29d-f1ce-fa2f-5366-c4b5c0fdf388   897718   \n",
            "9  a7d22c9c-aca2-56b3-a8aa-de322b1b153b   309362   \n",
            "\n",
            "                                    DESCRIPTION  BASE_COST  PAYER_COVERAGE  \\\n",
            "0                   Paclitaxel 100 MG Injection    6931.96             0.0   \n",
            "1            1 ML Epinephrine 1 MG/ML Injection       5.11             0.0   \n",
            "2                 Clopidogrel 75 MG Oral Tablet      15.68             0.0   \n",
            "3     Nitroglycerin 0.4 MG/ACTUAT Mucosal Spray     143.60            83.6   \n",
            "4  Atropine Sulfate 1 MG/ML Injectable Solution      15.10             0.0   \n",
            "5                Atorvastatin 80 MG Oral Tablet     170.50             0.0   \n",
            "6                   Amlodipine 5 MG Oral Tablet      10.96             0.0   \n",
            "7                 Simvastatin 20 MG Oral Tablet      20.27             0.0   \n",
            "8                 Verapamil Hydrochloride 40 MG     237.77             0.0   \n",
            "9                 Clopidogrel 75 MG Oral Tablet      35.72             0.0   \n",
            "\n",
            "   DISPENSES  TOTALCOST   REASONCODE                        REASONDESCRIPTION  \\\n",
            "0          1    6931.96  254837009.0  Malignant neoplasm of breast (disorder)   \n",
            "1          1       5.11          NaN                                     None   \n",
            "2        147    2304.96          NaN                                     None   \n",
            "3         10    1436.00          NaN                                     None   \n",
            "4          1      15.10          NaN                                     None   \n",
            "5          1     170.50          NaN                                     None   \n",
            "6         30     328.80          NaN                                     None   \n",
            "7        354    7175.58          NaN                                     None   \n",
            "8        102   24252.54          NaN                                     None   \n",
            "9          1      35.72          NaN                                     None   \n",
            "\n",
            "         cancer_type  \n",
            "0      Breast_Cancer  \n",
            "1      Breast_Cancer  \n",
            "2      Breast_Cancer  \n",
            "3  Colectoral_Cancer  \n",
            "4  Colectoral_Cancer  \n",
            "5      Breast_Cancer  \n",
            "6        Lung_Cancer  \n",
            "7  Colectoral_Cancer  \n",
            "8        Lung_Cancer  \n",
            "9  Colectoral_Cancer   \n",
            "SQL tables from /home/gunnar/DMA2024TeamC/Data/CALICO_MA_Database/CALICO_MA.db' \n",
            "\n",
            "observations                    DATE                               PATIENT ENCOUNTER  CODE  \\\n",
            "0  2018-10-04T05:28:20Z  56793fc4-78ba-0277-d6a2-0e483231f72a      None  QOLS   \n",
            "1  2015-11-30T10:38:17Z  2d52d88c-748f-b561-04ca-6769aae4ad98      None  QALY   \n",
            "2  2019-10-27T12:36:29Z  d9e7c60b-2d4e-d996-6ead-a668373231f1      None  QALY   \n",
            "3  2010-05-25T01:15:13Z  8ffe840c-cbe6-2168-3413-c07f21c4edf8      None  QALY   \n",
            "4  2017-04-08T07:59:15Z  d16d519d-dfe1-1b53-6840-0ccb3dee5e70      None  QALY   \n",
            "5  2018-12-25T20:21:04Z  f5194ab7-e793-20bd-294a-9537531f66f9      None  QOLS   \n",
            "6  2013-06-24T09:08:51Z  d48e3bf7-f9ae-21ef-428d-71c4aa8afb16      None  QALY   \n",
            "7  2013-07-09T06:37:40Z  38c0e6a7-0d46-f9cc-aa96-9f22b206ffd1      None  DALY   \n",
            "8  2015-03-13T03:34:56Z  aebf06d3-4c92-f299-06cf-a7f75cdb3d62      None  QALY   \n",
            "9  2011-01-25T12:25:29Z  92cff8b8-d536-8dad-8462-cd41e7d6d84a      None  QOLS   \n",
            "\n",
            "  DESCRIPTION  VALUE    UNITS     TYPE        cancer_type  \n",
            "0        QOLS      1  {score}  numeric      Breast_Cancer  \n",
            "1        QALY      6        a  numeric  Colectoral_Cancer  \n",
            "2        QALY     59        a  numeric      Breast_Cancer  \n",
            "3        QALY     32        a  numeric      Breast_Cancer  \n",
            "4        QALY     31        a  numeric      Breast_Cancer  \n",
            "5        QOLS      1  {score}  numeric        Lung_Cancer  \n",
            "6        QALY      1        a  numeric      Breast_Cancer  \n",
            "7        DALY      0        a  numeric  Colectoral_Cancer  \n",
            "8        QALY     24        a  numeric      Breast_Cancer  \n",
            "9        QOLS      1  {score}  numeric      Breast_Cancer   \n",
            "SQL tables from /home/gunnar/DMA2024TeamC/Data/CALICO_MA_Database/CALICO_MA.db' \n",
            "\n",
            "patients                                      Id   BIRTHDATE DEATHDATE          SSN  \\\n",
            "0  0c66f8da-fee2-3b71-cb2f-a104ab102078  1913-02-03      None  999-97-9548   \n",
            "1  fb7887e1-177b-e7a3-4447-6bed20770f19  1956-01-27      None  999-98-3292   \n",
            "2  35c1957c-222e-d2e4-39ec-bc99a282f827  1961-12-21      None  999-74-4806   \n",
            "3  3541c9c0-04c7-4d63-5978-945eb5ca1222  1991-02-01      None  999-63-6682   \n",
            "4  bc75a2e7-b20d-71f4-79ac-5d704685257e  1994-05-01      None  999-75-3177   \n",
            "5  3b590eed-3a48-583f-e0d2-994cb098c987  1961-05-11      None  999-44-6098   \n",
            "6  bd3ba171-e961-06c5-ac2c-cbe9193cd4b9  1982-08-23      None  999-98-3337   \n",
            "7  3d479447-c3d3-59c9-7ce7-0ea97fa5ba19  1972-11-01      None  999-67-4597   \n",
            "8  d138447d-8ae3-e46f-dca5-a9bea72e9c9d  1963-05-15      None  999-23-7945   \n",
            "9  3a7ded4a-228c-2199-44e3-d311cbd3aa44  1974-09-21      None  999-18-8153   \n",
            "\n",
            "     DRIVERS    PASSPORT PREFIX       FIRST            LAST SUFFIX  ...  \\\n",
            "0  S99915448  X29534282X    Mr.    Sonny285      Kautzer186     JD  ...   \n",
            "1  S99959351  X62388322X   Mrs.   Lavina533         Cole117   None  ...   \n",
            "2  S99985158  X27312956X   Mrs.  Rosario163       Avilés474   None  ...   \n",
            "3  S99929987  X14886686X    Mr.   Clement78       Graham902   None  ...   \n",
            "4  S99966265   X2846317X    Mr.    Cecil300     Mitchell808   None  ...   \n",
            "5  S99990751  X86770143X   Mrs.  Laticia649        Weber641   None  ...   \n",
            "6  S99913341   X6310496X   Mrs.  Barbara209        Feest103   None  ...   \n",
            "7  S99941553   X1883094X   Mrs.   Freida957  Breitenberg711   None  ...   \n",
            "8  S99964862   X3062388X   Mrs.     Jane262         Brown30   None  ...   \n",
            "9  S99922504  X63709112X    Ms.     Leisa54       Walker122   None  ...   \n",
            "\n",
            "                        ADDRESS         CITY          STATE            COUNTY  \\\n",
            "0  1043 Bergstrom Light Unit 93      Dighton  Massachusetts    Bristol County   \n",
            "1                715 Kulas Neck       Boston  Massachusetts    Suffolk County   \n",
            "2    700 Schuster Mall Suite 35     Westwood  Massachusetts    Norfolk County   \n",
            "3           487 Mann Trafficway  Easthampton  Massachusetts  Hampshire County   \n",
            "4        502 Lakin Forge Unit 1   Somerville  Massachusetts  Middlesex County   \n",
            "5              833 Osinski Fork   Bellingham  Massachusetts    Norfolk County   \n",
            "6      286 Lesch Knoll Suite 31   Fall River  Massachusetts    Bristol County   \n",
            "7          1015 Dickinson Track   Greenfield  Massachusetts   Franklin County   \n",
            "8      784 Krajcik Forge Apt 52     Brockton  Massachusetts   Plymouth County   \n",
            "9          689 Balistreri Route    Hopkinton  Massachusetts  Middlesex County   \n",
            "\n",
            "      ZIP        LAT        LON HEALTHCARE_EXPENSES HEALTHCARE_COVERAGE  \\\n",
            "0     NaN  41.785655 -71.144503          1616151.78            14379.66   \n",
            "1  2125.0  42.362866 -71.074082          1483402.33             4333.76   \n",
            "2     NaN  42.248874 -71.209929          1420340.00             3859.68   \n",
            "3  1027.0  42.264090 -72.752062           683710.00             2523.12   \n",
            "4  2140.0  42.371298 -71.118607           673200.00             2674.80   \n",
            "5     NaN  42.124699 -71.482422          1291575.00             3553.84   \n",
            "6  2723.0  41.721154 -71.112223             4391.44                0.00   \n",
            "7  1301.0  42.633503 -72.645095           985160.00             2477.24   \n",
            "8  2351.0  42.116190 -71.003123          1179280.00             3190.52   \n",
            "9  1748.0  42.245754 -71.545980          1224960.00             3148.08   \n",
            "\n",
            "         cancer_type  \n",
            "0  Colectoral_Cancer  \n",
            "1  Colectoral_Cancer  \n",
            "2        Lung_Cancer  \n",
            "3  Colectoral_Cancer  \n",
            "4        Lung_Cancer  \n",
            "5        Lung_Cancer  \n",
            "6  Colectoral_Cancer  \n",
            "7        Lung_Cancer  \n",
            "8        Lung_Cancer  \n",
            "9      Breast_Cancer  \n",
            "\n",
            "[10 rows x 26 columns] \n"
          ]
        }
      ],
      "source": [
        "#Check if data is in the tables. 10 random rows are selected from each table\n",
        "\n",
        "for csv in csvs:\n",
        "    cur.execute(f\"SELECT * FROM {csv} ORDER BY RANDOM() LIMIT 10\")\n",
        "    rows = cur.fetchall()\n",
        "    df_random = pd.DataFrame(rows, columns=[desc[0] for desc in cur.description])\n",
        "    print(f\"SQL tables from {repo_home}Data/CALICO_MA_Database/{project_name}.db' \\n\\n{csv} {df_random} \")\n"
      ]
    },
    {
      "cell_type": "markdown",
      "metadata": {
        "id": "inn0cONkebqW"
      },
      "source": [
        "### Die Daten werden aus den verschiedenen Tabellen extrahiert und ggf. transformiert\n",
        " >Die Daten aus **Patients** werden erstmal in die Faktentabelle übertragen. Es handelt sich um die Krebsart, die Patienten ID, die geographische Koordinaten, die Healthcarekosten, die vom Patient getragen werden und diejenigen, die von der Krankenversicherung bezahlt werden, und zum Ende das Geburtsdatum.\n",
        "Damit die Faktentabelle keine Redundanzen aufweist, werden die Encounter ID nicht mehr einzeln gespeichert. Stattdessen werden in der Faktentabelle für jeden Patienten die gesamten Kosten gespeichert, die in jeder Kategorie (Encounters, Observations, Immunizations, Procedures umd Medications) verursacht wurden.  \n",
        "Die Transaktion in der Faktentabelle der Datenbank wird mit commit beendet.\n",
        "\n"
      ]
    },
    {
      "cell_type": "code",
      "execution_count": null,
      "metadata": {
        "id": "bo0kcX-xiSMa"
      },
      "outputs": [],
      "source": [
        "# TEST how many patients undergo Procedures\n",
        "#cur.execute('''SELECT COUNT(*) from procedures GROUP BY procedures.PATIENT''')\n",
        "#records = cur.fetchall()\n",
        "#i=1\n",
        "#for row in records:\n",
        "#  print(f'patient', i, 'undergoes ', row,' procedures')\n",
        "#  i=i+1"
      ]
    },
    {
      "cell_type": "code",
      "execution_count": 48,
      "metadata": {
        "colab": {
          "base_uri": "https://localhost:8080/"
        },
        "id": "YXJ3K44okdLR",
        "outputId": "1ebe5fc5-6a60-4f5d-a6aa-ad03d4b3a894"
      },
      "outputs": [
        {
          "name": "stdout",
          "output_type": "stream",
          "text": [
            "('d2061cc7-bee0-0e6c-3ac4-15c197c474e0', -71.11326024935221, 42.35992586937376, 1475230, 4244.639999999999, '1956-06-22')\n",
            "('073d8e80-ff90-1c8d-57e4-29bfca52c87f', -72.02631680460482, 42.25784546955933, 1489125, 4016.36, '1964-08-28')\n",
            "('e1ff7e68-4097-9faf-514d-e4cfcfdf252e', -71.8184488503781, 42.204289674137854, 57142.44, 2103.2, '1998-08-28')\n",
            "('a0f679cc-875f-dd72-ed13-9ca863ec6cf3', -70.90408406035422, 42.15026973562508, 408520, 2709, '2004-01-20')\n",
            "('e4166a9c-f7c5-bef7-ea43-b96281a2d586', -71.78487317237207, 42.2920819230455, 320400, 2970.68, '2006-03-23')\n",
            "('ee537126-7509-05de-2349-ab19604545d8', -71.04135024287056, 42.347570821295285, 784465, 2738.96, '1991-05-21')\n",
            "('826d5ce3-2b23-8bd8-b352-a77fdd083d68', -71.14747985490884, 42.52234296982323, 1425900, 3841.36, '1964-07-20')\n",
            "('0edfef0f-fa74-ab35-1122-4c537bb9765d', -71.00357653769244, 42.00384862981888, 512475, 2470.64, '1997-05-05')\n",
            "('0fe7e161-0f29-2b70-8e3d-757b15026295', -71.68411643063111, 42.58537262421069, 302400, 2583.2, '2008-12-26')\n",
            "('478e120c-67a4-4375-646f-c41e74f72478', -71.19387487133108, 41.96958788099574, 1202145, 2892.24, '1971-01-02')\n"
          ]
        }
      ],
      "source": [
        "# Datenextraktion aus der Patientstabelle\n",
        "cur.execute('''INSERT INTO facts_table\n",
        "                    ( cancer_type, patient_ID, encounter_ID, patient_LAT, patient_LON, patient_HEALTHCARE_EXPENSES , patient_HEALTHCARE_COVERAGE, patient_BIRTHDATE)\n",
        "                    SELECT\n",
        "                        p.cancer_type AS cancer_type,\n",
        "                        p.Id AS patient_ID,\n",
        "                        NULL AS encounter_ID,  -- Replace with the actual encounter_ID or set to NULL if not applicable\n",
        "                        p.LAT AS patient_LAT,\n",
        "                        p.LON AS patient_LON,\n",
        "                        p.HEALTHCARE_EXPENSES AS patient_HEALTHCARE_EXPENSES,\n",
        "                        p.HEALTHCARE_COVERAGE AS patient_HEALTHCARE_COVERAGE,\n",
        "                        p.BIRTHDATE AS patient_BIRTHDATE\n",
        "                    FROM patients p\n",
        "                    ;''')\n",
        "\n",
        "# Ende der Transaktion\n",
        "conn.commit()\n",
        "\n",
        "# Schnelle Überprüfung der Datenübertragung ins die Faktentabelle\n",
        "cur.execute('''SELECT patient_ID, patient_LON, patient_LAT, patient_HEALTHCARE_EXPENSES, patient_HEALTHCARE_COVERAGE, patient_BIRTHDATE FROM facts_table''')\n",
        "records = cur.fetchall()\n",
        "# show 10 rows\n",
        "for row in records[:10]:\n",
        "  print(row)"
      ]
    },
    {
      "cell_type": "markdown",
      "metadata": {
        "id": "oXjw01ODlnpI"
      },
      "source": [
        "Die Daten werden aus **Observations** eintragen:\n",
        "nur die Tuples mit dem neuesten Datum werden berücksichtigt. Gespeichert werden die Art der Observation (QALY, DALY oder QoLS), den neuesten Wert und das entsprechende Datum. Ausserdem wird das Alter am Tag der letzten Observation berechnet und eingetragen. Die Transaktion wird mit commit beendet. Das Speichern der neuen Einträge wird überprüft."
      ]
    },
    {
      "cell_type": "code",
      "execution_count": 49,
      "metadata": {
        "colab": {
          "base_uri": "https://localhost:8080/"
        },
        "id": "F9g6vWyIVbmE",
        "outputId": "cd711a19-9ac6-490b-9ad3-65ef9769f4ba"
      },
      "outputs": [
        {
          "name": "stdout",
          "output_type": "stream",
          "text": [
            "('d2061cc7-bee0-0e6c-3ac4-15c197c474e0', 'QALY', 63, '1956-06-22', '2020-06-22T10:47:46Z', 0)\n",
            "('073d8e80-ff90-1c8d-57e4-29bfca52c87f', 'QALY', 55, '1964-08-28', '2020-08-28T16:45:45Z', 0)\n",
            "('e1ff7e68-4097-9faf-514d-e4cfcfdf252e', 'QALY', 21, '1998-08-28', '2020-08-28T07:43:32Z', 0)\n",
            "('a0f679cc-875f-dd72-ed13-9ca863ec6cf3', 'QALY', 15, '2004-01-20', '2020-01-20T15:27:37Z', 0)\n",
            "('e4166a9c-f7c5-bef7-ea43-b96281a2d586', 'QALY', 13, '2006-03-23', '2020-03-23T22:58:03Z', 0)\n",
            "('ee537126-7509-05de-2349-ab19604545d8', 'QALY', 28, '1991-05-21', '2020-05-21T01:23:21Z', 0)\n",
            "('826d5ce3-2b23-8bd8-b352-a77fdd083d68', 'QALY', 55, '1964-07-20', '2020-07-20T05:08:46Z', 0)\n",
            "('0edfef0f-fa74-ab35-1122-4c537bb9765d', 'QALY', 22, '1997-05-05', '2020-05-04T22:31:18Z', 0)\n",
            "('0fe7e161-0f29-2b70-8e3d-757b15026295', 'QALY', 10, '2008-12-26', '2019-12-26T13:49:03Z', 0)\n",
            "('478e120c-67a4-4375-646f-c41e74f72478', 'QALY', 49, '1971-01-02', '2020-01-02T11:38:08Z', 0)\n"
          ]
        }
      ],
      "source": [
        "# Datenextraktion aus der Observationstabelle\n",
        "cur.execute('''UPDATE\n",
        "                  facts_table\n",
        "               SET\n",
        "                  observations_CODE = obs.CODE,\n",
        "                  observations_VALUE = obs.maxVALUE,\n",
        "                  observations_DATE = obs.maxDATE,\n",
        "                  observations_AGE = substring(obs.maxDATE,7,4) - substring(patient_BIRTHDATE,7,4)\n",
        "               FROM\n",
        "                    (SELECT PATIENT, CODE, MAX(VALUE) as maxVALUE, MAX(observations.DATE) as maxDATE\n",
        "                    FROM observations\n",
        "                    GROUP BY PATIENT\n",
        "                    ) AS obs\n",
        "                WHERE\n",
        "                  facts_table.patient_ID = obs.PATIENT\n",
        "                    ;''')\n",
        "\n",
        "# Ende der Transaktion\n",
        "conn.commit()\n",
        "\n",
        "# Schnelle Überprüfung der Datenübertragung ins die Faktentabelle\n",
        "cur.execute('''SELECT patient_ID, observations_CODE, observations_VALUE, patient_BIRTHDATE, observations_DATE, observations_AGE  FROM facts_table''')\n",
        "records = cur.fetchall()\n",
        "# show 10 rows\n",
        "for row in records[:10]:\n",
        "  print(row)"
      ]
    },
    {
      "cell_type": "markdown",
      "metadata": {
        "id": "Escam_11H8Vr"
      },
      "source": [
        "Die Daten werden aus **Encounters** eintragen. Es handelt sich um die Summe aller Encounter Kosten für jeden einzelnen Patienten.\n",
        "Falls dieser Wert nicht existiert, wird an ihrer Stelle 0 eingetragen.\n",
        "Jede Transaktion wird mit commt beendet. Das Speichern der neuen Einträge in die Faktentabelle wird überprüft.\n"
      ]
    },
    {
      "cell_type": "code",
      "execution_count": 50,
      "metadata": {
        "colab": {
          "base_uri": "https://localhost:8080/"
        },
        "id": "bkOtFAoFlS5H",
        "outputId": "77210707-6a82-4fd4-e2f8-00bdc8141304"
      },
      "outputs": [
        {
          "name": "stdout",
          "output_type": "stream",
          "text": [
            "('d2061cc7-bee0-0e6c-3ac4-15c197c474e0', 1291.6000000000001)\n",
            "('073d8e80-ff90-1c8d-57e4-29bfca52c87f', 1033.28)\n",
            "('e1ff7e68-4097-9faf-514d-e4cfcfdf252e', 1033.28)\n",
            "('a0f679cc-875f-dd72-ed13-9ca863ec6cf3', 1291.6000000000001)\n",
            "('e4166a9c-f7c5-bef7-ea43-b96281a2d586', 1291.6000000000001)\n",
            "('ee537126-7509-05de-2349-ab19604545d8', 387.48)\n",
            "('826d5ce3-2b23-8bd8-b352-a77fdd083d68', 1033.28)\n",
            "('0edfef0f-fa74-ab35-1122-4c537bb9765d', 904.1199999999999)\n",
            "('0fe7e161-0f29-2b70-8e3d-757b15026295', 1420.7600000000002)\n",
            "('478e120c-67a4-4375-646f-c41e74f72478', 645.8)\n"
          ]
        }
      ],
      "source": [
        "# Datenextraktion aus der Encounterstabelle und Berechnung der Summe aller Encounterkosten für jeden Patienten\n",
        "cur.execute('''UPDATE\n",
        "                  facts_table\n",
        "               SET\n",
        "                  encounter_Base_Encounter_Cost = enc.TOTALCOST\n",
        "               FROM\n",
        "                    (SELECT PATIENT, SUM(BASE_ENCOUNTER_COST) as TOTALCOST\n",
        "                    FROM encounters, facts_table\n",
        "                    WHERE facts_table.patient_ID = encounters.PATIENT\n",
        "                    GROUP BY PATIENT\n",
        "                    ) AS enc\n",
        "                WHERE\n",
        "                  facts_table.patient_ID = enc.PATIENT\n",
        "                    ;''')\n",
        "\n",
        "# Ende der Transaktion\n",
        "conn.commit()\n",
        "\n",
        "# Falls es keine Encounterkosten gibt, wird der Wert 0 stattdessen eingetragen\n",
        "cur.execute('''UPDATE\n",
        "                  facts_table\n",
        "               SET\n",
        "                  encounter_Base_Encounter_Cost = 0\n",
        "                WHERE encounter_Base_Encounter_Cost IS NULL\n",
        "                    ;''')\n",
        "\n",
        "# Ende der Transaktion\n",
        "conn.commit()\n",
        "\n",
        "# Kurze Überprüfung\n",
        "cur.execute('''SELECT patient_ID, encounter_BASE_ENCOUNTER_COST FROM facts_table''')\n",
        "records = cur.fetchall()\n",
        "# show 10 rows\n",
        "for row in records[:10]:\n",
        "  print(row)\n",
        "\n"
      ]
    },
    {
      "cell_type": "code",
      "execution_count": 51,
      "metadata": {
        "colab": {
          "base_uri": "https://localhost:8080/"
        },
        "id": "JizAqymQbKRv",
        "outputId": "b46df8d6-6c32-4156-c55b-6e52f8a009e9"
      },
      "outputs": [
        {
          "name": "stdout",
          "output_type": "stream",
          "text": [
            "('001c3804-81e8-740e-dd91-973b584a2dd9', 387.48, 387.48)\n",
            "('002a707d-ba35-3d1a-46c0-ad8a98a22137', 774.9599999999999, 774.9599999999999)\n",
            "('003c0d44-9dfc-ca91-6121-373a8e265bd4', 1446.5800000000002, 1446.5800000000002)\n",
            "('008b26ab-5c12-7a5b-cda4-f54484d5f749', 1291.6000000000001, 1291.6000000000001)\n",
            "('009121bf-a672-8942-443e-85e18a33f766', 1162.44, 1162.44)\n",
            "('00e798f6-7d02-8485-c5fd-4b6bfb114c69', 516.64, 516.64)\n",
            "('00edcb46-afd4-4687-c16a-f4e20dfc3e92', 1188.26, 1188.26)\n",
            "('0103a559-910a-03df-6117-ec429eeb4ac9', 774.9599999999999, 774.9599999999999)\n",
            "('01518fe2-bd76-d1e9-a656-1e7eae35dd17', 1446.5800000000002, 1446.5800000000002)\n",
            "('01581211-2e47-027b-71a0-dcbf0f4e6622', 1317.42, 1317.42)\n"
          ]
        }
      ],
      "source": [
        "cur.execute('''SELECT patient_ID, encounter_BASE_ENCOUNTER_COST, SUM(BASE_ENCOUNTER_COST)\n",
        "                FROM facts_table, encounters WHERE facts_table.patient_ID = encounters.PATIENT\n",
        "                GROUP BY patient_ID''')\n",
        "records = cur.fetchall()\n",
        "# show 10 rows\n",
        "for row in records[:10]:\n",
        "  print(row)"
      ]
    },
    {
      "cell_type": "markdown",
      "metadata": {
        "id": "8w6rP5_JcgFK"
      },
      "source": [
        "Die Daten werden aus **Medications** eintragen. Es handelt sich um die Summe aller MedikationsKosten für jeden einzelnen Patienten.\n",
        "Falls dieser Wert nicht existiert, wird an ihrer Stelle 0 eingetragen.\n",
        "Jede Transaktion wird mit commt beendet. Das Speichern der neuen Einträge in die Faktentabelle wird überprüft."
      ]
    },
    {
      "cell_type": "code",
      "execution_count": 52,
      "metadata": {
        "id": "2_lPlR2bVq5Z"
      },
      "outputs": [],
      "source": [
        "cur.execute('''     UPDATE facts_table SET medications_TotalCost = med.TOTALCOST\n",
        "                    FROM\n",
        "                    (SELECT PATIENT, SUM(Totalcost) as TOTALCOST\n",
        "                    FROM medications, facts_table\n",
        "                    WHERE facts_table.patient_ID = medications.PATIENT\n",
        "                    GROUP BY PATIENT) as med\n",
        "                    WHERE facts_table.patient_ID = med.PATIENT\n",
        "                    ;''')\n",
        "conn.commit()"
      ]
    },
    {
      "cell_type": "code",
      "execution_count": 53,
      "metadata": {
        "id": "nMyPAw3Zgv9I"
      },
      "outputs": [],
      "source": [
        "cur.execute('''UPDATE\n",
        "                  facts_table\n",
        "               SET\n",
        "                  medications_TOTALCOST = 0\n",
        "                WHERE medications_TOTALCOST IS NULL\n",
        "                    ;''')\n",
        "conn.commit()"
      ]
    },
    {
      "cell_type": "code",
      "execution_count": 54,
      "metadata": {
        "colab": {
          "base_uri": "https://localhost:8080/"
        },
        "id": "24D1RL11XU9_",
        "outputId": "f790b5ba-f8f4-40ac-bd2f-6f6ff9b83e32"
      },
      "outputs": [
        {
          "name": "stdout",
          "output_type": "stream",
          "text": [
            "('003c0d44-9dfc-ca91-6121-373a8e265bd4', 30329.850000000002, 30329.85)\n",
            "('01d6dc15-6313-5327-8491-49be72f40d59', 113865.26, 113865.26000000001)\n",
            "('023c4bb2-6dc3-972e-379a-af19b8a2392d', 117956.49000000002, 117956.49)\n",
            "('02db7f22-8617-0cf7-fa10-d820d596a81a', 101166.45000000001, 101166.45000000001)\n",
            "('030287cd-dbd1-d7e1-6959-cfdfa0e271bd', 230.28, 230.28)\n",
            "('037404e1-0c87-534d-0fe2-e21ef20640f6', 70052.88, 70052.88)\n",
            "('038eb669-b744-c2bc-18c6-6e37068c722f', 49598.27, 49598.270000000004)\n",
            "('05023597-744e-9369-c390-e4090447a247', 63036.16, 63036.16)\n",
            "('05a3a33e-e9b1-0aaa-66f4-f0e2b57dce04', 3219.0699999999997, 3219.0699999999997)\n",
            "('072229fb-e8b1-a9ff-61b1-0cdab70c3c4c', 6615.34, 6615.34)\n"
          ]
        }
      ],
      "source": [
        "cur.execute('''SELECT patient_ID, medications_TOTALCOST, SUM(TOTALCOST)\n",
        "                FROM facts_table, medications WHERE facts_table.patient_ID = medications.PATIENT\n",
        "                GROUP BY patient_ID''')\n",
        "records = cur.fetchall()\n",
        "# show 10 rows\n",
        "for row in records[:10]:\n",
        "  print(row)"
      ]
    },
    {
      "cell_type": "markdown",
      "metadata": {
        "id": "i_zuP5pEBWyl"
      },
      "source": [
        "Die Daten werden aus **Procedures** eintragen. Es handelt sich um die Summe aller Prozedurenkosten für jeden einzelnen Patienten. Falls dieser Wert nicht existiert, wird an ihrer Stelle 0 eingetragen. Jede Transaktion wird mit commt beendet. Das Speichern der neuen Einträge in die Faktentabelle wird überprüft"
      ]
    },
    {
      "cell_type": "code",
      "execution_count": 55,
      "metadata": {
        "id": "PhHZdBsxczzX"
      },
      "outputs": [],
      "source": [
        "cur.execute('''     UPDATE facts_table SET procedures_BASE_COST = proc.TOTALCOST\n",
        "                    FROM\n",
        "                    (SELECT PATIENT, SUM(BASE_COST) as TOTALCOST\n",
        "                    FROM procedures, facts_table\n",
        "                    WHERE facts_table.patient_ID = procedures.PATIENT\n",
        "                    GROUP BY PATIENT) as proc\n",
        "                    WHERE facts_table.patient_ID = proc.PATIENT\n",
        "                    ;''')\n",
        "conn.commit()"
      ]
    },
    {
      "cell_type": "code",
      "execution_count": 56,
      "metadata": {
        "id": "Xk-l3nUpgoQv"
      },
      "outputs": [],
      "source": [
        "cur.execute('''UPDATE\n",
        "                  facts_table\n",
        "               SET\n",
        "                  procedures_BASE_COST = 0\n",
        "                WHERE procedures_BASE_COST IS NULL\n",
        "                    ;''')\n",
        "conn.commit()"
      ]
    },
    {
      "cell_type": "code",
      "execution_count": 57,
      "metadata": {
        "colab": {
          "base_uri": "https://localhost:8080/"
        },
        "id": "kOVBHeRwdTUH",
        "outputId": "656d2dfe-3597-4b37-cb19-7acbf2c3d912"
      },
      "outputs": [
        {
          "name": "stdout",
          "output_type": "stream",
          "text": [
            "('003c0d44-9dfc-ca91-6121-373a8e265bd4', 297586.43, 297586.43)\n",
            "('00edcb46-afd4-4687-c16a-f4e20dfc3e92', 23882.18, 23882.18)\n",
            "('01518fe2-bd76-d1e9-a656-1e7eae35dd17', 22514.35, 22514.35)\n",
            "('01581211-2e47-027b-71a0-dcbf0f4e6622', 34044.95, 34044.95)\n",
            "('01d6dc15-6313-5327-8491-49be72f40d59', 405522.31, 405522.31)\n",
            "('023c4bb2-6dc3-972e-379a-af19b8a2392d', 56170.43, 56170.43)\n",
            "('030287cd-dbd1-d7e1-6959-cfdfa0e271bd', 34779.04, 34779.04)\n",
            "('037404e1-0c87-534d-0fe2-e21ef20640f6', 28800.590000000004, 28800.59)\n",
            "('038eb669-b744-c2bc-18c6-6e37068c722f', 225341.52000000002, 225341.52)\n",
            "('05398088-a847-099e-3c61-c6153d83e024', 35182.2, 35182.2)\n"
          ]
        }
      ],
      "source": [
        "cur.execute('''SELECT patient_ID, procedures_Base_COST, SUM(Base_COST)\n",
        "                FROM facts_table, procedures WHERE facts_table.patient_ID = procedures.PATIENT\n",
        "                GROUP BY patient_ID''')\n",
        "records = cur.fetchall()\n",
        "# show 10 rows\n",
        "for row in records[:10]:\n",
        "  print(row)"
      ]
    },
    {
      "cell_type": "markdown",
      "metadata": {
        "id": "kBhSa5_4nceK"
      },
      "source": [
        "Die Daten werden aus **Immunizations** eintragen. Es handelt sich um die Summe aller Immunizationskosten für jeden einzelnen Patienten. Falls dieser Wert nicht existiert, wird an ihrer Stelle 0 eingetragen. Jede Transaktion wird mit commt beendet. Das Speichern der neuen Einträge in die Faktentabelle wird überprüft"
      ]
    },
    {
      "cell_type": "code",
      "execution_count": 58,
      "metadata": {
        "id": "yuvXDCf5dq0P"
      },
      "outputs": [],
      "source": [
        "cur.execute('''     UPDATE facts_table SET immunizations_Base_Cost = im.TOTALCOST\n",
        "                    FROM\n",
        "                    (SELECT PATIENT, SUM(Base_Cost) as TOTALCOST\n",
        "                    FROM immunizations, facts_table\n",
        "                    WHERE facts_table.patient_ID = immunizations.PATIENT\n",
        "                    GROUP BY PATIENT) as im\n",
        "                    WHERE facts_table.patient_ID = im.PATIENT\n",
        "                    ;''')\n",
        "conn.commit()"
      ]
    },
    {
      "cell_type": "code",
      "execution_count": 59,
      "metadata": {
        "id": "Tn5448tAgivf"
      },
      "outputs": [],
      "source": [
        "cur.execute('''UPDATE\n",
        "                  facts_table\n",
        "               SET\n",
        "                  immunizations_BASE_COST = 0\n",
        "                WHERE immunizations_BASE_COST IS NULL\n",
        "                    ;''')\n",
        "conn.commit()"
      ]
    },
    {
      "cell_type": "code",
      "execution_count": 60,
      "metadata": {
        "colab": {
          "base_uri": "https://localhost:8080/"
        },
        "id": "LZqMFbLhfXC4",
        "outputId": "268379ed-dfea-4ad0-ccf7-9055fb334525"
      },
      "outputs": [
        {
          "name": "stdout",
          "output_type": "stream",
          "text": [
            "('001c3804-81e8-740e-dd91-973b584a2dd9', 562.08, 562.08)\n",
            "('002a707d-ba35-3d1a-46c0-ad8a98a22137', 1264.68, 1264.68)\n",
            "('003c0d44-9dfc-ca91-6121-373a8e265bd4', 1405.2, 1405.2)\n",
            "('008b26ab-5c12-7a5b-cda4-f54484d5f749', 1545.72, 1545.72)\n",
            "('009121bf-a672-8942-443e-85e18a33f766', 1545.72, 1545.72)\n",
            "('00e798f6-7d02-8485-c5fd-4b6bfb114c69', 983.64, 983.64)\n",
            "('00edcb46-afd4-4687-c16a-f4e20dfc3e92', 1545.72, 1545.72)\n",
            "('0103a559-910a-03df-6117-ec429eeb4ac9', 1264.68, 1264.68)\n",
            "('01518fe2-bd76-d1e9-a656-1e7eae35dd17', 1826.76, 1826.76)\n",
            "('01581211-2e47-027b-71a0-dcbf0f4e6622', 1686.24, 1686.24)\n"
          ]
        }
      ],
      "source": [
        "cur.execute(''' SELECT patient_ID, immunizations_BASE_COST, SUM(BASE_COST) FROM facts_table, immunizations\n",
        "                WHERE facts_table.patient_ID = immunizations.PATIENT\n",
        "                GROUP BY patient_ID''' )\n",
        "records = cur.fetchall()\n",
        "# show 10 rows\n",
        "for row in records[:10]:\n",
        "  print(row)"
      ]
    },
    {
      "cell_type": "markdown",
      "metadata": {
        "id": "XMGm9tGzoD78"
      },
      "source": [
        "##Das Datawarehouse ist fast fertig ausgefüllt.\n",
        "Hier werden die ersten Tupeln der Faktentabelle angezeigt.\n",
        "Der \"None\"-Eintrag entspricht der Spalte für Encounters. Diese Spalte wird nicht benutzt, deshalb wurde sie nicht ausgefüllt."
      ]
    },
    {
      "cell_type": "code",
      "execution_count": 61,
      "metadata": {
        "colab": {
          "base_uri": "https://localhost:8080/"
        },
        "id": "EdRm9dEhoNiU",
        "outputId": "3c437e6f-b0e0-4ed3-c189-72134094b087"
      },
      "outputs": [
        {
          "name": "stdout",
          "output_type": "stream",
          "text": [
            "('Breast_Cancer', 'd2061cc7-bee0-0e6c-3ac4-15c197c474e0', None, 42.35992586937376, -71.11326024935221, 1475230, 4244.639999999999, '1956-06-22', 'QALY', 63, '2020-06-22T10:47:46Z', 0, 0, 4231.71, 1545.72, 1291.6000000000001)\n",
            "('Breast_Cancer', '073d8e80-ff90-1c8d-57e4-29bfca52c87f', None, 42.25784546955933, -72.02631680460482, 1489125, 4016.36, '1964-08-28', 'QALY', 55, '2020-08-28T16:45:45Z', 0, 0, 0, 1545.72, 1033.28)\n",
            "('Breast_Cancer', 'e1ff7e68-4097-9faf-514d-e4cfcfdf252e', None, 42.204289674137854, -71.8184488503781, 57142.44, 2103.2, '1998-08-28', 'QALY', 21, '2020-08-28T07:43:32Z', 0, 0, 0, 1826.76, 1033.28)\n",
            "('Breast_Cancer', 'a0f679cc-875f-dd72-ed13-9ca863ec6cf3', None, 42.15026973562508, -70.90408406035422, 408520, 2709, '2004-01-20', 'QALY', 15, '2020-01-20T15:27:37Z', 0, 0, 0, 2248.32, 1291.6000000000001)\n",
            "('Breast_Cancer', 'e4166a9c-f7c5-bef7-ea43-b96281a2d586', None, 42.2920819230455, -71.78487317237207, 320400, 2970.68, '2006-03-23', 'QALY', 13, '2020-03-23T22:58:03Z', 0, 0, 0, 2669.88, 1291.6000000000001)\n",
            "('Breast_Cancer', 'ee537126-7509-05de-2349-ab19604545d8', None, 42.347570821295285, -71.04135024287056, 784465, 2738.96, '1991-05-21', 'QALY', 28, '2020-05-21T01:23:21Z', 0, 0, 0, 843.12, 387.48)\n",
            "('Breast_Cancer', '826d5ce3-2b23-8bd8-b352-a77fdd083d68', None, 42.52234296982323, -71.14747985490884, 1425900, 3841.36, '1964-07-20', 'QALY', 55, '2020-07-20T05:08:46Z', 0, 0, 0, 1545.72, 1033.28)\n",
            "('Breast_Cancer', '0edfef0f-fa74-ab35-1122-4c537bb9765d', None, 42.00384862981888, -71.00357653769244, 512475, 2470.64, '1997-05-05', 'QALY', 22, '2020-05-04T22:31:18Z', 0, 0, 0, 1545.72, 904.1199999999999)\n",
            "('Breast_Cancer', '0fe7e161-0f29-2b70-8e3d-757b15026295', None, 42.58537262421069, -71.68411643063111, 302400, 2583.2, '2008-12-26', 'QALY', 10, '2019-12-26T13:49:03Z', 0, 0, 0, 2529.36, 1420.7600000000002)\n",
            "('Breast_Cancer', '478e120c-67a4-4375-646f-c41e74f72478', None, 41.96958788099574, -71.19387487133108, 1202145, 2892.24, '1971-01-02', 'QALY', 49, '2020-01-02T11:38:08Z', 0, 0, 0, 1124.16, 645.8)\n",
            "('Breast_Cancer', '622b5d81-6868-03d0-85b2-1d5bb908f6a5', None, 42.48988426081044, -71.00555252535908, 68200, 1291.6, '2018-05-25', 'QALY', 1, '2020-05-25T09:05:41Z', 0, 0, 0, 3513, 1291.6000000000001)\n",
            "('Breast_Cancer', '9a4276b9-1377-f7fc-e011-1d27499c6d01', None, 42.752874164204464, -71.15940038332887, 354320, 2638.16, '2003-09-13', 'QALY', 16, '2020-09-13T08:21:28Z', 0, 0, 0, 2248.32, 1291.6000000000001)\n",
            "('Breast_Cancer', '2cc8c44f-74da-eae3-72ae-ba126845090f', None, 41.58100749932596, -70.4694166442777, 3745.64, 0, '1997-10-21', 'QALY', 22, '2020-10-21T02:35:08Z', 0, 0, 0, 1545.72, 904.1199999999999)\n",
            "('Breast_Cancer', '997c74a7-dd20-7297-43cf-eac7288e5600', None, 42.384553070776185, -71.03635755878973, 1358790, 4297.08, '1946-11-20', 'QALY', 73, '2020-11-20T16:08:00Z', 0, 0, 0, 1826.76, 1291.6000000000001)\n",
            "('Breast_Cancer', 'b4001499-a15a-980e-e3bb-e73b63045411', None, 42.40414478499341, -71.20457794822016, 1623235, 5822.84, '1936-10-14', 'QALY', 78.9, '2020-10-14T15:26:07Z', 0, 291817.27, 126568.09, 1545.72, 1420.7600000000002)\n",
            "('Breast_Cancer', '0d66b030-4794-8f98-431f-b9278319483b', None, 41.82440109320378, -71.02983284912989, 1388925, 3920.48, '1956-11-10', 'QALY', 63, '2020-11-10T04:41:11Z', 0, 0, 0, 1405.2, 1162.44)\n",
            "('Breast_Cancer', '70b626d0-ac97-e723-5e28-7648fd1bc9cf', None, 42.63769692288939, -71.27262499966696, 739020, 2313.12, '1988-08-31', 'QALY', 31, '2020-08-31T07:30:32Z', 0, 0, 0, 562.08, 387.48)\n",
            "('Breast_Cancer', 'daf6ffbc-efad-50be-8816-a2e6d456477b', None, 42.07896099939244, -72.58816173063528, 38224.64, 1291.6, '1945-07-20', 'QALY', 74, '2020-07-20T19:41:20Z', 0, 0, 0, 1545.72, 1162.44)\n",
            "('Breast_Cancer', '6c7c535b-322d-362f-2767-f80b0a03b7f8', None, 42.24894221219616, -71.18131791319499, 32909.74, 444.9599999999999, '1983-04-06', 'QALY', 30.6, '2020-04-06T20:15:30Z', 0, 0, 0, 702.6, 645.8)\n",
            "('Breast_Cancer', 'acf9dbc7-08f4-7241-229f-3bad03a29acc', None, 42.276699627605815, -71.1158775952769, 810920, 2683.96, '1990-05-21', 'QALY', 29, '2020-05-21T07:19:27Z', 0, 0, 0, 843.12, 387.48)\n",
            "('Breast_Cancer', '469faecb-5a98-fdc4-1ce1-cd200ca5868d', None, 42.37689331752121, -71.45932306611394, 1307820, 3550.52, '1963-10-06', 'QALY', 56, '2020-10-05T23:07:31Z', 0, 0, 0, 1686.24, 1162.44)\n",
            "('Breast_Cancer', '17eeae84-fd93-4f1f-e4f4-d01f4b3d6819', None, 42.80112884675044, -70.8305515048328, 613200, 2474.8, '1994-03-21', 'QALY', 25, '2020-03-21T02:21:40Z', 0, 0, 0, 1124.16, 645.8)\n",
            "('Breast_Cancer', '33684ffd-e9d9-4ed4-ec47-b12ebb06642b', None, 42.551552432563646, -71.04847186927205, 1490520, 4233.799999999999, '1954-09-19', 'QALY', 65, '2020-09-19T08:13:26Z', 0, 0, 0, 1545.72, 1162.44)\n",
            "('Breast_Cancer', 'f5a6e3b3-781d-d800-d4c3-1782e39258e8', None, 42.30724860097267, -71.06116779397863, 98706.48, 2826.4, '1942-04-01', 'QALY', 76.9, '2020-04-01T02:29:33Z', 0, 0, 20986.35, 1545.72, 1291.6000000000001)\n",
            "('Breast_Cancer', 'cb62ff66-c7a3-dec3-01c3-f7596d1f569e', None, 41.70327439761468, -71.04968752163553, 1409750, 4103.799999999999, '1955-02-01', 'QALY', 63.4, '2020-02-01T18:37:33Z', 0, 177246.3, 17901.81, 1686.24, 1291.6000000000001)\n",
            "('Breast_Cancer', '172337a7-9ac6-39cd-37db-20e1fcab4f2e', None, 42.01895905800736, -71.56828585645759, 1264080, 3186.4, '1970-11-27', 'QALY', 49, '2020-11-27T09:14:30Z', 0, 0, 0, 1124.16, 645.8)\n",
            "('Breast_Cancer', '224d86b9-eeda-e164-7e1f-cba4ec973cc6', None, 42.26118558551809, -72.00960643895051, 2712.36, 0, '2007-11-24', 'QALY', 12, '2020-11-24T14:42:02Z', 0, 0, 0, 2669.88, 1291.6000000000001)\n",
            "('Breast_Cancer', '1c212fec-e110-ee77-3f78-eb6141aca633', None, 42.0164922138481, -70.8925327381254, 1097307.42, 2870.6, '1979-06-29', 'QALY', 40, '2020-06-29T10:10:32Z', 0, 44056.7, 57.42, 562.08, 387.48)\n",
            "('Breast_Cancer', 'f8871273-1db8-1c87-fe2e-f87766b4e7f5', None, 42.39703751473838, -71.19350746941342, 390840, 2859.84, '2005-07-09', 'QALY', 14, '2020-07-09T21:35:20Z', 0, 0, 0, 2107.8, 1291.6000000000001)\n",
            "('Breast_Cancer', '5ea2c6ab-c205-ca9a-9e57-3acf569b93bf', None, 42.51582780987193, -71.0375122547284, 1033395, 2796.44, '1981-12-07', 'QALY', 37, '2019-12-07T03:31:26Z', 0, 0, 0, 562.08, 387.48)\n"
          ]
        }
      ],
      "source": [
        "cur.execute('''SELECT * FROM facts_table\n",
        "''')\n",
        "records = cur.fetchall()\n",
        "# show 4 rows\n",
        "for row in records[:30]:\n",
        "  print(row)"
      ]
    },
    {
      "cell_type": "code",
      "execution_count": 62,
      "metadata": {
        "colab": {
          "base_uri": "https://localhost:8080/"
        },
        "id": "aLWYwQVkmDrU",
        "outputId": "0d4ae7fd-0b5f-453f-ef40-ff601f9de2e5"
      },
      "outputs": [
        {
          "name": "stdout",
          "output_type": "stream",
          "text": [
            "    cid                           name           type  notnull dflt_value  pk\n",
            "0     0                    cancer_type         STRING        0       None   0\n",
            "1     1                     patient_ID         STRING        0       None   0\n",
            "2     2                   encounter_ID         STRING        0       None   0\n",
            "3     3                    patient_LAT   DECIMAL(6,2)        0       None   0\n",
            "4     4                    patient_LON   DECIMAL(6,2)        0       None   0\n",
            "5     5    patient_HEALTHCARE_EXPENSES   DECIMAL(9,2)        0       None   0\n",
            "6     6    patient_HEALTHCARE_COVERAGE   DECIMAL(9,2)        0       None   0\n",
            "7     7              patient_BIRTHDATE           DATE        0       None   0\n",
            "8     8              observations_CODE         STRING        0       None   0\n",
            "9     9             observations_VALUE         STRING        0       None   0\n",
            "10   10              observations_DATE           DATE        0       None   0\n",
            "11   11               observations_AGE   DECIMAL(6,2)        0       None   0\n",
            "12   12           procedures_BASE_COST  DECIMAL(11,2)        0       None   0\n",
            "13   13          medications_TOTALCOST  DECIMAL(11,2)        0       None   0\n",
            "14   14        immunizations_BASE_COST  DECIMAL(11,2)        0       None   0\n",
            "15   15  encounter_BASE_ENCOUNTER_COST  DECIMAL(11,2)        0       None   0\n"
          ]
        }
      ],
      "source": [
        "print(pd.read_sql_query(\"PRAGMA table_info('facts_table')\", conn))"
      ]
    }
  ],
  "metadata": {
    "colab": {
      "include_colab_link": true,
      "provenance": []
    },
    "kernelspec": {
      "display_name": "Python 3",
      "name": "python3"
    },
    "language_info": {
      "codemirror_mode": {
        "name": "ipython",
        "version": 3
      },
      "file_extension": ".py",
      "mimetype": "text/x-python",
      "name": "python",
      "nbconvert_exporter": "python",
      "pygments_lexer": "ipython3",
      "version": "3.10.13"
    }
  },
  "nbformat": 4,
  "nbformat_minor": 0
}
