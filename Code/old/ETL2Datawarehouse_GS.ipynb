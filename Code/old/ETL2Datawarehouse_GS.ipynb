{
  "cells": [
    {
      "cell_type": "markdown",
      "metadata": {
        "id": "view-in-github",
        "colab_type": "text"
      },
      "source": [
        "<a href=\"https://colab.research.google.com/github/Fuenfgeld/DMA2024TeamC/blob/main/Code/ETL2Datawarehouse_GS.ipynb\" target=\"_parent\"><img src=\"https://colab.research.google.com/assets/colab-badge.svg\" alt=\"Open In Colab\"/></a>"
      ]
    },
    {
      "cell_type": "markdown",
      "metadata": {
        "id": "vHosyFJW4vm1"
      },
      "source": [
        "**Kursarbeit Datenmanagement und -Archivierung WS 23/24**\n",
        "\n",
        "Master-Code Name-CALICO:MA\n"
      ]
    },
    {
      "cell_type": "markdown",
      "metadata": {
        "id": "mZXn3MCm6EUw"
      },
      "source": [
        "**Erstellung der Datenbank**\n",
        "\n",
        "\n",
        "*   Datenbankinitialisierung:\n",
        "\n"
      ]
    },
    {
      "cell_type": "markdown",
      "metadata": {
        "id": "R4Vq7BBP-kj0"
      },
      "source": [
        "> Laden Libraries"
      ]
    },
    {
      "cell_type": "code",
      "execution_count": 35,
      "metadata": {
        "id": "eriJl5b7-haW"
      },
      "outputs": [],
      "source": [
        "import os\n",
        "import pandas as pd\n",
        "from functools import reduce\n",
        "import sqlite3\n",
        "from sqlite3 import Error\n",
        "import csv\n",
        "#import requests"
      ]
    },
    {
      "cell_type": "markdown",
      "metadata": {
        "id": "VXZWN4WFzTND"
      },
      "source": [
        ">Google drive verbinden"
      ]
    },
    {
      "cell_type": "code",
      "execution_count": 36,
      "metadata": {
        "colab": {
          "base_uri": "https://localhost:8080/"
        },
        "id": "TCr42mndzTNE",
        "outputId": "59c1be6b-9f74-4ee9-b1bb-8a9ccddd2eb0"
      },
      "outputs": [
        {
          "output_type": "stream",
          "name": "stdout",
          "text": [
            "Mounted at /content/drive\n",
            "MyDrive  Shareddrives\n"
          ]
        }
      ],
      "source": [
        "from google.colab import drive\n",
        "drive.mount(\"/content/drive\", force_remount=True)\n",
        "!ls drive/"
      ]
    },
    {
      "cell_type": "markdown",
      "metadata": {
        "id": "OK5l6qwhzTNF"
      },
      "source": [
        ">connect to repo"
      ]
    },
    {
      "cell_type": "code",
      "execution_count": 37,
      "metadata": {
        "colab": {
          "base_uri": "https://localhost:8080/"
        },
        "id": "OWR3D4bBzTNG",
        "outputId": "ea98cf3a-60ff-41ea-8cbc-605a1d968a7b"
      },
      "outputs": [
        {
          "output_type": "stream",
          "name": "stdout",
          "text": [
            "Unterordner 'mein_unterordner' existiert bereits.\n"
          ]
        }
      ],
      "source": [
        "# Pfad zum Ordner\n",
        "ordner_pfad = \"/pfad/zum/ordner\"\n",
        "unterordner_name = \"mein_unterordner\"\n",
        "\n",
        "# Vollständiger Pfad zum Unterordner\n",
        "unterordner_pfad = os.path.join(ordner_pfad, unterordner_name)\n",
        "\n",
        "# Überprüfen, ob der Unterordner existiert\n",
        "if not os.path.exists(unterordner_pfad):\n",
        "    # Wenn der Unterordner nicht existiert, erstellen Sie ihn\n",
        "    os.makedirs(unterordner_pfad)\n",
        "    print(f\"Unterordner '{unterordner_name}' wurde erstellt.\")\n",
        "else:\n",
        "    print(f\"Unterordner '{unterordner_name}' existiert bereits.\")"
      ]
    },
    {
      "cell_type": "code",
      "execution_count": 38,
      "metadata": {
        "colab": {
          "base_uri": "https://localhost:8080/"
        },
        "id": "hCN64E-FzTNI",
        "outputId": "8c616537-2207-4241-b293-63937dd8dcc9"
      },
      "outputs": [
        {
          "output_type": "stream",
          "name": "stdout",
          "text": [
            "Ordner drive/MyDrive/calico_ma_repo existiert bereits\n"
          ]
        }
      ],
      "source": [
        "#definieren des Ordners in dem die repo gesichert werdern soll\n",
        "google_drive_folder = \"drive/MyDrive\"\n",
        "repo_colab_name = \"calico_ma_repo\"\n",
        "#full_path_repo_colab = f\"{google_drive_folder}+\"//\"+{repo_colab_name}\"\n",
        "full_path_repo_colab = os.path.join(google_drive_folder,repo_colab_name)\n",
        "if not os.path.exists(full_path_repo_colab):\n",
        "    os.makedirs(full_path_repo_colab)\n",
        "    print(f\"Ordner {full_path_repo_colab} ajngelegt\")\n",
        "else:\n",
        "    print(f\"Ordner {full_path_repo_colab} existiert bereits\")"
      ]
    },
    {
      "cell_type": "code",
      "execution_count": 39,
      "metadata": {
        "colab": {
          "base_uri": "https://localhost:8080/"
        },
        "id": "t_eLGJVAzTNI",
        "outputId": "41082727-f8fe-4bbc-d796-03a751b238ef"
      },
      "outputs": [
        {
          "output_type": "stream",
          "name": "stdout",
          "text": [
            "Reading package lists... Done\n",
            "Building dependency tree... Done\n",
            "Reading state information... Done\n",
            "git is already the newest version (1:2.34.1-1ubuntu1.10).\n",
            "0 upgraded, 0 newly installed, 0 to remove and 32 not upgraded.\n"
          ]
        }
      ],
      "source": [
        "! apt-get install git"
      ]
    },
    {
      "cell_type": "code",
      "execution_count": 40,
      "metadata": {
        "colab": {
          "base_uri": "https://localhost:8080/"
        },
        "id": "v6k0GYw4zTNJ",
        "outputId": "b96ba010-52d4-4379-ca5f-23ca913836be"
      },
      "outputs": [
        {
          "output_type": "stream",
          "name": "stdout",
          "text": [
            "fatal: destination path 'drive/MyDrive/calico_ma_repo' already exists and is not an empty directory.\n"
          ]
        }
      ],
      "source": [
        "!git clone https://github.com/Fuenfgeld/DMA2024TeamC.git $full_path_repo_colab"
      ]
    },
    {
      "cell_type": "code",
      "execution_count": 41,
      "metadata": {
        "colab": {
          "base_uri": "https://localhost:8080/"
        },
        "id": "ijnO0_LlzTNK",
        "outputId": "e66cda6b-9e40-4e10-da17-7d96a9b14768"
      },
      "outputs": [
        {
          "output_type": "stream",
          "name": "stdout",
          "text": [
            "Code  Data  Documentation  LICENSE  README.md\n"
          ]
        }
      ],
      "source": [
        "!ls $full_path_repo_colab"
      ]
    },
    {
      "cell_type": "markdown",
      "metadata": {
        "id": "c9whsxq3-FwZ"
      },
      "source": [
        ">Definition der Umgebnungsvariablen\n",
        "\n",
        ">Verbindung zu CSV-Dateien herstellen und Kategorisierung nach der Tumorerkrankung"
      ]
    },
    {
      "cell_type": "code",
      "execution_count": 42,
      "metadata": {
        "colab": {
          "base_uri": "https://localhost:8080/"
        },
        "id": "lEgV_Mbhhlv-",
        "outputId": "d0e92d9a-897d-4060-b3ba-9609e04f8b4e"
      },
      "outputs": [
        {
          "output_type": "stream",
          "name": "stdout",
          "text": [
            "drive/MyDrive/calico_ma_repo/\n",
            "drive/MyDrive/calico_ma_repo/Data/Quelldaten/CSV_Data/\n"
          ]
        }
      ],
      "source": [
        "#repo_home = \"/home/gunnar/DMA2024TeamC/\" ## muss entsprechend angepasst werden für das lokale repo verzeichnis\n",
        "repo_home = full_path_repo_colab+\"/\" ## repo in google drive\n",
        "csv_data_folder = repo_home + \"Data/Quelldaten/CSV_Data/\"\n",
        "project_name = \"CALICO_MA\"\n",
        "print(repo_home)\n",
        "print (csv_data_folder)"
      ]
    },
    {
      "cell_type": "markdown",
      "metadata": {
        "id": "rQQfNOR7jFuD"
      },
      "source": [
        "\n",
        "\n",
        "> Verbindung zu SQLite herstellen und Datebankinitialisierung Local\n",
        "\n",
        "\n"
      ]
    },
    {
      "cell_type": "markdown",
      "metadata": {
        "id": "lqxU1QoYzTNM"
      },
      "source": [
        ">The provided code is a Python script that establishes a connection to a SQLite database and creates a cursor object for executing SQL commands.\n",
        ">The `create_connection_local` function is defined to establish a connection to a SQLite database. The function takes one parameter, `local_path`, which is the path to the database file. Inside the function, a `try` block is used to attempt to establish the connection. The `sqlite3.connect` function is called with the path to the database file, which is constructed by concatenating `local_path`, the string 'Data/CALICO_MA_Database/', and the global variable `project_name` with '.db' extension. If the connection is established successfully, the connection object is returned. However, the `print(sqlite3.version)` statement after the `return` statement will never be executed because the function exits as soon as it hits the `return` statement. If there is an error while establishing the connection, it is caught by the `except` block, and a message is printed to the console.\n",
        ">After the `create_connection_local` function is defined, it is called with `repo_home` as the argument, and the returned connection object is stored in the `conn` variable.\n",
        ">Next, a cursor object is created by calling the `cursor` method on the connection object. This cursor object, stored in the `cur` variable, can be used to execute SQL commands.\n",
        ">Finally, a success message is printed to the console, indicating that the connection to the SQLite database was established successfully. The message includes the path to the database file."
      ]
    },
    {
      "cell_type": "code",
      "execution_count": 43,
      "metadata": {
        "colab": {
          "base_uri": "https://localhost:8080/"
        },
        "id": "5VAxi8iZnsCJ",
        "outputId": "442a9ba7-9347-45f0-b25f-f9ca8e47dff0"
      },
      "outputs": [
        {
          "output_type": "stream",
          "name": "stdout",
          "text": [
            "Successfully Connected to SQLite Public Data Warehouse: drive/MyDrive/calico_ma_repo/Data/CALICO_MA_Database/CALICO_MA.db\n"
          ]
        }
      ],
      "source": [
        "def create_connection_local(local_path):\n",
        "  conn = None;\n",
        "  try:\n",
        "    #Establishing the connection\n",
        "    conn = sqlite3.connect(local_path+'Data/CALICO_MA_Database/'+project_name+'.db')\n",
        "    return conn\n",
        "    print(sqlite3.version)\n",
        "  except Error as e:\n",
        "    print(\"Error while connecting to sqlite\", e)\n",
        "conn = create_connection_local(repo_home)\n",
        "# Creating a cursor object using the cursor() method\n",
        "cur = conn.cursor()\n",
        "print(\"Successfully Connected to SQLite Public Data Warehouse: \"+repo_home+'Data/CALICO_MA_Database/'+project_name+'.db')\n"
      ]
    },
    {
      "cell_type": "markdown",
      "metadata": {
        "id": "_WfYcr6eZGTz"
      },
      "source": [
        "> Quelldatenimport"
      ]
    },
    {
      "cell_type": "markdown",
      "metadata": {
        "id": "N6uOOgxwzTNN"
      },
      "source": [
        "This Python script is used to read multiple CSV files from different directories, create pandas DataFrames from them, and then concatenate these DataFrames based on their types.\n",
        "\n",
        "Here's a step-by-step explanation:\n",
        "\n",
        "1. Two lists are defined: `csvs` and `tumortypes`. `csvs` contains the names of different types of CSV files, and `tumortypes` contains the names of different types of tumors.\n",
        "\n",
        "2. An empty dictionary `df` is created to store the DataFrames.\n",
        "\n",
        "3. The script then enters a nested loop where it iterates over each tumor type and each CSV type. For each combination, it constructs a key (e.g., \"procedures_Breast_Cancer\") and a file path.\n",
        "\n",
        "4. It reads the CSV file at the constructed path into a DataFrame, adds a new column `cancer_type` to the DataFrame, and stores the DataFrame in the `df` dictionary with the constructed key.\n",
        "\n",
        "5. The DataFrame is also appended to a list in the `csv_dfs` dictionary corresponding to its CSV type.\n",
        "\n",
        "6. After all CSV files have been read and their DataFrames stored, the script concatenates the DataFrames in each list in the `csv_dfs` dictionary. The result is a dictionary where each key is a CSV type and each value is a DataFrame that is the concatenation of all DataFrames of that CSV type.\n",
        "\n",
        "7. Finally, the script prints the first few rows of each DataFrame in the `df` and `csv_dfs` dictionaries.\n",
        "\n",
        "The commented-out code at the end of the script shows how individual CSV files were previously read into DataFrames. This code has been replaced by the loop that reads and concatenates all CSV files."
      ]
    },
    {
      "cell_type": "code",
      "execution_count": 44,
      "metadata": {
        "id": "1Uffy7Q6yWD_",
        "colab": {
          "base_uri": "https://localhost:8080/"
        },
        "outputId": "57adc843-067d-45f4-8047-c09b6c8c6982"
      },
      "outputs": [
        {
          "output_type": "stream",
          "name": "stdout",
          "text": [
            "Total number of rows in original dataframes for procedures: 2140\n",
            "\n",
            "\n",
            "Total number of rows in original dataframes for encounters: 25836\n",
            "\n",
            "\n",
            "Total number of rows in original dataframes for immunizations: 37878\n",
            "\n",
            "\n",
            "Total number of rows in original dataframes for medications: 1258\n",
            "\n",
            "\n",
            "Total number of rows in original dataframes for observations: 95849\n",
            "\n",
            "\n",
            "Total number of rows in original dataframes for patients: 3084\n",
            "\n",
            "\n",
            "Concatenated DataFrame for procedures:\n",
            "Number of rows: 2140\n",
            "Unique cancer types: ['Breast_Cancer' 'Lung_Cancer' 'Colorectal_Cancer']\n",
            "\n",
            "\n",
            "Concatenated DataFrame for encounters:\n",
            "Number of rows: 25836\n",
            "Unique cancer types: ['Breast_Cancer' 'Lung_Cancer' 'Colorectal_Cancer']\n",
            "\n",
            "\n",
            "Concatenated DataFrame for immunizations:\n",
            "Number of rows: 37878\n",
            "Unique cancer types: ['Breast_Cancer' 'Lung_Cancer' 'Colorectal_Cancer']\n",
            "\n",
            "\n",
            "Concatenated DataFrame for medications:\n",
            "Number of rows: 1258\n",
            "Unique cancer types: ['Breast_Cancer' 'Lung_Cancer' 'Colorectal_Cancer']\n",
            "\n",
            "\n",
            "Concatenated DataFrame for observations:\n",
            "Number of rows: 95849\n",
            "Unique cancer types: ['Breast_Cancer' 'Lung_Cancer' 'Colorectal_Cancer']\n",
            "\n",
            "\n",
            "Concatenated DataFrame for patients:\n",
            "Number of rows: 3084\n",
            "Unique cancer types: ['Breast_Cancer' 'Lung_Cancer' 'Colorectal_Cancer']\n",
            "\n",
            "\n"
          ]
        }
      ],
      "source": [
        "# Generate dataframes and add cancer_type information as a new column\n",
        "\n",
        "csvs = [\"procedures\", \"encounters\", \"immunizations\", \"medications\", \"observations\", \"patients\"]\n",
        "\n",
        "tumortypes = [\"Breast_Cancer\", \"Lung_Cancer\", \"Colorectal_Cancer\"]\n",
        "\n",
        "df = {}\n",
        "csv_dfs = {csv: [] for csv in csvs}\n",
        "\n",
        "for tumor in tumortypes:\n",
        "    for csv in csvs:\n",
        "        key = f\"{csv}_{tumor}\"\n",
        "        path = f\"{csv_data_folder}{tumor}/{csv}.csv\"\n",
        "        df[key] = pd.read_csv(path, sep=\",\")\n",
        "        df[key] = df[key].assign(cancer_type=tumor)\n",
        "\n",
        "        # Add the dataframe to the list for this csv\n",
        "        csv_dfs[csv].append(df[key])\n",
        "\n",
        "# Check the sum of the number of rows in the original dataframes for each csv\n",
        "for csv in csvs:\n",
        "    total_rows = sum(len(df[csv + '_' + tumor]) for tumor in tumortypes)\n",
        "    print(f\"Total number of rows in original dataframes for {csv}: {total_rows}\")\n",
        "    print(\"\\n\")\n",
        "# Concatenate the dataframes for each csv\n",
        "for csv in csvs:\n",
        "    csv_dfs[csv] = pd.concat(csv_dfs[csv])\n",
        "\n",
        "# Check the number of rows and unique cancer types in each concatenated dataframe\n",
        "for csv, df in csv_dfs.items():\n",
        "    print(f\"Concatenated DataFrame for {csv}:\")\n",
        "    print(f\"Number of rows: {len(df)}\")\n",
        "    print(f\"Unique cancer types: {df['cancer_type'].unique()}\")\n",
        "    print(\"\\n\")\n"
      ]
    },
    {
      "cell_type": "markdown",
      "metadata": {
        "id": "nfGcCcEizTNO"
      },
      "source": [
        ">Quality checks of the dataframes"
      ]
    },
    {
      "cell_type": "code",
      "execution_count": 45,
      "metadata": {
        "colab": {
          "base_uri": "https://localhost:8080/"
        },
        "id": "HOTYJKSZzTNO",
        "outputId": "c7fc8ebe-1aae-408b-e4c4-cd82d90e8710"
      },
      "outputs": [
        {
          "output_type": "stream",
          "name": "stdout",
          "text": [
            "Quality for concanated DataFrame procedures:\n",
            "DATE                 1804\n",
            "PATIENT               449\n",
            "ENCOUNTER            1593\n",
            "CODE                   37\n",
            "DESCRIPTION            37\n",
            "BASE_COST            2044\n",
            "REASONCODE             11\n",
            "REASONDESCRIPTION      11\n",
            "cancer_type             3\n",
            "dtype: int64\n",
            "\n",
            "\n",
            "Quality for concanated DataFrame encounters:\n",
            "Id                     25836\n",
            "START                  25521\n",
            "STOP                   25720\n",
            "PATIENT                 3084\n",
            "ORGANIZATION            2268\n",
            "PROVIDER                2806\n",
            "PAYER                     10\n",
            "ENCOUNTERCLASS             5\n",
            "CODE                      15\n",
            "DESCRIPTION               18\n",
            "BASE_ENCOUNTER_COST        2\n",
            "TOTAL_CLAIM_COST           2\n",
            "PAYER_COVERAGE            15\n",
            "REASONCODE                11\n",
            "REASONDESCRIPTION         11\n",
            "cancer_type                3\n",
            "dtype: int64\n",
            "\n",
            "\n",
            "Quality for concanated DataFrame immunizations:\n",
            "DATE           23245\n",
            "PATIENT         3084\n",
            "ENCOUNTER      23349\n",
            "CODE              18\n",
            "DESCRIPTION       18\n",
            "BASE_COST          1\n",
            "cancer_type        3\n",
            "dtype: int64\n",
            "\n",
            "\n",
            "Quality for concanated DataFrame medications:\n",
            "START                 594\n",
            "STOP                  222\n",
            "PATIENT               314\n",
            "PAYER                  10\n",
            "ENCOUNTER             595\n",
            "CODE                   24\n",
            "DESCRIPTION            24\n",
            "BASE_COST            1199\n",
            "PAYER_COVERAGE        123\n",
            "DISPENSES             238\n",
            "TOTALCOST            1241\n",
            "REASONCODE              4\n",
            "REASONDESCRIPTION       4\n",
            "cancer_type             3\n",
            "dtype: int64\n",
            "\n",
            "\n",
            "Quality for concanated DataFrame observations:\n",
            "DATE           31296\n",
            "PATIENT         3084\n",
            "ENCOUNTER        289\n",
            "CODE              53\n",
            "DESCRIPTION       55\n",
            "VALUE           1268\n",
            "UNITS             18\n",
            "TYPE               2\n",
            "cancer_type        3\n",
            "dtype: int64\n",
            "\n",
            "\n",
            "Quality for concanated DataFrame patients:\n",
            "Id                     3084\n",
            "BIRTHDATE              2860\n",
            "DEATHDATE                84\n",
            "SSN                    3078\n",
            "DRIVERS                2503\n",
            "PASSPORT               2377\n",
            "PREFIX                    3\n",
            "FIRST                  2055\n",
            "LAST                    660\n",
            "SUFFIX                    3\n",
            "MAIDEN                  423\n",
            "MARITAL                   2\n",
            "RACE                      5\n",
            "ETHNICITY                 2\n",
            "GENDER                    2\n",
            "BIRTHPLACE              369\n",
            "ADDRESS                3084\n",
            "CITY                    295\n",
            "STATE                     1\n",
            "COUNTY                   14\n",
            "ZIP                     272\n",
            "LAT                    3084\n",
            "LON                    3084\n",
            "HEALTHCARE_EXPENSES    2624\n",
            "HEALTHCARE_COVERAGE     948\n",
            "cancer_type               3\n",
            "dtype: int64\n",
            "\n",
            "\n"
          ]
        }
      ],
      "source": [
        "# .nunique(axis=0) returns the number of unique values for each columns in the concanated dataframes.\n",
        "for csv, df in csv_dfs.items():\n",
        "    print(f\"Quality for concanated DataFrame {csv}:\\n{df.nunique(axis=0)}\")\n",
        "    print(\"\\n\")\n",
        "\n"
      ]
    },
    {
      "cell_type": "code",
      "execution_count": 46,
      "metadata": {
        "colab": {
          "base_uri": "https://localhost:8080/"
        },
        "id": "LAV9BkOHzTNO",
        "outputId": "886f5df7-ec98-4d5b-ef6e-8e0f444a9762"
      },
      "outputs": [
        {
          "output_type": "stream",
          "name": "stdout",
          "text": [
            "percentage of not null values in each column of concanated DataFrame procedures:\n",
            "DATE                 100.000000\n",
            "PATIENT              100.000000\n",
            "ENCOUNTER            100.000000\n",
            "CODE                 100.000000\n",
            "DESCRIPTION          100.000000\n",
            "BASE_COST            100.000000\n",
            "REASONCODE            74.439252\n",
            "REASONDESCRIPTION     74.439252\n",
            "cancer_type          100.000000\n",
            "dtype: float64\n",
            "\n",
            "\n",
            "percentage of not null values in each column of concanated DataFrame encounters:\n",
            "Id                     100.0000\n",
            "START                  100.0000\n",
            "STOP                   100.0000\n",
            "PATIENT                100.0000\n",
            "ORGANIZATION           100.0000\n",
            "PROVIDER               100.0000\n",
            "PAYER                  100.0000\n",
            "ENCOUNTERCLASS         100.0000\n",
            "CODE                   100.0000\n",
            "DESCRIPTION            100.0000\n",
            "BASE_ENCOUNTER_COST    100.0000\n",
            "TOTAL_CLAIM_COST       100.0000\n",
            "PAYER_COVERAGE         100.0000\n",
            "REASONCODE               2.2488\n",
            "REASONDESCRIPTION        2.2488\n",
            "cancer_type            100.0000\n",
            "dtype: float64\n",
            "\n",
            "\n",
            "percentage of not null values in each column of concanated DataFrame immunizations:\n",
            "DATE           100.0\n",
            "PATIENT        100.0\n",
            "ENCOUNTER      100.0\n",
            "CODE           100.0\n",
            "DESCRIPTION    100.0\n",
            "BASE_COST      100.0\n",
            "cancer_type    100.0\n",
            "dtype: float64\n",
            "\n",
            "\n",
            "percentage of not null values in each column of concanated DataFrame medications:\n",
            "START                100.000000\n",
            "STOP                  39.666137\n",
            "PATIENT              100.000000\n",
            "PAYER                100.000000\n",
            "ENCOUNTER            100.000000\n",
            "CODE                 100.000000\n",
            "DESCRIPTION          100.000000\n",
            "BASE_COST            100.000000\n",
            "PAYER_COVERAGE       100.000000\n",
            "DISPENSES            100.000000\n",
            "TOTALCOST            100.000000\n",
            "REASONCODE             6.915739\n",
            "REASONDESCRIPTION      6.915739\n",
            "cancer_type          100.000000\n",
            "dtype: float64\n",
            "\n",
            "\n",
            "percentage of not null values in each column of concanated DataFrame observations:\n",
            "DATE           100.000000\n",
            "PATIENT        100.000000\n",
            "ENCOUNTER        2.296320\n",
            "CODE           100.000000\n",
            "DESCRIPTION    100.000000\n",
            "VALUE          100.000000\n",
            "UNITS           99.837244\n",
            "TYPE           100.000000\n",
            "cancer_type    100.000000\n",
            "dtype: float64\n",
            "\n",
            "\n",
            "percentage of not null values in each column of concanated DataFrame patients:\n",
            "Id                     100.000000\n",
            "BIRTHDATE              100.000000\n",
            "DEATHDATE                2.723735\n",
            "SSN                    100.000000\n",
            "DRIVERS                 82.328145\n",
            "PASSPORT                77.075227\n",
            "PREFIX                  79.863813\n",
            "FIRST                  100.000000\n",
            "LAST                   100.000000\n",
            "SUFFIX                   1.037613\n",
            "MAIDEN                  26.426719\n",
            "MARITAL                 66.147860\n",
            "RACE                   100.000000\n",
            "ETHNICITY              100.000000\n",
            "GENDER                 100.000000\n",
            "BIRTHPLACE             100.000000\n",
            "ADDRESS                100.000000\n",
            "CITY                   100.000000\n",
            "STATE                  100.000000\n",
            "COUNTY                 100.000000\n",
            "ZIP                     53.988327\n",
            "LAT                    100.000000\n",
            "LON                    100.000000\n",
            "HEALTHCARE_EXPENSES    100.000000\n",
            "HEALTHCARE_COVERAGE    100.000000\n",
            "cancer_type            100.000000\n",
            "dtype: float64\n",
            "\n",
            "\n"
          ]
        }
      ],
      "source": [
        "#percentage of not null values in each column in the concanated dataframes.\n",
        "for csv, df in csv_dfs.items():\n",
        "    print(f\"percentage of not null values in each column of concanated DataFrame {csv}:\\n{df.count()/len(df) * 100}\")\n",
        "    print(\"\\n\")\n"
      ]
    },
    {
      "cell_type": "code",
      "execution_count": 47,
      "metadata": {
        "colab": {
          "base_uri": "https://localhost:8080/"
        },
        "id": "omHiPDL_yWH2",
        "outputId": "98255b0c-a1da-45a3-ead9-7012545d1d4f"
      },
      "outputs": [
        {
          "output_type": "execute_result",
          "data": {
            "text/plain": [
              "<sqlite3.Cursor at 0x7dc7a0c663c0>"
            ]
          },
          "metadata": {},
          "execution_count": 47
        }
      ],
      "source": [
        "#Delete Tables in case they exist\n",
        "cur.execute(\"DROP TABLE IF EXISTS procedures\")\n",
        "cur.execute(\"DROP TABLE IF EXISTS encounters\")\n",
        "cur.execute(\"DROP TABLE IF EXISTS immunizations\")\n",
        "cur.execute(\"DROP TABLE IF EXISTS medications\")\n",
        "cur.execute(\"DROP TABLE IF EXISTS observations\")\n",
        "cur.execute(\"DROP TABLE IF EXISTS patients\")\n",
        "cur.execute(\"DROP TABLE IF EXISTS facts_table\")"
      ]
    },
    {
      "cell_type": "markdown",
      "metadata": {
        "id": "MPDvy1jAzTNP"
      },
      "source": [
        ">Create tables including facts_table"
      ]
    },
    {
      "cell_type": "code",
      "execution_count": 48,
      "metadata": {
        "id": "PYnfBkKTzTNP"
      },
      "outputs": [],
      "source": [
        "# Create tables including facts_table\n",
        "\n",
        "sql_table = {}\n",
        "\n",
        "create_table_command = \"\"\"CREATE TABLE IF NOT EXISTS patients (\n",
        "                           Id         STRING PRIMARY KEY,\n",
        "                           BIRTHDATE  DATE,\n",
        "                           DEATHDATE  DATE,\n",
        "                           SSN        STRING,\n",
        "                           DRIVERS    STRING,\n",
        "                           PASSPORT   STRING,\n",
        "                           PREFIX     STRING,\n",
        "                           FIRST      STRING,\n",
        "                           LAST       STRING,\n",
        "                           SUFFIX     STRING,\n",
        "                           MAIDEN     STRING,\n",
        "                           MARITAL    STRING,\n",
        "                           RACE       STRING,\n",
        "                           ETHNICITY  STRING,\n",
        "                           GENDER     STRING,\n",
        "                           BIRTHPLACE STRING,\n",
        "                           ADDRESS    STRING,\n",
        "                           CITY       STRING,\n",
        "                           STATE      STRING,\n",
        "                           COUNTY    STRING,\n",
        "                           ZIP        STRING,\n",
        "                           LAT        DECIMAL(6,2),\n",
        "                           LON        DECIMAL(6,2),\n",
        "                           HEALTHCARE_EXPENSES DECIMAL(9,2),\n",
        "                           HEALTHCARE_COVERAGE DECIMAL(9,2),\n",
        "                           cancer_type STRING\n",
        "  );\n",
        "\n",
        "CREATE TABLE IF NOT EXISTS encounters (\n",
        "                           Id STRING PRIMARY KEY,\n",
        "                           START DATE,\n",
        "                           STOP DATE,\n",
        "                           PATIENT STRING,\n",
        "                           ORGANIZATION STRING,\n",
        "                           PROVIDER STRING,\n",
        "                           PAYER STRING,\n",
        "                           ENCOUNTERCLASS STRING,\n",
        "                           CODE STRING,\n",
        "                           DESCRIPTION STRING,\n",
        "                           BASE_ENCOUNTER_COST DECIMAL(9,2),\n",
        "                           TOTAL_CLAIM_COST DECIMAL(9,2),\n",
        "                           PAYER_COVERAGE DECIMAL(9,2),\n",
        "                           REASONCODE STRING,\n",
        "                           REASONDESCRIPTION STRING,\n",
        "                           cancer_type STRING,\n",
        "                           FOREIGN KEY (PATIENT)\n",
        "                              REFERENCES patients (Id)\n",
        ");\n",
        "\n",
        "\n",
        "\n",
        "CREATE TABLE IF NOT EXISTS observations (\n",
        "                           DATE DATE,\n",
        "                           PATIENT STRING,\n",
        "                           ENCOUNTER STRING,\n",
        "                           CODE STRING,\n",
        "                           DESCRIPTION STRING,\n",
        "                           VALUE STRING,\n",
        "                           UNITS STRING,\n",
        "                           TYPE STRING,\n",
        "                           cancer_type STRING,\n",
        "                           FOREIGN KEY (PATIENT) REFERENCES patients (Id),\n",
        "                           FOREIGN KEY (Encounter) REFERENCES encounters (Id)\n",
        ");\n",
        "\n",
        "\n",
        "CREATE TABLE IF NOT EXISTS medications (\n",
        "                           START DATE,\n",
        "                           STOP DATE,\n",
        "                           PATIENT STRING,\n",
        "                           PAYER STRING,\n",
        "                           ENCOUNTER STRING,\n",
        "                           CODE STRING,\n",
        "                           DESCRIPTION STRING,\n",
        "                           BASE_COST DECIMAL(9,2),\n",
        "                           PAYER_COVERAGE DECIMAL(9,2),\n",
        "                           DISPENSES DECIMAL(9,2),\n",
        "                           TOTALCOST DECIMAL(9,2),\n",
        "                           REASONCODE STRING,\n",
        "                           REASONDESCRIPTION STRING,\n",
        "                           cancer_type STRING,\n",
        "                           FOREIGN KEY (PATIENT)\n",
        "                              REFERENCES patients (Id)\n",
        "                           FOREIGN KEY (Encounter)\n",
        "                              REFERENCES encounters (Id)\n",
        "  );\n",
        "\n",
        "CREATE TABLE IF NOT EXISTS procedures (\n",
        "                           DATE DATE,\n",
        "                           PATIENT STRING,\n",
        "                           ENCOUNTER STRING,\n",
        "                           CODE STRING,\n",
        "                           DESCRIPTION STRING,\n",
        "                           BASE_COST DECIMAL(9,2),\n",
        "                           REASONCODE STRING,\n",
        "                           REASONDESCRIPTION STRING,\n",
        "                           cancer_type STRING,\n",
        "                           FOREIGN KEY (PATIENT) REFERENCES patients (Id),\n",
        "                           FOREIGN KEY (Encounter) REFERENCES encounters (Id)\n",
        "                       );\n",
        "\n",
        "CREATE TABLE IF NOT EXISTS immunizations (\n",
        "                           DATE DATE,\n",
        "                           PATIENT STRING,\n",
        "                           ENCOUNTER STRING,\n",
        "                           CODE STRING,\n",
        "                           DESCRIPTION STRING,\n",
        "                           BASE_COST DECIMAL(9,2),\n",
        "                           cancer_type STRING,\n",
        "                           FOREIGN KEY (PATIENT)\n",
        "                              REFERENCES patients (Id)\n",
        "                           FOREIGN KEY (Encounter)\n",
        "                              REFERENCES encounters (Id)\n",
        "  );\n",
        "\n",
        "CREATE TABLE IF NOT EXISTS facts_table (\n",
        "                          cancer_type STRING,\n",
        "                          patient_ID STRING,\n",
        "                          encounter_ID STRING,\n",
        "                          patient_LAT        DECIMAL(6,2),\n",
        "                          patient_LON        DECIMAL(6,2),\n",
        "                          patient_HEALTHCARE_EXPENSES DECIMAL(9,2),\n",
        "                          patient_HEALTHCARE_COVERAGE DECIMAL(9,2),\n",
        "                          patient_BIRTHDATE DATE,\n",
        "                          observations_CODE STRING,\n",
        "                          observations_VALUE STRING,\n",
        "                          observations_DATE  DATE,\n",
        "                          observations_AGE DECIMAL(6,2),\n",
        "                          procedures_BASE_COST DECIMAL(11,2),\n",
        "                          medications_TOTALCOST DECIMAL(11,2),\n",
        "                          immunizations_BASE_COST DECIMAL(11,2),\n",
        "                          encounter_BASE_ENCOUNTER_COST DECIMAL(11,2),\n",
        "                          FOREIGN KEY (patient_ID) REFERENCES patients (Id),\n",
        "                          FOREIGN KEY (patient_ID) REFERENCES observations (PATIENT),\n",
        "                          FOREIGN KEY (encounter_ID) REFERENCES observations (ENCOUNTER),\n",
        "                          FOREIGN KEY (patient_ID) REFERENCES encounters (PATIENT),\n",
        "                          FOREIGN KEY (encounter_ID) REFERENCES encounters (Id),\n",
        "                          FOREIGN KEY (patient_ID) REFERENCES procedures (PATIENT),\n",
        "                          FOREIGN KEY (encounter_ID) REFERENCES procedures (ENCOUNTER),\n",
        "                          FOREIGN KEY (patient_ID) REFERENCES medications (PATIENT),\n",
        "                          FOREIGN KEY (encounter_ID) REFERENCES medications (ENCOUNTER),\n",
        "                          FOREIGN KEY (patient_ID) REFERENCES immunizations (PATIENT),\n",
        "                          FOREIGN KEY (encounter_ID) REFERENCES immunizations (ENCOUNTER)\n",
        "\n",
        ");\n",
        "\"\"\"\n",
        "# Execute the SQL command\n",
        "cur.executescript(create_table_command)\n",
        "\n",
        "conn.commit()"
      ]
    },
    {
      "cell_type": "code",
      "execution_count": 49,
      "metadata": {
        "id": "WdrO61KGzTNQ"
      },
      "outputs": [],
      "source": [
        "#Insert data from the concanated data frames into the tables\n",
        "\n",
        "for csv, df in csv_dfs.items():\n",
        "    df.to_sql(csv, conn, if_exists='append', index=False)\n",
        "\n",
        "conn.commit()"
      ]
    },
    {
      "cell_type": "code",
      "execution_count": 50,
      "metadata": {
        "colab": {
          "base_uri": "https://localhost:8080/"
        },
        "id": "sq04Zs5BzTNQ",
        "outputId": "4b14bc71-1126-453a-b2c2-65167d2850bd"
      },
      "outputs": [
        {
          "output_type": "stream",
          "name": "stdout",
          "text": [
            "SQL tables from drive/MyDrive/calico_ma_repo/Data/CALICO_MA_Database/CALICO_MA.db' \n",
            "\n",
            "procedures                    DATE                               PATIENT  \\\n",
            "0  2020-04-21T00:49:54Z  0602211b-610b-bf4f-0ce2-879301dfc44b   \n",
            "1  2012-03-04T10:32:38Z  699909fa-c545-5116-7434-9f03accacf80   \n",
            "2  2014-08-22T10:53:58Z  e2f4128f-618a-1518-7641-289832c5cd6e   \n",
            "3  2018-12-20T10:53:25Z  8a79b563-d2f0-4257-e21d-3e9d8535dbf7   \n",
            "4  2018-12-31T22:07:53Z  fa2c86b0-de0c-fb52-6784-a61cd5b53345   \n",
            "5  2015-06-07T15:55:52Z  8ad8da9a-7523-830a-330d-8c8af31fed8c   \n",
            "6  2015-10-24T04:35:55Z  b4bb7b89-e11d-0102-bad3-11c3d41f73f9   \n",
            "7  2012-11-13T16:20:55Z  a1f31bff-edd2-720a-92e0-3e7bc96ea7e7   \n",
            "8  2011-08-13T12:25:57Z  c56f65a8-89a5-71c5-4765-043119cbc6c8   \n",
            "9  2019-08-21T05:29:26Z  86b73fb5-f60e-1e0c-bf82-8e87bb5927bd   \n",
            "\n",
            "                              ENCOUNTER       CODE  \\\n",
            "0  b9f5c3cc-bdf0-665f-f368-ab94ddc15dd6   73761001   \n",
            "1  d132b0b5-acb0-ca51-a238-69651731d911   73761001   \n",
            "2  919dd396-85be-c7e2-013c-f12375813602  430193006   \n",
            "3  1aba0dcc-3956-e9e6-17db-7114bc3ca145   35025007   \n",
            "4  c73ff8cd-49a7-ef67-2673-09aae9e8b38c   73761001   \n",
            "5  4ba58a6d-37f7-dafa-9012-d884ed047166  104435004   \n",
            "6  2782e318-1372-fa97-5bf8-a36c701003fc   73761001   \n",
            "7  1066fa23-32a0-4ca5-3645-bf7a1227f0a2   40701008   \n",
            "8  f08ef633-f09d-e231-a4f7-49ddc335781b   73761001   \n",
            "9  fe9adb88-07d0-63c4-26a0-236c4b86a10e  180325003   \n",
            "\n",
            "                                       DESCRIPTION  BASE_COST   REASONCODE  \\\n",
            "0                                      Colonoscopy   22635.56          NaN   \n",
            "1                                      Colonoscopy   14673.85          NaN   \n",
            "2            Medication Reconciliation (procedure)     447.42          NaN   \n",
            "3            Manual pelvic examination (procedure)     159.81  254837009.0   \n",
            "4                                      Colonoscopy    9880.32          NaN   \n",
            "5  Screening for occult blood in feces (procedure)    7285.45   68496003.0   \n",
            "6                                      Colonoscopy   17433.30          NaN   \n",
            "7                     Echocardiography (procedure)    1496.27  410429000.0   \n",
            "8                                      Colonoscopy   11221.92          NaN   \n",
            "9                         Electrical cardioversion   32612.68   49436004.0   \n",
            "\n",
            "                         REASONDESCRIPTION        cancer_type  \n",
            "0                                     None  Colorectal_Cancer  \n",
            "1                                     None  Colorectal_Cancer  \n",
            "2                                     None  Colorectal_Cancer  \n",
            "3  Malignant neoplasm of breast (disorder)      Breast_Cancer  \n",
            "4                                     None  Colorectal_Cancer  \n",
            "5                           Polyp of colon  Colorectal_Cancer  \n",
            "6                                     None  Colorectal_Cancer  \n",
            "7                           Cardiac Arrest      Breast_Cancer  \n",
            "8                                     None  Colorectal_Cancer  \n",
            "9                      Atrial Fibrillation        Lung_Cancer   \n",
            "SQL tables from drive/MyDrive/calico_ma_repo/Data/CALICO_MA_Database/CALICO_MA.db' \n",
            "\n",
            "encounters                                      Id                 START  \\\n",
            "0  816188e0-07a2-a6b7-13da-f6eee524f93b  2019-10-10T12:54:15Z   \n",
            "1  a948676e-03b2-3366-f3dd-6debc02ed9bd  2020-04-12T10:00:28Z   \n",
            "2  58173aeb-1893-6255-9bbc-1a797c9bcd52  2019-07-25T18:43:24Z   \n",
            "3  3d2088a2-c504-8306-3ff2-39a2c322775a  2011-04-04T03:25:17Z   \n",
            "4  d0f8eaa3-0511-6866-64cd-6fbb28705d8e  2017-05-29T00:07:40Z   \n",
            "5  efcc7ea5-5646-ac0f-b92d-4a7e1674aeb7  2013-06-08T14:39:42Z   \n",
            "6  c8e4735e-7ccd-2002-2f0b-917358d845ae  2011-10-26T23:38:43Z   \n",
            "7  31cbb676-144b-213e-2f54-65501bd8b9fb  2018-04-11T20:13:07Z   \n",
            "8  69f21d6e-1669-991d-6b8d-5377f64db810  2016-07-18T15:19:43Z   \n",
            "9  875b2ca8-7e0c-12f3-6bce-351e934392b2  2013-12-08T05:02:46Z   \n",
            "\n",
            "                   STOP                               PATIENT  \\\n",
            "0  2019-10-10T13:09:15Z  ab83ddad-e624-dd52-e9bd-30cdb11e6cfa   \n",
            "1  2020-04-12T10:15:28Z  353dd5de-46cf-a5ab-4651-3d655c5c2269   \n",
            "2  2019-07-25T18:58:24Z  a29158c6-cab7-f178-cf4d-36b24ab3d4c5   \n",
            "3  2011-04-04T03:40:17Z  b444f9c2-6692-a64e-109e-96039ac10e3f   \n",
            "4  2017-05-29T00:22:40Z  8e8f727c-7fda-f5f8-2466-94d1404596af   \n",
            "5  2013-06-08T14:54:42Z  6227d1a0-0cce-9a0f-60f4-435b78d95b98   \n",
            "6  2011-10-27T00:12:43Z  dbf846ce-1a83-5986-0942-96469f088624   \n",
            "7  2018-04-11T20:28:07Z  a733c9c7-0ce2-656f-b9db-7eb105fb9f34   \n",
            "8  2016-07-18T15:34:43Z  65302ddf-1fdb-f818-14b7-1b1747da2ba2   \n",
            "9  2013-12-08T05:17:46Z  2c7d45f6-02e8-308d-e457-846d24d91369   \n",
            "\n",
            "                           ORGANIZATION                              PROVIDER  \\\n",
            "0  03b9694a-0380-3bb4-9878-4b260179ef63  4fbe1837-c31f-3b54-8db0-9c7f05defe35   \n",
            "1  5ebb2110-3a7b-32c6-adf5-60f42b27af76  3beb10ba-5923-3ab7-a05a-48e5369ccf03   \n",
            "2  0964706a-e1ec-397c-bd9b-57aaa12b8cbd  82379b79-9e81-3550-87bb-2d0bd02d3064   \n",
            "3  68e8ec6f-6f29-31c7-86fd-b1c8cad147f5  7981d4f9-09f4-3daf-a671-cee24c0a49ca   \n",
            "4  bffef3f6-1fc7-3881-be74-0678fbe77b5b  5b7275ca-56f6-30ac-8163-9be57e7dd0f1   \n",
            "5  e3e21773-000d-36cf-bafb-deede85942f3  a9c824d5-0bf7-3131-9ee2-1332c410f355   \n",
            "6  5103c940-0c08-392f-95cd-446e0cea042a  94958bbb-5a41-3de6-9a8b-25450f4e3121   \n",
            "7  8a97561f-c559-3771-922d-8bcf6d9fe44c  742aa9c7-1d0c-3259-a9cf-1acbb272c020   \n",
            "8  0a5cc72f-82bf-3adc-a6f8-bd22e05d8c6d  1d6f79c6-2c6e-33a6-b1c8-57d5242d6e53   \n",
            "9  2589859c-41e2-3f01-b495-a62e9cb277d9  56a97f4f-d1aa-373b-9309-27c13fc6d460   \n",
            "\n",
            "                                  PAYER ENCOUNTERCLASS       CODE  \\\n",
            "0  7caa7254-5050-3b5e-9eae-bd5ea30e809c       wellness  162673000   \n",
            "1  4d71f845-a6a9-3c39-b242-14d25ef86a8d       wellness  162673000   \n",
            "2  42c4fca7-f8a9-3cd1-982a-dd9751bf3e2a       wellness  410620009   \n",
            "3  047f6ec3-6215-35eb-9608-f9dda363a44c       wellness  162673000   \n",
            "4  d47b3510-2895-3b70-9897-342d681c769d       wellness  410620009   \n",
            "5  047f6ec3-6215-35eb-9608-f9dda363a44c       wellness  410620009   \n",
            "6  7c4411ce-02f1-39b5-b9ec-dfbea9ad3c1a     ambulatory  185349003   \n",
            "7  d47b3510-2895-3b70-9897-342d681c769d       wellness  162673000   \n",
            "8  7c4411ce-02f1-39b5-b9ec-dfbea9ad3c1a       wellness  410620009   \n",
            "9  6e2f1a2d-27bd-3701-8d08-dae202c58632       wellness  410620009   \n",
            "\n",
            "                                  DESCRIPTION  BASE_ENCOUNTER_COST  \\\n",
            "0  General examination of patient (procedure)               129.16   \n",
            "1  General examination of patient (procedure)               129.16   \n",
            "2                Well child visit (procedure)               129.16   \n",
            "3  General examination of patient (procedure)               129.16   \n",
            "4                Well child visit (procedure)               129.16   \n",
            "5                Well child visit (procedure)               129.16   \n",
            "6                    Encounter for 'check-up'                77.49   \n",
            "7  General examination of patient (procedure)               129.16   \n",
            "8                Well child visit (procedure)               129.16   \n",
            "9                Well child visit (procedure)               129.16   \n",
            "\n",
            "   TOTAL_CLAIM_COST  PAYER_COVERAGE REASONCODE REASONDESCRIPTION  \\\n",
            "0            129.16          129.16       None              None   \n",
            "1            129.16          129.16       None              None   \n",
            "2            129.16          129.16       None              None   \n",
            "3            129.16          129.16       None              None   \n",
            "4            129.16          129.16       None              None   \n",
            "5            129.16          129.16       None              None   \n",
            "6             77.49           17.49       None              None   \n",
            "7            129.16          129.16       None              None   \n",
            "8            129.16          129.16       None              None   \n",
            "9            129.16          129.16       None              None   \n",
            "\n",
            "         cancer_type  \n",
            "0      Breast_Cancer  \n",
            "1      Breast_Cancer  \n",
            "2        Lung_Cancer  \n",
            "3      Breast_Cancer  \n",
            "4      Breast_Cancer  \n",
            "5  Colorectal_Cancer  \n",
            "6  Colorectal_Cancer  \n",
            "7      Breast_Cancer  \n",
            "8      Breast_Cancer  \n",
            "9        Lung_Cancer   \n",
            "SQL tables from drive/MyDrive/calico_ma_repo/Data/CALICO_MA_Database/CALICO_MA.db' \n",
            "\n",
            "immunizations                    DATE                               PATIENT  \\\n",
            "0  2019-11-25T08:00:58Z  e2f4128f-618a-1518-7641-289832c5cd6e   \n",
            "1  2014-11-08T01:36:32Z  72e710cc-5b41-ce6e-ef19-dfdb307e6a60   \n",
            "2  2015-10-22T01:13:57Z  5b005731-f6ab-4919-ae98-389c63afccb2   \n",
            "3  2019-01-13T05:36:04Z  e9f89e35-eee8-dd07-a5b3-a26a066fcb42   \n",
            "4  2017-04-10T23:26:24Z  ce999ae8-a020-0e96-2523-8085d8cfd7ee   \n",
            "5  2014-03-07T04:12:44Z  a51186f0-d61d-b45e-6642-bcd4feae4643   \n",
            "6  2011-10-16T18:25:24Z  1a2f4f1f-035a-ad41-9306-bfb0546f45c4   \n",
            "7  2018-10-14T11:02:46Z  c397b543-1777-ddad-7531-9b351548da0c   \n",
            "8  2018-05-02T00:59:05Z  c7dae8c7-3310-1c51-cb92-1c231ac3f608   \n",
            "9  2018-11-11T23:13:33Z  70fce484-7644-e7e8-dec2-1cea6ff0b2eb   \n",
            "\n",
            "                              ENCOUNTER  CODE  \\\n",
            "0  943807b6-6e0d-5e88-7015-e17996e4e3bd    33   \n",
            "1  12244ee8-31ed-ac3a-0c76-7903347a05ca   140   \n",
            "2  964a8dba-f5d3-b9d1-4973-64cbd42b9e36   140   \n",
            "3  14cb5ebe-cdf3-f937-efa7-fcc066f83c43   140   \n",
            "4  824352c4-7201-e9cc-0758-4038a3ed09cf    20   \n",
            "5  bfec9406-d7cb-07b7-6b0a-7a8b123cc8da    62   \n",
            "6  4922cb37-85ca-6588-7241-066db7480dc2   140   \n",
            "7  155be7bd-8343-30e7-f920-de2b199f57e1   140   \n",
            "8  4d33042e-4b75-bb1e-9f2e-95f10192a6a4    62   \n",
            "9  ae60d677-341d-9525-92b2-8958ae5ecaed    49   \n",
            "\n",
            "                                         DESCRIPTION  BASE_COST  \\\n",
            "0     pneumococcal polysaccharide vaccine  23 valent     140.52   \n",
            "1  Influenza  seasonal  injectable  preservative ...     140.52   \n",
            "2  Influenza  seasonal  injectable  preservative ...     140.52   \n",
            "3  Influenza  seasonal  injectable  preservative ...     140.52   \n",
            "4                                               DTaP     140.52   \n",
            "5                                  HPV  quadrivalent     140.52   \n",
            "6  Influenza  seasonal  injectable  preservative ...     140.52   \n",
            "7  Influenza  seasonal  injectable  preservative ...     140.52   \n",
            "8                                  HPV  quadrivalent     140.52   \n",
            "9                                      Hib (PRP-OMP)     140.52   \n",
            "\n",
            "         cancer_type  \n",
            "0  Colorectal_Cancer  \n",
            "1  Colorectal_Cancer  \n",
            "2        Lung_Cancer  \n",
            "3        Lung_Cancer  \n",
            "4  Colorectal_Cancer  \n",
            "5      Breast_Cancer  \n",
            "6      Breast_Cancer  \n",
            "7      Breast_Cancer  \n",
            "8  Colorectal_Cancer  \n",
            "9  Colorectal_Cancer   \n",
            "SQL tables from drive/MyDrive/calico_ma_repo/Data/CALICO_MA_Database/CALICO_MA.db' \n",
            "\n",
            "medications                   START                  STOP  \\\n",
            "0  2018-04-02T08:57:19Z                  None   \n",
            "1  2013-03-12T21:04:42Z  2013-03-12T21:04:42Z   \n",
            "2  1998-04-11T03:23:00Z                  None   \n",
            "3  2017-05-01T07:52:41Z  2017-05-01T08:07:41Z   \n",
            "4  1991-05-10T14:18:14Z                  None   \n",
            "5  1991-05-07T15:24:40Z                  None   \n",
            "6  2016-10-18T11:57:05Z  2016-10-18T12:12:05Z   \n",
            "7  2013-08-04T19:25:30Z                  None   \n",
            "8  2019-06-28T08:18:51Z                  None   \n",
            "9  2015-01-29T12:38:16Z                  None   \n",
            "\n",
            "                                PATIENT                                 PAYER  \\\n",
            "0  5d8e204c-105b-3acd-b7da-ea30c215add2  7caa7254-5050-3b5e-9eae-bd5ea30e809c   \n",
            "1  8417ea73-2556-9bc3-817e-964762bda4ae  d47b3510-2895-3b70-9897-342d681c769d   \n",
            "2  5b325ec9-0381-8851-2b0c-de7f7432feef  4d71f845-a6a9-3c39-b242-14d25ef86a8d   \n",
            "3  0a3b7456-fe8a-f476-7213-1e2b316d2d85  7c4411ce-02f1-39b5-b9ec-dfbea9ad3c1a   \n",
            "4  1e593f1b-7d06-03a3-ffbc-f04932df5e8b  7c4411ce-02f1-39b5-b9ec-dfbea9ad3c1a   \n",
            "5  46b257d6-6445-c421-fe5f-8babf4f4c201  42c4fca7-f8a9-3cd1-982a-dd9751bf3e2a   \n",
            "6  9b1de180-a7a1-3e4e-df13-bb0161c19972  047f6ec3-6215-35eb-9608-f9dda363a44c   \n",
            "7  e8360d11-b40c-7624-33cf-cbd0a8d9af93  047f6ec3-6215-35eb-9608-f9dda363a44c   \n",
            "8  1509c03a-c5b5-e732-0080-47c624abd1df  7caa7254-5050-3b5e-9eae-bd5ea30e809c   \n",
            "9  a77957a3-37bf-e5e5-deeb-920f24051c8f  7caa7254-5050-3b5e-9eae-bd5ea30e809c   \n",
            "\n",
            "                              ENCOUNTER     CODE  \\\n",
            "0  bee872bb-eef1-ac99-ffe2-50aa7284adee   309362   \n",
            "1  3317adf4-40f6-8812-5e25-60131e5d1c00  1734919   \n",
            "2  0408902c-352a-843c-c736-bc31a191cd53   312961   \n",
            "3  d62150b7-9558-a54b-2a4c-9dc7f7061bda   309362   \n",
            "4  84f30d7d-830f-cffd-ff24-1e027f8427c0   312961   \n",
            "5  22d2b991-a0ad-bd56-b89d-dff65cb30cdd   312961   \n",
            "6  3d7ea577-d629-7406-7430-d5fe2e6735c9  1660014   \n",
            "7  30467f80-1e7b-46bb-cb88-291c8ed429b8   197361   \n",
            "8  9dd4af7f-bba0-cac9-2586-b65e3cb8163e   309362   \n",
            "9  209cdb94-abb3-d7a1-febe-36ba771a56ff   897718   \n",
            "\n",
            "                          DESCRIPTION  BASE_COST  PAYER_COVERAGE  DISPENSES  \\\n",
            "0       Clopidogrel 75 MG Oral Tablet      34.72            0.00         32   \n",
            "1  Cyclophosphamide 1000 MG Injection     469.11            0.00          1   \n",
            "2       Simvastatin 20 MG Oral Tablet       8.18            0.00        201   \n",
            "3       Clopidogrel 75 MG Oral Tablet      88.33           28.33          1   \n",
            "4       Simvastatin 20 MG Oral Tablet      32.49            0.00        360   \n",
            "5       Simvastatin 20 MG Oral Tablet      29.22            0.00        325   \n",
            "6  1 ML Epinephrine 1 MG/ML Injection       4.74            0.00          1   \n",
            "7         Amlodipine 5 MG Oral Tablet      81.57            0.00         89   \n",
            "8       Clopidogrel 75 MG Oral Tablet      42.40            0.00         17   \n",
            "9       Verapamil Hydrochloride 40 MG     147.19            0.00         71   \n",
            "\n",
            "   TOTALCOST   REASONCODE                        REASONDESCRIPTION  \\\n",
            "0    1111.04          NaN                                     None   \n",
            "1     469.11  254837009.0  Malignant neoplasm of breast (disorder)   \n",
            "2    1644.18          NaN                                     None   \n",
            "3      88.33          NaN                                     None   \n",
            "4   11696.40          NaN                                     None   \n",
            "5    9496.50          NaN                                     None   \n",
            "6       4.74          NaN                                     None   \n",
            "7    7259.73          NaN                                     None   \n",
            "8     720.80          NaN                                     None   \n",
            "9   10450.49          NaN                                     None   \n",
            "\n",
            "         cancer_type  \n",
            "0        Lung_Cancer  \n",
            "1      Breast_Cancer  \n",
            "2  Colorectal_Cancer  \n",
            "3  Colorectal_Cancer  \n",
            "4      Breast_Cancer  \n",
            "5  Colorectal_Cancer  \n",
            "6        Lung_Cancer  \n",
            "7      Breast_Cancer  \n",
            "8      Breast_Cancer  \n",
            "9        Lung_Cancer   \n",
            "SQL tables from drive/MyDrive/calico_ma_repo/Data/CALICO_MA_Database/CALICO_MA.db' \n",
            "\n",
            "observations                    DATE                               PATIENT  \\\n",
            "0  2020-07-12T03:37:22Z  a12c9bc5-e96e-9932-a5ac-d268af5d7b0b   \n",
            "1  2017-09-14T08:29:36Z  7c5bce0e-6550-94a2-3a64-ca6d6d979b01   \n",
            "2  2020-01-21T21:17:49Z  b606c586-bf55-3189-b964-7655e93a9f2f   \n",
            "3  2011-11-07T05:02:46Z  2c7d45f6-02e8-308d-e457-846d24d91369   \n",
            "4  2011-10-30T17:04:33Z  4beb1884-29ea-9c69-8f64-d276ab5bea93   \n",
            "5  2014-12-22T08:00:58Z  e2f4128f-618a-1518-7641-289832c5cd6e   \n",
            "6  2014-08-15T21:27:31Z  16a8d7e6-89b8-0d9d-8e06-e73aa31d9d7e   \n",
            "7  2015-05-08T14:08:29Z  895397e0-a6fb-8ccf-bbd3-b4c4403e0a37   \n",
            "8  2017-10-19T14:33:24Z  4c3aeb1e-e718-751a-1054-fd3e67b3e190   \n",
            "9  2010-08-25T21:26:14Z  82ff2e60-59b3-62eb-15b0-db975dea35af   \n",
            "\n",
            "                              ENCOUNTER   CODE  \\\n",
            "0                                  None   DALY   \n",
            "1                                  None   QALY   \n",
            "2                                  None   QOLS   \n",
            "3                                  None   QOLS   \n",
            "4                                  None   DALY   \n",
            "5  ad2d5334-bc5c-a895-ee7e-7e3feeb869bd  789-8   \n",
            "6                                  None   QOLS   \n",
            "7                                  None   DALY   \n",
            "8                                  None   QALY   \n",
            "9                                  None   QALY   \n",
            "\n",
            "                                         DESCRIPTION  VALUE    UNITS     TYPE  \\\n",
            "0                                               DALY    0.0        a  numeric   \n",
            "1                                               QALY   47.0        a  numeric   \n",
            "2                                               QOLS    1.0  {score}  numeric   \n",
            "3                                               QOLS    1.0  {score}  numeric   \n",
            "4                                               DALY    0.0        a  numeric   \n",
            "5  Erythrocytes [#/volume] in Blood by Automated ...    3.9  10*6/uL  numeric   \n",
            "6                                               QOLS    1.0  {score}  numeric   \n",
            "7                                               DALY    0.0        a  numeric   \n",
            "8                                               QALY   84.9        a  numeric   \n",
            "9                                               QALY   50.0        a  numeric   \n",
            "\n",
            "         cancer_type  \n",
            "0  Colorectal_Cancer  \n",
            "1  Colorectal_Cancer  \n",
            "2  Colorectal_Cancer  \n",
            "3        Lung_Cancer  \n",
            "4  Colorectal_Cancer  \n",
            "5  Colorectal_Cancer  \n",
            "6      Breast_Cancer  \n",
            "7        Lung_Cancer  \n",
            "8      Breast_Cancer  \n",
            "9        Lung_Cancer   \n",
            "SQL tables from drive/MyDrive/calico_ma_repo/Data/CALICO_MA_Database/CALICO_MA.db' \n",
            "\n",
            "patients                                      Id   BIRTHDATE DEATHDATE          SSN  \\\n",
            "0  79729c8a-d374-8948-4e1b-6b92b624cbb9  2018-12-03      None  999-23-4834   \n",
            "1  31276348-3760-b648-c4dd-6f16de3b07bd  1993-03-18      None  999-78-1301   \n",
            "2  bac1aa40-93fa-ef02-6c1c-952014393d2e  1940-01-09      None  999-89-2938   \n",
            "3  1f5ed4b0-5aec-1338-bfdf-68c3c94c9210  1996-07-17      None  999-38-2065   \n",
            "4  7584890d-2b1e-ddd6-685f-81c1c39b483b  1961-03-24      None  999-37-9503   \n",
            "5  ce76c1e8-5af4-80bd-bde5-0328f3b3604e  1978-05-15      None  999-99-9016   \n",
            "6  3b63ea71-c31e-87f5-adba-442d1e658f60  1977-07-29      None  999-53-8869   \n",
            "7  f0621f3e-7a2c-cf4a-891f-2409d78f39a1  2020-06-15      None  999-63-3970   \n",
            "8  69d802a7-63ba-db06-d2d8-f5f1db5366f0  2001-01-21      None  999-91-1297   \n",
            "9  4e12feb7-8ded-eb90-127b-aec0184d5120  1994-07-10      None  999-91-2471   \n",
            "\n",
            "     DRIVERS    PASSPORT PREFIX        FIRST          LAST SUFFIX  ...  \\\n",
            "0       None        None   None    Marsha122    Schultz619   None  ...   \n",
            "1  S99971223  X61239247X    Mr.  Douglass930    Lebsack687   None  ...   \n",
            "2  S99981074  X22456439X   Mrs.    Odessa199     Cremin516   None  ...   \n",
            "3  S99941094  X28952237X    Mr.    Lowell343  Considine820   None  ...   \n",
            "4  S99967789  X61245740X    Mr.  Williams176    Carroll471   None  ...   \n",
            "5  S99994726  X27127554X    Mr.  Gilberto712     Heaney114   None  ...   \n",
            "6  S99926326  X13631183X    Mr.       Del587     Hamill307   None  ...   \n",
            "7       None        None   None    Maggie320      Braun514   None  ...   \n",
            "8  S99918209        None    Ms.  Lachelle614     Jacobi462   None  ...   \n",
            "9  S99940931  X86535388X    Ms.   Janetta325       Moen819   None  ...   \n",
            "\n",
            "                            ADDRESS         CITY          STATE  \\\n",
            "0                  1083 Ernser View    Dartmouth  Massachusetts   \n",
            "1                 750 Corkery Alley  Belchertown  Massachusetts   \n",
            "2      445 Reilly Overpass Suite 10   Somerville  Massachusetts   \n",
            "3        337 Koepp Station Suite 83    Leicester  Massachusetts   \n",
            "4  285 Williamson Extension Unit 39    Lexington  Massachusetts   \n",
            "5                214 Bernier Center     Brockton  Massachusetts   \n",
            "6                    484 Kozey Mall   Bellingham  Massachusetts   \n",
            "7           345 Crona View Suite 44       Boston  Massachusetts   \n",
            "8                    690 Boyle Fort    Wellesley  Massachusetts   \n",
            "9      414 Larkin Crossroad Unit 52     Stoneham  Massachusetts   \n",
            "\n",
            "             COUNTY     ZIP        LAT        LON HEALTHCARE_EXPENSES  \\\n",
            "0    Bristol County     NaN  41.539392 -70.987310            55000.00   \n",
            "1  Hampshire County     NaN  42.287298 -72.356170           669365.00   \n",
            "2  Middlesex County  2145.0  42.398434 -71.129965          1379810.00   \n",
            "3  Worcester County     NaN  42.215060 -71.876291           559860.00   \n",
            "4  Middlesex County     NaN  42.420106 -71.275908          1223714.98   \n",
            "5   Plymouth County  2302.0  42.079553 -71.036662          1026310.44   \n",
            "6    Norfolk County  2019.0  42.049921 -71.466438           895086.57   \n",
            "7    Suffolk County  2119.0  42.352638 -71.110909            14700.00   \n",
            "8    Norfolk County  2457.0  42.277505 -71.217197           409040.00   \n",
            "9  Middlesex County  2180.0  42.494874 -71.102258           700700.00   \n",
            "\n",
            "  HEALTHCARE_COVERAGE        cancer_type  \n",
            "0             1162.44      Breast_Cancer  \n",
            "1             2509.80  Colorectal_Cancer  \n",
            "2             4681.20        Lung_Cancer  \n",
            "3             2485.64        Lung_Cancer  \n",
            "4             3368.84  Colorectal_Cancer  \n",
            "5             2763.92        Lung_Cancer  \n",
            "6             2218.92        Lung_Cancer  \n",
            "7              516.64  Colorectal_Cancer  \n",
            "8             2576.48  Colorectal_Cancer  \n",
            "9             2774.80      Breast_Cancer  \n",
            "\n",
            "[10 rows x 26 columns] \n"
          ]
        }
      ],
      "source": [
        "#Check if data is in the tables. 10 random rows are selected from each table\n",
        "\n",
        "for csv in csvs:\n",
        "    cur.execute(f\"SELECT * FROM {csv} ORDER BY RANDOM() LIMIT 10\")\n",
        "    rows = cur.fetchall()\n",
        "    df_random = pd.DataFrame(rows, columns=[desc[0] for desc in cur.description])\n",
        "    print(f\"SQL tables from {repo_home}Data/CALICO_MA_Database/{project_name}.db' \\n\\n{csv} {df_random} \")\n"
      ]
    },
    {
      "cell_type": "markdown",
      "metadata": {
        "id": "inn0cONkebqW"
      },
      "source": [
        "### Die Daten werden aus den verschiedenen Tabellen extrahiert und ggf. transformiert\n",
        " >Die Daten aus **Patients** werden erstmal in die Faktentabelle übertragen. Es handelt sich um die Krebsart, die Patienten ID, die geographische Koordinaten, die Healthcarekosten, die vom Patient getragen werden und diejenigen, die von der Krankenversicherung bezahlt werden, und zum Ende das Geburtsdatum.\n",
        "Damit die Faktentabelle keine Redundanzen aufweist, werden die Encounter ID nicht mehr einzeln gespeichert. Stattdessen werden in der Faktentabelle für jeden Patienten die gesamten Kosten gespeichert, die in jeder Kategorie (Encounters, Observations, Immunizations, Procedures umd Medications) verursacht wurden.  \n",
        "Die Transaktion in der Faktentabelle der Datenbank wird mit commit beendet.\n",
        "\n"
      ]
    },
    {
      "cell_type": "code",
      "execution_count": 51,
      "metadata": {
        "id": "bo0kcX-xiSMa"
      },
      "outputs": [],
      "source": [
        "# TEST how many patients undergo Procedures\n",
        "#cur.execute('''SELECT COUNT(*) from procedures GROUP BY procedures.PATIENT''')\n",
        "#records = cur.fetchall()\n",
        "#i=1\n",
        "#for row in records:\n",
        "#  print(f'patient', i, 'undergoes ', row,' procedures')\n",
        "#  i=i+1"
      ]
    },
    {
      "cell_type": "code",
      "execution_count": 52,
      "metadata": {
        "colab": {
          "base_uri": "https://localhost:8080/"
        },
        "id": "YXJ3K44okdLR",
        "outputId": "603a699d-d3ee-4bfb-daca-5879d7b3ce88"
      },
      "outputs": [
        {
          "output_type": "stream",
          "name": "stdout",
          "text": [
            "('d2061cc7-bee0-0e6c-3ac4-15c197c474e0', -71.11326024935221, 42.35992586937376, 1475230, 4244.639999999999, '1956-06-22')\n",
            "('073d8e80-ff90-1c8d-57e4-29bfca52c87f', -72.02631680460482, 42.25784546955933, 1489125, 4016.36, '1964-08-28')\n",
            "('e1ff7e68-4097-9faf-514d-e4cfcfdf252e', -71.8184488503781, 42.204289674137854, 57142.44, 2103.2, '1998-08-28')\n",
            "('a0f679cc-875f-dd72-ed13-9ca863ec6cf3', -70.90408406035422, 42.15026973562508, 408520, 2709, '2004-01-20')\n",
            "('e4166a9c-f7c5-bef7-ea43-b96281a2d586', -71.78487317237207, 42.2920819230455, 320400, 2970.68, '2006-03-23')\n",
            "('ee537126-7509-05de-2349-ab19604545d8', -71.04135024287056, 42.347570821295285, 784465, 2738.96, '1991-05-21')\n",
            "('826d5ce3-2b23-8bd8-b352-a77fdd083d68', -71.14747985490884, 42.52234296982323, 1425900, 3841.36, '1964-07-20')\n",
            "('0edfef0f-fa74-ab35-1122-4c537bb9765d', -71.00357653769244, 42.00384862981888, 512475, 2470.64, '1997-05-05')\n",
            "('0fe7e161-0f29-2b70-8e3d-757b15026295', -71.68411643063111, 42.58537262421069, 302400, 2583.2, '2008-12-26')\n",
            "('478e120c-67a4-4375-646f-c41e74f72478', -71.19387487133108, 41.96958788099574, 1202145, 2892.24, '1971-01-02')\n"
          ]
        }
      ],
      "source": [
        "# Datenextraktion aus der Patientstabelle\n",
        "cur.execute('''INSERT INTO facts_table\n",
        "                    ( cancer_type, patient_ID, encounter_ID, patient_LAT, patient_LON, patient_HEALTHCARE_EXPENSES , patient_HEALTHCARE_COVERAGE, patient_BIRTHDATE)\n",
        "                    SELECT\n",
        "                        p.cancer_type AS cancer_type,\n",
        "                        p.Id AS patient_ID,\n",
        "                        NULL AS encounter_ID,  -- Replace with the actual encounter_ID or set to NULL if not applicable\n",
        "                        p.LAT AS patient_LAT,\n",
        "                        p.LON AS patient_LON,\n",
        "                        p.HEALTHCARE_EXPENSES AS patient_HEALTHCARE_EXPENSES,\n",
        "                        p.HEALTHCARE_COVERAGE AS patient_HEALTHCARE_COVERAGE,\n",
        "                        p.BIRTHDATE AS patient_BIRTHDATE\n",
        "                    FROM patients p\n",
        "                    ;''')\n",
        "\n",
        "# Ende der Transaktion\n",
        "conn.commit()\n",
        "\n",
        "# Schnelle Überprüfung der Datenübertragung ins die Faktentabelle\n",
        "cur.execute('''SELECT patient_ID, patient_LON, patient_LAT, patient_HEALTHCARE_EXPENSES, patient_HEALTHCARE_COVERAGE, patient_BIRTHDATE FROM facts_table''')\n",
        "records = cur.fetchall()\n",
        "# show 10 rows\n",
        "for row in records[:10]:\n",
        "  print(row)"
      ]
    },
    {
      "cell_type": "markdown",
      "metadata": {
        "id": "oXjw01ODlnpI"
      },
      "source": [
        "Die Daten werden aus **Observations** eintragen:\n",
        "nur die Tuples mit dem neuesten Datum werden berücksichtigt. Gespeichert werden die Art der Observation (QALY, DALY oder QoLS), den neuesten Wert und das entsprechende Datum. Ausserdem wird das Alter am Tag der letzten Observation berechnet und eingetragen. Die Transaktion wird mit commit beendet. Das Speichern der neuen Einträge wird überprüft."
      ]
    },
    {
      "cell_type": "code",
      "execution_count": 71,
      "metadata": {
        "colab": {
          "base_uri": "https://localhost:8080/"
        },
        "id": "F9g6vWyIVbmE",
        "outputId": "2d5a0d76-f418-4d94-e4be-290efe038041"
      },
      "outputs": [
        {
          "output_type": "stream",
          "name": "stdout",
          "text": [
            "('d2061cc7-bee0-0e6c-3ac4-15c197c474e0', 'QALY', 63, '1956-06-22', '2020-06-22T10:47:46Z', 64)\n",
            "('073d8e80-ff90-1c8d-57e4-29bfca52c87f', 'QALY', 55, '1964-08-28', '2020-08-28T16:45:45Z', 56)\n",
            "('e1ff7e68-4097-9faf-514d-e4cfcfdf252e', 'QALY', 21, '1998-08-28', '2020-08-28T07:43:32Z', 22)\n",
            "('a0f679cc-875f-dd72-ed13-9ca863ec6cf3', 'QALY', 15, '2004-01-20', '2020-01-20T15:27:37Z', 16)\n",
            "('e4166a9c-f7c5-bef7-ea43-b96281a2d586', 'QALY', 13, '2006-03-23', '2020-03-23T22:58:03Z', 14)\n",
            "('ee537126-7509-05de-2349-ab19604545d8', 'QALY', 28, '1991-05-21', '2020-05-21T01:23:21Z', 29)\n",
            "('826d5ce3-2b23-8bd8-b352-a77fdd083d68', 'QALY', 55, '1964-07-20', '2020-07-20T05:08:46Z', 56)\n",
            "('0edfef0f-fa74-ab35-1122-4c537bb9765d', 'QALY', 22, '1997-05-05', '2020-05-04T22:31:18Z', 23)\n",
            "('0fe7e161-0f29-2b70-8e3d-757b15026295', 'QALY', 10, '2008-12-26', '2019-12-26T13:49:03Z', 11)\n",
            "('478e120c-67a4-4375-646f-c41e74f72478', 'QALY', 49, '1971-01-02', '2020-01-02T11:38:08Z', 49)\n"
          ]
        }
      ],
      "source": [
        "# Datenextraktion aus der Observationstabelle\n",
        "cur.execute('''UPDATE\n",
        "                  facts_table\n",
        "               SET\n",
        "                  observations_CODE = obs.CODE,\n",
        "                  observations_VALUE = obs.maxVALUE,\n",
        "                  observations_DATE = obs.maxDATE,\n",
        "                  observations_AGE = obs.maxDATE- patient_BIRTHDATE\n",
        "               FROM\n",
        "                    (SELECT PATIENT, CODE, MAX(VALUE) as maxVALUE, MAX(observations.DATE) as maxDATE\n",
        "                    FROM observations\n",
        "                    GROUP BY PATIENT\n",
        "                    ) AS obs\n",
        "                WHERE\n",
        "                  facts_table.patient_ID = obs.PATIENT\n",
        "                    ;''')\n",
        "\n",
        "# Ende der Transaktion\n",
        "conn.commit()\n",
        "\n",
        "# Schnelle Überprüfung der Datenübertragung ins die Faktentabelle\n",
        "cur.execute('''SELECT patient_ID, observations_CODE, observations_VALUE, patient_BIRTHDATE, observations_DATE, observations_AGE  FROM facts_table''')\n",
        "records = cur.fetchall()\n",
        "# show 10 rows\n",
        "for row in records[:10]:\n",
        "  print(row)"
      ]
    },
    {
      "cell_type": "markdown",
      "metadata": {
        "id": "Escam_11H8Vr"
      },
      "source": [
        "Die Daten werden aus **Encounters** eintragen. Es handelt sich um die Summe aller Encounter Kosten für jeden einzelnen Patienten.\n",
        "Falls dieser Wert nicht existiert, wird an ihrer Stelle 0 eingetragen.\n",
        "Jede Transaktion wird mit commt beendet. Das Speichern der neuen Einträge in die Faktentabelle wird überprüft.\n"
      ]
    },
    {
      "cell_type": "code",
      "execution_count": 72,
      "metadata": {
        "colab": {
          "base_uri": "https://localhost:8080/"
        },
        "id": "bkOtFAoFlS5H",
        "outputId": "ddae1c7b-f442-489e-bb0c-2f1f020dc678"
      },
      "outputs": [
        {
          "output_type": "stream",
          "name": "stdout",
          "text": [
            "('d2061cc7-bee0-0e6c-3ac4-15c197c474e0', 1291.6000000000001)\n",
            "('073d8e80-ff90-1c8d-57e4-29bfca52c87f', 1033.28)\n",
            "('e1ff7e68-4097-9faf-514d-e4cfcfdf252e', 1033.28)\n",
            "('a0f679cc-875f-dd72-ed13-9ca863ec6cf3', 1291.6000000000001)\n",
            "('e4166a9c-f7c5-bef7-ea43-b96281a2d586', 1291.6000000000001)\n",
            "('ee537126-7509-05de-2349-ab19604545d8', 387.48)\n",
            "('826d5ce3-2b23-8bd8-b352-a77fdd083d68', 1033.28)\n",
            "('0edfef0f-fa74-ab35-1122-4c537bb9765d', 904.1199999999999)\n",
            "('0fe7e161-0f29-2b70-8e3d-757b15026295', 1420.7600000000002)\n",
            "('478e120c-67a4-4375-646f-c41e74f72478', 645.8)\n"
          ]
        }
      ],
      "source": [
        "# Datenextraktion aus der Encounterstabelle und Berechnung der Summe aller Encounterkosten für jeden Patienten\n",
        "cur.execute('''UPDATE\n",
        "                  facts_table\n",
        "               SET\n",
        "                  encounter_Base_Encounter_Cost = enc.TOTALCOST\n",
        "               FROM\n",
        "                    (SELECT PATIENT, SUM(BASE_ENCOUNTER_COST) as TOTALCOST\n",
        "                    FROM encounters, facts_table\n",
        "                    WHERE facts_table.patient_ID = encounters.PATIENT\n",
        "                    GROUP BY PATIENT\n",
        "                    ) AS enc\n",
        "                WHERE\n",
        "                  facts_table.patient_ID = enc.PATIENT\n",
        "                    ;''')\n",
        "\n",
        "# Ende der Transaktion\n",
        "conn.commit()\n",
        "\n",
        "# Falls es keine Encounterkosten gibt, wird der Wert 0 stattdessen eingetragen\n",
        "cur.execute('''UPDATE\n",
        "                  facts_table\n",
        "               SET\n",
        "                  encounter_Base_Encounter_Cost = 0\n",
        "                WHERE encounter_Base_Encounter_Cost IS NULL\n",
        "                    ;''')\n",
        "\n",
        "# Ende der Transaktion\n",
        "conn.commit()\n",
        "\n",
        "# Kurze Überprüfung\n",
        "cur.execute('''SELECT patient_ID, encounter_BASE_ENCOUNTER_COST FROM facts_table''')\n",
        "records = cur.fetchall()\n",
        "# show 10 rows\n",
        "for row in records[:10]:\n",
        "  print(row)\n",
        "\n"
      ]
    },
    {
      "cell_type": "code",
      "execution_count": 73,
      "metadata": {
        "colab": {
          "base_uri": "https://localhost:8080/"
        },
        "id": "JizAqymQbKRv",
        "outputId": "4870aacd-e056-42f2-eadf-025d44e17739"
      },
      "outputs": [
        {
          "output_type": "stream",
          "name": "stdout",
          "text": [
            "('001c3804-81e8-740e-dd91-973b584a2dd9', 387.48, 387.48)\n",
            "('002a707d-ba35-3d1a-46c0-ad8a98a22137', 774.9599999999999, 774.9599999999999)\n",
            "('003c0d44-9dfc-ca91-6121-373a8e265bd4', 1446.5800000000002, 1446.5800000000002)\n",
            "('008b26ab-5c12-7a5b-cda4-f54484d5f749', 1291.6000000000001, 1291.6000000000001)\n",
            "('009121bf-a672-8942-443e-85e18a33f766', 1162.44, 1162.44)\n",
            "('00e798f6-7d02-8485-c5fd-4b6bfb114c69', 516.64, 516.64)\n",
            "('00edcb46-afd4-4687-c16a-f4e20dfc3e92', 1188.26, 1188.26)\n",
            "('0103a559-910a-03df-6117-ec429eeb4ac9', 774.9599999999999, 774.9599999999999)\n",
            "('01518fe2-bd76-d1e9-a656-1e7eae35dd17', 1446.5800000000002, 1446.5800000000002)\n",
            "('01581211-2e47-027b-71a0-dcbf0f4e6622', 1317.42, 1317.42)\n"
          ]
        }
      ],
      "source": [
        "cur.execute('''SELECT patient_ID, encounter_BASE_ENCOUNTER_COST, SUM(BASE_ENCOUNTER_COST)\n",
        "                FROM facts_table, encounters WHERE facts_table.patient_ID = encounters.PATIENT\n",
        "                GROUP BY patient_ID''')\n",
        "records = cur.fetchall()\n",
        "# show 10 rows\n",
        "for row in records[:10]:\n",
        "  print(row)"
      ]
    },
    {
      "cell_type": "markdown",
      "metadata": {
        "id": "8w6rP5_JcgFK"
      },
      "source": [
        "Die Daten werden aus **Medications** eintragen. Es handelt sich um die Summe aller MedikationsKosten für jeden einzelnen Patienten.\n",
        "Falls dieser Wert nicht existiert, wird an ihrer Stelle 0 eingetragen.\n",
        "Jede Transaktion wird mit commt beendet. Das Speichern der neuen Einträge in die Faktentabelle wird überprüft."
      ]
    },
    {
      "cell_type": "code",
      "execution_count": 74,
      "metadata": {
        "id": "2_lPlR2bVq5Z"
      },
      "outputs": [],
      "source": [
        "cur.execute('''     UPDATE facts_table SET medications_TotalCost = med.TOTALCOST\n",
        "                    FROM\n",
        "                    (SELECT PATIENT, SUM(Totalcost) as TOTALCOST\n",
        "                    FROM medications, facts_table\n",
        "                    WHERE facts_table.patient_ID = medications.PATIENT\n",
        "                    GROUP BY PATIENT) as med\n",
        "                    WHERE facts_table.patient_ID = med.PATIENT\n",
        "                    ;''')\n",
        "conn.commit()"
      ]
    },
    {
      "cell_type": "code",
      "execution_count": 75,
      "metadata": {
        "id": "nMyPAw3Zgv9I"
      },
      "outputs": [],
      "source": [
        "cur.execute('''UPDATE\n",
        "                  facts_table\n",
        "               SET\n",
        "                  medications_TOTALCOST = 0\n",
        "                WHERE medications_TOTALCOST IS NULL\n",
        "                    ;''')\n",
        "conn.commit()"
      ]
    },
    {
      "cell_type": "code",
      "execution_count": 76,
      "metadata": {
        "colab": {
          "base_uri": "https://localhost:8080/"
        },
        "id": "24D1RL11XU9_",
        "outputId": "8a3a1fe0-deac-4b5c-c775-59e6c665c89b"
      },
      "outputs": [
        {
          "output_type": "stream",
          "name": "stdout",
          "text": [
            "('003c0d44-9dfc-ca91-6121-373a8e265bd4', 30329.850000000002, 30329.85)\n",
            "('01d6dc15-6313-5327-8491-49be72f40d59', 113865.26, 113865.26000000001)\n",
            "('023c4bb2-6dc3-972e-379a-af19b8a2392d', 117956.49000000002, 117956.49)\n",
            "('02db7f22-8617-0cf7-fa10-d820d596a81a', 101166.45000000001, 101166.45000000001)\n",
            "('030287cd-dbd1-d7e1-6959-cfdfa0e271bd', 230.28, 230.28)\n",
            "('037404e1-0c87-534d-0fe2-e21ef20640f6', 70052.88, 70052.88)\n",
            "('038eb669-b744-c2bc-18c6-6e37068c722f', 49598.27, 49598.270000000004)\n",
            "('05023597-744e-9369-c390-e4090447a247', 63036.16, 63036.16)\n",
            "('05a3a33e-e9b1-0aaa-66f4-f0e2b57dce04', 3219.0699999999997, 3219.0699999999997)\n",
            "('072229fb-e8b1-a9ff-61b1-0cdab70c3c4c', 6615.34, 6615.34)\n"
          ]
        }
      ],
      "source": [
        "cur.execute('''SELECT patient_ID, medications_TOTALCOST, SUM(TOTALCOST)\n",
        "                FROM facts_table, medications WHERE facts_table.patient_ID = medications.PATIENT\n",
        "                GROUP BY patient_ID''')\n",
        "records = cur.fetchall()\n",
        "# show 10 rows\n",
        "for row in records[:10]:\n",
        "  print(row)"
      ]
    },
    {
      "cell_type": "markdown",
      "metadata": {
        "id": "i_zuP5pEBWyl"
      },
      "source": [
        "Die Daten werden aus **Procedures** eintragen. Es handelt sich um die Summe aller Prozedurenkosten für jeden einzelnen Patienten. Falls dieser Wert nicht existiert, wird an ihrer Stelle 0 eingetragen. Jede Transaktion wird mit commt beendet. Das Speichern der neuen Einträge in die Faktentabelle wird überprüft"
      ]
    },
    {
      "cell_type": "code",
      "execution_count": 77,
      "metadata": {
        "id": "PhHZdBsxczzX"
      },
      "outputs": [],
      "source": [
        "cur.execute('''     UPDATE facts_table SET procedures_BASE_COST = proc.TOTALCOST\n",
        "                    FROM\n",
        "                    (SELECT PATIENT, SUM(BASE_COST) as TOTALCOST\n",
        "                    FROM procedures, facts_table\n",
        "                    WHERE facts_table.patient_ID = procedures.PATIENT\n",
        "                    GROUP BY PATIENT) as proc\n",
        "                    WHERE facts_table.patient_ID = proc.PATIENT\n",
        "                    ;''')\n",
        "conn.commit()"
      ]
    },
    {
      "cell_type": "code",
      "execution_count": 78,
      "metadata": {
        "id": "Xk-l3nUpgoQv"
      },
      "outputs": [],
      "source": [
        "cur.execute('''UPDATE\n",
        "                  facts_table\n",
        "               SET\n",
        "                  procedures_BASE_COST = 0\n",
        "                WHERE procedures_BASE_COST IS NULL\n",
        "                    ;''')\n",
        "conn.commit()"
      ]
    },
    {
      "cell_type": "code",
      "execution_count": 79,
      "metadata": {
        "colab": {
          "base_uri": "https://localhost:8080/"
        },
        "id": "kOVBHeRwdTUH",
        "outputId": "fa379f43-19c1-4bbe-c5ba-973094f77968"
      },
      "outputs": [
        {
          "output_type": "stream",
          "name": "stdout",
          "text": [
            "('003c0d44-9dfc-ca91-6121-373a8e265bd4', 297586.43, 297586.43)\n",
            "('00edcb46-afd4-4687-c16a-f4e20dfc3e92', 23882.18, 23882.18)\n",
            "('01518fe2-bd76-d1e9-a656-1e7eae35dd17', 22514.35, 22514.35)\n",
            "('01581211-2e47-027b-71a0-dcbf0f4e6622', 34044.95, 34044.95)\n",
            "('01d6dc15-6313-5327-8491-49be72f40d59', 405522.31, 405522.31)\n",
            "('023c4bb2-6dc3-972e-379a-af19b8a2392d', 56170.43, 56170.43)\n",
            "('030287cd-dbd1-d7e1-6959-cfdfa0e271bd', 34779.04, 34779.04)\n",
            "('037404e1-0c87-534d-0fe2-e21ef20640f6', 28800.590000000004, 28800.59)\n",
            "('038eb669-b744-c2bc-18c6-6e37068c722f', 225341.52000000002, 225341.52)\n",
            "('05398088-a847-099e-3c61-c6153d83e024', 35182.2, 35182.2)\n"
          ]
        }
      ],
      "source": [
        "cur.execute('''SELECT patient_ID, procedures_Base_COST, SUM(Base_COST)\n",
        "                FROM facts_table, procedures WHERE facts_table.patient_ID = procedures.PATIENT\n",
        "                GROUP BY patient_ID''')\n",
        "records = cur.fetchall()\n",
        "# show 10 rows\n",
        "for row in records[:10]:\n",
        "  print(row)"
      ]
    },
    {
      "cell_type": "markdown",
      "metadata": {
        "id": "kBhSa5_4nceK"
      },
      "source": [
        "Die Daten werden aus **Immunizations** eintragen. Es handelt sich um die Summe aller Immunizationskosten für jeden einzelnen Patienten. Falls dieser Wert nicht existiert, wird an ihrer Stelle 0 eingetragen. Jede Transaktion wird mit commt beendet. Das Speichern der neuen Einträge in die Faktentabelle wird überprüft"
      ]
    },
    {
      "cell_type": "code",
      "execution_count": 80,
      "metadata": {
        "id": "yuvXDCf5dq0P"
      },
      "outputs": [],
      "source": [
        "cur.execute('''     UPDATE facts_table SET immunizations_Base_Cost = im.TOTALCOST\n",
        "                    FROM\n",
        "                    (SELECT PATIENT, SUM(Base_Cost) as TOTALCOST\n",
        "                    FROM immunizations, facts_table\n",
        "                    WHERE facts_table.patient_ID = immunizations.PATIENT\n",
        "                    GROUP BY PATIENT) as im\n",
        "                    WHERE facts_table.patient_ID = im.PATIENT\n",
        "                    ;''')\n",
        "conn.commit()"
      ]
    },
    {
      "cell_type": "code",
      "execution_count": 81,
      "metadata": {
        "id": "Tn5448tAgivf"
      },
      "outputs": [],
      "source": [
        "cur.execute('''UPDATE\n",
        "                  facts_table\n",
        "               SET\n",
        "                  immunizations_BASE_COST = 0\n",
        "                WHERE immunizations_BASE_COST IS NULL\n",
        "                    ;''')\n",
        "conn.commit()"
      ]
    },
    {
      "cell_type": "code",
      "execution_count": 82,
      "metadata": {
        "colab": {
          "base_uri": "https://localhost:8080/"
        },
        "id": "LZqMFbLhfXC4",
        "outputId": "003e79c5-7c5c-4db7-cdcf-382d553f4f81"
      },
      "outputs": [
        {
          "output_type": "stream",
          "name": "stdout",
          "text": [
            "('001c3804-81e8-740e-dd91-973b584a2dd9', 562.08, 562.08)\n",
            "('002a707d-ba35-3d1a-46c0-ad8a98a22137', 1264.68, 1264.68)\n",
            "('003c0d44-9dfc-ca91-6121-373a8e265bd4', 1405.2, 1405.2)\n",
            "('008b26ab-5c12-7a5b-cda4-f54484d5f749', 1545.72, 1545.72)\n",
            "('009121bf-a672-8942-443e-85e18a33f766', 1545.72, 1545.72)\n",
            "('00e798f6-7d02-8485-c5fd-4b6bfb114c69', 983.64, 983.64)\n",
            "('00edcb46-afd4-4687-c16a-f4e20dfc3e92', 1545.72, 1545.72)\n",
            "('0103a559-910a-03df-6117-ec429eeb4ac9', 1264.68, 1264.68)\n",
            "('01518fe2-bd76-d1e9-a656-1e7eae35dd17', 1826.76, 1826.76)\n",
            "('01581211-2e47-027b-71a0-dcbf0f4e6622', 1686.24, 1686.24)\n"
          ]
        }
      ],
      "source": [
        "cur.execute(''' SELECT patient_ID, immunizations_BASE_COST, SUM(BASE_COST) FROM facts_table, immunizations\n",
        "                WHERE facts_table.patient_ID = immunizations.PATIENT\n",
        "                GROUP BY patient_ID''' )\n",
        "records = cur.fetchall()\n",
        "# show 10 rows\n",
        "for row in records[:10]:\n",
        "  print(row)"
      ]
    },
    {
      "cell_type": "markdown",
      "metadata": {
        "id": "6zKcvT4DzTNV"
      },
      "source": [
        "> Werte in der Faktentabelle haben Komma statt Dot für die Dezimale. Konvertierung dieser.\n"
      ]
    },
    {
      "cell_type": "code",
      "execution_count": 83,
      "metadata": {
        "id": "bBgzg_CDzTNV"
      },
      "outputs": [],
      "source": [
        "cur.execute(''' UPDATE facts_table SET\n",
        "patient_LAT = REPLACE(patient_LAT,',','.'),\n",
        "patient_LON = REPLACE(patient_LON,',','.'),\n",
        "patient_HEALTHCARE_EXPENSES = REPLACE(patient_HEALTHCARE_EXPENSES,',','.'),\n",
        "patient_HEALTHCARE_COVERAGE = REPLACE(patient_HEALTHCARE_COVERAGE,',','.')\n",
        ";''')\n",
        "conn.commit()"
      ]
    },
    {
      "cell_type": "markdown",
      "metadata": {
        "id": "XMGm9tGzoD78"
      },
      "source": [
        "##Das Datawarehouse ist fast fertig ausgefüllt.\n",
        "Hier werden die ersten Tupeln der Faktentabelle angezeigt.\n",
        "Der \"None\"-Eintrag entspricht der Spalte für Encounters. Diese Spalte wird nicht benutzt, deshalb wurde sie nicht ausgefüllt."
      ]
    },
    {
      "cell_type": "code",
      "execution_count": 84,
      "metadata": {
        "colab": {
          "base_uri": "https://localhost:8080/"
        },
        "id": "EdRm9dEhoNiU",
        "outputId": "cd7eaa88-209b-49c5-a497-c68a7dbcac6d"
      },
      "outputs": [
        {
          "output_type": "stream",
          "name": "stdout",
          "text": [
            "('Colorectal_Cancer', '3f4ba8c9-bd19-30d2-0ec0-a2ab7bb1d430', None, 42.2603774425129, -72.5823125762879, 901885, 2506.44, '1983-07-16', 'QALY', 36, '2020-07-16T05:11:47Z', 37, 0, 0, 702.6, 516.64)\n",
            "('Colorectal_Cancer', 'eb84a420-13e9-c2d0-aea4-5df2cf4dd071', None, 42.2962784399499, -71.0526523952268, 809820, 2071.44, '1981-06-08', 'QALY', 38, '2020-06-07T22:20:01Z', 39, 0, 0, 562.08, 387.48)\n",
            "('Colorectal_Cancer', '43acad72-4292-0518-0b48-f02689d6f992', None, 41.7537435459149, -71.0985160727873, 719640, 2022.28, '1985-11-01', 'QALY', 34, '2020-11-01T14:51:18Z', 35, 0, 0, 702.6, 516.64)\n",
            "('Colorectal_Cancer', '865c69d6-0045-d269-94eb-3ab210bfe200', None, 42.4050898829232, -72.5542476530615, 18347.24, 327.48, '1968-04-17', 'QALY', 51, '2020-04-17T17:02:15Z', 52, 0, 0, 1264.68, 774.9599999999999)\n",
            "('Colorectal_Cancer', '7c5bce0e-6550-94a2-3a64-ca6d6d979b01', None, 42.6564680575996, -71.1603673095522, 1111275, 2820.56, '1969-09-14', 'QALY', 50, '2020-09-14T08:29:36Z', 51, 0, 0, 1545.72, 774.9599999999999)\n",
            "('Colorectal_Cancer', 'eb6a5b30-be96-b39d-1f95-40da74891494', None, 42.3574513398413, -71.111810723689, 1056015, 2634.76, '1977-01-31', 'QALY', 42, '2020-01-31T20:50:16Z', 43, 0, 0, 983.64, 516.64)\n",
            "('Colorectal_Cancer', '6740a7b2-5192-c4b9-d46e-6d844fc3bdfb', None, 42.1601767456934, -71.5055830508226, 98810, 2573.12, '1988-08-12', 'QALY', 31, '2020-08-12T18:30:41Z', 32, 0, 0, 562.08, 387.48)\n",
            "('Colorectal_Cancer', '4d964966-54cc-79d5-a0ea-8aa9a272ff7d', None, 42.5023118511694, -71.1309303749998, 25421.52, 294.96, '2000-08-05', 'QALY', 19, '2020-08-05T04:19:47Z', 20, 0, 0, 2107.8, 1162.44)\n",
            "('Colorectal_Cancer', 'a4b62fb1-edbf-59cb-ed1c-97b263908812', None, 41.8967163712942, -71.1244122753284, 37750, 2712.36, '2008-06-16', 'QALY', 11, '2020-06-16T12:23:30Z', 12, 0, 0, 2810.4, 1420.7600000000002)\n",
            "('Colorectal_Cancer', 'f0621f3e-7a2c-cf4a-891f-2409d78f39a1', None, 42.3526379617823, -71.1109093504589, 14700, 516.64, '2020-06-15', 'QALY', 1, '2020-06-15T04:50:59Z', 0, 0, 0, 1686.24, 516.64)\n",
            "('Colorectal_Cancer', '2777c495-706c-7e23-cab8-dcd6133fec19', None, 42.649602422368, -73.0885594511278, 982440, 2651.44, '1982-01-30', 'QALY', 37, '2020-01-30T19:27:52Z', 38, 0, 0, 562.08, 387.48)\n",
            "('Colorectal_Cancer', '9ac81cc6-4c04-29fe-6932-f2a02f733bdb', None, 42.7124319140338, -71.1887185243166, 294500, 2712.36, '2008-02-18', 'QALY', 11, '2020-02-18T11:24:32Z', 12, 0, 0, 2810.4, 1420.7600000000002)\n",
            "('Colorectal_Cancer', 'c87a131b-37dd-822e-6c4c-07b32e77b995', None, 42.3132613549822, -71.0022755208212, 100549.09, 3305.57, '1961-10-13', 'QALY', 58, '2020-10-13T17:28:38Z', 59, 35905.93, 0, 1686.24, 1317.42)\n",
            "('Colorectal_Cancer', '85a00613-33b4-6dea-7aa8-fb7b016db920', None, 42.3744089488039, -72.4846846509529, 815775, 2216.44, '1983-05-06', 'QALY', 36, '2020-05-06T16:50:48Z', 37, 0, 0, 702.6, 516.64)\n",
            "('Colorectal_Cancer', '30bfac72-f43d-b2ce-c898-0652a79d0002', None, 42.1229048431739, -70.8894741570245, 1736225, 5274.6, '1950-01-25', 'QALY', 69, '2020-01-25T07:12:55Z', 70, 0, 0, 1826.76, 1291.6000000000001)\n",
            "('Colorectal_Cancer', 'fa4e3f1c-1b29-1c9c-051d-466502970cdd', None, 42.3558103413989, -71.1578452189555, 1432320, 3876.34, '1964-04-06', 'QALY', 55, '2020-04-06T13:16:20Z', 56, 36658.33, 0, 1545.72, 1188.26)\n",
            "('Colorectal_Cancer', '78310560-7c87-1508-c3b9-e375ac72f040', None, 42.4167427897444, -71.1414435759549, 222000, 2324.88, '2011-10-04', 'QALY', 8, '2020-10-04T14:45:34Z', 9, 0, 0, 5058.720000000003, 2324.88)\n",
            "('Colorectal_Cancer', 'a33493a3-589a-efbf-9a69-7832fc05f129', None, 42.1899219554337, -72.5260637314357, 343200, 2712.36, '2008-01-12', 'QALY', 11, '2020-01-12T06:03:37Z', 12, 0, 0, 2950.92, 1420.7600000000002)\n",
            "('Colorectal_Cancer', '0db5c91a-abab-528f-f45b-017d0898fccf', None, 42.5170369419887, -73.1814484094282, 50405.27, 1291.6, '1946-01-22', 'QALY', 72.9, '2020-01-22T13:06:00Z', 74, 21395.04, 6941.91, 1826.76, 1549.9200000000003)\n",
            "('Colorectal_Cancer', '040c6422-398e-af96-f5f5-624f8bb4640d', None, 42.4051713611008, -71.589573418456, 237300, 2324.88, '2011-08-17', 'QALY', 8, '2020-08-17T05:56:53Z', 9, 0, 0, 5058.720000000003, 2324.88)\n",
            "('Colorectal_Cancer', 'a3b86df6-c1a1-0778-9344-cd5bd128f4de', None, 42.1899218158984, -72.526418894513, 124200, 1808.24, '2015-03-27', 'QALY', 4, '2020-03-26T23:18:21Z', 5, 0, 0, 4496.640000000001, 1808.2400000000005)\n",
            "('Colorectal_Cancer', '24458607-2c1e-6692-f644-c82f7348ff6c', None, 41.6837135586832, -70.1134995790073, 956194.57, 2479.76, '1979-02-25', 'QALY', 37.9, '2020-02-25T15:04:15Z', 41, 0, 0, 562.08, 516.64)\n",
            "('Colorectal_Cancer', 'fcfc15ad-c4f7-ae12-6726-3c31d5431a7d', None, 42.2761514211128, -71.0601061364303, 4520.6, 0, '1979-08-07', 'QALY', 40, '2020-08-07T03:38:08Z', 41, 0, 0, 562.08, 387.48)\n",
            "('Colorectal_Cancer', 'a402099b-f939-aa3e-691a-9f154f4305f5', None, 42.2148888774146, -72.5979461225599, 525840, 2776.48, '2000-03-19', 'QALY', 19, '2020-03-19T06:32:19Z', 20, 0, 0, 2107.8, 1162.44)\n",
            "('Colorectal_Cancer', '9a71a96f-26df-05fd-9e0d-f265b2d42da4', None, 42.7439283720983, -71.1318917557139, 380560, 2669, '2004-05-10', 'QALY', 15, '2020-05-10T21:52:34Z', 16, 0, 0, 2248.32, 1291.6000000000001)\n",
            "('Colorectal_Cancer', '86175b29-feed-c474-5a75-0bdc682a14fe', None, 42.3493175662456, -72.4966194918264, 67210, 2656.48, '1998-12-24', 'QALY', 20, '2019-12-24T18:28:47Z', 21, 0, 0, 1545.72, 1033.28)\n",
            "('Colorectal_Cancer', '9e6b6241-c0a1-5ab3-d225-7233bb9ebbee', None, 42.4197267965755, -71.0368576478158, 157500, 1937.4, '2014-10-14', 'QALY', 5, '2020-10-14T11:57:14Z', 6, 0, 0, 4637.160000000002, 1937.4000000000005)\n",
            "('Colorectal_Cancer', '530d950d-71f5-05d9-de46-0742db31191c', None, 42.5434679037031, -71.1703103572486, 1409300, 4113.76, '1955-05-05', 'QALY', 64, '2020-05-05T20:08:55Z', 65, 24508.17, 5108, 1686.24, 1446.5800000000002)\n",
            "('Colorectal_Cancer', 'f8a4da19-1c10-fb70-50be-80c134c41805', None, 42.3921917957703, -71.0249147121615, 1478460, 4039.68, '1962-06-05', 'QALY', 57, '2020-06-05T08:21:14Z', 58, 0, 0, 1686.24, 1162.44)\n",
            "('Colorectal_Cancer', 'bd2e82a0-6953-46fc-4e61-8d4066ee089a', None, 41.685348470116, -71.1179147315143, 30028.08, 354.96, '1965-12-06', 'QALY', 53, '2019-12-06T10:07:01Z', 54, 0, 0, 1405.2, 904.1199999999999)\n"
          ]
        }
      ],
      "source": [
        "cur.execute('''SELECT * FROM facts_table\n",
        " WHERE cancer_type LIKE \"Colorectal_Cancer\"''')\n",
        "records = cur.fetchall()\n",
        "# show 4 rows\n",
        "for row in records[:30]:\n",
        "  print(row)"
      ]
    },
    {
      "cell_type": "code",
      "execution_count": 85,
      "metadata": {
        "colab": {
          "base_uri": "https://localhost:8080/"
        },
        "id": "aLWYwQVkmDrU",
        "outputId": "4cad4250-69d2-4ccc-8013-0676673ebad9"
      },
      "outputs": [
        {
          "output_type": "stream",
          "name": "stdout",
          "text": [
            "    cid                           name           type  notnull dflt_value  pk\n",
            "0     0                    cancer_type         STRING        0       None   0\n",
            "1     1                     patient_ID         STRING        0       None   0\n",
            "2     2                   encounter_ID         STRING        0       None   0\n",
            "3     3                    patient_LAT   DECIMAL(6,2)        0       None   0\n",
            "4     4                    patient_LON   DECIMAL(6,2)        0       None   0\n",
            "5     5    patient_HEALTHCARE_EXPENSES   DECIMAL(9,2)        0       None   0\n",
            "6     6    patient_HEALTHCARE_COVERAGE   DECIMAL(9,2)        0       None   0\n",
            "7     7              patient_BIRTHDATE           DATE        0       None   0\n",
            "8     8              observations_CODE         STRING        0       None   0\n",
            "9     9             observations_VALUE         STRING        0       None   0\n",
            "10   10              observations_DATE           DATE        0       None   0\n",
            "11   11               observations_AGE   DECIMAL(6,2)        0       None   0\n",
            "12   12           procedures_BASE_COST  DECIMAL(11,2)        0       None   0\n",
            "13   13          medications_TOTALCOST  DECIMAL(11,2)        0       None   0\n",
            "14   14        immunizations_BASE_COST  DECIMAL(11,2)        0       None   0\n",
            "15   15  encounter_BASE_ENCOUNTER_COST  DECIMAL(11,2)        0       None   0\n"
          ]
        }
      ],
      "source": [
        "print(pd.read_sql_query(\"PRAGMA table_info('facts_table')\", conn))"
      ]
    }
  ],
  "metadata": {
    "colab": {
      "provenance": [],
      "include_colab_link": true
    },
    "kernelspec": {
      "display_name": "Python 3",
      "name": "python3"
    },
    "language_info": {
      "codemirror_mode": {
        "name": "ipython",
        "version": 3
      },
      "file_extension": ".py",
      "mimetype": "text/x-python",
      "name": "python",
      "nbconvert_exporter": "python",
      "pygments_lexer": "ipython3",
      "version": "3.10.13"
    }
  },
  "nbformat": 4,
  "nbformat_minor": 0
}