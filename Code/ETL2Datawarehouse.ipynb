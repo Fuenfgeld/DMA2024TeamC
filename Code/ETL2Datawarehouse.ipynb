{
  "cells": [
    {
      "cell_type": "markdown",
      "metadata": {},
      "source": [
        "<a href=\"https://colab.research.google.com/github/Fuenfgeld/DMA2024TeamC/blob/main/Code/ETL2Datawarehouse.ipynb\" target=\"_parent\"><img src=\"https://colab.research.google.com/assets/colab-badge.svg\" alt=\"Open In Colab\"/></a>"
      ]
    },
    {
      "cell_type": "markdown",
      "metadata": {
        "id": "vHosyFJW4vm1"
      },
      "source": [
        "**Kursarbeit Datenmanagement und -Archivierung WS 23/24**\n",
        "\n",
        "Master-Code Name-CALICO:MA\n"
      ]
    },
    {
      "cell_type": "markdown",
      "metadata": {
        "id": "mZXn3MCm6EUw"
      },
      "source": [
        "**Erstellung der Datenbank**\n",
        "\n",
        "\n",
        "*   Datenbankinitialisierung:\n",
        "\n"
      ]
    },
    {
      "cell_type": "markdown",
      "metadata": {
        "id": "R4Vq7BBP-kj0"
      },
      "source": [
        "> Laden der benötigten Libraries"
      ]
    },
    {
      "cell_type": "code",
      "execution_count": null,
      "metadata": {
        "id": "eriJl5b7-haW"
      },
      "outputs": [],
      "source": [
        "import os\n",
        "import pandas as pd\n",
        "from functools import reduce\n",
        "import sqlite3\n",
        "from sqlite3 import Error\n",
        "import csv\n",
        "#import requests"
      ]
    },
    {
      "cell_type": "markdown",
      "metadata": {
        "id": "VXZWN4WFzTND"
      },
      "source": [
        ">Google drive verbinden"
      ]
    },
    {
      "cell_type": "code",
      "execution_count": null,
      "metadata": {
        "colab": {
          "base_uri": "https://localhost:8080/"
        },
        "id": "TCr42mndzTNE",
        "outputId": "2e52bb4f-705a-4f11-dbc0-7ee401b3f0aa"
      },
      "outputs": [
        {
          "name": "stdout",
          "output_type": "stream",
          "text": [
            "Mounted at /content/drive\n",
            "MyDrive  Shareddrives\n"
          ]
        }
      ],
      "source": [
        "from google.colab import drive\n",
        "drive.mount(\"/content/drive\", force_remount=True)\n",
        "!ls drive/"
      ]
    },
    {
      "cell_type": "markdown",
      "metadata": {
        "id": "OK5l6qwhzTNF"
      },
      "source": [
        ">Clonen des Repository (https://github.com/Fuenfgeld/DMA2024TeamC.git) in den Ordner calico_ma_repo im google drive. Hier bei wird das Programm git installiert. Soll.te dies zum ersten mal ausgeführt werden wird das komplette Repository geklont. Achtung: Sollte das Repository bereits früher in diesen Unterordner geclont worden sein, so wird ein \"git fetch\" ausgeführt und die aktuellsten Daten aus dem Repository weredn heruntergeladen. Dabei weredn alle Daten überschreiben und nicht mehr vorhandene Daten im Repository werden acuh im google drive gelöscht."
      ]
    },
    {
      "cell_type": "code",
      "execution_count": null,
      "metadata": {
        "id": "hCN64E-FzTNI"
      },
      "outputs": [],
      "source": [
        "#definieren des Ordners in dem die repo gesichert werdern soll\n",
        "google_drive_folder = \"/content/drive/MyDrive\"\n",
        "repo_colab_name = \"calico_ma_repo\"\n",
        "#full_path_repo_colab = f\"{google_drive_folder}+\"//\"+{repo_colab_name}\"\n",
        "full_path_repo_colab = os.path.join(google_drive_folder,repo_colab_name)\n",
        "if not os.path.exists(full_path_repo_colab):\n",
        "    os.makedirs(full_path_repo_colab)\n",
        "    print(f\"Ordner {full_path_repo_colab} angelegt\")\n",
        "else:\n",
        "    print(f\"Ordner {full_path_repo_colab} existiert bereits\")"
      ]
    },
    {
      "cell_type": "code",
      "execution_count": null,
      "metadata": {
        "colab": {
          "base_uri": "https://localhost:8080/"
        },
        "id": "t_eLGJVAzTNI",
        "outputId": "d345b51f-8df5-436a-d962-eb5b3e2b17d2"
      },
      "outputs": [
        {
          "name": "stdout",
          "output_type": "stream",
          "text": [
            "Reading package lists... Done\n",
            "Building dependency tree... Done\n",
            "Reading state information... Done\n",
            "git is already the newest version (1:2.34.1-1ubuntu1.10).\n",
            "0 upgraded, 0 newly installed, 0 to remove and 33 not upgraded.\n"
          ]
        }
      ],
      "source": [
        "! apt-get install git"
      ]
    },
    {
      "cell_type": "markdown",
      "metadata": {},
      "source": [
        ">Achtung: Herunterladen der Repo. Achtung es wird ein fetch ausgeführt und alle Daten aus dem repository übernommen. Es wird keine Abfrage gemacht, ob Daten überschrieben werden sollen."
      ]
    },
    {
      "cell_type": "code",
      "execution_count": null,
      "metadata": {
        "id": "v6k0GYw4zTNJ"
      },
      "outputs": [],
      "source": [
        "if os.path.exists(full_path_repo_colab):\n",
        "    # If the repository already exists, navigate to it and pull the latest changes\n",
        "    %cd $full_path_repo_colab\n",
        "    # Fetch the remote repository\n",
        "    !git fetch origin\n",
        "\n",
        "    # Reset your local branch to match the remote branch\n",
        "    !git reset --hard origin/main\n",
        "else:\n",
        "    # If the repository does not exist, clone it\n",
        "    !git clone https://github.com/Fuenfgeld/DMA2024TeamC.git $full_path_repo_colab"
      ]
    },
    {
      "cell_type": "code",
      "execution_count": null,
      "metadata": {
        "id": "ijnO0_LlzTNK"
      },
      "outputs": [],
      "source": [
        "!ls $full_path_repo_colab"
      ]
    },
    {
      "cell_type": "markdown",
      "metadata": {
        "id": "c9whsxq3-FwZ"
      },
      "source": [
        ">Definition der Umgebnungsvariablen\n",
        "\n",
        ">Verbindung zu CSV-Dateien herstellen und Kategorisierung nach der Tumorerkrankung\n",
        "**AMENDMENT FOR ML: project_name = \"CALICO_MA_ML\"**"
      ]
    },
    {
      "cell_type": "code",
      "execution_count": null,
      "metadata": {
        "id": "lEgV_Mbhhlv-"
      },
      "outputs": [],
      "source": [
        "#repo_home = \"/home/gunnar/DMA2024TeamC/\" ## muss entsprechend angepasst werden für das lokale repo verzeichnis\n",
        "repo_home = full_path_repo_colab+\"/\" ## repo in google drive\n",
        "csv_data_folder = repo_home + \"Data/Quelldaten/CSV_Data/\"\n",
        "project_name = \"CALICO_MA\"\n",
        "print(repo_home)\n",
        "print (csv_data_folder)"
      ]
    },
    {
      "cell_type": "markdown",
      "metadata": {
        "id": "lqxU1QoYzTNM"
      },
      "source": [
        "> **Datebankinitialisierung**\n",
        "\n",
        "> Erklärung des unten folgenden Codesb durch GitHub CoPilot\n",
        "\n",
        ">The provided code is a Python script that establishes a connection to a SQLite database and creates a cursor object for executing SQL commands.\n",
        ">The `create_connection_local` function is defined to establish a connection to a SQLite database. The function takes one parameter, `local_path`, which is the path to the database file. Inside the function, a `try` block is used to attempt to establish the connection. The `sqlite3.connect` function is called with the path to the database file, which is constructed by concatenating `local_path`, the string 'Data/CALICO_MA_Database/', and the global variable `project_name` with '.db' extension. If the connection is established successfully, the connection object is returned. However, the `print(sqlite3.version)` statement after the `return` statement will never be executed because the function exits as soon as it hits the `return` statement. If there is an error while establishing the connection, it is caught by the `except` block, and a message is printed to the console.\n",
        ">After the `create_connection_local` function is defined, it is called with `repo_home` as the argument, and the returned connection object is stored in the `conn` variable.\n",
        ">Next, a cursor object is created by calling the `cursor` method on the connection object. This cursor object, stored in the `cur` variable, can be used to execute SQL commands.\n",
        ">Finally, a success message is printed to the console, indicating that the connection to the SQLite database was established successfully. The message includes the path to the database file."
      ]
    },
    {
      "cell_type": "code",
      "execution_count": null,
      "metadata": {
        "id": "5VAxi8iZnsCJ"
      },
      "outputs": [],
      "source": [
        "def create_connection_local(local_path):\n",
        "  conn = None;\n",
        "  try:\n",
        "    #Establishing the connection\n",
        "    conn = sqlite3.connect(local_path+'Data/CALICO_MA_Database/'+project_name+'.db')\n",
        "    return conn\n",
        "    print(sqlite3.version)\n",
        "  except Error as e:\n",
        "    print(\"Error while connecting to sqlite\", e)\n",
        "conn = create_connection_local(repo_home)\n",
        "# Creating a cursor object using the cursor() method\n",
        "cur = conn.cursor()\n",
        "print(\"Successfully Connected to SQLite Public Data Warehouse: \"+repo_home+'Data/CALICO_MA_Database/'+project_name+'.db')\n"
      ]
    },
    {
      "cell_type": "markdown",
      "metadata": {
        "id": "N6uOOgxwzTNN"
      },
      "source": [
        "> Datenimport aus den CSV Quelldateien in Pandas Dataframes \n",
        "\n",
        "\n",
        "Folgende Schritte werden dabei im Code durchgeführt:\n",
        "\n",
        "This Python script is used to read multiple CSV files from different directories, create pandas DataFrames from them, and then concatenate these DataFrames based on their types.\n",
        "\n",
        "Here's a step-by-step explanation:\n",
        "\n",
        "1. Two lists are defined: `csvs` and `tumortypes`. `csvs` contains the names of different types of CSV files, and `tumortypes` contains the names of different types of tumors.\n",
        "\n",
        "2. An empty dictionary `df` is created to store the DataFrames.\n",
        "\n",
        "3. The script then enters a nested loop where it iterates over each tumor type and each CSV type. For each combination, it constructs a key (e.g., \"procedures_Breast_Cancer\") and a file path.\n",
        "\n",
        "4. It reads the CSV file at the constructed path into a DataFrame, adds a new column `cancer_type` to the DataFrame, and stores the DataFrame in the `df` dictionary with the constructed key.\n",
        "\n",
        "5. The DataFrame is also appended to a list in the `csv_dfs` dictionary corresponding to its CSV type.\n",
        "\n",
        "6. After all CSV files have been read and their DataFrames stored, the script concatenates the DataFrames in each list in the `csv_dfs` dictionary. The result is a dictionary where each key is a CSV type and each value is a DataFrame that is the concatenation of all DataFrames of that CSV type.\n",
        "\n",
        "7. Finally, the script prints the first few rows of each DataFrame in the `df` and `csv_dfs` dictionaries."
      ]
    },
    {
      "cell_type": "code",
      "execution_count": null,
      "metadata": {
        "id": "1Uffy7Q6yWD_"
      },
      "outputs": [],
      "source": [
        "# Generate dataframes and add cancer_type information as a new column\n",
        "\n",
        "csvs = [\"procedures\", \"encounters\", \"immunizations\", \"medications\", \"observations\", \"patients\"]\n",
        "\n",
        "tumortypes = [\"Breast_Cancer\", \"Lung_Cancer\", \"Colorectal_Cancer\"]\n",
        "\n",
        "df = {}\n",
        "csv_dfs = {csv: [] for csv in csvs}\n",
        "\n",
        "for tumor in tumortypes:\n",
        "    for csv in csvs:\n",
        "        key = f\"{csv}_{tumor}\"\n",
        "        path = f\"{csv_data_folder}{tumor}/{csv}.csv\"\n",
        "        df[key] = pd.read_csv(path, sep=\",\")\n",
        "        df[key] = df[key].assign(cancer_type=tumor)\n",
        "\n",
        "        # Add the dataframe to the list for this csv\n",
        "        csv_dfs[csv].append(df[key])\n",
        "\n",
        "# Check the sum of the number of rows in the original dataframes for each csv\n",
        "for csv in csvs:\n",
        "    total_rows = sum(len(df[csv + '_' + tumor]) for tumor in tumortypes)\n",
        "    print(f\"Total number of rows in original dataframes for {csv}: {total_rows}\")\n",
        "    print(\"\\n\")\n",
        "# Concatenate the dataframes for each csv\n",
        "for csv in csvs:\n",
        "    csv_dfs[csv] = pd.concat(csv_dfs[csv])\n",
        "\n",
        "# Check the number of rows and unique cancer types in each concatenated dataframe\n",
        "for csv, df in csv_dfs.items():\n",
        "    print(f\"Concatenated DataFrame for {csv}:\")\n",
        "    print(f\"Number of rows: {len(df)}\")\n",
        "    print(f\"Unique cancer types: {df['cancer_type'].unique()}\")\n",
        "    print(\"\\n\")\n"
      ]
    },
    {
      "cell_type": "markdown",
      "metadata": {
        "id": "nfGcCcEizTNO"
      },
      "source": [
        ">Quality checks of the dataframes"
      ]
    },
    {
      "cell_type": "code",
      "execution_count": null,
      "metadata": {
        "id": "HOTYJKSZzTNO"
      },
      "outputs": [],
      "source": [
        "# .nunique(axis=0) returns the number of unique values for each columns in the concanated dataframes.\n",
        "for csv, df in csv_dfs.items():\n",
        "    print(f\"Quality for concatenated DataFrame {csv}:\\n{df.nunique(axis=0)}\")\n",
        "    print(\"\\n\")\n",
        "\n"
      ]
    },
    {
      "cell_type": "code",
      "execution_count": null,
      "metadata": {
        "id": "LAV9BkOHzTNO"
      },
      "outputs": [],
      "source": [
        "#percentage of not null values in each column in the concanated dataframes.\n",
        "for csv, df in csv_dfs.items():\n",
        "    print(f\"percentage of not null values in each column of concatenated DataFrame {csv}:\\n{df.count()/len(df) * 100}\")\n",
        "    print(\"\\n\")\n"
      ]
    },
    {
      "cell_type": "code",
      "execution_count": null,
      "metadata": {
        "id": "omHiPDL_yWH2"
      },
      "outputs": [],
      "source": [
        "#Delete Tables in case they exist\n",
        "cur.execute(\"DROP TABLE IF EXISTS procedures\")\n",
        "cur.execute(\"DROP TABLE IF EXISTS encounters\")\n",
        "cur.execute(\"DROP TABLE IF EXISTS immunizations\")\n",
        "cur.execute(\"DROP TABLE IF EXISTS medications\")\n",
        "cur.execute(\"DROP TABLE IF EXISTS observations\")\n",
        "cur.execute(\"DROP TABLE IF EXISTS patients\")\n",
        "cur.execute(\"DROP TABLE IF EXISTS facts_table\")"
      ]
    },
    {
      "cell_type": "markdown",
      "metadata": {
        "id": "MPDvy1jAzTNP"
      },
      "source": [
        ">Create tables including facts_table\n",
        "**AMENDMENTS FOR ML: COUNTY as STRING, ZIP as STRING**"
      ]
    },
    {
      "cell_type": "code",
      "execution_count": null,
      "metadata": {
        "id": "PYnfBkKTzTNP"
      },
      "outputs": [],
      "source": [
        "# Create tables including facts_table\n",
        "\n",
        "sql_table = {}\n",
        "\n",
        "create_table_command = \"\"\"CREATE TABLE IF NOT EXISTS patients (\n",
        "                           Id         STRING PRIMARY KEY,\n",
        "                           BIRTHDATE  DATE,\n",
        "                           DEATHDATE  DATE,\n",
        "                           SSN        STRING,\n",
        "                           DRIVERS    STRING,\n",
        "                           PASSPORT   STRING,\n",
        "                           PREFIX     STRING,\n",
        "                           FIRST      STRING,\n",
        "                           LAST       STRING,\n",
        "                           SUFFIX     STRING,\n",
        "                           MAIDEN     STRING,\n",
        "                           MARITAL    STRING,\n",
        "                           RACE       STRING,\n",
        "                           ETHNICITY  STRING,\n",
        "                           GENDER     STRING,\n",
        "                           BIRTHPLACE STRING,\n",
        "                           ADDRESS    STRING,\n",
        "                           CITY       STRING,\n",
        "                           STATE      STRING,\n",
        "                           COUNTY     STRING,\n",
        "                           ZIP        STRING,\n",
        "                           LAT        DECIMAL(6,2),\n",
        "                           LON        DECIMAL(6,2),\n",
        "                           HEALTHCARE_EXPENSES DECIMAL(9,2),\n",
        "                           HEALTHCARE_COVERAGE DECIMAL(9,2),\n",
        "                           cancer_type STRING\n",
        "  );\n",
        "\n",
        "CREATE TABLE IF NOT EXISTS encounters (\n",
        "                           Id STRING PRIMARY KEY,\n",
        "                           START DATE,\n",
        "                           STOP DATE,\n",
        "                           PATIENT STRING,\n",
        "                           ORGANIZATION STRING,\n",
        "                           PROVIDER STRING,\n",
        "                           PAYER STRING,\n",
        "                           ENCOUNTERCLASS STRING,\n",
        "                           CODE STRING,\n",
        "                           DESCRIPTION STRING,\n",
        "                           BASE_ENCOUNTER_COST DECIMAL(9,2),\n",
        "                           TOTAL_CLAIM_COST DECIMAL(9,2),\n",
        "                           PAYER_COVERAGE DECIMAL(9,2),\n",
        "                           REASONCODE STRING,\n",
        "                           REASONDESCRIPTION STRING,\n",
        "                           cancer_type STRING,\n",
        "                           FOREIGN KEY (PATIENT)\n",
        "                              REFERENCES patients (Id)\n",
        ");\n",
        "\n",
        "\n",
        "\n",
        "CREATE TABLE IF NOT EXISTS observations (\n",
        "                           DATE DATE,\n",
        "                           PATIENT STRING,\n",
        "                           ENCOUNTER STRING,\n",
        "                           CODE STRING,\n",
        "                           DESCRIPTION STRING,\n",
        "                           VALUE STRING,\n",
        "                           UNITS STRING,\n",
        "                           TYPE STRING,\n",
        "                           cancer_type STRING,\n",
        "                           FOREIGN KEY (PATIENT) REFERENCES patients (Id),\n",
        "                           FOREIGN KEY (Encounter) REFERENCES encounters (Id)\n",
        ");\n",
        "\n",
        "\n",
        "CREATE TABLE IF NOT EXISTS medications (\n",
        "                           START DATE,\n",
        "                           STOP DATE,\n",
        "                           PATIENT STRING,\n",
        "                           PAYER STRING,\n",
        "                           ENCOUNTER STRING,\n",
        "                           CODE STRING,\n",
        "                           DESCRIPTION STRING,\n",
        "                           BASE_COST DECIMAL(9,2),\n",
        "                           PAYER_COVERAGE DECIMAL(9,2),\n",
        "                           DISPENSES DECIMAL(9,2),\n",
        "                           TOTALCOST DECIMAL(9,2),\n",
        "                           REASONCODE STRING,\n",
        "                           REASONDESCRIPTION STRING,\n",
        "                           cancer_type STRING,\n",
        "                           FOREIGN KEY (PATIENT)\n",
        "                              REFERENCES patients (Id)\n",
        "                           FOREIGN KEY (Encounter)\n",
        "                              REFERENCES encounters (Id)\n",
        "  );\n",
        "\n",
        "CREATE TABLE IF NOT EXISTS procedures (\n",
        "                           DATE DATE,\n",
        "                           PATIENT STRING,\n",
        "                           ENCOUNTER STRING,\n",
        "                           CODE STRING,\n",
        "                           DESCRIPTION STRING,\n",
        "                           BASE_COST DECIMAL(9,2),\n",
        "                           REASONCODE STRING,\n",
        "                           REASONDESCRIPTION STRING,\n",
        "                           cancer_type STRING,\n",
        "                           FOREIGN KEY (PATIENT) REFERENCES patients (Id),\n",
        "                           FOREIGN KEY (Encounter) REFERENCES encounters (Id)\n",
        "                       );\n",
        "\n",
        "CREATE TABLE IF NOT EXISTS immunizations (\n",
        "                           DATE DATE,\n",
        "                           PATIENT STRING,\n",
        "                           ENCOUNTER STRING,\n",
        "                           CODE STRING,\n",
        "                           DESCRIPTION STRING,\n",
        "                           BASE_COST DECIMAL(9,2),\n",
        "                           cancer_type STRING,\n",
        "                           FOREIGN KEY (PATIENT)\n",
        "                              REFERENCES patients (Id)\n",
        "                           FOREIGN KEY (Encounter)\n",
        "                              REFERENCES encounters (Id)\n",
        "  );\n",
        "\n",
        "CREATE TABLE IF NOT EXISTS facts_table (\n",
        "                          cancer_type STRING,\n",
        "                          patient_ID STRING,\n",
        "                          encounter_ID STRING,\n",
        "                          patient_LAT        DECIMAL(6,2),\n",
        "                          patient_LON        DECIMAL(6,2),\n",
        "                          patient_COUNTY     STRING,\n",
        "                          patient_ZIP        STRING,\n",
        "                          patient_HEALTHCARE_EXPENSES DECIMAL(9,2),\n",
        "                          patient_HEALTHCARE_COVERAGE DECIMAL(9,2),\n",
        "                          patient_BIRTHDATE DATE,\n",
        "                          observations_CODE STRING,\n",
        "                          observations_VALUE STRING,\n",
        "                          observations_DATE  DATE,\n",
        "                          observations_AGE DECIMAL(6,2),\n",
        "                          procedures_BASE_COST DECIMAL(11,2),\n",
        "                          medications_TOTALCOST DECIMAL(11,2),\n",
        "                          immunizations_BASE_COST DECIMAL(11,2),\n",
        "                          encounter_BASE_ENCOUNTER_COST DECIMAL(11,2),\n",
        "                          FOREIGN KEY (patient_ID) REFERENCES patients (Id),\n",
        "                          FOREIGN KEY (patient_ID) REFERENCES observations (PATIENT),\n",
        "                          FOREIGN KEY (encounter_ID) REFERENCES observations (ENCOUNTER),\n",
        "                          FOREIGN KEY (patient_ID) REFERENCES encounters (PATIENT),\n",
        "                          FOREIGN KEY (encounter_ID) REFERENCES encounters (Id),\n",
        "                          FOREIGN KEY (patient_ID) REFERENCES procedures (PATIENT),\n",
        "                          FOREIGN KEY (encounter_ID) REFERENCES procedures (ENCOUNTER),\n",
        "                          FOREIGN KEY (patient_ID) REFERENCES medications (PATIENT),\n",
        "                          FOREIGN KEY (encounter_ID) REFERENCES medications (ENCOUNTER),\n",
        "                          FOREIGN KEY (patient_ID) REFERENCES immunizations (PATIENT),\n",
        "                          FOREIGN KEY (encounter_ID) REFERENCES immunizations (ENCOUNTER)\n",
        "\n",
        ");\n",
        "\"\"\"\n",
        "# Execute the SQL command\n",
        "cur.executescript(create_table_command)\n",
        "\n",
        "conn.commit()"
      ]
    },
    {
      "cell_type": "code",
      "execution_count": null,
      "metadata": {
        "id": "WdrO61KGzTNQ"
      },
      "outputs": [],
      "source": [
        "#Insert data from the concanated data frames into the tables\n",
        "\n",
        "for csv, df in csv_dfs.items():\n",
        "    df.to_sql(csv, conn, if_exists='append', index=False)\n",
        "\n",
        "conn.commit()"
      ]
    },
    {
      "cell_type": "code",
      "execution_count": null,
      "metadata": {
        "id": "sq04Zs5BzTNQ"
      },
      "outputs": [],
      "source": [
        "#Check if data is in the tables. 10 random rows are selected from each table\n",
        "\n",
        "for csv in csvs:\n",
        "    cur.execute(f\"SELECT * FROM {csv} ORDER BY RANDOM() LIMIT 10\")\n",
        "    rows = cur.fetchall()\n",
        "    df_random = pd.DataFrame(rows, columns=[desc[0] for desc in cur.description])\n",
        "    print(f\"SQL tables from {repo_home}Data/CALICO_MA_Database/{project_name}.db' \\n\\n{csv} {df_random} \")\n"
      ]
    },
    {
      "cell_type": "markdown",
      "metadata": {
        "id": "inn0cONkebqW"
      },
      "source": [
        "### Die Daten werden aus den verschiedenen Tabellen extrahiert und ggf. transformiert\n",
        " >Die Daten aus **Patients** werden erstmal in die Faktentabelle übertragen. Es handelt sich um die Krebsart, die Patienten ID, die geographische Koordinaten, die Healthcarekosten, die vom Patient getragen werden und diejenigen, die von der Krankenversicherung bezahlt werden, und zum Ende das Geburtsdatum.\n",
        "Damit die Faktentabelle keine Redundanzen aufweist, werden die Encounter ID nicht mehr einzeln gespeichert. Stattdessen werden in der Faktentabelle für jeden Patienten die gesamten Kosten gespeichert, die in jeder Kategorie (Encounters, Observations, Immunizations, Procedures umd Medications) verursacht wurden.  \n",
        "Die Transaktion in der Faktentabelle der Datenbank wird mit commit beendet.\n",
        "**AMENDMENT FOR ML: patient_COUNTY and patient_ZIP included**\n",
        "\n",
        "ACHTUNG: 53% der Patienten haben keine ZIP\n",
        "\n"
      ]
    },
    {
      "cell_type": "code",
      "execution_count": null,
      "metadata": {
        "id": "bo0kcX-xiSMa"
      },
      "outputs": [],
      "source": [
        "# TEST how many patients undergo Procedures\n",
        "#cur.execute('''SELECT COUNT(*) from procedures GROUP BY procedures.PATIENT''')\n",
        "#records = cur.fetchall()\n",
        "#i=1\n",
        "#for row in records:\n",
        "#  print(f'patient', i, 'undergoes ', row,' procedures')\n",
        "#  i=i+1"
      ]
    },
    {
      "cell_type": "code",
      "execution_count": null,
      "metadata": {
        "id": "YXJ3K44okdLR"
      },
      "outputs": [],
      "source": [
        "# Datenextraktion aus der Patientstabelle\n",
        "cur.execute('''INSERT INTO facts_table\n",
        "                    ( cancer_type, patient_ID, encounter_ID, patient_LAT, patient_LON, patient_COUNTY, patient_ZIP, patient_HEALTHCARE_EXPENSES , patient_HEALTHCARE_COVERAGE, patient_BIRTHDATE)\n",
        "                    SELECT\n",
        "                        p.cancer_type AS cancer_type,\n",
        "                        p.Id AS patient_ID,\n",
        "                        NULL AS encounter_ID,  -- Replace with the actual encounter_ID or set to NULL if not applicable\n",
        "                        p.LAT AS patient_LAT,\n",
        "                        p.LON AS patient_LON,\n",
        "                        p.COUNTY AS patient_COUNTY,\n",
        "                        p.ZIP AS patient_ZIP,\n",
        "                        p.HEALTHCARE_EXPENSES AS patient_HEALTHCARE_EXPENSES,\n",
        "                        p.HEALTHCARE_COVERAGE AS patient_HEALTHCARE_COVERAGE,\n",
        "                        p.BIRTHDATE AS patient_BIRTHDATE\n",
        "                    FROM patients p\n",
        "                    ;''')\n",
        "\n",
        "# Ende der Transaktion\n",
        "conn.commit()\n",
        "\n",
        "# Schnelle Überprüfung der Datenübertragung ins die Faktentabelle\n",
        "cur.execute('''SELECT patient_ID, patient_COUNTY, patient_ZIP, patient_LON, patient_LAT, patient_HEALTHCARE_EXPENSES, patient_HEALTHCARE_COVERAGE, patient_BIRTHDATE FROM facts_table''')\n",
        "records = cur.fetchall()\n",
        "# show 10 rows\n",
        "for row in records[:10]:\n",
        "  print(row)"
      ]
    },
    {
      "cell_type": "markdown",
      "metadata": {
        "id": "oXjw01ODlnpI"
      },
      "source": [
        "Die Daten werden aus **Observations** eintragen:\n",
        "nur die Tuples mit dem neuesten Datum werden berücksichtigt. Gespeichert werden die Art der Observation, in unserem Fall **nur den QALY**, den neuesten Wert und das entsprechende Datum. Ausserdem wird das Alter am Tag der letzten Observation berechnet und eingetragen. Die Transaktion wird mit commit beendet. Das Speichern der neuen Einträge wird überprüft."
      ]
    },
    {
      "cell_type": "code",
      "execution_count": null,
      "metadata": {
        "id": "F9g6vWyIVbmE"
      },
      "outputs": [],
      "source": [
        "# Datenextraktion aus der Observationstabelle\n",
        "cur.execute('''UPDATE\n",
        "                  facts_table\n",
        "               SET\n",
        "                  observations_CODE = obs.CODE,\n",
        "                  observations_VALUE = obs.maxVALUE,\n",
        "                  observations_DATE = obs.maxDATE,\n",
        "                  observations_AGE = obs.maxDATE- patient_BIRTHDATE\n",
        "               FROM\n",
        "                    (SELECT PATIENT, CODE, MAX(VALUE) as maxVALUE, MAX(observations.DATE) as maxDATE\n",
        "                    FROM observations\n",
        "                    WHERE CODE LIKE \"QALY\"\n",
        "                    GROUP BY PATIENT\n",
        "                    ) AS obs\n",
        "                WHERE\n",
        "                  facts_table.patient_ID = obs.PATIENT\n",
        "                    ;''')\n",
        "\n",
        "# Ende der Transaktion\n",
        "conn.commit()\n",
        "\n",
        "# Schnelle Überprüfung der Datenübertragung ins die Faktentabelle\n",
        "cur.execute('''SELECT patient_ID, observations_CODE, observations_VALUE, patient_BIRTHDATE, observations_DATE, observations_AGE  FROM facts_table ''')\n",
        "records = cur.fetchall()\n",
        "# show 10 rows\n",
        "for row in records[:30]:\n",
        "  print(row)\n",
        "\n",
        "print(\"\\n\")\n"
      ]
    },
    {
      "cell_type": "markdown",
      "metadata": {
        "id": "Escam_11H8Vr"
      },
      "source": [
        "Die Daten werden aus **Encounters** eintragen. Es handelt sich um die Summe aller Encounter Kosten für jeden einzelnen Patienten.\n",
        "Falls dieser Wert nicht existiert, wird an ihrer Stelle 0 eingetragen.\n",
        "Jede Transaktion wird mit commt beendet. Das Speichern der neuen Einträge in die Faktentabelle wird überprüft.\n"
      ]
    },
    {
      "cell_type": "code",
      "execution_count": null,
      "metadata": {
        "id": "bkOtFAoFlS5H"
      },
      "outputs": [],
      "source": [
        "# Datenextraktion aus der Encounterstabelle und Berechnung der Summe aller Encounterkosten für jeden Patienten\n",
        "cur.execute('''UPDATE\n",
        "                  facts_table\n",
        "               SET\n",
        "                  encounter_Base_Encounter_Cost = enc.TOTALCOST\n",
        "               FROM\n",
        "                    (SELECT PATIENT, SUM(BASE_ENCOUNTER_COST) as TOTALCOST\n",
        "                    FROM encounters, facts_table\n",
        "                    WHERE facts_table.patient_ID = encounters.PATIENT\n",
        "                    GROUP BY PATIENT\n",
        "                    ) AS enc\n",
        "                WHERE\n",
        "                  facts_table.patient_ID = enc.PATIENT\n",
        "                    ;''')\n",
        "\n",
        "# Ende der Transaktion\n",
        "conn.commit()\n",
        "\n",
        "# Falls es keine Encounterkosten gibt, wird der Wert 0 stattdessen eingetragen\n",
        "cur.execute('''UPDATE\n",
        "                  facts_table\n",
        "               SET\n",
        "                  encounter_Base_Encounter_Cost = 0\n",
        "                WHERE encounter_Base_Encounter_Cost IS NULL\n",
        "                    ;''')\n",
        "\n",
        "# Ende der Transaktion\n",
        "conn.commit()\n",
        "\n",
        "# Kurze Überprüfung\n",
        "cur.execute('''SELECT patient_ID, encounter_BASE_ENCOUNTER_COST FROM facts_table''')\n",
        "records = cur.fetchall()\n",
        "# show 10 rows\n",
        "for row in records[:10]:\n",
        "  print(row)\n"
      ]
    },
    {
      "cell_type": "code",
      "execution_count": null,
      "metadata": {
        "id": "JizAqymQbKRv"
      },
      "outputs": [],
      "source": [
        "cur.execute('''SELECT patient_ID, encounter_BASE_ENCOUNTER_COST, SUM(BASE_ENCOUNTER_COST)\n",
        "                FROM facts_table, encounters WHERE facts_table.patient_ID = encounters.PATIENT\n",
        "                GROUP BY patient_ID''')\n",
        "records = cur.fetchall()\n",
        "# show 10 rows\n",
        "for row in records[:10]:\n",
        "  print(row)"
      ]
    },
    {
      "cell_type": "markdown",
      "metadata": {
        "id": "8w6rP5_JcgFK"
      },
      "source": [
        "Die Daten werden aus **Medications** eintragen. Es handelt sich um die Summe aller MedikationsKosten für jeden einzelnen Patienten.\n",
        "Falls dieser Wert nicht existiert, wird an ihrer Stelle 0 eingetragen.\n",
        "Jede Transaktion wird mit commt beendet. Das Speichern der neuen Einträge in die Faktentabelle wird überprüft."
      ]
    },
    {
      "cell_type": "code",
      "execution_count": null,
      "metadata": {
        "id": "2_lPlR2bVq5Z"
      },
      "outputs": [],
      "source": [
        "cur.execute('''     UPDATE facts_table SET medications_TotalCost = med.TOTALCOST\n",
        "                    FROM\n",
        "                    (SELECT PATIENT, SUM(Totalcost) as TOTALCOST\n",
        "                    FROM medications, facts_table\n",
        "                    WHERE facts_table.patient_ID = medications.PATIENT\n",
        "                    GROUP BY PATIENT) as med\n",
        "                    WHERE facts_table.patient_ID = med.PATIENT\n",
        "                    ;''')\n",
        "conn.commit()"
      ]
    },
    {
      "cell_type": "code",
      "execution_count": null,
      "metadata": {
        "id": "nMyPAw3Zgv9I"
      },
      "outputs": [],
      "source": [
        "cur.execute('''UPDATE\n",
        "                  facts_table\n",
        "               SET\n",
        "                  medications_TOTALCOST = 0\n",
        "                WHERE medications_TOTALCOST IS NULL\n",
        "                    ;''')\n",
        "conn.commit()"
      ]
    },
    {
      "cell_type": "code",
      "execution_count": null,
      "metadata": {
        "id": "24D1RL11XU9_"
      },
      "outputs": [],
      "source": [
        "cur.execute('''SELECT patient_ID, medications_TOTALCOST, SUM(TOTALCOST)\n",
        "                FROM facts_table, medications WHERE facts_table.patient_ID = medications.PATIENT\n",
        "                GROUP BY patient_ID''')\n",
        "records = cur.fetchall()\n",
        "# show 10 rows\n",
        "for row in records[:10]:\n",
        "  print(row)"
      ]
    },
    {
      "cell_type": "markdown",
      "metadata": {
        "id": "i_zuP5pEBWyl"
      },
      "source": [
        "Die Daten werden aus **Procedures** eintragen. Es handelt sich um die Summe aller Prozedurenkosten für jeden einzelnen Patienten. Falls dieser Wert nicht existiert, wird an ihrer Stelle 0 eingetragen. Jede Transaktion wird mit commt beendet. Das Speichern der neuen Einträge in die Faktentabelle wird überprüft"
      ]
    },
    {
      "cell_type": "code",
      "execution_count": null,
      "metadata": {
        "id": "PhHZdBsxczzX"
      },
      "outputs": [],
      "source": [
        "cur.execute('''     UPDATE facts_table SET procedures_BASE_COST = proc.TOTALCOST\n",
        "                    FROM\n",
        "                    (SELECT PATIENT, SUM(BASE_COST) as TOTALCOST\n",
        "                    FROM procedures, facts_table\n",
        "                    WHERE facts_table.patient_ID = procedures.PATIENT\n",
        "                    GROUP BY PATIENT) as proc\n",
        "                    WHERE facts_table.patient_ID = proc.PATIENT\n",
        "                    ;''')\n",
        "conn.commit()"
      ]
    },
    {
      "cell_type": "code",
      "execution_count": null,
      "metadata": {
        "id": "Xk-l3nUpgoQv"
      },
      "outputs": [],
      "source": [
        "cur.execute('''UPDATE\n",
        "                  facts_table\n",
        "               SET\n",
        "                  procedures_BASE_COST = 0\n",
        "                WHERE procedures_BASE_COST IS NULL\n",
        "                    ;''')\n",
        "conn.commit()"
      ]
    },
    {
      "cell_type": "code",
      "execution_count": null,
      "metadata": {
        "id": "kOVBHeRwdTUH"
      },
      "outputs": [],
      "source": [
        "cur.execute('''SELECT patient_ID, procedures_Base_COST, SUM(Base_COST)\n",
        "                FROM facts_table, procedures WHERE facts_table.patient_ID = procedures.PATIENT\n",
        "                GROUP BY patient_ID''')\n",
        "records = cur.fetchall()\n",
        "# show 10 rows\n",
        "for row in records[:10]:\n",
        "  print(row)"
      ]
    },
    {
      "cell_type": "markdown",
      "metadata": {
        "id": "kBhSa5_4nceK"
      },
      "source": [
        "Die Daten werden aus **Immunizations** eintragen. Es handelt sich um die Summe aller Immunizationskosten für jeden einzelnen Patienten. Falls dieser Wert nicht existiert, wird an ihrer Stelle 0 eingetragen. Jede Transaktion wird mit commt beendet. Das Speichern der neuen Einträge in die Faktentabelle wird überprüft"
      ]
    },
    {
      "cell_type": "code",
      "execution_count": null,
      "metadata": {
        "id": "yuvXDCf5dq0P"
      },
      "outputs": [],
      "source": [
        "cur.execute('''     UPDATE facts_table SET immunizations_Base_Cost = im.TOTALCOST\n",
        "                    FROM\n",
        "                    (SELECT PATIENT, SUM(Base_Cost) as TOTALCOST\n",
        "                    FROM immunizations, facts_table\n",
        "                    WHERE facts_table.patient_ID = immunizations.PATIENT\n",
        "                    GROUP BY PATIENT) as im\n",
        "                    WHERE facts_table.patient_ID = im.PATIENT\n",
        "                    ;''')\n",
        "conn.commit()"
      ]
    },
    {
      "cell_type": "code",
      "execution_count": null,
      "metadata": {
        "id": "Tn5448tAgivf"
      },
      "outputs": [],
      "source": [
        "cur.execute('''UPDATE\n",
        "                  facts_table\n",
        "               SET\n",
        "                  immunizations_BASE_COST = 0\n",
        "                WHERE immunizations_BASE_COST IS NULL\n",
        "                    ;''')\n",
        "conn.commit()"
      ]
    },
    {
      "cell_type": "code",
      "execution_count": null,
      "metadata": {
        "id": "LZqMFbLhfXC4"
      },
      "outputs": [],
      "source": [
        "cur.execute(''' SELECT patient_ID, immunizations_BASE_COST, SUM(BASE_COST) FROM facts_table, immunizations\n",
        "                WHERE facts_table.patient_ID = immunizations.PATIENT\n",
        "                GROUP BY patient_ID''' )\n",
        "records = cur.fetchall()\n",
        "# show 10 rows\n",
        "for row in records[:10]:\n",
        "  print(row)"
      ]
    },
    {
      "cell_type": "markdown",
      "metadata": {
        "id": "6zKcvT4DzTNV"
      },
      "source": [
        "> Werte in der Faktentabelle haben Komma statt Dot für die Dezimale. Konvertierung dieser.\n"
      ]
    },
    {
      "cell_type": "code",
      "execution_count": null,
      "metadata": {
        "id": "bBgzg_CDzTNV"
      },
      "outputs": [],
      "source": [
        "cur.execute(''' UPDATE facts_table SET\n",
        "patient_LAT = REPLACE(patient_LAT,',','.'),\n",
        "patient_LON = REPLACE(patient_LON,',','.'),\n",
        "patient_HEALTHCARE_EXPENSES = REPLACE(patient_HEALTHCARE_EXPENSES,',','.'),\n",
        "patient_HEALTHCARE_COVERAGE = REPLACE(patient_HEALTHCARE_COVERAGE,',','.')\n",
        ";''')\n",
        "conn.commit()"
      ]
    },
    {
      "cell_type": "markdown",
      "metadata": {
        "id": "XMGm9tGzoD78"
      },
      "source": [
        "##Das Datawarehouse ist fertig ausgefüllt.\n",
        "Hier werden die ersten Tupeln der Faktentabelle angezeigt.\n",
        "Der \"None\"-Eintrag entspricht der Spalte für Encounters. Diese Spalte wird nicht benutzt, deshalb wurde sie nicht ausgefüllt."
      ]
    },
    {
      "cell_type": "code",
      "execution_count": null,
      "metadata": {
        "id": "EdRm9dEhoNiU"
      },
      "outputs": [],
      "source": [
        "cur.execute('''SELECT * FROM facts_table\n",
        " ORDER BY RANDOM()''')\n",
        "records = cur.fetchall()\n",
        "# show 4 rows\n",
        "for row in records[:30]:\n",
        "  print(row)"
      ]
    },
    {
      "cell_type": "code",
      "execution_count": null,
      "metadata": {
        "id": "aLWYwQVkmDrU"
      },
      "outputs": [],
      "source": [
        "print(pd.read_sql_query(\"PRAGMA table_info('facts_table')\", conn))"
      ]
    },
    {
      "cell_type": "markdown",
      "metadata": {
        "id": "kosWigrzTO7w"
      },
      "source": [
        "# Bereinigung der Faktentabelle\n",
        "\n",
        "## Delele all rows with Age = 0"
      ]
    },
    {
      "cell_type": "code",
      "execution_count": null,
      "metadata": {
        "id": "EvfrNdOpTDk_"
      },
      "outputs": [],
      "source": [
        "cur.execute('''SELECT COUNT(*)  FROM facts_table\n",
        " WHERE observations_AGE == 0''')\n",
        "result = cur.fetchall()\n",
        "print(f\"Number of rows where observations_AGE == 0 : {result[-1][-1]}\")\n",
        "print(\"\\n\")\n",
        "\n",
        "cur.execute(''' DELETE FROM facts_table WHERE observations_AGE = 0\n",
        ";''')\n",
        "conn.commit()\n",
        "\n",
        "cur.execute('''SELECT COUNT(*)  FROM facts_table\n",
        " WHERE observations_AGE == 0''')\n",
        "result = cur.fetchall()\n",
        "print(f\"Nach Bereinigung: Number of rows where observations_AGE == 0 : {result[-1][-1]}\")\n",
        "print(\"\\n\")\n"
      ]
    },
    {
      "cell_type": "markdown",
      "metadata": {
        "id": "tgbR8213DgPt"
      },
      "source": [
        "##Close Database connection"
      ]
    },
    {
      "cell_type": "code",
      "execution_count": null,
      "metadata": {
        "colab": {
          "base_uri": "https://localhost:8080/"
        },
        "id": "UUhrJw5EDcJF",
        "outputId": "0f8b5c73-94cb-43cf-a0ed-40d39b9754c9"
      },
      "outputs": [
        {
          "name": "stdout",
          "output_type": "stream",
          "text": [
            "The Sqlite connection is closed\n"
          ]
        }
      ],
      "source": [
        "conn.close()\n",
        "print(\"The Sqlite connection is closed\")"
      ]
    }
  ],
  "metadata": {
    "colab": {
      "provenance": []
    },
    "kernelspec": {
      "display_name": "Python 3",
      "name": "python3"
    },
    "language_info": {
      "codemirror_mode": {
        "name": "ipython",
        "version": 3
      },
      "file_extension": ".py",
      "mimetype": "text/x-python",
      "name": "python",
      "nbconvert_exporter": "python",
      "pygments_lexer": "ipython3",
      "version": "3.10.13"
    }
  },
  "nbformat": 4,
  "nbformat_minor": 0
}
