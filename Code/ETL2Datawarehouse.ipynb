{
  "cells": [
    {
      "cell_type": "markdown",
      "metadata": {
        "id": "view-in-github",
        "colab_type": "text"
      },
      "source": [
        "<a href=\"https://colab.research.google.com/github/Fuenfgeld/DMA2024TeamC/blob/main/Code/ETL2Datawarehouse.ipynb\" target=\"_parent\"><img src=\"https://colab.research.google.com/assets/colab-badge.svg\" alt=\"Open In Colab\"/></a>"
      ]
    },
    {
      "cell_type": "markdown",
      "metadata": {
        "id": "vHosyFJW4vm1"
      },
      "source": [
        "**Kursarbeit Datenmanagement und -Archivierung WS 23/24**\n",
        "\n",
        "Master-Code Name-CALICO:MA\n"
      ]
    },
    {
      "cell_type": "markdown",
      "metadata": {
        "id": "mZXn3MCm6EUw"
      },
      "source": [
        "**Erstellung der Datenbank**\n",
        "\n",
        "\n",
        "*   Datenbankinitialisierung:\n",
        "\n"
      ]
    },
    {
      "cell_type": "markdown",
      "metadata": {
        "id": "R4Vq7BBP-kj0"
      },
      "source": [
        "> Laden Libraries"
      ]
    },
    {
      "cell_type": "code",
      "execution_count": 1,
      "metadata": {
        "id": "eriJl5b7-haW"
      },
      "outputs": [],
      "source": [
        "import pandas as pd\n",
        "from functools import reduce\n",
        "import sqlite3\n",
        "from sqlite3 import Error\n",
        "import csv\n",
        "import requests"
      ]
    },
    {
      "cell_type": "markdown",
      "metadata": {
        "id": "c9whsxq3-FwZ"
      },
      "source": [
        "> Verbindung zu Googledrive herstellen (Ablageort der CSV-Dateien)"
      ]
    },
    {
      "cell_type": "code",
      "execution_count": 2,
      "metadata": {
        "colab": {
          "base_uri": "https://localhost:8080/"
        },
        "id": "lEgV_Mbhhlv-",
        "outputId": "7765daab-b7d1-49ec-d5c8-4a41a52e986d"
      },
      "outputs": [
        {
          "output_type": "stream",
          "name": "stdout",
          "text": [
            "Mounted at /content/drive\n"
          ]
        }
      ],
      "source": [
        "from google.colab import drive\n",
        "drive.mount(\"/content/drive\", force_remount=True)"
      ]
    },
    {
      "cell_type": "markdown",
      "metadata": {
        "id": "rQQfNOR7jFuD"
      },
      "source": [
        "\n",
        "\n",
        "> Verbindung zu SQLite herstellen und Datebankinitialisierung Local\n",
        "\n",
        "\n"
      ]
    },
    {
      "cell_type": "code",
      "execution_count": 3,
      "metadata": {
        "colab": {
          "base_uri": "https://localhost:8080/"
        },
        "id": "5VAxi8iZnsCJ",
        "outputId": "82c54f0b-90b4-4d07-bb88-e907958deaa9"
      },
      "outputs": [
        {
          "output_type": "stream",
          "name": "stdout",
          "text": [
            "Successfully Connected to SQLite Public Data Warehouse\n"
          ]
        }
      ],
      "source": [
        "def create_connection_local(local_path):\n",
        "  conn = None;\n",
        "  try:\n",
        "    #Establishing the connection\n",
        "    conn = sqlite3.connect(local_path+'/datawarehouse_new.db')\n",
        "    return conn\n",
        "    print(sqlite3.version)\n",
        "  except Error as e:\n",
        "    print(\"Error while connecting to sqlite\", e)\n",
        "conn = create_connection_local('/content/drive/MyDrive/Datenmanagement_und_Archivierung_im_Umfeld_der_Forschung/CALICO_MA')\n",
        "# Creating a cursor object using the cursor() method\n",
        "cur = conn.cursor()\n",
        "print(\"Successfully Connected to SQLite Public Data Warehouse\")\n"
      ]
    },
    {
      "cell_type": "markdown",
      "metadata": {
        "id": "_WfYcr6eZGTz"
      },
      "source": [
        "> Quelldatenimport"
      ]
    },
    {
      "cell_type": "code",
      "execution_count": 4,
      "metadata": {
        "id": "1Uffy7Q6yWD_"
      },
      "outputs": [],
      "source": [
        "# Load cancer CSVs\n",
        "procedures = pd.read_csv('/content/drive/MyDrive/Datenmanagement_und_Archivierung_im_Umfeld_der_Forschung/CALICO_MA/Data_source/procedures.csv', sep=\",\")\n",
        "encounters = pd.read_csv('/content/drive/MyDrive/Datenmanagement_und_Archivierung_im_Umfeld_der_Forschung/CALICO_MA/Data_source/encounters.csv', sep=\",\")\n",
        "immunizations = pd.read_csv('/content/drive/MyDrive/Datenmanagement_und_Archivierung_im_Umfeld_der_Forschung/CALICO_MA/Data_source/immunizations.csv', sep=\",\")\n",
        "medications = pd.read_csv('/content/drive/MyDrive/Datenmanagement_und_Archivierung_im_Umfeld_der_Forschung/CALICO_MA/Data_source/medications.csv', sep=\",\")\n",
        "observations = pd.read_csv('/content/drive/MyDrive/Datenmanagement_und_Archivierung_im_Umfeld_der_Forschung/CALICO_MA/Data_source/observations.csv', sep=\",\")\n",
        "patients = pd.read_csv('/content/drive/MyDrive/Datenmanagement_und_Archivierung_im_Umfeld_der_Forschung/CALICO_MA/Data_source/patients.csv', sep=\",\")\n",
        "\n",
        "\n",
        "#procedures = pd.read_csv('/content/drive/MyDrive/csv_data/breast_cancer/procedures.csv', sep=\",\")\n",
        "#encounters = pd.read_csv('/content/drive/MyDrive/csv_data/breast_cancer/encounters.csv', sep=\",\")\n",
        "#immunizations = pd.read_csv('/content/drive/MyDrive/csv_data/breast_cancer/immunizations.csv', sep=\",\")\n",
        "#medications = pd.read_csv('/content/drive/MyDrive/csv_data/breast_cancer/medications.csv', sep=\",\")\n",
        "#observations = pd.read_csv('/content/drive/MyDrive/csv_data/breast_cancer/observations.csv', sep=\",\")\n",
        "#patients = pd.read_csv('/content/drive/MyDrive/csv_data/breast_cancer/patients.csv', sep=\",\")"
      ]
    },
    {
      "cell_type": "code",
      "execution_count": null,
      "metadata": {
        "id": "Ltfoywt-bACi"
      },
      "outputs": [],
      "source": [
        "#print(pd.read_sql_query(\"PRAGMA table_info('patients')\", conn))"
      ]
    },
    {
      "cell_type": "code",
      "execution_count": 5,
      "metadata": {
        "colab": {
          "base_uri": "https://localhost:8080/"
        },
        "id": "omHiPDL_yWH2",
        "outputId": "19f00a9c-8e7d-408f-956a-4287e4a6e3ad"
      },
      "outputs": [
        {
          "output_type": "execute_result",
          "data": {
            "text/plain": [
              "<sqlite3.Cursor at 0x7d06e47b5340>"
            ]
          },
          "metadata": {},
          "execution_count": 5
        }
      ],
      "source": [
        "#Delete Tables in case they exist\n",
        "cur.execute(\"DROP TABLE IF EXISTS procedures\")\n",
        "cur.execute(\"DROP TABLE IF EXISTS encounters\")\n",
        "cur.execute(\"DROP TABLE IF EXISTS immunizations\")\n",
        "cur.execute(\"DROP TABLE IF EXISTS medications\")\n",
        "cur.execute(\"DROP TABLE IF EXISTS observations\")\n",
        "cur.execute(\"DROP TABLE IF EXISTS patients\")\n",
        "cur.execute(\"DROP TABLE IF EXISTS facts_table\")"
      ]
    },
    {
      "cell_type": "code",
      "execution_count": 6,
      "metadata": {
        "colab": {
          "base_uri": "https://localhost:8080/"
        },
        "id": "ErcedcDWlSbo",
        "outputId": "238a1445-a080-48bb-b96e-84bf0bbe982f"
      },
      "outputs": [
        {
          "output_type": "stream",
          "name": "stdout",
          "text": [
            "Successfully created tables in the database\n"
          ]
        }
      ],
      "source": [
        "# Create tables including facts_table\n",
        "sql_create_source_data = requests.get('https://raw.githubusercontent.com/Fuenfgeld/DMA2024TeamC/main/Code/create_statements_db.sql').text\n",
        "cur.executescript(sql_create_source_data)\n",
        "conn.commit()\n",
        "print(\"Successfully created tables in the database\")"
      ]
    },
    {
      "cell_type": "code",
      "execution_count": 7,
      "metadata": {
        "id": "GV-I0HHdyYl2"
      },
      "outputs": [],
      "source": [
        "#Insert data into tables\n",
        "\n",
        "procedures.to_sql('procedures', conn, if_exists='append', index=False)\n",
        "encounters.to_sql('encounters', conn, if_exists='append', index=False)\n",
        "immunizations.to_sql('immunizations', conn, if_exists='append', index=False)\n",
        "medications.to_sql('medications', conn, if_exists='append', index=False)\n",
        "observations.to_sql('observations', conn, if_exists='append', index=False)\n",
        "patients.to_sql('patients', conn, if_exists='append', index=False)\n",
        "\n",
        "conn.commit()"
      ]
    },
    {
      "cell_type": "markdown",
      "metadata": {
        "id": "inn0cONkebqW"
      },
      "source": [
        "### Die Daten werden aus den verschiedenen Tabellen extrahiert und ggf. transformiert\n",
        " >Die Daten aus **Patients** werden erstmal in die Faktentabelle übertragen. Es handelt sich um die Krebsart, die Patienten ID, die geographische Koordinaten, die Healthcarekosten, die vom Patient getragen werden und diejenigen, die von der Krankenversicherung bezahlt werden, und zum Ende das Geburtsdatum.\n",
        "Damit die Faktentabelle keine Redundanzen aufweist, werden die Encounter ID nicht mehr einzeln gespeichert. Stattdessen werden in der Faktentabelle für jeden Patienten die gesamten Kosten gespeichert, die in jeder Kategorie (Encounters, Observations, Immunizations, Procedures umd Medications) verursacht wurden.  \n",
        "Die Transaktion in der Faktentabelle der Datenbank wird mit commit beendet.\n",
        "\n"
      ]
    },
    {
      "cell_type": "code",
      "source": [
        "# TEST how many patients undergo Procedures\n",
        "#cur.execute('''SELECT COUNT(*) from procedures GROUP BY procedures.PATIENT''')\n",
        "#records = cur.fetchall()\n",
        "#i=1\n",
        "#for row in records:\n",
        "#  print(f'patient', i, 'undergoes ', row,' procedures')\n",
        "#  i=i+1"
      ],
      "metadata": {
        "id": "bo0kcX-xiSMa"
      },
      "execution_count": null,
      "outputs": []
    },
    {
      "cell_type": "code",
      "execution_count": 8,
      "metadata": {
        "id": "YXJ3K44okdLR",
        "colab": {
          "base_uri": "https://localhost:8080/"
        },
        "outputId": "1ebe5fc5-6a60-4f5d-a6aa-ad03d4b3a894"
      },
      "outputs": [
        {
          "output_type": "stream",
          "name": "stdout",
          "text": [
            "('d2061cc7-bee0-0e6c-3ac4-15c197c474e0', '-71,113260249', '42,359925869', 1475230, '4244,64', '22/06/1956')\n",
            "('073d8e80-ff90-1c8d-57e4-29bfca52c87f', '-72,026316805', '42,257845470', 1489125, '4016,36', '28/08/1964')\n",
            "('e1ff7e68-4097-9faf-514d-e4cfcfdf252e', '-71,818448850', '42,204289674', '57142,44', '2103,2', '28/08/1998')\n",
            "('a0f679cc-875f-dd72-ed13-9ca863ec6cf3', '-70,904084060', '42,150269736', 408520, 2709, '20/01/2004')\n",
            "('e4166a9c-f7c5-bef7-ea43-b96281a2d586', '-71,784873172', '42,292081923', 320400, '2970,68', '23/03/2006')\n",
            "('ee537126-7509-05de-2349-ab19604545d8', '-71,041350243', '42,347570821', 784465, '2738,96', '21/05/1991')\n",
            "('826d5ce3-2b23-8bd8-b352-a77fdd083d68', '-71,147479855', '42,522342970', 1425900, '3841,36', '20/07/1964')\n",
            "('0edfef0f-fa74-ab35-1122-4c537bb9765d', '-71,003576538', '42,003848630', 512475, '2470,64', '05/05/1997')\n",
            "('0fe7e161-0f29-2b70-8e3d-757b15026295', '-71,684116431', '42,585372624', 302400, '2583,2', '26/12/2008')\n",
            "('478e120c-67a4-4375-646f-c41e74f72478', '-71,193874871', '41,969587881', 1202145, '2892,24', '02/01/1971')\n"
          ]
        }
      ],
      "source": [
        "# Datenextraktion aus der Patientstabelle\n",
        "cur.execute('''INSERT INTO facts_table\n",
        "                    ( cancer_type, patient_ID, encounter_ID, patient_LAT, patient_LON, patient_HEALTHCARE_EXPENSES , patient_HEALTHCARE_COVERAGE, patient_BIRTHDATE)\n",
        "                    SELECT\n",
        "                        p.cancer_type AS cancer_type,\n",
        "                        p.Id AS patient_ID,\n",
        "                        NULL AS encounter_ID,  -- Replace with the actual encounter_ID or set to NULL if not applicable\n",
        "                        p.LAT AS patient_LAT,\n",
        "                        p.LON AS patient_LON,\n",
        "                        p.HEALTHCARE_EXPENSES AS patient_HEALTHCARE_EXPENSES,\n",
        "                        p.HEALTHCARE_COVERAGE AS patient_HEALTHCARE_COVERAGE,\n",
        "                        p.BIRTHDATE AS patient_BIRTHDATE\n",
        "                    FROM patients p\n",
        "                    ;''')\n",
        "\n",
        "# Ende der Transaktion\n",
        "conn.commit()\n",
        "\n",
        "# Schnelle Überprüfung der Datenübertragung ins die Faktentabelle\n",
        "cur.execute('''SELECT patient_ID, patient_LON, patient_LAT, patient_HEALTHCARE_EXPENSES, patient_HEALTHCARE_COVERAGE, patient_BIRTHDATE FROM facts_table''')\n",
        "records = cur.fetchall()\n",
        "# show 10 rows\n",
        "for row in records[:10]:\n",
        "  print(row)"
      ]
    },
    {
      "cell_type": "markdown",
      "metadata": {
        "id": "oXjw01ODlnpI"
      },
      "source": [
        "Die Daten werden aus **Observations** eintragen:\n",
        "nur die Tuples mit dem neuesten Datum werden berücksichtigt. Gespeichert werden die Art der Observation (QALY, DALY oder QoLS), den neuesten Wert und das entsprechende Datum. Ausserdem wird das Alter am Tag der letzten Observation berechnet und eingetragen. Die Transaktion wird mit commit beendet. Das Speichern der neuen Einträge wird überprüft."
      ]
    },
    {
      "cell_type": "code",
      "execution_count": 9,
      "metadata": {
        "colab": {
          "base_uri": "https://localhost:8080/"
        },
        "id": "F9g6vWyIVbmE",
        "outputId": "cd711a19-9ac6-490b-9ad3-65ef9769f4ba"
      },
      "outputs": [
        {
          "output_type": "stream",
          "name": "stdout",
          "text": [
            "('d2061cc7-bee0-0e6c-3ac4-15c197c474e0', 'QALY', 63, '22/06/1956', '22/06/2020 10:47:46', 64)\n",
            "('073d8e80-ff90-1c8d-57e4-29bfca52c87f', 'QALY', 55, '28/08/1964', '28/08/2020 16:45:45', 56)\n",
            "('e1ff7e68-4097-9faf-514d-e4cfcfdf252e', 'QALY', 21, '28/08/1998', '28/08/2020 07:43:32', 22)\n",
            "('a0f679cc-875f-dd72-ed13-9ca863ec6cf3', 'QALY', 15, '20/01/2004', '20/01/2020 15:27:37', 16)\n",
            "('e4166a9c-f7c5-bef7-ea43-b96281a2d586', 'QALY', 13, '23/03/2006', '23/03/2020 22:58:03', 14)\n",
            "('ee537126-7509-05de-2349-ab19604545d8', 'QALY', 28, '21/05/1991', '21/05/2020 01:23:21', 29)\n",
            "('826d5ce3-2b23-8bd8-b352-a77fdd083d68', 'QALY', 55, '20/07/1964', '20/07/2020 05:08:46', 56)\n",
            "('0edfef0f-fa74-ab35-1122-4c537bb9765d', 'QALY', 22, '05/05/1997', '04/05/2020 22:31:18', 23)\n",
            "('0fe7e161-0f29-2b70-8e3d-757b15026295', 'QALY', 10, '26/12/2008', '26/12/2019 13:49:03', 11)\n",
            "('478e120c-67a4-4375-646f-c41e74f72478', 'QALY', 49, '02/01/1971', '02/01/2020 11:38:08', 49)\n"
          ]
        }
      ],
      "source": [
        "# Datenextraktion aus der Observationstabelle\n",
        "cur.execute('''UPDATE\n",
        "                  facts_table\n",
        "               SET\n",
        "                  observations_CODE = obs.CODE,\n",
        "                  observations_VALUE = obs.maxVALUE,\n",
        "                  observations_DATE = obs.maxDATE,\n",
        "                  observations_AGE = substring(obs.maxDATE,7,4) - substring(patient_BIRTHDATE,7,4)\n",
        "               FROM\n",
        "                    (SELECT PATIENT, CODE, MAX(VALUE) as maxVALUE, MAX(observations.DATE) as maxDATE\n",
        "                    FROM observations\n",
        "                    GROUP BY PATIENT\n",
        "                    ) AS obs\n",
        "                WHERE\n",
        "                  facts_table.patient_ID = obs.PATIENT\n",
        "                    ;''')\n",
        "\n",
        "# Ende der Transaktion\n",
        "conn.commit()\n",
        "\n",
        "# Schnelle Überprüfung der Datenübertragung ins die Faktentabelle\n",
        "cur.execute('''SELECT patient_ID, observations_CODE, observations_VALUE, patient_BIRTHDATE, observations_DATE, observations_AGE  FROM facts_table''')\n",
        "records = cur.fetchall()\n",
        "# show 10 rows\n",
        "for row in records[:10]:\n",
        "  print(row)"
      ]
    },
    {
      "cell_type": "markdown",
      "metadata": {
        "id": "Escam_11H8Vr"
      },
      "source": [
        "Die Daten werden aus **Encounters** eintragen. Es handelt sich um die Summe aller Encounter Kosten für jeden einzelnen Patienten.\n",
        "Falls dieser Wert nicht existiert, wird an ihrer Stelle 0 eingetragen.\n",
        "Jede Transaktion wird mit commt beendet. Das Speichern der neuen Einträge in die Faktentabelle wird überprüft.\n"
      ]
    },
    {
      "cell_type": "code",
      "execution_count": 10,
      "metadata": {
        "colab": {
          "base_uri": "https://localhost:8080/"
        },
        "id": "bkOtFAoFlS5H",
        "outputId": "77210707-6a82-4fd4-e2f8-00bdc8141304"
      },
      "outputs": [
        {
          "output_type": "stream",
          "name": "stdout",
          "text": [
            "('d2061cc7-bee0-0e6c-3ac4-15c197c474e0', 1290)\n",
            "('073d8e80-ff90-1c8d-57e4-29bfca52c87f', 1032)\n",
            "('e1ff7e68-4097-9faf-514d-e4cfcfdf252e', 1032)\n",
            "('a0f679cc-875f-dd72-ed13-9ca863ec6cf3', 1290)\n",
            "('e4166a9c-f7c5-bef7-ea43-b96281a2d586', 1290)\n",
            "('ee537126-7509-05de-2349-ab19604545d8', 387)\n",
            "('826d5ce3-2b23-8bd8-b352-a77fdd083d68', 1032)\n",
            "('0edfef0f-fa74-ab35-1122-4c537bb9765d', 903)\n",
            "('0fe7e161-0f29-2b70-8e3d-757b15026295', 1419)\n",
            "('478e120c-67a4-4375-646f-c41e74f72478', 645)\n"
          ]
        }
      ],
      "source": [
        "# Datenextraktion aus der Encounterstabelle und Berechnung der Summe aller Encounterkosten für jeden Patienten\n",
        "cur.execute('''UPDATE\n",
        "                  facts_table\n",
        "               SET\n",
        "                  encounter_Base_Encounter_Cost = enc.TOTALCOST\n",
        "               FROM\n",
        "                    (SELECT PATIENT, SUM(BASE_ENCOUNTER_COST) as TOTALCOST\n",
        "                    FROM encounters, facts_table\n",
        "                    WHERE facts_table.patient_ID = encounters.PATIENT\n",
        "                    GROUP BY PATIENT\n",
        "                    ) AS enc\n",
        "                WHERE\n",
        "                  facts_table.patient_ID = enc.PATIENT\n",
        "                    ;''')\n",
        "\n",
        "# Ende der Transaktion\n",
        "conn.commit()\n",
        "\n",
        "# Falls es keine Encounterkosten gibt, wird der Wert 0 stattdessen eingetragen\n",
        "cur.execute('''UPDATE\n",
        "                  facts_table\n",
        "               SET\n",
        "                  encounter_Base_Encounter_Cost = 0\n",
        "                WHERE encounter_Base_Encounter_Cost IS NULL\n",
        "                    ;''')\n",
        "\n",
        "# Ende der Transaktion\n",
        "conn.commit()\n",
        "\n",
        "# Kurze Überprüfung\n",
        "cur.execute('''SELECT patient_ID, encounter_BASE_ENCOUNTER_COST FROM facts_table''')\n",
        "records = cur.fetchall()\n",
        "# show 10 rows\n",
        "for row in records[:10]:\n",
        "  print(row)\n",
        "\n"
      ]
    },
    {
      "cell_type": "code",
      "execution_count": 11,
      "metadata": {
        "colab": {
          "base_uri": "https://localhost:8080/"
        },
        "id": "JizAqymQbKRv",
        "outputId": "b46df8d6-6c32-4156-c55b-6e52f8a009e9"
      },
      "outputs": [
        {
          "output_type": "stream",
          "name": "stdout",
          "text": [
            "('001c3804-81e8-740e-dd91-973b584a2dd9', 387, 387.0)\n",
            "('002a707d-ba35-3d1a-46c0-ad8a98a22137', 774, 774.0)\n",
            "('003c0d44-9dfc-ca91-6121-373a8e265bd4', 1444, 1444.0)\n",
            "('008b26ab-5c12-7a5b-cda4-f54484d5f749', 1290, 1290.0)\n",
            "('009121bf-a672-8942-443e-85e18a33f766', 1161, 1161.0)\n",
            "('00e798f6-7d02-8485-c5fd-4b6bfb114c69', 516, 516.0)\n",
            "('00edcb46-afd4-4687-c16a-f4e20dfc3e92', 1186, 1186.0)\n",
            "('0103a559-910a-03df-6117-ec429eeb4ac9', 774, 774.0)\n",
            "('01518fe2-bd76-d1e9-a656-1e7eae35dd17', 1444, 1444.0)\n",
            "('01581211-2e47-027b-71a0-dcbf0f4e6622', 1315, 1315.0)\n"
          ]
        }
      ],
      "source": [
        "cur.execute('''SELECT patient_ID, encounter_BASE_ENCOUNTER_COST, SUM(BASE_ENCOUNTER_COST)\n",
        "                FROM facts_table, encounters WHERE facts_table.patient_ID = encounters.PATIENT\n",
        "                GROUP BY patient_ID''')\n",
        "records = cur.fetchall()\n",
        "# show 10 rows\n",
        "for row in records[:10]:\n",
        "  print(row)"
      ]
    },
    {
      "cell_type": "markdown",
      "metadata": {
        "id": "8w6rP5_JcgFK"
      },
      "source": [
        "Die Daten werden aus **Medications** eintragen. Es handelt sich um die Summe aller MedikationsKosten für jeden einzelnen Patienten.\n",
        "Falls dieser Wert nicht existiert, wird an ihrer Stelle 0 eingetragen.\n",
        "Jede Transaktion wird mit commt beendet. Das Speichern der neuen Einträge in die Faktentabelle wird überprüft."
      ]
    },
    {
      "cell_type": "code",
      "execution_count": 12,
      "metadata": {
        "id": "2_lPlR2bVq5Z"
      },
      "outputs": [],
      "source": [
        "cur.execute('''     UPDATE facts_table SET medications_TotalCost = med.TOTALCOST\n",
        "                    FROM\n",
        "                    (SELECT PATIENT, SUM(Totalcost) as TOTALCOST\n",
        "                    FROM medications, facts_table\n",
        "                    WHERE facts_table.patient_ID = medications.PATIENT\n",
        "                    GROUP BY PATIENT) as med\n",
        "                    WHERE facts_table.patient_ID = med.PATIENT\n",
        "                    ;''')\n",
        "conn.commit()"
      ]
    },
    {
      "cell_type": "code",
      "execution_count": 13,
      "metadata": {
        "id": "nMyPAw3Zgv9I"
      },
      "outputs": [],
      "source": [
        "cur.execute('''UPDATE\n",
        "                  facts_table\n",
        "               SET\n",
        "                  medications_TOTALCOST = 0\n",
        "                WHERE medications_TOTALCOST IS NULL\n",
        "                    ;''')\n",
        "conn.commit()"
      ]
    },
    {
      "cell_type": "code",
      "execution_count": 14,
      "metadata": {
        "colab": {
          "base_uri": "https://localhost:8080/"
        },
        "id": "24D1RL11XU9_",
        "outputId": "f790b5ba-f8f4-40ac-bd2f-6f6ff9b83e32"
      },
      "outputs": [
        {
          "output_type": "stream",
          "name": "stdout",
          "text": [
            "('003c0d44-9dfc-ca91-6121-373a8e265bd4', 30327, 30327.0)\n",
            "('01d6dc15-6313-5327-8491-49be72f40d59', 113859, 113859.0)\n",
            "('023c4bb2-6dc3-972e-379a-af19b8a2392d', 117953, 117953.0)\n",
            "('02db7f22-8617-0cf7-fa10-d820d596a81a', 101165, 101165.0)\n",
            "('030287cd-dbd1-d7e1-6959-cfdfa0e271bd', 229, 229.0)\n",
            "('037404e1-0c87-534d-0fe2-e21ef20640f6', 70050, 70050.0)\n",
            "('038eb669-b744-c2bc-18c6-6e37068c722f', 49596, 49596.0)\n",
            "('05023597-744e-9369-c390-e4090447a247', 63035, 63035.0)\n",
            "('05a3a33e-e9b1-0aaa-66f4-f0e2b57dce04', 3216, 3216.0)\n",
            "('072229fb-e8b1-a9ff-61b1-0cdab70c3c4c', 6614, 6614.0)\n"
          ]
        }
      ],
      "source": [
        "cur.execute('''SELECT patient_ID, medications_TOTALCOST, SUM(TOTALCOST)\n",
        "                FROM facts_table, medications WHERE facts_table.patient_ID = medications.PATIENT\n",
        "                GROUP BY patient_ID''')\n",
        "records = cur.fetchall()\n",
        "# show 10 rows\n",
        "for row in records[:10]:\n",
        "  print(row)"
      ]
    },
    {
      "cell_type": "markdown",
      "metadata": {
        "id": "i_zuP5pEBWyl"
      },
      "source": [
        "Die Daten werden aus **Procedures** eintragen. Es handelt sich um die Summe aller Prozedurenkosten für jeden einzelnen Patienten. Falls dieser Wert nicht existiert, wird an ihrer Stelle 0 eingetragen. Jede Transaktion wird mit commt beendet. Das Speichern der neuen Einträge in die Faktentabelle wird überprüft"
      ]
    },
    {
      "cell_type": "code",
      "execution_count": 15,
      "metadata": {
        "id": "PhHZdBsxczzX"
      },
      "outputs": [],
      "source": [
        "cur.execute('''     UPDATE facts_table SET procedures_BASE_COST = proc.TOTALCOST\n",
        "                    FROM\n",
        "                    (SELECT PATIENT, SUM(BASE_COST) as TOTALCOST\n",
        "                    FROM procedures, facts_table\n",
        "                    WHERE facts_table.patient_ID = procedures.PATIENT\n",
        "                    GROUP BY PATIENT) as proc\n",
        "                    WHERE facts_table.patient_ID = proc.PATIENT\n",
        "                    ;''')\n",
        "conn.commit()"
      ]
    },
    {
      "cell_type": "code",
      "execution_count": 16,
      "metadata": {
        "id": "Xk-l3nUpgoQv"
      },
      "outputs": [],
      "source": [
        "cur.execute('''UPDATE\n",
        "                  facts_table\n",
        "               SET\n",
        "                  procedures_BASE_COST = 0\n",
        "                WHERE procedures_BASE_COST IS NULL\n",
        "                    ;''')\n",
        "conn.commit()"
      ]
    },
    {
      "cell_type": "code",
      "execution_count": 17,
      "metadata": {
        "colab": {
          "base_uri": "https://localhost:8080/"
        },
        "id": "kOVBHeRwdTUH",
        "outputId": "656d2dfe-3597-4b37-cb19-7acbf2c3d912"
      },
      "outputs": [
        {
          "output_type": "stream",
          "name": "stdout",
          "text": [
            "('003c0d44-9dfc-ca91-6121-373a8e265bd4', 297579, 297579.0)\n",
            "('00edcb46-afd4-4687-c16a-f4e20dfc3e92', 23882, 23882.0)\n",
            "('01518fe2-bd76-d1e9-a656-1e7eae35dd17', 22513, 22513.0)\n",
            "('01581211-2e47-027b-71a0-dcbf0f4e6622', 34044, 34044.0)\n",
            "('01d6dc15-6313-5327-8491-49be72f40d59', 405516, 405516.0)\n",
            "('023c4bb2-6dc3-972e-379a-af19b8a2392d', 56168, 56168.0)\n",
            "('030287cd-dbd1-d7e1-6959-cfdfa0e271bd', 34777, 34777.0)\n",
            "('037404e1-0c87-534d-0fe2-e21ef20640f6', 28799, 28799.0)\n",
            "('038eb669-b744-c2bc-18c6-6e37068c722f', 225337, 225337.0)\n",
            "('05398088-a847-099e-3c61-c6153d83e024', 35181, 35181.0)\n"
          ]
        }
      ],
      "source": [
        "cur.execute('''SELECT patient_ID, procedures_Base_COST, SUM(Base_COST)\n",
        "                FROM facts_table, procedures WHERE facts_table.patient_ID = procedures.PATIENT\n",
        "                GROUP BY patient_ID''')\n",
        "records = cur.fetchall()\n",
        "# show 10 rows\n",
        "for row in records[:10]:\n",
        "  print(row)"
      ]
    },
    {
      "cell_type": "markdown",
      "metadata": {
        "id": "kBhSa5_4nceK"
      },
      "source": [
        "Die Daten werden aus **Immunizations** eintragen. Es handelt sich um die Summe aller Immunizationskosten für jeden einzelnen Patienten. Falls dieser Wert nicht existiert, wird an ihrer Stelle 0 eingetragen. Jede Transaktion wird mit commt beendet. Das Speichern der neuen Einträge in die Faktentabelle wird überprüft"
      ]
    },
    {
      "cell_type": "code",
      "execution_count": 18,
      "metadata": {
        "id": "yuvXDCf5dq0P"
      },
      "outputs": [],
      "source": [
        "cur.execute('''     UPDATE facts_table SET immunizations_Base_Cost = im.TOTALCOST\n",
        "                    FROM\n",
        "                    (SELECT PATIENT, SUM(Base_Cost) as TOTALCOST\n",
        "                    FROM immunizations, facts_table\n",
        "                    WHERE facts_table.patient_ID = immunizations.PATIENT\n",
        "                    GROUP BY PATIENT) as im\n",
        "                    WHERE facts_table.patient_ID = im.PATIENT\n",
        "                    ;''')\n",
        "conn.commit()"
      ]
    },
    {
      "cell_type": "code",
      "execution_count": 19,
      "metadata": {
        "id": "Tn5448tAgivf"
      },
      "outputs": [],
      "source": [
        "cur.execute('''UPDATE\n",
        "                  facts_table\n",
        "               SET\n",
        "                  immunizations_BASE_COST = 0\n",
        "                WHERE immunizations_BASE_COST IS NULL\n",
        "                    ;''')\n",
        "conn.commit()"
      ]
    },
    {
      "cell_type": "code",
      "execution_count": 20,
      "metadata": {
        "colab": {
          "base_uri": "https://localhost:8080/"
        },
        "id": "LZqMFbLhfXC4",
        "outputId": "268379ed-dfea-4ad0-ccf7-9055fb334525"
      },
      "outputs": [
        {
          "output_type": "stream",
          "name": "stdout",
          "text": [
            "('001c3804-81e8-740e-dd91-973b584a2dd9', 560, 560.0)\n",
            "('002a707d-ba35-3d1a-46c0-ad8a98a22137', 1260, 1260.0)\n",
            "('003c0d44-9dfc-ca91-6121-373a8e265bd4', 1400, 1400.0)\n",
            "('008b26ab-5c12-7a5b-cda4-f54484d5f749', 1540, 1540.0)\n",
            "('009121bf-a672-8942-443e-85e18a33f766', 1540, 1540.0)\n",
            "('00e798f6-7d02-8485-c5fd-4b6bfb114c69', 980, 980.0)\n",
            "('00edcb46-afd4-4687-c16a-f4e20dfc3e92', 1540, 1540.0)\n",
            "('0103a559-910a-03df-6117-ec429eeb4ac9', 1260, 1260.0)\n",
            "('01518fe2-bd76-d1e9-a656-1e7eae35dd17', 1820, 1820.0)\n",
            "('01581211-2e47-027b-71a0-dcbf0f4e6622', 1680, 1680.0)\n"
          ]
        }
      ],
      "source": [
        "cur.execute(''' SELECT patient_ID, immunizations_BASE_COST, SUM(BASE_COST) FROM facts_table, immunizations\n",
        "                WHERE facts_table.patient_ID = immunizations.PATIENT\n",
        "                GROUP BY patient_ID''' )\n",
        "records = cur.fetchall()\n",
        "# show 10 rows\n",
        "for row in records[:10]:\n",
        "  print(row)"
      ]
    },
    {
      "cell_type": "markdown",
      "metadata": {
        "id": "XMGm9tGzoD78"
      },
      "source": [
        "##Das Datawarehouse ist fast fertig ausgefüllt.\n",
        "Hier werden die ersten Tupeln der Faktentabelle angezeigt.\n",
        "Der \"None\"-Eintrag entspricht der Spalte für Encounters. Diese Spalte wird nicht benutzt, deshalb wurde sie nicht ausgefüllt."
      ]
    },
    {
      "cell_type": "code",
      "execution_count": 21,
      "metadata": {
        "colab": {
          "base_uri": "https://localhost:8080/"
        },
        "id": "EdRm9dEhoNiU",
        "outputId": "3c437e6f-b0e0-4ed3-c189-72134094b087"
      },
      "outputs": [
        {
          "output_type": "stream",
          "name": "stdout",
          "text": [
            "('breast_cancer', 'd2061cc7-bee0-0e6c-3ac4-15c197c474e0', None, '42,359925869', '-71,113260249', 1475230, '4244,64', '22/06/1956', 'QALY', 63, '22/06/2020 10:47:46', 64, 0, 4230, 1540, 1290)\n",
            "('breast_cancer', '073d8e80-ff90-1c8d-57e4-29bfca52c87f', None, '42,257845470', '-72,026316805', 1489125, '4016,36', '28/08/1964', 'QALY', 55, '28/08/2020 16:45:45', 56, 0, 0, 1540, 1032)\n",
            "('breast_cancer', 'e1ff7e68-4097-9faf-514d-e4cfcfdf252e', None, '42,204289674', '-71,818448850', '57142,44', '2103,2', '28/08/1998', 'QALY', 21, '28/08/2020 07:43:32', 22, 0, 0, 1820, 1032)\n",
            "('breast_cancer', 'a0f679cc-875f-dd72-ed13-9ca863ec6cf3', None, '42,150269736', '-70,904084060', 408520, 2709, '20/01/2004', 'QALY', 15, '20/01/2020 15:27:37', 16, 0, 0, 2240, 1290)\n",
            "('breast_cancer', 'e4166a9c-f7c5-bef7-ea43-b96281a2d586', None, '42,292081923', '-71,784873172', 320400, '2970,68', '23/03/2006', 'QALY', 13, '23/03/2020 22:58:03', 14, 0, 0, 2660, 1290)\n",
            "('breast_cancer', 'ee537126-7509-05de-2349-ab19604545d8', None, '42,347570821', '-71,041350243', 784465, '2738,96', '21/05/1991', 'QALY', 28, '21/05/2020 01:23:21', 29, 0, 0, 840, 387)\n",
            "('breast_cancer', '826d5ce3-2b23-8bd8-b352-a77fdd083d68', None, '42,522342970', '-71,147479855', 1425900, '3841,36', '20/07/1964', 'QALY', 55, '20/07/2020 05:08:46', 56, 0, 0, 1540, 1032)\n",
            "('breast_cancer', '0edfef0f-fa74-ab35-1122-4c537bb9765d', None, '42,003848630', '-71,003576538', 512475, '2470,64', '05/05/1997', 'QALY', 22, '04/05/2020 22:31:18', 23, 0, 0, 1540, 903)\n",
            "('breast_cancer', '0fe7e161-0f29-2b70-8e3d-757b15026295', None, '42,585372624', '-71,684116431', 302400, '2583,2', '26/12/2008', 'QALY', 10, '26/12/2019 13:49:03', 11, 0, 0, 2520, 1419)\n",
            "('breast_cancer', '478e120c-67a4-4375-646f-c41e74f72478', None, '41,969587881', '-71,193874871', 1202145, '2892,24', '02/01/1971', 'QALY', 49, '02/01/2020 11:38:08', 49, 0, 0, 1120, 645)\n",
            "('breast_cancer', '622b5d81-6868-03d0-85b2-1d5bb908f6a5', None, '42,489884261', '-71,005552525', 68200, '1291,6', '25/05/2018', 'QALY', 1, '25/05/2020 09:05:41', 2, 0, 0, 3500, 1290)\n",
            "('breast_cancer', '9a4276b9-1377-f7fc-e011-1d27499c6d01', None, '42,752874164', '-71,159400383', 354320, '2638,16', '13/09/2003', 'QALY', 16, '13/09/2020 08:21:28', 17, 0, 0, 2240, 1290)\n",
            "('breast_cancer', '2cc8c44f-74da-eae3-72ae-ba126845090f', None, '41,581007499', '-70,469416644', '3745,64', 0, '21/10/1997', 'QALY', 22, '21/10/2020 02:35:08', 23, 0, 0, 1540, 903)\n",
            "('breast_cancer', '997c74a7-dd20-7297-43cf-eac7288e5600', None, '42,384553071', '-71,036357559', 1358790, '4297,08', '20/11/1946', 'QALY', 73, '20/11/2020 16:08:00', 74, 0, 0, 1820, 1290)\n",
            "('breast_cancer', 'b4001499-a15a-980e-e3bb-e73b63045411', None, '42,404144785', '-71,204577948', 1623235, '5822,84', '14/10/1936', 'QALY', '78,9', '14/10/2020 15:26:07', 84, 291812, 126567, 1540, 1419)\n",
            "('breast_cancer', '0d66b030-4794-8f98-431f-b9278319483b', None, '41,824401093', '-71,029832849', 1388925, '3920,48', '10/11/1956', 'QALY', 63, '10/11/2020 04:41:11', 64, 0, 0, 1400, 1161)\n",
            "('breast_cancer', '70b626d0-ac97-e723-5e28-7648fd1bc9cf', None, '42,637696923', '-71,272625000', 739020, '2313,12', '31/08/1988', 'QALY', 31, '31/08/2020 07:30:32', 32, 0, 0, 560, 387)\n",
            "('breast_cancer', 'daf6ffbc-efad-50be-8816-a2e6d456477b', None, '42,078960999', '-72,588161731', '38224,64', '1291,6', '20/07/1945', 'QALY', 74, '20/07/2020 19:41:20', 75, 0, 0, 1540, 1161)\n",
            "('breast_cancer', '6c7c535b-322d-362f-2767-f80b0a03b7f8', None, '42,248942212', '-71,181317913', '32909,74', '444,96', '06/04/1983', 'QALY', '5,4', '06/04/2020 20:15:30', 37, 0, 0, 700, 645)\n",
            "('breast_cancer', 'acf9dbc7-08f4-7241-229f-3bad03a29acc', None, '42,276699628', '-71,115877595', 810920, '2683,96', '21/05/1990', 'QALY', 29, '21/05/2020 07:19:27', 30, 0, 0, 840, 387)\n",
            "('breast_cancer', '469faecb-5a98-fdc4-1ce1-cd200ca5868d', None, '42,376893318', '-71,459323066', 1307820, '3550,52', '06/10/1963', 'QALY', 56, '05/10/2020 23:07:31', 57, 0, 0, 1680, 1161)\n",
            "('breast_cancer', '17eeae84-fd93-4f1f-e4f4-d01f4b3d6819', None, '42,801128847', '-70,830551505', 613200, '2474,8', '21/03/1994', 'QALY', 25, '21/03/2020 02:21:40', 26, 0, 0, 1120, 645)\n",
            "('breast_cancer', '33684ffd-e9d9-4ed4-ec47-b12ebb06642b', None, '42,551552433', '-71,048471869', 1490520, '4233,8', '19/09/1954', 'QALY', 65, '19/09/2020 08:13:26', 66, 0, 0, 1540, 1161)\n",
            "('breast_cancer', 'f5a6e3b3-781d-d800-d4c3-1782e39258e8', None, '42,307248601', '-71,061167794', '98706,48', '2826,4', '01/04/1942', 'QALY', '76,9', '01/04/2020 02:29:33', 78, 0, 20984, 1540, 1290)\n",
            "('breast_cancer', 'cb62ff66-c7a3-dec3-01c3-f7596d1f569e', None, '41,703274398', '-71,049687522', 1409750, '4103,8', '01/02/1955', 'QALY', '63,4', '01/02/2020 18:37:33', 65, 177243, 17900, 1680, 1290)\n",
            "('breast_cancer', '172337a7-9ac6-39cd-37db-20e1fcab4f2e', None, '42,018959058', '-71,568285856', 1264080, '3186,4', '27/11/1970', 'QALY', 49, '27/11/2020 09:14:30', 50, 0, 0, 1120, 645)\n",
            "('breast_cancer', '224d86b9-eeda-e164-7e1f-cba4ec973cc6', None, '42,261185586', '-72,009606439', '2712,36', 0, '24/11/2007', 'QALY', 12, '24/11/2020 14:42:02', 13, 0, 0, 2660, 1290)\n",
            "('breast_cancer', '1c212fec-e110-ee77-3f78-eb6141aca633', None, '42,016492214', '-70,892532738', '1097307,42', '2870,6', '29/06/1979', 'QALY', 40, '29/06/2020 10:10:32', 41, 44056, 56, 560, 387)\n",
            "('breast_cancer', 'f8871273-1db8-1c87-fe2e-f87766b4e7f5', None, '42,397037515', '-71,193507469', 390840, '2859,84', '09/07/2005', 'QALY', 14, '09/07/2020 21:35:20', 15, 0, 0, 2100, 1290)\n",
            "('breast_cancer', '5ea2c6ab-c205-ca9a-9e57-3acf569b93bf', None, '42,515827810', '-71,037512255', 1033395, '2796,44', '07/12/1981', 'QALY', 37, '07/12/2019 03:31:26', 38, 0, 0, 560, 387)\n"
          ]
        }
      ],
      "source": [
        "cur.execute('''SELECT * FROM facts_table\n",
        "''')\n",
        "records = cur.fetchall()\n",
        "# show 4 rows\n",
        "for row in records[:30]:\n",
        "  print(row)"
      ]
    },
    {
      "cell_type": "code",
      "execution_count": null,
      "metadata": {
        "colab": {
          "base_uri": "https://localhost:8080/"
        },
        "id": "aLWYwQVkmDrU",
        "outputId": "0d4ae7fd-0b5f-453f-ef40-ff601f9de2e5"
      },
      "outputs": [
        {
          "output_type": "stream",
          "name": "stdout",
          "text": [
            "    cid                           name           type  notnull dflt_value  pk\n",
            "0     0                    cancer_type         STRING        0       None   0\n",
            "1     1                     patient_ID         STRING        0       None   0\n",
            "2     2                   encounter_ID         STRING        0       None   0\n",
            "3     3                    patient_LAT   DECIMAL(6,2)        0       None   0\n",
            "4     4                    patient_LON   DECIMAL(6,2)        0       None   0\n",
            "5     5    patient_HEALTHCARE_EXPENSES   DECIMAL(9,2)        0       None   0\n",
            "6     6    patient_HEALTHCARE_COVERAGE   DECIMAL(9,2)        0       None   0\n",
            "7     7              patient_BIRTHDATE           DATE        0       None   0\n",
            "8     8              observations_CODE         STRING        0       None   0\n",
            "9     9             observations_VALUE         STRING        0       None   0\n",
            "10   10              observations_DATE           DATE        0       None   0\n",
            "11   11               observations_AGE   DECIMAL(6,2)        0       None   0\n",
            "12   12           procedures_BASE_COST  DECIMAL(11,2)        0       None   0\n",
            "13   13          medications_TOTALCOST  DECIMAL(11,2)        0       None   0\n",
            "14   14        immunizations_BASE_COST  DECIMAL(11,2)        0       None   0\n",
            "15   15  encounter_BASE_ENCOUNTER_COST  DECIMAL(11,2)        0       None   0\n"
          ]
        }
      ],
      "source": [
        "print(pd.read_sql_query(\"PRAGMA table_info('facts_table')\", conn))"
      ]
    }
  ],
  "metadata": {
    "colab": {
      "provenance": [],
      "include_colab_link": true
    },
    "kernelspec": {
      "display_name": "Python 3",
      "name": "python3"
    },
    "language_info": {
      "name": "python"
    }
  },
  "nbformat": 4,
  "nbformat_minor": 0
}