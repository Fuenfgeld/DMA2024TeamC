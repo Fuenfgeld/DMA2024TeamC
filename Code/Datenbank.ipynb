{
  "nbformat": 4,
  "nbformat_minor": 0,
  "metadata": {
    "colab": {
      "provenance": [],
      "include_colab_link": true
    },
    "kernelspec": {
      "name": "python3",
      "display_name": "Python 3"
    },
    "language_info": {
      "name": "python"
    }
  },
  "cells": [
    {
      "cell_type": "markdown",
      "metadata": {
        "id": "view-in-github",
        "colab_type": "text"
      },
      "source": [
        "<a href=\"https://colab.research.google.com/github/Fuenfgeld/DMA2024TeamC/blob/main/Code/Datenbank.ipynb\" target=\"_parent\"><img src=\"https://colab.research.google.com/assets/colab-badge.svg\" alt=\"Open In Colab\"/></a>"
      ]
    },
    {
      "cell_type": "markdown",
      "source": [
        "**Kursarbeit Datenmanagement und -Archivierung WS 23/24**\n",
        "\n",
        "Master-Code Name-CALICO:MA\n"
      ],
      "metadata": {
        "id": "vHosyFJW4vm1"
      }
    },
    {
      "cell_type": "markdown",
      "source": [
        "**Erstellung der Datenbank**\n",
        "\n",
        "\n",
        "*   Datenbankinitialisierung:\n",
        "\n"
      ],
      "metadata": {
        "id": "mZXn3MCm6EUw"
      }
    },
    {
      "cell_type": "markdown",
      "source": [
        "> Importing Libraries"
      ],
      "metadata": {
        "id": "R4Vq7BBP-kj0"
      }
    },
    {
      "cell_type": "code",
      "source": [
        "import pandas as pd\n",
        "from functools import reduce\n",
        "import sqlite3\n",
        "from sqlite3 import Error\n",
        "import csv\n",
        "import requests"
      ],
      "metadata": {
        "id": "eriJl5b7-haW"
      },
      "execution_count": 47,
      "outputs": []
    },
    {
      "cell_type": "markdown",
      "source": [
        "> Verbindung zu Googledrive herstellen (Ablageort der CSV-Dateien)"
      ],
      "metadata": {
        "id": "c9whsxq3-FwZ"
      }
    },
    {
      "cell_type": "code",
      "source": [
        "from google.colab import drive\n",
        "drive.mount(\"/content/drive\", force_remount=True)"
      ],
      "metadata": {
        "id": "ZSbZ7Syq7OoY",
        "colab": {
          "base_uri": "https://localhost:8080/"
        },
        "outputId": "309af41a-7f34-4e68-d0f2-2cc3f9291ba9"
      },
      "execution_count": 48,
      "outputs": [
        {
          "output_type": "stream",
          "name": "stdout",
          "text": [
            "Mounted at /content/drive\n"
          ]
        }
      ]
    },
    {
      "cell_type": "code",
      "source": [
        "material_path = \"/content/drive/My Drive/csv_data\""
      ],
      "metadata": {
        "id": "RqKBRmeR-COy"
      },
      "execution_count": 49,
      "outputs": []
    },
    {
      "cell_type": "code",
      "source": [
        "!ls \"/content/drive/My Drive/csv_data\""
      ],
      "metadata": {
        "id": "YcniAsRNA99q",
        "colab": {
          "base_uri": "https://localhost:8080/"
        },
        "outputId": "fb552093-5abc-4ded-cd46-3c86968afc53"
      },
      "execution_count": 50,
      "outputs": [
        {
          "output_type": "stream",
          "name": "stdout",
          "text": [
            " allergy       asthma\t       colorectal_cancer   dermatitis\t metabolic_syndrome_disease\n",
            " allergy.csv   breast_cancer   covid19\t\t   lung_cancer\t'Outline COVID-19.gdoc'\n"
          ]
        }
      ]
    },
    {
      "cell_type": "markdown",
      "source": [
        "> Verbindung zu SQLite herstellen und Datebankinitialisierung im Memory\n"
      ],
      "metadata": {
        "id": "NwJSSy7UDMoE"
      }
    },
    {
      "cell_type": "code",
      "source": [
        "# SQLite connection\n",
        "# Create a SQLite database in memory from python\n",
        "\n",
        "def create_connection_memory():\n",
        "    \"\"\" create a database connection to a database that resides\n",
        "        in the memory\n",
        "    \"\"\"\n",
        "    conn = None;\n",
        "    try:\n",
        "       #Establishing the connection\n",
        "        conn = sqlite3.connect(':memory:')\n",
        "        return conn\n",
        "        print(sqlite3.version)\n",
        "    except Error as e:\n",
        "        print(\"Error while connecting to sqlite\", e)\n",
        "    # finally:\n",
        "    #     if conn:\n",
        "    #         conn.close()"
      ],
      "metadata": {
        "id": "-MiH3_RuC-Mu"
      },
      "execution_count": 51,
      "outputs": []
    },
    {
      "cell_type": "code",
      "source": [
        "# Creating a temporary empty database in the memory.\n",
        "conn = create_connection_memory()\n",
        "# Creating a cursor object using the cursor() method\n",
        "cur = conn.cursor()\n",
        "print(\"Successfully Connected to SQLite\")\n"
      ],
      "metadata": {
        "id": "GcTWPtWskbTM",
        "colab": {
          "base_uri": "https://localhost:8080/"
        },
        "outputId": "a2cb4689-b28b-401a-a4ae-fbde58c45d4d"
      },
      "execution_count": 52,
      "outputs": [
        {
          "output_type": "stream",
          "name": "stdout",
          "text": [
            "Successfully Connected to SQLite\n"
          ]
        }
      ]
    },
    {
      "cell_type": "markdown",
      "source": [
        "\n",
        "\n",
        "> Verbindung zu SQLite herstellen und Datebankinitialisierung Local\n",
        "\n",
        "\n"
      ],
      "metadata": {
        "id": "rQQfNOR7jFuD"
      }
    },
    {
      "cell_type": "code",
      "source": [
        "def create_connection_local(local_path):\n",
        "  conn = None;\n",
        "  try:\n",
        "    #Establishing the connection\n",
        "    conn = sqlite3.connect(local_path+'/datawarehouse.db')\n",
        "    return conn\n",
        "    print(sqlite3.version)\n",
        "  except Error as e:\n",
        "    print(\"Error while connecting to sqlite\", e)\n",
        "conn = create_connection_local('/content/drive/My Drive/Datenmanagement_und_Archivierung_im_Umfeld_der_Forschung/CALICO_MA')\n",
        "# Creating a cursor object using the cursor() method\n",
        "cur = conn.cursor()\n",
        "print(\"Successfully Connected to SQLite Public Data Warehouse\")\n"
      ],
      "metadata": {
        "id": "5VAxi8iZnsCJ",
        "colab": {
          "base_uri": "https://localhost:8080/"
        },
        "outputId": "76a9d928-63ed-4598-cc3d-82859cd280c5"
      },
      "execution_count": 53,
      "outputs": [
        {
          "output_type": "stream",
          "name": "stdout",
          "text": [
            "Successfully Connected to SQLite Public Data Warehouse\n"
          ]
        }
      ]
    },
    {
      "cell_type": "markdown",
      "source": [
        "> Quelldatenimport"
      ],
      "metadata": {
        "id": "_WfYcr6eZGTz"
      }
    },
    {
      "cell_type": "code",
      "source": [
        "# Load cancer CSVs\n",
        "procedures = pd.read_csv('/content/drive/My Drive/Data_source/procedures.csv', sep=\",\")\n",
        "encounters = pd.read_csv('/content/drive/My Drive/Data_source/encounters.csv', sep=\",\")\n",
        "immunizations = pd.read_csv('/content/drive/My Drive/Data_source/immunizations.csv', sep=\",\")\n",
        "medications = pd.read_csv('/content/drive/My Drive/Data_source/medications.csv', sep=\",\")\n",
        "observations = pd.read_csv('/content/drive/My Drive/Data_source/observations.csv', sep=\",\")\n",
        "patients = pd.read_csv('/content/drive/My Drive/Data_source/patients.csv', sep=\",\")"
      ],
      "metadata": {
        "id": "1Uffy7Q6yWD_"
      },
      "execution_count": 54,
      "outputs": []
    },
    {
      "cell_type": "code",
      "source": [
        "#Delete Tables in case they exist\n",
        "cur.execute(\"DROP TABLE IF EXISTS procedures\")\n",
        "cur.execute(\"DROP TABLE IF EXISTS encounters\")\n",
        "cur.execute(\"DROP TABLE IF EXISTS immunizations\")\n",
        "cur.execute(\"DROP TABLE IF EXISTS medications\")\n",
        "cur.execute(\"DROP TABLE IF EXISTS observations\")\n",
        "cur.execute(\"DROP TABLE IF EXISTS patients\")\n",
        "cur.execute(\"DROP TABLE IF EXISTS facts_table\")"
      ],
      "metadata": {
        "id": "omHiPDL_yWH2",
        "colab": {
          "base_uri": "https://localhost:8080/"
        },
        "outputId": "17c79812-ce06-40c9-b9d2-71e8920a2d00"
      },
      "execution_count": 55,
      "outputs": [
        {
          "output_type": "execute_result",
          "data": {
            "text/plain": [
              "<sqlite3.Cursor at 0x7bf212cebc40>"
            ]
          },
          "metadata": {},
          "execution_count": 55
        }
      ]
    },
    {
      "cell_type": "code",
      "source": [
        "# Create tables including facts_table\n",
        "sql_create_source_data = requests.get('https://raw.githubusercontent.com/Fuenfgeld/DMA2024TeamC/main/Code/create_statements_db.sql').text\n",
        "cur.executescript(sql_create_source_data)\n",
        "conn.commit()\n",
        "print(\"Successfully created tables in the database\")"
      ],
      "metadata": {
        "id": "ErcedcDWlSbo",
        "colab": {
          "base_uri": "https://localhost:8080/"
        },
        "outputId": "dda4e35c-07f7-4ccc-e6c1-a8bf41052fc1"
      },
      "execution_count": 56,
      "outputs": [
        {
          "output_type": "stream",
          "name": "stdout",
          "text": [
            "Successfully created tables in the database\n"
          ]
        }
      ]
    },
    {
      "cell_type": "code",
      "source": [
        "#Insert data into tables\n",
        "\n",
        "procedures.to_sql('procedures', conn, if_exists='append', index=False)\n",
        "encounters.to_sql('encounters', conn, if_exists='append', index=False)\n",
        "immunizations.to_sql('immunizations', conn, if_exists='append', index=False)\n",
        "medications.to_sql('medications', conn, if_exists='append', index=False)\n",
        "observations.to_sql('observations', conn, if_exists='append', index=False)\n",
        "patients.to_sql('patients', conn, if_exists='append', index=False)"
      ],
      "metadata": {
        "id": "GV-I0HHdyYl2",
        "colab": {
          "base_uri": "https://localhost:8080/"
        },
        "outputId": "20e1b6b9-3c36-476c-9c1f-1248064caf95"
      },
      "execution_count": 57,
      "outputs": [
        {
          "output_type": "execute_result",
          "data": {
            "text/plain": [
              "3084"
            ]
          },
          "metadata": {},
          "execution_count": 57
        }
      ]
    },
    {
      "cell_type": "markdown",
      "source": [
        "\n",
        "> Daten in Faktentabelle übertragen\n",
        "\n"
      ],
      "metadata": {
        "id": "inn0cONkebqW"
      }
    },
    {
      "cell_type": "code",
      "source": [
        "cur.execute('''INSERT INTO facts_table\n",
        "                    (cancer_type, patient_ID, patient_BIRTHDATE, patient_LAT, patient_LON, patient_HEALTHCARE_EXPENSES , patient_HEALTHCARE_COVERAGE)\n",
        "                    SELECT Table_Names, Id, BIRTHDATE, LAT, LON, HEALTHCARE_EXPENSES, HEALTHCARE_COVERAGE\n",
        "                    FROM patients\n",
        "                    ;''')\n",
        "\n",
        "\n",
        "cur.execute('''INSERT INTO facts_table\n",
        "                    ( cancer_type, patient_ID, observation_code, observations_VALUE, observations_DATE)\n",
        "                    SELECT Table_Names, PATIENT, CODE, VALUE, DATE\n",
        "                    FROM observations\n",
        "                    ;''')\n",
        "\n",
        "\n",
        "cur.execute('''INSERT INTO facts_table\n",
        "                    (cancer_type, patient_ID, encounter_ID,  procedures_BASE_COST )\n",
        "                    SELECT Table_Names, PATIENT, ENCOUNTER, BASE_COST\n",
        "                    FROM procedures\n",
        "                    ;''')\n",
        "\n",
        "\n",
        "cur.execute('''INSERT INTO facts_table\n",
        "                    (cancer_type, patient_ID, encounter_ID, medications_TOTALCOST )\n",
        "                    SELECT Table_Names, PATIENT, ENCOUNTER, TOTALCOST\n",
        "                    FROM medications\n",
        "                    ;''')\n",
        "\n",
        "cur.execute('''INSERT INTO facts_table\n",
        "                    (cancer_type, patient_ID, encounter_ID, immunizations_BASE_COST)\n",
        "                    SELECT Table_Names, PATIENT,  ENCOUNTER, BASE_COST\n",
        "                    FROM immunizations\n",
        "                    ;''')\n",
        "\n",
        "cur.execute('''INSERT INTO facts_table\n",
        "                    (cancer_type, patient_ID, encounter_ID, encounter_BASE_ENCOUNTER_COST)\n",
        "                    SELECT Table_Names, PATIENT, Id, BASE_ENCOUNTER_COST\n",
        "                    FROM encounters\n",
        "                    ;''')\n",
        "\n"
      ],
      "metadata": {
        "id": "rf5D-VNkS4Nx",
        "colab": {
          "base_uri": "https://localhost:8080/"
        },
        "outputId": "191e50ad-b105-4c8b-d628-a1e6e7aa5eb4"
      },
      "execution_count": 58,
      "outputs": [
        {
          "output_type": "execute_result",
          "data": {
            "text/plain": [
              "<sqlite3.Cursor at 0x7bf212cebc40>"
            ]
          },
          "metadata": {},
          "execution_count": 58
        }
      ]
    },
    {
      "cell_type": "code",
      "source": [
        "conn.commit()"
      ],
      "metadata": {
        "id": "hvTc8ttthgRq"
      },
      "execution_count": 59,
      "outputs": []
    },
    {
      "cell_type": "code",
      "source": [
        "#connect to DB\n",
        "conn = sqlite3.connect('/content/drive/My Drive/Datenmanagement_und_Archivierung_im_Umfeld_der_Forschung/CALICO_MA/datawarehouse.db')\n",
        "cursor = conn.cursor()\n"
      ],
      "metadata": {
        "id": "VvBROB0Eh7xm"
      },
      "execution_count": 60,
      "outputs": []
    },
    {
      "cell_type": "code",
      "source": [
        "#Select data\n",
        "# show table: retrieve all the column of each records and 4 rows\n",
        "cur.execute(\"SELECT * FROM patients\")\n",
        "records = cur.fetchall()\n",
        "# show 4 rows\n",
        "for row in records[:4]:\n",
        "  print(row)"
      ],
      "metadata": {
        "id": "bkOtFAoFlS5H",
        "colab": {
          "base_uri": "https://localhost:8080/"
        },
        "outputId": "087c3297-1e7d-49f1-bd49-5f23d03bd54c"
      },
      "execution_count": 61,
      "outputs": [
        {
          "output_type": "stream",
          "name": "stdout",
          "text": [
            "('d2061cc7-bee0-0e6c-3ac4-15c197c474e0', '22/06/1956', None, '999-51-6528', 'S99944910', 'X29408602X', 'Mr.', 'Lucio648', 'Simonis280', None, None, 'M', 'white', 'nonhispanic', 'M', 'Worcester  Massachusetts  US', '636 Wiegand Loaf', 'Cambridge', 'Massachusetts', 'Middlesex County', 2140, '42,359925869', '-71,113260249', 1475230, '4244,64', 'patients_bc')\n",
            "('073d8e80-ff90-1c8d-57e4-29bfca52c87f', '28/08/1964', None, '999-90-4728', 'S99976204', 'X17497441X', 'Mrs.', 'Buffy238', 'Wolf938', None, 'Williamson769', 'M', 'white', 'nonhispanic', 'F', 'Somerville  Massachusetts  US', '972 Satterfield Trafficway Apt 71', 'North Brookfield', 'Massachusetts', 'Worcester County', 1535, '42,257845470', '-72,026316805', 1489125, '4016,36', 'patients_bc')\n",
            "('e1ff7e68-4097-9faf-514d-e4cfcfdf252e', '28/08/1998', None, '999-82-3645', 'S99973929', 'X88553898X', 'Ms.', 'Debora709', 'Klocko335', None, None, None, 'white', 'nonhispanic', 'F', 'Williamstown  Massachusetts  US', '589 Koss Station', 'Worcester', 'Massachusetts', 'Worcester County', 1545, '42,204289674', '-71,818448850', '57142,44', '2103,2', 'patients_bc')\n",
            "('a0f679cc-875f-dd72-ed13-9ca863ec6cf3', '20/01/2004', None, '999-93-6431', 'S99923001', None, None, 'Walton167', 'Kessler503', None, None, None, 'asian', 'nonhispanic', 'M', 'New Braintree  Massachusetts  US', '777 Gusikowski Drive', 'Weymouth', 'Massachusetts', 'Norfolk County', None, '42,150269736', '-70,904084060', 408520, 2709, 'patients_bc')\n"
          ]
        }
      ]
    },
    {
      "cell_type": "code",
      "source": [
        "# List of columns in a table\n",
        "cur.execute (\"select * from facts_table\")\n",
        "col_names = cur.description\n",
        "for row in col_names:\n",
        "  print(row[0])\n"
      ],
      "metadata": {
        "id": "Wq5wsv3D3_Bg",
        "colab": {
          "base_uri": "https://localhost:8080/"
        },
        "outputId": "4819c839-36fb-401a-ae09-6bdd8ded1692"
      },
      "execution_count": 62,
      "outputs": [
        {
          "output_type": "stream",
          "name": "stdout",
          "text": [
            "cancer_type\n",
            "patient_ID\n",
            "observation_code\n",
            "encounter_ID\n",
            "patient_LAT\n",
            "patient_LON\n",
            "patient_HEALTHCARE_EXPENSES\n",
            "patient_HEALTHCARE_COVERAGE\n",
            "patient_BIRTHDATE\n",
            "observations_VALUE\n",
            "observations_DATE\n",
            "procedures_BASE_COST\n",
            "medications_TOTALCOST\n",
            "immunizations_BASE_COST\n",
            "encounter_BASE_ENCOUNTER_COST\n"
          ]
        }
      ]
    },
    {
      "cell_type": "markdown",
      "source": [],
      "metadata": {
        "id": "cZoPnEBelTSP"
      }
    }
  ]
}