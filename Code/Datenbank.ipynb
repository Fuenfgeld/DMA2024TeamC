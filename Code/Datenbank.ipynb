{
  "nbformat": 4,
  "nbformat_minor": 0,
  "metadata": {
    "colab": {
      "provenance": [],
      "authorship_tag": "ABX9TyNARvCfoe3dl+FGtZ0VJK6O",
      "include_colab_link": true
    },
    "kernelspec": {
      "name": "python3",
      "display_name": "Python 3"
    },
    "language_info": {
      "name": "python"
    }
  },
  "cells": [
    {
      "cell_type": "markdown",
      "metadata": {
        "id": "view-in-github",
        "colab_type": "text"
      },
      "source": [
        "<a href=\"https://colab.research.google.com/github/Fuenfgeld/DMA2024TeamC/blob/main/Code/Datenbank.ipynb\" target=\"_parent\"><img src=\"https://colab.research.google.com/assets/colab-badge.svg\" alt=\"Open In Colab\"/></a>"
      ]
    },
    {
      "cell_type": "markdown",
      "source": [
        "**Kursarbeit Datenmanagement und -Archivierung WS 23/24**\n",
        "\n",
        "Master-Code Name-CALICO:MA\n"
      ],
      "metadata": {
        "id": "vHosyFJW4vm1"
      }
    },
    {
      "cell_type": "markdown",
      "source": [
        "**Erstellung der Datenbank**\n",
        "\n",
        "\n",
        "*   Datenbankinitialisierung:\n",
        "\n"
      ],
      "metadata": {
        "id": "mZXn3MCm6EUw"
      }
    },
    {
      "cell_type": "markdown",
      "source": [
        "> Importing Libraries"
      ],
      "metadata": {
        "id": "R4Vq7BBP-kj0"
      }
    },
    {
      "cell_type": "code",
      "source": [
        "import pandas as pd\n",
        "from functools import reduce\n",
        "import sqlite3\n",
        "from sqlite3 import Error\n",
        "import csv\n",
        "import requests"
      ],
      "metadata": {
        "id": "eriJl5b7-haW"
      },
      "execution_count": null,
      "outputs": []
    },
    {
      "cell_type": "markdown",
      "source": [
        "> Verbindung zu Googledrive herstellen (Ablageort der CSV-Dateien)"
      ],
      "metadata": {
        "id": "c9whsxq3-FwZ"
      }
    },
    {
      "cell_type": "code",
      "source": [
        "from google.colab import drive\n",
        "drive.mount(\"/content/drive\", force_remount=True)"
      ],
      "metadata": {
        "id": "ZSbZ7Syq7OoY"
      },
      "execution_count": null,
      "outputs": []
    },
    {
      "cell_type": "code",
      "source": [
        "material_path = \"/content/drive/My Drive/csv_data\""
      ],
      "metadata": {
        "id": "RqKBRmeR-COy"
      },
      "execution_count": null,
      "outputs": []
    },
    {
      "cell_type": "code",
      "source": [
        "!ls \"/content/drive/My Drive/csv_data\""
      ],
      "metadata": {
        "id": "YcniAsRNA99q"
      },
      "execution_count": null,
      "outputs": []
    },
    {
      "cell_type": "markdown",
      "source": [
        "> Verbindung zu SQLite herstellen und Datebankinitialisierung im Memory\n"
      ],
      "metadata": {
        "id": "NwJSSy7UDMoE"
      }
    },
    {
      "cell_type": "code",
      "source": [
        "# SQLite connection\n",
        "# Create a SQLite database in memory from python\n",
        "\n",
        "def create_connection_memory():\n",
        "    \"\"\" create a database connection to a database that resides\n",
        "        in the memory\n",
        "    \"\"\"\n",
        "    conn = None;\n",
        "    try:\n",
        "       #Establishing the connection\n",
        "        conn = sqlite3.connect(':memory:')\n",
        "        return conn\n",
        "        print(sqlite3.version)\n",
        "    except Error as e:\n",
        "        print(\"Error while connecting to sqlite\", e)\n",
        "    # finally:\n",
        "    #     if conn:\n",
        "    #         conn.close()"
      ],
      "metadata": {
        "id": "-MiH3_RuC-Mu"
      },
      "execution_count": null,
      "outputs": []
    },
    {
      "cell_type": "code",
      "source": [
        "# Creating a temporary empty database in the memory.\n",
        "conn = create_connection_memory()\n",
        "# Creating a cursor object using the cursor() method\n",
        "cur = conn.cursor()\n",
        "print(\"Successfully Connected to SQLite\")\n"
      ],
      "metadata": {
        "id": "GcTWPtWskbTM"
      },
      "execution_count": null,
      "outputs": []
    },
    {
      "cell_type": "markdown",
      "source": [
        "\n",
        "\n",
        "> Verbindung zu SQLite herstellen und Datebankinitialisierung Local\n",
        "\n",
        "\n"
      ],
      "metadata": {
        "id": "rQQfNOR7jFuD"
      }
    },
    {
      "cell_type": "code",
      "source": [
        "def create_connection_local(local_path):\n",
        "  conn = None;\n",
        "  try:\n",
        "    #Establishing the connection\n",
        "    conn = sqlite3.connect(local_path+'/datawarehouse.db')\n",
        "    return conn\n",
        "    print(sqlite3.version)\n",
        "  except Error as e:\n",
        "    print(\"Error while connecting to sqlite\", e)\n",
        "conn = create_connection_local('/content/drive/My Drive/Datenmanagement_und_Archivierung_im_Umfeld_der_Forschung/CALICO_MA')\n",
        "# Creating a cursor object using the cursor() method\n",
        "cur = conn.cursor()\n",
        "print(\"Successfully Connected to SQLite Public Data Warehouse\")\n"
      ],
      "metadata": {
        "id": "5VAxi8iZnsCJ"
      },
      "execution_count": null,
      "outputs": []
    },
    {
      "cell_type": "markdown",
      "source": [
        "> Quelldatenimport"
      ],
      "metadata": {
        "id": "_WfYcr6eZGTz"
      }
    },
    {
      "cell_type": "code",
      "source": [
        "# Load cancer CSVs\n",
        "procedures = pd.read_csv('/content/drive/My Drive/Data_source/procedures.csv', sep=\",\")\n",
        "encounters = pd.read_csv('/content/drive/My Drive/Data_source/encounters.csv', sep=\",\")\n",
        "immunizations = pd.read_csv('/content/drive/My Drive/Data_source/immunizations.csv', sep=\",\")\n",
        "medications = pd.read_csv('/content/drive/My Drive/Data_source/medications.csv', sep=\",\")\n",
        "observations = pd.read_csv('/content/drive/My Drive/Data_source/observations.csv', sep=\",\")\n",
        "patients = pd.read_csv('/content/drive/My Drive/Data_source/patients.csv', sep=\",\")"
      ],
      "metadata": {
        "id": "1Uffy7Q6yWD_"
      },
      "execution_count": null,
      "outputs": []
    },
    {
      "cell_type": "code",
      "source": [
        "#Delete Tables in case they exist\n",
        "cur.execute(\"DROP TABLE IF EXISTS procedures\")\n",
        "cur.execute(\"DROP TABLE IF EXISTS encounters\")\n",
        "cur.execute(\"DROP TABLE IF EXISTS immunizations\")\n",
        "cur.execute(\"DROP TABLE IF EXISTS medications\")\n",
        "cur.execute(\"DROP TABLE IF EXISTS observations\")\n",
        "cur.execute(\"DROP TABLE IF EXISTS patients\")\n",
        "cur.execute(\"DROP TABLE IF EXISTS facts_table\")"
      ],
      "metadata": {
        "id": "omHiPDL_yWH2"
      },
      "execution_count": null,
      "outputs": []
    },
    {
      "cell_type": "code",
      "source": [
        "# Create tables including facts_table\n",
        "sql_create_source_data = requests.get('https://raw.githubusercontent.com/Fuenfgeld/DMA2024TeamC/main/Code/create_statements_db.sql').text\n",
        "cur.executescript(sql_create_source_data)\n",
        "conn.commit()\n",
        "print(\"Successfully created tables in the database\")"
      ],
      "metadata": {
        "id": "ErcedcDWlSbo"
      },
      "execution_count": null,
      "outputs": []
    },
    {
      "cell_type": "code",
      "source": [
        "#Insert data into tables\n",
        "\n",
        "procedures.to_sql('procedures', conn, if_exists='append', index=False)\n",
        "encounters.to_sql('encounters', conn, if_exists='append', index=False)\n",
        "immunizations.to_sql('immunizations', conn, if_exists='append', index=False)\n",
        "medications.to_sql('medications', conn, if_exists='append', index=False)\n",
        "observations.to_sql('observations', conn, if_exists='append', index=False)\n",
        "patients.to_sql('patients', conn, if_exists='append', index=False)"
      ],
      "metadata": {
        "id": "GV-I0HHdyYl2"
      },
      "execution_count": null,
      "outputs": []
    },
    {
      "cell_type": "markdown",
      "source": [
        "\n",
        "> Daten in Faktentabelle übertragen\n",
        "\n"
      ],
      "metadata": {
        "id": "inn0cONkebqW"
      }
    },
    {
      "cell_type": "code",
      "source": [
        "# Need to include date\n",
        "cur.execute('''INSERT INTO facts_table\n",
        "                    ( cancer_type, patient_ID, observation_code, observations_VALUE)\n",
        "                    SELECT Table_Names, PATIENT, CODE, VALUE\n",
        "                    FROM observations\n",
        "                    ;''')\n",
        "\n",
        "\n",
        "cur.execute('''INSERT INTO facts_table\n",
        "                    (cancer_type, patient_ID, encounter_ID, procedure_code , procedures_BASE_COST )\n",
        "                    SELECT Table_Names, PATIENT, ENCOUNTER, CODE, BASE_COST\n",
        "                    FROM procedures\n",
        "                    ;''')\n",
        "\n",
        "\n",
        "cur.execute('''INSERT INTO facts_table\n",
        "                    (cancer_type, patient_ID, encounter_ID,  medication_code, medications_TOTALCOST )\n",
        "                    SELECT Table_Names, PATIENT, ENCOUNTER, CODE, TOTALCOST\n",
        "                    FROM medications\n",
        "                    ;''')\n",
        "\n",
        "cur.execute('''INSERT INTO facts_table\n",
        "                    (cancer_type, patient_ID, encounter_ID, immunization_code)\n",
        "                    SELECT Table_Names, PATIENT,  ENCOUNTER, CODE\n",
        "                    FROM immunizations\n",
        "                    ;''')\n",
        "\n",
        "cur.execute('''INSERT INTO facts_table\n",
        "                    (cancer_type, patient_ID, encounter_ID, encounter_BASE_ENCOUNTER_COST)\n",
        "                    SELECT Table_Names, PATIENT, Id, BASE_ENCOUNTER_COST\n",
        "                    FROM encounters\n",
        "                    ;''')\n",
        "\n"
      ],
      "metadata": {
        "id": "rf5D-VNkS4Nx"
      },
      "execution_count": null,
      "outputs": []
    },
    {
      "cell_type": "code",
      "source": [
        "conn.commit()"
      ],
      "metadata": {
        "id": "hvTc8ttthgRq"
      },
      "execution_count": null,
      "outputs": []
    },
    {
      "cell_type": "code",
      "source": [
        "#connect to DB\n",
        "conn = sqlite3.connect('/content/drive/My Drive/Datenmanagement_und_Archivierung_im_Umfeld_der_Forschung/CALICO_MA/datawarehouse.db')\n",
        "cursor = conn.cursor()\n"
      ],
      "metadata": {
        "id": "VvBROB0Eh7xm"
      },
      "execution_count": null,
      "outputs": []
    },
    {
      "cell_type": "code",
      "source": [
        "#Select data\n",
        "# show table: retrieve all the column of each records and 4 rows\n",
        "cur.execute(\"SELECT * FROM patients\")\n",
        "records = cur.fetchall()\n",
        "# show 4 rows\n",
        "for row in records[:4]:\n",
        "  print(row)"
      ],
      "metadata": {
        "id": "bkOtFAoFlS5H"
      },
      "execution_count": null,
      "outputs": []
    },
    {
      "cell_type": "code",
      "source": [
        "# List of columns in a table\n",
        "cur.execute (\"select * from facts_table\")\n",
        "col_names = cur.description\n",
        "for row in col_names:\n",
        "  print(row[0])\n"
      ],
      "metadata": {
        "id": "Wq5wsv3D3_Bg"
      },
      "execution_count": null,
      "outputs": []
    },
    {
      "cell_type": "markdown",
      "source": [],
      "metadata": {
        "id": "cZoPnEBelTSP"
      }
    }
  ]
}