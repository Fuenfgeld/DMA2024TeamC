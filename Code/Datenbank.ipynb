{
  "nbformat": 4,
  "nbformat_minor": 0,
  "metadata": {
    "colab": {
      "provenance": [],
      "include_colab_link": true
    },
    "kernelspec": {
      "name": "python3",
      "display_name": "Python 3"
    },
    "language_info": {
      "name": "python"
    }
  },
  "cells": [
    {
      "cell_type": "markdown",
      "metadata": {
        "id": "view-in-github",
        "colab_type": "text"
      },
      "source": [
        "<a href=\"https://colab.research.google.com/github/Fuenfgeld/DMA2024TeamC/blob/main/Code/Datenbank.ipynb\" target=\"_parent\"><img src=\"https://colab.research.google.com/assets/colab-badge.svg\" alt=\"Open In Colab\"/></a>"
      ]
    },
    {
      "cell_type": "markdown",
      "source": [
        "**Kursarbeit Datenmanagement und -Archivierung WS 23/24**\n",
        "\n",
        "Master-Code Name-CALICO:MA\n"
      ],
      "metadata": {
        "id": "vHosyFJW4vm1"
      }
    },
    {
      "cell_type": "markdown",
      "source": [
        "# Skript wurde geändert bzgl. des Ausfüllens der Faktentabelle. Die aktuelle Version befindet sich unter ETL2Datewarehouse.ipynb"
      ],
      "metadata": {
        "id": "KAdXCKFRK45G"
      }
    },
    {
      "cell_type": "markdown",
      "source": [
        "**Erstellung der Datenbank**\n",
        "\n",
        "\n",
        "*   Datenbankinitialisierung:\n",
        "\n"
      ],
      "metadata": {
        "id": "mZXn3MCm6EUw"
      }
    },
    {
      "cell_type": "markdown",
      "source": [
        "> Laden Libraries"
      ],
      "metadata": {
        "id": "R4Vq7BBP-kj0"
      }
    },
    {
      "cell_type": "code",
      "source": [
        "import pandas as pd\n",
        "from functools import reduce\n",
        "import sqlite3\n",
        "from sqlite3 import Error\n",
        "import csv\n",
        "import requests"
      ],
      "metadata": {
        "id": "eriJl5b7-haW"
      },
      "execution_count": null,
      "outputs": []
    },
    {
      "cell_type": "markdown",
      "source": [
        "> Verbindung zu Googledrive herstellen (Ablageort der CSV-Dateien)"
      ],
      "metadata": {
        "id": "c9whsxq3-FwZ"
      }
    },
    {
      "cell_type": "code",
      "source": [
        "from google.colab import drive\n",
        "drive.mount(\"/content/drive\", force_remount=True)"
      ],
      "metadata": {
        "colab": {
          "base_uri": "https://localhost:8080/"
        },
        "id": "lEgV_Mbhhlv-",
        "outputId": "a688247d-1131-4166-a316-7f767774b3a4"
      },
      "execution_count": null,
      "outputs": [
        {
          "output_type": "stream",
          "name": "stdout",
          "text": [
            "Mounted at /content/drive\n"
          ]
        }
      ]
    },
    {
      "cell_type": "markdown",
      "source": [
        "\n",
        "\n",
        "> Verbindung zu SQLite herstellen und Datebankinitialisierung Local\n",
        "\n",
        "\n"
      ],
      "metadata": {
        "id": "rQQfNOR7jFuD"
      }
    },
    {
      "cell_type": "code",
      "source": [
        "def create_connection_local(local_path):\n",
        "  conn = None;\n",
        "  try:\n",
        "    #Establishing the connection\n",
        "    conn = sqlite3.connect(local_path+'/datawarehouse.db')\n",
        "    return conn\n",
        "    print(sqlite3.version)\n",
        "  except Error as e:\n",
        "    print(\"Error while connecting to sqlite\", e)\n",
        "conn = create_connection_local('/content/drive/My Drive/Datenmanagement_und_Archivierung_im_Umfeld_der_Forschung/CALICO_MA')\n",
        "# Creating a cursor object using the cursor() method\n",
        "cur = conn.cursor()\n",
        "print(\"Successfully Connected to SQLite Public Data Warehouse\")\n"
      ],
      "metadata": {
        "id": "5VAxi8iZnsCJ",
        "colab": {
          "base_uri": "https://localhost:8080/"
        },
        "outputId": "e2067ebc-565c-4bf3-a346-f7052e719e13"
      },
      "execution_count": null,
      "outputs": [
        {
          "output_type": "stream",
          "name": "stdout",
          "text": [
            "Successfully Connected to SQLite Public Data Warehouse\n"
          ]
        }
      ]
    },
    {
      "cell_type": "markdown",
      "source": [
        "> Quelldatenimport"
      ],
      "metadata": {
        "id": "_WfYcr6eZGTz"
      }
    },
    {
      "cell_type": "code",
      "source": [
        "# Load cancer CSVs\n",
        "procedures = pd.read_csv('/content/drive/My Drive/Data_source/procedures.csv', sep=\",\")\n",
        "encounters = pd.read_csv('/content/drive/My Drive/Data_source/encounters.csv', sep=\",\")\n",
        "immunizations = pd.read_csv('/content/drive/My Drive/Data_source/immunizations.csv', sep=\",\")\n",
        "medications = pd.read_csv('/content/drive/My Drive/Data_source/medications.csv', sep=\",\")\n",
        "observations = pd.read_csv('/content/drive/My Drive/Data_source/observations.csv', sep=\",\")\n",
        "patients = pd.read_csv('/content/drive/My Drive/Data_source/patients.csv', sep=\",\")"
      ],
      "metadata": {
        "id": "1Uffy7Q6yWD_"
      },
      "execution_count": null,
      "outputs": []
    },
    {
      "cell_type": "code",
      "source": [
        "#print(pd.read_sql_query(\"PRAGMA table_info('patients')\", conn))"
      ],
      "metadata": {
        "id": "Ltfoywt-bACi"
      },
      "execution_count": null,
      "outputs": []
    },
    {
      "cell_type": "code",
      "source": [
        "#Delete Tables in case they exist\n",
        "cur.execute(\"DROP TABLE IF EXISTS procedures\")\n",
        "cur.execute(\"DROP TABLE IF EXISTS encounters\")\n",
        "cur.execute(\"DROP TABLE IF EXISTS immunizations\")\n",
        "cur.execute(\"DROP TABLE IF EXISTS medications\")\n",
        "cur.execute(\"DROP TABLE IF EXISTS observations\")\n",
        "cur.execute(\"DROP TABLE IF EXISTS patients\")\n",
        "cur.execute(\"DROP TABLE IF EXISTS facts_table\")"
      ],
      "metadata": {
        "id": "omHiPDL_yWH2",
        "colab": {
          "base_uri": "https://localhost:8080/"
        },
        "outputId": "90722a03-c012-4b45-e850-8217dd1dbbe9"
      },
      "execution_count": null,
      "outputs": [
        {
          "output_type": "execute_result",
          "data": {
            "text/plain": [
              "<sqlite3.Cursor at 0x7c1e72600d40>"
            ]
          },
          "metadata": {},
          "execution_count": 19
        }
      ]
    },
    {
      "cell_type": "code",
      "source": [
        "# Create tables including facts_table\n",
        "sql_create_source_data = requests.get('https://raw.githubusercontent.com/Fuenfgeld/DMA2024TeamC/main/Code/create_statements_db.sql').text\n",
        "cur.executescript(sql_create_source_data)\n",
        "conn.commit()\n",
        "print(\"Successfully created tables in the database\")"
      ],
      "metadata": {
        "id": "ErcedcDWlSbo",
        "colab": {
          "base_uri": "https://localhost:8080/"
        },
        "outputId": "77881029-0789-46f3-d2d4-7f893c6a2864"
      },
      "execution_count": null,
      "outputs": [
        {
          "output_type": "stream",
          "name": "stdout",
          "text": [
            "Successfully created tables in the database\n"
          ]
        }
      ]
    },
    {
      "cell_type": "code",
      "source": [
        "#Insert data into tables\n",
        "\n",
        "procedures.to_sql('procedures', conn, if_exists='append', index=False)\n",
        "encounters.to_sql('encounters', conn, if_exists='append', index=False)\n",
        "immunizations.to_sql('immunizations', conn, if_exists='append', index=False)\n",
        "medications.to_sql('medications', conn, if_exists='append', index=False)\n",
        "observations.to_sql('observations', conn, if_exists='append', index=False)\n",
        "patients.to_sql('patients', conn, if_exists='append', index=False)"
      ],
      "metadata": {
        "id": "GV-I0HHdyYl2",
        "colab": {
          "base_uri": "https://localhost:8080/"
        },
        "outputId": "1c65bc25-0600-498c-ac44-11e81f1de3c9"
      },
      "execution_count": null,
      "outputs": [
        {
          "output_type": "execute_result",
          "data": {
            "text/plain": [
              "3084"
            ]
          },
          "metadata": {},
          "execution_count": 21
        }
      ]
    },
    {
      "cell_type": "markdown",
      "source": [
        "\n",
        "> Daten in Faktentabelle übertragen\n",
        "\n"
      ],
      "metadata": {
        "id": "inn0cONkebqW"
      }
    },
    {
      "cell_type": "code",
      "source": [
        "cur.execute('''INSERT INTO facts_table\n",
        "                    ( cancer_type, patient_ID, encounter_ID, patient_LAT, patient_LON, patient_HEALTHCARE_EXPENSES , patient_HEALTHCARE_COVERAGE, patient_BIRTHDATE)\n",
        "                    SELECT\n",
        "                        p.cancer_type AS cancer_type,\n",
        "                        p.Id AS patient_ID,\n",
        "                        NULL AS encounter_ID,  -- Replace with the actual encounter_ID or set to NULL if not applicable\n",
        "                        p.LAT AS patient_LAT,\n",
        "                        p.LON AS patient_LON,\n",
        "                        p.HEALTHCARE_EXPENSES AS patient_HEALTHCARE_EXPENSES,\n",
        "                        p.HEALTHCARE_COVERAGE AS patient_HEALTHCARE_COVERAGE,\n",
        "                        p.BIRTHDATE AS patient_BIRTHDATE\n",
        "                    FROM patients p\n",
        "                    LEFT JOIN encounters e ON p.Id = e.PATIENT\n",
        "                    ;''')\n",
        "\n",
        "cur.execute('''INSERT INTO facts_table\n",
        "                    (cancer_type, patient_ID, encounter_ID, encounter_BASE_ENCOUNTER_COST)\n",
        "                    SELECT cancer_type, PATIENT, Id, BASE_ENCOUNTER_COST\n",
        "                    FROM encounters\n",
        "                    ;''')\n",
        "\n",
        "cur.execute('''INSERT INTO facts_table\n",
        "                    ( cancer_type, patient_ID, observations_VALUE, observations_DATE)\n",
        "                    SELECT cancer_type, PATIENT, VALUE, DATE\n",
        "                    FROM observations\n",
        "                    ;''')\n",
        "\n",
        "\n",
        "cur.execute('''INSERT INTO facts_table\n",
        "                    (cancer_type, patient_ID, encounter_ID,  procedures_BASE_COST )\n",
        "                    SELECT cancer_type, PATIENT, ENCOUNTER, BASE_COST\n",
        "                    FROM procedures\n",
        "                    ;''')\n",
        "\n",
        "\n",
        "cur.execute('''INSERT INTO facts_table\n",
        "                    (cancer_type, patient_ID, encounter_ID, medications_TOTALCOST )\n",
        "                    SELECT cancer_type, PATIENT, ENCOUNTER, TOTALCOST\n",
        "                    FROM medications\n",
        "                    ;''')\n",
        "\n",
        "cur.execute('''INSERT INTO facts_table\n",
        "                    (cancer_type, patient_ID, encounter_ID, immunizations_BASE_COST)\n",
        "                    SELECT cancer_type, PATIENT,  ENCOUNTER, BASE_COST\n",
        "                    FROM immunizations\n",
        "                    ;''')\n",
        "\n",
        "\n",
        "conn.commit()\n"
      ],
      "metadata": {
        "id": "YXJ3K44okdLR"
      },
      "execution_count": null,
      "outputs": []
    },
    {
      "cell_type": "code",
      "source": [
        "#Select data\n",
        "# show table: retrieve all the column of each records and 4 rows\n",
        "cur.execute(\"SELECT * FROM patients\")\n",
        "records = cur.fetchall()\n",
        "# show 4 rows\n",
        "for row in records[:4]:\n",
        "  print(row)"
      ],
      "metadata": {
        "id": "bkOtFAoFlS5H",
        "colab": {
          "base_uri": "https://localhost:8080/"
        },
        "outputId": "c07e0723-4078-47e0-a927-6d5a09e780e7"
      },
      "execution_count": null,
      "outputs": [
        {
          "output_type": "stream",
          "name": "stdout",
          "text": [
            "('d2061cc7-bee0-0e6c-3ac4-15c197c474e0', '22/06/1956', None, '999-51-6528', 'S99944910', 'X29408602X', 'Mr.', 'Lucio648', 'Simonis280', None, None, 'M', 'white', 'nonhispanic', 'M', 'Worcester  Massachusetts  US', '636 Wiegand Loaf', 'Cambridge', 'Massachusetts', 'Middlesex County', 2140, '42,359925869', '-71,113260249', 1475230, '4244,64', 'breast_cancer')\n",
            "('073d8e80-ff90-1c8d-57e4-29bfca52c87f', '28/08/1964', None, '999-90-4728', 'S99976204', 'X17497441X', 'Mrs.', 'Buffy238', 'Wolf938', None, 'Williamson769', 'M', 'white', 'nonhispanic', 'F', 'Somerville  Massachusetts  US', '972 Satterfield Trafficway Apt 71', 'North Brookfield', 'Massachusetts', 'Worcester County', 1535, '42,257845470', '-72,026316805', 1489125, '4016,36', 'breast_cancer')\n",
            "('e1ff7e68-4097-9faf-514d-e4cfcfdf252e', '28/08/1998', None, '999-82-3645', 'S99973929', 'X88553898X', 'Ms.', 'Debora709', 'Klocko335', None, None, None, 'white', 'nonhispanic', 'F', 'Williamstown  Massachusetts  US', '589 Koss Station', 'Worcester', 'Massachusetts', 'Worcester County', 1545, '42,204289674', '-71,818448850', '57142,44', '2103,2', 'breast_cancer')\n",
            "('a0f679cc-875f-dd72-ed13-9ca863ec6cf3', '20/01/2004', None, '999-93-6431', 'S99923001', None, None, 'Walton167', 'Kessler503', None, None, None, 'asian', 'nonhispanic', 'M', 'New Braintree  Massachusetts  US', '777 Gusikowski Drive', 'Weymouth', 'Massachusetts', 'Norfolk County', None, '42,150269736', '-70,904084060', 408520, 2709, 'breast_cancer')\n"
          ]
        }
      ]
    },
    {
      "cell_type": "code",
      "source": [
        "# List of columns in a table\n",
        "cur.execute (\"select * from facts_table\")\n",
        "col_names = cur.description\n",
        "for row in col_names:\n",
        "  print(row[0])\n"
      ],
      "metadata": {
        "id": "Wq5wsv3D3_Bg",
        "colab": {
          "base_uri": "https://localhost:8080/"
        },
        "outputId": "8b1018b1-c18d-4193-cb32-cad177479c5f"
      },
      "execution_count": null,
      "outputs": [
        {
          "output_type": "stream",
          "name": "stdout",
          "text": [
            "cancer_type\n",
            "patient_ID\n",
            "encounter_ID\n",
            "patient_LAT\n",
            "patient_LON\n",
            "patient_HEALTHCARE_EXPENSES\n",
            "patient_HEALTHCARE_COVERAGE\n",
            "patient_BIRTHDATE\n",
            "observations_VALUE\n",
            "observations_DATE\n",
            "procedures_BASE_COST\n",
            "medications_TOTALCOST\n",
            "immunizations_BASE_COST\n",
            "encounter_BASE_ENCOUNTER_COST\n"
          ]
        }
      ]
    },
    {
      "cell_type": "code",
      "source": [
        "print(pd.read_sql_query(\"PRAGMA table_info('facts_table')\", conn))"
      ],
      "metadata": {
        "colab": {
          "base_uri": "https://localhost:8080/"
        },
        "id": "aLWYwQVkmDrU",
        "outputId": "030386b9-eb6d-44fc-a165-7d7838971600"
      },
      "execution_count": null,
      "outputs": [
        {
          "output_type": "stream",
          "name": "stdout",
          "text": [
            "    cid                           name          type  notnull dflt_value  pk\n",
            "0     0                    cancer_type        STRING        0       None   0\n",
            "1     1                     patient_ID        STRING        0       None   0\n",
            "2     2                   encounter_ID        STRING        0       None   0\n",
            "3     3                    patient_LAT  DECIMAL(6,2)        0       None   0\n",
            "4     4                    patient_LON  DECIMAL(6,2)        0       None   0\n",
            "5     5    patient_HEALTHCARE_EXPENSES  DECIMAL(6,2)        0       None   0\n",
            "6     6    patient_HEALTHCARE_COVERAGE  DECIMAL(6,2)        0       None   0\n",
            "7     7              patient_BIRTHDATE          DATE        0       None   0\n",
            "8     8             observations_VALUE        STRING        0       None   0\n",
            "9     9              observations_DATE          DATE        0       None   0\n",
            "10   10           procedures_BASE_COST  DECIMAL(6,2)        0       None   0\n",
            "11   11          medications_TOTALCOST  DECIMAL(6,2)        0       None   0\n",
            "12   12        immunizations_BASE_COST  DECIMAL(6,2)        0       None   0\n",
            "13   13  encounter_BASE_ENCOUNTER_COST  DECIMAL(6,2)        0       None   0\n"
          ]
        }
      ]
    }
  ]
}