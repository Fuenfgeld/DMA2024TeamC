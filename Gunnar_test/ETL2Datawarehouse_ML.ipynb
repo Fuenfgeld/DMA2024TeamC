{
  "cells": [
    {
      "cell_type": "markdown",
      "metadata": {
        "id": "view-in-github",
        "colab_type": "text"
      },
      "source": [
        "<a href=\"https://colab.research.google.com/github/Fuenfgeld/DMA2024TeamC/blob/main/Code/ETL2Datawarehouse_ML.ipynb\" target=\"_parent\"><img src=\"https://colab.research.google.com/assets/colab-badge.svg\" alt=\"Open In Colab\"/></a>"
      ]
    },
    {
      "cell_type": "markdown",
      "metadata": {
        "id": "vHosyFJW4vm1"
      },
      "source": [
        "**Kursarbeit Datenmanagement und -Archivierung WS 23/24**\n",
        "\n",
        "Master-Code Name-CALICO:MA\n"
      ]
    },
    {
      "cell_type": "markdown",
      "metadata": {
        "id": "mZXn3MCm6EUw"
      },
      "source": [
        "**Erstellung der Datenbank**\n",
        "\n",
        "\n",
        "*   Datenbankinitialisierung:\n",
        "\n"
      ]
    },
    {
      "cell_type": "markdown",
      "metadata": {
        "id": "R4Vq7BBP-kj0"
      },
      "source": [
        "> Laden Libraries"
      ]
    },
    {
      "cell_type": "code",
      "execution_count": 1,
      "metadata": {
        "id": "eriJl5b7-haW"
      },
      "outputs": [],
      "source": [
        "import os\n",
        "import pandas as pd\n",
        "from functools import reduce\n",
        "import sqlite3\n",
        "from sqlite3 import Error\n",
        "import csv\n",
        "#import requests"
      ]
    },
    {
      "cell_type": "markdown",
      "metadata": {
        "id": "VXZWN4WFzTND"
      },
      "source": [
        ">Google drive verbinden"
      ]
    },
    {
      "cell_type": "code",
      "execution_count": 2,
      "metadata": {
        "colab": {
          "base_uri": "https://localhost:8080/"
        },
        "id": "TCr42mndzTNE",
        "outputId": "de5008b5-e52e-4023-fcfb-106721a5b9e4"
      },
      "outputs": [
        {
          "output_type": "stream",
          "name": "stdout",
          "text": [
            "Mounted at /content/drive\n",
            "MyDrive  Shareddrives\n"
          ]
        }
      ],
      "source": [
        "from google.colab import drive\n",
        "drive.mount(\"/content/drive\", force_remount=True)\n",
        "!ls drive/"
      ]
    },
    {
      "cell_type": "markdown",
      "metadata": {
        "id": "OK5l6qwhzTNF"
      },
      "source": [
        ">connect to repo"
      ]
    },
    {
      "cell_type": "code",
      "execution_count": 3,
      "metadata": {
        "colab": {
          "base_uri": "https://localhost:8080/"
        },
        "id": "OWR3D4bBzTNG",
        "outputId": "e10d6112-2525-4172-9bbd-813fa442db58"
      },
      "outputs": [
        {
          "output_type": "stream",
          "name": "stdout",
          "text": [
            "Unterordner 'mein_unterordner' wurde erstellt.\n"
          ]
        }
      ],
      "source": [
        "# Pfad zum Ordner\n",
        "ordner_pfad = \"/pfad/zum/ordner\"\n",
        "unterordner_name = \"mein_unterordner\"\n",
        "\n",
        "# Vollständiger Pfad zum Unterordner\n",
        "unterordner_pfad = os.path.join(ordner_pfad, unterordner_name)\n",
        "\n",
        "# Überprüfen, ob der Unterordner existiert\n",
        "if not os.path.exists(unterordner_pfad):\n",
        "    # Wenn der Unterordner nicht existiert, erstellen Sie ihn\n",
        "    os.makedirs(unterordner_pfad)\n",
        "    print(f\"Unterordner '{unterordner_name}' wurde erstellt.\")\n",
        "else:\n",
        "    print(f\"Unterordner '{unterordner_name}' existiert bereits.\")"
      ]
    },
    {
      "cell_type": "code",
      "execution_count": 4,
      "metadata": {
        "colab": {
          "base_uri": "https://localhost:8080/"
        },
        "id": "hCN64E-FzTNI",
        "outputId": "c2f9977b-943e-44a9-dcc1-f173c45bdabb"
      },
      "outputs": [
        {
          "output_type": "stream",
          "name": "stdout",
          "text": [
            "Ordner drive/MyDrive/calico_ma_repo existiert bereits\n"
          ]
        }
      ],
      "source": [
        "#definieren des Ordners in dem die repo gesichert werdern soll\n",
        "google_drive_folder = \"drive/MyDrive\"\n",
        "repo_colab_name = \"calico_ma_repo\"\n",
        "#full_path_repo_colab = f\"{google_drive_folder}+\"//\"+{repo_colab_name}\"\n",
        "full_path_repo_colab = os.path.join(google_drive_folder,repo_colab_name)\n",
        "if not os.path.exists(full_path_repo_colab):\n",
        "    os.makedirs(full_path_repo_colab)\n",
        "    print(f\"Ordner {full_path_repo_colab} ajngelegt\")\n",
        "else:\n",
        "    print(f\"Ordner {full_path_repo_colab} existiert bereits\")"
      ]
    },
    {
      "cell_type": "code",
      "execution_count": 5,
      "metadata": {
        "colab": {
          "base_uri": "https://localhost:8080/"
        },
        "id": "t_eLGJVAzTNI",
        "outputId": "89a5672c-f489-48a5-fe7e-9f6e034295dc"
      },
      "outputs": [
        {
          "output_type": "stream",
          "name": "stdout",
          "text": [
            "Reading package lists... Done\n",
            "Building dependency tree... Done\n",
            "Reading state information... Done\n",
            "git is already the newest version (1:2.34.1-1ubuntu1.10).\n",
            "0 upgraded, 0 newly installed, 0 to remove and 33 not upgraded.\n"
          ]
        }
      ],
      "source": [
        "! apt-get install git"
      ]
    },
    {
      "cell_type": "code",
      "execution_count": 6,
      "metadata": {
        "colab": {
          "base_uri": "https://localhost:8080/"
        },
        "id": "v6k0GYw4zTNJ",
        "outputId": "d7e9719a-52ec-4cac-b0e7-ed6a375da04c"
      },
      "outputs": [
        {
          "output_type": "stream",
          "name": "stdout",
          "text": [
            "fatal: destination path 'drive/MyDrive/calico_ma_repo' already exists and is not an empty directory.\n"
          ]
        }
      ],
      "source": [
        "!git clone https://github.com/Fuenfgeld/DMA2024TeamC.git $full_path_repo_colab"
      ]
    },
    {
      "cell_type": "code",
      "execution_count": 7,
      "metadata": {
        "colab": {
          "base_uri": "https://localhost:8080/"
        },
        "id": "ijnO0_LlzTNK",
        "outputId": "0635f672-a2e9-4670-bc84-ca58249ef664"
      },
      "outputs": [
        {
          "output_type": "stream",
          "name": "stdout",
          "text": [
            "Code  Data  Documentation  LICENSE  README.md\n"
          ]
        }
      ],
      "source": [
        "!ls $full_path_repo_colab"
      ]
    },
    {
      "cell_type": "markdown",
      "metadata": {
        "id": "c9whsxq3-FwZ"
      },
      "source": [
        ">Definition der Umgebnungsvariablen\n",
        "\n",
        ">Verbindung zu CSV-Dateien herstellen und Kategorisierung nach der Tumorerkrankung\n",
        "**AMENDMENT FOR ML: project_name = \"CALICO_MA_ML\"**"
      ]
    },
    {
      "cell_type": "code",
      "execution_count": 8,
      "metadata": {
        "colab": {
          "base_uri": "https://localhost:8080/"
        },
        "id": "lEgV_Mbhhlv-",
        "outputId": "2f59d588-05f9-4e2a-e8aa-0ca21fe1d36f"
      },
      "outputs": [
        {
          "output_type": "stream",
          "name": "stdout",
          "text": [
            "drive/MyDrive/calico_ma_repo/\n",
            "drive/MyDrive/calico_ma_repo/Data/Quelldaten/CSV_Data/\n"
          ]
        }
      ],
      "source": [
        "#repo_home = \"/home/gunnar/DMA2024TeamC/\" ## muss entsprechend angepasst werden für das lokale repo verzeichnis\n",
        "repo_home = full_path_repo_colab+\"/\" ## repo in google drive\n",
        "csv_data_folder = repo_home + \"Data/Quelldaten/CSV_Data/\"\n",
        "project_name = \"CALICO_MA_ML\"\n",
        "print(repo_home)\n",
        "print (csv_data_folder)"
      ]
    },
    {
      "cell_type": "markdown",
      "metadata": {
        "id": "rQQfNOR7jFuD"
      },
      "source": [
        "\n",
        "\n",
        "> Verbindung zu SQLite herstellen und Datebankinitialisierung Local\n",
        "\n",
        "\n"
      ]
    },
    {
      "cell_type": "markdown",
      "metadata": {
        "id": "lqxU1QoYzTNM"
      },
      "source": [
        ">The provided code is a Python script that establishes a connection to a SQLite database and creates a cursor object for executing SQL commands.\n",
        ">The `create_connection_local` function is defined to establish a connection to a SQLite database. The function takes one parameter, `local_path`, which is the path to the database file. Inside the function, a `try` block is used to attempt to establish the connection. The `sqlite3.connect` function is called with the path to the database file, which is constructed by concatenating `local_path`, the string 'Data/CALICO_MA_Database/', and the global variable `project_name` with '.db' extension. If the connection is established successfully, the connection object is returned. However, the `print(sqlite3.version)` statement after the `return` statement will never be executed because the function exits as soon as it hits the `return` statement. If there is an error while establishing the connection, it is caught by the `except` block, and a message is printed to the console.\n",
        ">After the `create_connection_local` function is defined, it is called with `repo_home` as the argument, and the returned connection object is stored in the `conn` variable.\n",
        ">Next, a cursor object is created by calling the `cursor` method on the connection object. This cursor object, stored in the `cur` variable, can be used to execute SQL commands.\n",
        ">Finally, a success message is printed to the console, indicating that the connection to the SQLite database was established successfully. The message includes the path to the database file."
      ]
    },
    {
      "cell_type": "code",
      "execution_count": 9,
      "metadata": {
        "colab": {
          "base_uri": "https://localhost:8080/"
        },
        "id": "5VAxi8iZnsCJ",
        "outputId": "8e060c05-01ce-4f16-9920-99b68573e21e"
      },
      "outputs": [
        {
          "output_type": "stream",
          "name": "stdout",
          "text": [
            "Successfully Connected to SQLite Public Data Warehouse: drive/MyDrive/calico_ma_repo/Data/CALICO_MA_Database/CALICO_MA_ML.db\n"
          ]
        }
      ],
      "source": [
        "def create_connection_local(local_path):\n",
        "  conn = None;\n",
        "  try:\n",
        "    #Establishing the connection\n",
        "    conn = sqlite3.connect(local_path+'Data/CALICO_MA_Database/'+project_name+'.db')\n",
        "    return conn\n",
        "    print(sqlite3.version)\n",
        "  except Error as e:\n",
        "    print(\"Error while connecting to sqlite\", e)\n",
        "conn = create_connection_local(repo_home)\n",
        "# Creating a cursor object using the cursor() method\n",
        "cur = conn.cursor()\n",
        "print(\"Successfully Connected to SQLite Public Data Warehouse: \"+repo_home+'Data/CALICO_MA_Database/'+project_name+'.db')\n"
      ]
    },
    {
      "cell_type": "markdown",
      "metadata": {
        "id": "_WfYcr6eZGTz"
      },
      "source": [
        "> Quelldatenimport"
      ]
    },
    {
      "cell_type": "markdown",
      "metadata": {
        "id": "N6uOOgxwzTNN"
      },
      "source": [
        "This Python script is used to read multiple CSV files from different directories, create pandas DataFrames from them, and then concatenate these DataFrames based on their types.\n",
        "\n",
        "Here's a step-by-step explanation:\n",
        "\n",
        "1. Two lists are defined: `csvs` and `tumortypes`. `csvs` contains the names of different types of CSV files, and `tumortypes` contains the names of different types of tumors.\n",
        "\n",
        "2. An empty dictionary `df` is created to store the DataFrames.\n",
        "\n",
        "3. The script then enters a nested loop where it iterates over each tumor type and each CSV type. For each combination, it constructs a key (e.g., \"procedures_Breast_Cancer\") and a file path.\n",
        "\n",
        "4. It reads the CSV file at the constructed path into a DataFrame, adds a new column `cancer_type` to the DataFrame, and stores the DataFrame in the `df` dictionary with the constructed key.\n",
        "\n",
        "5. The DataFrame is also appended to a list in the `csv_dfs` dictionary corresponding to its CSV type.\n",
        "\n",
        "6. After all CSV files have been read and their DataFrames stored, the script concatenates the DataFrames in each list in the `csv_dfs` dictionary. The result is a dictionary where each key is a CSV type and each value is a DataFrame that is the concatenation of all DataFrames of that CSV type.\n",
        "\n",
        "7. Finally, the script prints the first few rows of each DataFrame in the `df` and `csv_dfs` dictionaries.\n",
        "\n",
        "The commented-out code at the end of the script shows how individual CSV files were previously read into DataFrames. This code has been replaced by the loop that reads and concatenates all CSV files."
      ]
    },
    {
      "cell_type": "code",
      "execution_count": 10,
      "metadata": {
        "id": "1Uffy7Q6yWD_",
        "colab": {
          "base_uri": "https://localhost:8080/"
        },
        "outputId": "f55a71e8-3a43-4d87-f256-2226dd4f63d1"
      },
      "outputs": [
        {
          "output_type": "stream",
          "name": "stdout",
          "text": [
            "Total number of rows in original dataframes for procedures: 2140\n",
            "\n",
            "\n",
            "Total number of rows in original dataframes for encounters: 25836\n",
            "\n",
            "\n",
            "Total number of rows in original dataframes for immunizations: 37878\n",
            "\n",
            "\n",
            "Total number of rows in original dataframes for medications: 1258\n",
            "\n",
            "\n",
            "Total number of rows in original dataframes for observations: 95849\n",
            "\n",
            "\n",
            "Total number of rows in original dataframes for patients: 3084\n",
            "\n",
            "\n",
            "Concatenated DataFrame for procedures:\n",
            "Number of rows: 2140\n",
            "Unique cancer types: ['Breast_Cancer' 'Lung_Cancer' 'Colorectal_Cancer']\n",
            "\n",
            "\n",
            "Concatenated DataFrame for encounters:\n",
            "Number of rows: 25836\n",
            "Unique cancer types: ['Breast_Cancer' 'Lung_Cancer' 'Colorectal_Cancer']\n",
            "\n",
            "\n",
            "Concatenated DataFrame for immunizations:\n",
            "Number of rows: 37878\n",
            "Unique cancer types: ['Breast_Cancer' 'Lung_Cancer' 'Colorectal_Cancer']\n",
            "\n",
            "\n",
            "Concatenated DataFrame for medications:\n",
            "Number of rows: 1258\n",
            "Unique cancer types: ['Breast_Cancer' 'Lung_Cancer' 'Colorectal_Cancer']\n",
            "\n",
            "\n",
            "Concatenated DataFrame for observations:\n",
            "Number of rows: 95849\n",
            "Unique cancer types: ['Breast_Cancer' 'Lung_Cancer' 'Colorectal_Cancer']\n",
            "\n",
            "\n",
            "Concatenated DataFrame for patients:\n",
            "Number of rows: 3084\n",
            "Unique cancer types: ['Breast_Cancer' 'Lung_Cancer' 'Colorectal_Cancer']\n",
            "\n",
            "\n"
          ]
        }
      ],
      "source": [
        "# Generate dataframes and add cancer_type information as a new column\n",
        "\n",
        "csvs = [\"procedures\", \"encounters\", \"immunizations\", \"medications\", \"observations\", \"patients\"]\n",
        "\n",
        "tumortypes = [\"Breast_Cancer\", \"Lung_Cancer\", \"Colorectal_Cancer\"]\n",
        "\n",
        "df = {}\n",
        "csv_dfs = {csv: [] for csv in csvs}\n",
        "\n",
        "for tumor in tumortypes:\n",
        "    for csv in csvs:\n",
        "        key = f\"{csv}_{tumor}\"\n",
        "        path = f\"{csv_data_folder}{tumor}/{csv}.csv\"\n",
        "        df[key] = pd.read_csv(path, sep=\",\")\n",
        "        df[key] = df[key].assign(cancer_type=tumor)\n",
        "\n",
        "        # Add the dataframe to the list for this csv\n",
        "        csv_dfs[csv].append(df[key])\n",
        "\n",
        "# Check the sum of the number of rows in the original dataframes for each csv\n",
        "for csv in csvs:\n",
        "    total_rows = sum(len(df[csv + '_' + tumor]) for tumor in tumortypes)\n",
        "    print(f\"Total number of rows in original dataframes for {csv}: {total_rows}\")\n",
        "    print(\"\\n\")\n",
        "# Concatenate the dataframes for each csv\n",
        "for csv in csvs:\n",
        "    csv_dfs[csv] = pd.concat(csv_dfs[csv])\n",
        "\n",
        "# Check the number of rows and unique cancer types in each concatenated dataframe\n",
        "for csv, df in csv_dfs.items():\n",
        "    print(f\"Concatenated DataFrame for {csv}:\")\n",
        "    print(f\"Number of rows: {len(df)}\")\n",
        "    print(f\"Unique cancer types: {df['cancer_type'].unique()}\")\n",
        "    print(\"\\n\")\n"
      ]
    },
    {
      "cell_type": "markdown",
      "metadata": {
        "id": "nfGcCcEizTNO"
      },
      "source": [
        ">Quality checks of the dataframes"
      ]
    },
    {
      "cell_type": "code",
      "execution_count": 11,
      "metadata": {
        "colab": {
          "base_uri": "https://localhost:8080/"
        },
        "id": "HOTYJKSZzTNO",
        "outputId": "369f16cf-ead2-48e0-96bf-30c170dcdeb0"
      },
      "outputs": [
        {
          "output_type": "stream",
          "name": "stdout",
          "text": [
            "Quality for concatenated DataFrame procedures:\n",
            "DATE                 1804\n",
            "PATIENT               449\n",
            "ENCOUNTER            1593\n",
            "CODE                   37\n",
            "DESCRIPTION            37\n",
            "BASE_COST            2044\n",
            "REASONCODE             11\n",
            "REASONDESCRIPTION      11\n",
            "cancer_type             3\n",
            "dtype: int64\n",
            "\n",
            "\n",
            "Quality for concatenated DataFrame encounters:\n",
            "Id                     25836\n",
            "START                  25521\n",
            "STOP                   25720\n",
            "PATIENT                 3084\n",
            "ORGANIZATION            2268\n",
            "PROVIDER                2806\n",
            "PAYER                     10\n",
            "ENCOUNTERCLASS             5\n",
            "CODE                      15\n",
            "DESCRIPTION               18\n",
            "BASE_ENCOUNTER_COST        2\n",
            "TOTAL_CLAIM_COST           2\n",
            "PAYER_COVERAGE            15\n",
            "REASONCODE                11\n",
            "REASONDESCRIPTION         11\n",
            "cancer_type                3\n",
            "dtype: int64\n",
            "\n",
            "\n",
            "Quality for concatenated DataFrame immunizations:\n",
            "DATE           23245\n",
            "PATIENT         3084\n",
            "ENCOUNTER      23349\n",
            "CODE              18\n",
            "DESCRIPTION       18\n",
            "BASE_COST          1\n",
            "cancer_type        3\n",
            "dtype: int64\n",
            "\n",
            "\n",
            "Quality for concatenated DataFrame medications:\n",
            "START                 594\n",
            "STOP                  222\n",
            "PATIENT               314\n",
            "PAYER                  10\n",
            "ENCOUNTER             595\n",
            "CODE                   24\n",
            "DESCRIPTION            24\n",
            "BASE_COST            1199\n",
            "PAYER_COVERAGE        123\n",
            "DISPENSES             238\n",
            "TOTALCOST            1241\n",
            "REASONCODE              4\n",
            "REASONDESCRIPTION       4\n",
            "cancer_type             3\n",
            "dtype: int64\n",
            "\n",
            "\n",
            "Quality for concatenated DataFrame observations:\n",
            "DATE           31296\n",
            "PATIENT         3084\n",
            "ENCOUNTER        289\n",
            "CODE              53\n",
            "DESCRIPTION       55\n",
            "VALUE           1268\n",
            "UNITS             18\n",
            "TYPE               2\n",
            "cancer_type        3\n",
            "dtype: int64\n",
            "\n",
            "\n",
            "Quality for concatenated DataFrame patients:\n",
            "Id                     3084\n",
            "BIRTHDATE              2860\n",
            "DEATHDATE                84\n",
            "SSN                    3078\n",
            "DRIVERS                2503\n",
            "PASSPORT               2377\n",
            "PREFIX                    3\n",
            "FIRST                  2055\n",
            "LAST                    660\n",
            "SUFFIX                    3\n",
            "MAIDEN                  423\n",
            "MARITAL                   2\n",
            "RACE                      5\n",
            "ETHNICITY                 2\n",
            "GENDER                    2\n",
            "BIRTHPLACE              369\n",
            "ADDRESS                3084\n",
            "CITY                    295\n",
            "STATE                     1\n",
            "COUNTY                   14\n",
            "ZIP                     272\n",
            "LAT                    3084\n",
            "LON                    3084\n",
            "HEALTHCARE_EXPENSES    2624\n",
            "HEALTHCARE_COVERAGE     948\n",
            "cancer_type               3\n",
            "dtype: int64\n",
            "\n",
            "\n"
          ]
        }
      ],
      "source": [
        "# .nunique(axis=0) returns the number of unique values for each columns in the concanated dataframes.\n",
        "for csv, df in csv_dfs.items():\n",
        "    print(f\"Quality for concatenated DataFrame {csv}:\\n{df.nunique(axis=0)}\")\n",
        "    print(\"\\n\")\n",
        "\n"
      ]
    },
    {
      "cell_type": "code",
      "execution_count": 12,
      "metadata": {
        "colab": {
          "base_uri": "https://localhost:8080/"
        },
        "id": "LAV9BkOHzTNO",
        "outputId": "cbe1d569-85e2-4301-dbe9-d14c7c6faef5"
      },
      "outputs": [
        {
          "output_type": "stream",
          "name": "stdout",
          "text": [
            "percentage of not null values in each column of concatenated DataFrame procedures:\n",
            "DATE                 100.000000\n",
            "PATIENT              100.000000\n",
            "ENCOUNTER            100.000000\n",
            "CODE                 100.000000\n",
            "DESCRIPTION          100.000000\n",
            "BASE_COST            100.000000\n",
            "REASONCODE            74.439252\n",
            "REASONDESCRIPTION     74.439252\n",
            "cancer_type          100.000000\n",
            "dtype: float64\n",
            "\n",
            "\n",
            "percentage of not null values in each column of concatenated DataFrame encounters:\n",
            "Id                     100.0000\n",
            "START                  100.0000\n",
            "STOP                   100.0000\n",
            "PATIENT                100.0000\n",
            "ORGANIZATION           100.0000\n",
            "PROVIDER               100.0000\n",
            "PAYER                  100.0000\n",
            "ENCOUNTERCLASS         100.0000\n",
            "CODE                   100.0000\n",
            "DESCRIPTION            100.0000\n",
            "BASE_ENCOUNTER_COST    100.0000\n",
            "TOTAL_CLAIM_COST       100.0000\n",
            "PAYER_COVERAGE         100.0000\n",
            "REASONCODE               2.2488\n",
            "REASONDESCRIPTION        2.2488\n",
            "cancer_type            100.0000\n",
            "dtype: float64\n",
            "\n",
            "\n",
            "percentage of not null values in each column of concatenated DataFrame immunizations:\n",
            "DATE           100.0\n",
            "PATIENT        100.0\n",
            "ENCOUNTER      100.0\n",
            "CODE           100.0\n",
            "DESCRIPTION    100.0\n",
            "BASE_COST      100.0\n",
            "cancer_type    100.0\n",
            "dtype: float64\n",
            "\n",
            "\n",
            "percentage of not null values in each column of concatenated DataFrame medications:\n",
            "START                100.000000\n",
            "STOP                  39.666137\n",
            "PATIENT              100.000000\n",
            "PAYER                100.000000\n",
            "ENCOUNTER            100.000000\n",
            "CODE                 100.000000\n",
            "DESCRIPTION          100.000000\n",
            "BASE_COST            100.000000\n",
            "PAYER_COVERAGE       100.000000\n",
            "DISPENSES            100.000000\n",
            "TOTALCOST            100.000000\n",
            "REASONCODE             6.915739\n",
            "REASONDESCRIPTION      6.915739\n",
            "cancer_type          100.000000\n",
            "dtype: float64\n",
            "\n",
            "\n",
            "percentage of not null values in each column of concatenated DataFrame observations:\n",
            "DATE           100.000000\n",
            "PATIENT        100.000000\n",
            "ENCOUNTER        2.296320\n",
            "CODE           100.000000\n",
            "DESCRIPTION    100.000000\n",
            "VALUE          100.000000\n",
            "UNITS           99.837244\n",
            "TYPE           100.000000\n",
            "cancer_type    100.000000\n",
            "dtype: float64\n",
            "\n",
            "\n",
            "percentage of not null values in each column of concatenated DataFrame patients:\n",
            "Id                     100.000000\n",
            "BIRTHDATE              100.000000\n",
            "DEATHDATE                2.723735\n",
            "SSN                    100.000000\n",
            "DRIVERS                 82.328145\n",
            "PASSPORT                77.075227\n",
            "PREFIX                  79.863813\n",
            "FIRST                  100.000000\n",
            "LAST                   100.000000\n",
            "SUFFIX                   1.037613\n",
            "MAIDEN                  26.426719\n",
            "MARITAL                 66.147860\n",
            "RACE                   100.000000\n",
            "ETHNICITY              100.000000\n",
            "GENDER                 100.000000\n",
            "BIRTHPLACE             100.000000\n",
            "ADDRESS                100.000000\n",
            "CITY                   100.000000\n",
            "STATE                  100.000000\n",
            "COUNTY                 100.000000\n",
            "ZIP                     53.988327\n",
            "LAT                    100.000000\n",
            "LON                    100.000000\n",
            "HEALTHCARE_EXPENSES    100.000000\n",
            "HEALTHCARE_COVERAGE    100.000000\n",
            "cancer_type            100.000000\n",
            "dtype: float64\n",
            "\n",
            "\n"
          ]
        }
      ],
      "source": [
        "#percentage of not null values in each column in the concanated dataframes.\n",
        "for csv, df in csv_dfs.items():\n",
        "    print(f\"percentage of not null values in each column of concatenated DataFrame {csv}:\\n{df.count()/len(df) * 100}\")\n",
        "    print(\"\\n\")\n"
      ]
    },
    {
      "cell_type": "code",
      "execution_count": 13,
      "metadata": {
        "colab": {
          "base_uri": "https://localhost:8080/"
        },
        "id": "omHiPDL_yWH2",
        "outputId": "bc812fb7-b8cf-47b0-c0c2-5e5fe4a4af34"
      },
      "outputs": [
        {
          "output_type": "execute_result",
          "data": {
            "text/plain": [
              "<sqlite3.Cursor at 0x7c3b256afb40>"
            ]
          },
          "metadata": {},
          "execution_count": 13
        }
      ],
      "source": [
        "#Delete Tables in case they exist\n",
        "cur.execute(\"DROP TABLE IF EXISTS procedures\")\n",
        "cur.execute(\"DROP TABLE IF EXISTS encounters\")\n",
        "cur.execute(\"DROP TABLE IF EXISTS immunizations\")\n",
        "cur.execute(\"DROP TABLE IF EXISTS medications\")\n",
        "cur.execute(\"DROP TABLE IF EXISTS observations\")\n",
        "cur.execute(\"DROP TABLE IF EXISTS patients\")\n",
        "cur.execute(\"DROP TABLE IF EXISTS facts_table\")"
      ]
    },
    {
      "cell_type": "markdown",
      "metadata": {
        "id": "MPDvy1jAzTNP"
      },
      "source": [
        ">Create tables including facts_table\n",
        "**AMENDMENTS FOR ML: COUNTY as STRING, ZIP as STRING**"
      ]
    },
    {
      "cell_type": "code",
      "execution_count": 14,
      "metadata": {
        "id": "PYnfBkKTzTNP"
      },
      "outputs": [],
      "source": [
        "# Create tables including facts_table\n",
        "\n",
        "sql_table = {}\n",
        "\n",
        "create_table_command = \"\"\"CREATE TABLE IF NOT EXISTS patients (\n",
        "                           Id         STRING PRIMARY KEY,\n",
        "                           BIRTHDATE  DATE,\n",
        "                           DEATHDATE  DATE,\n",
        "                           SSN        STRING,\n",
        "                           DRIVERS    STRING,\n",
        "                           PASSPORT   STRING,\n",
        "                           PREFIX     STRING,\n",
        "                           FIRST      STRING,\n",
        "                           LAST       STRING,\n",
        "                           SUFFIX     STRING,\n",
        "                           MAIDEN     STRING,\n",
        "                           MARITAL    STRING,\n",
        "                           RACE       STRING,\n",
        "                           ETHNICITY  STRING,\n",
        "                           GENDER     STRING,\n",
        "                           BIRTHPLACE STRING,\n",
        "                           ADDRESS    STRING,\n",
        "                           CITY       STRING,\n",
        "                           STATE      STRING,\n",
        "                           COUNTY     STRING,\n",
        "                           ZIP        STRING,\n",
        "                           LAT        DECIMAL(6,2),\n",
        "                           LON        DECIMAL(6,2),\n",
        "                           HEALTHCARE_EXPENSES DECIMAL(9,2),\n",
        "                           HEALTHCARE_COVERAGE DECIMAL(9,2),\n",
        "                           cancer_type STRING\n",
        "  );\n",
        "\n",
        "CREATE TABLE IF NOT EXISTS encounters (\n",
        "                           Id STRING PRIMARY KEY,\n",
        "                           START DATE,\n",
        "                           STOP DATE,\n",
        "                           PATIENT STRING,\n",
        "                           ORGANIZATION STRING,\n",
        "                           PROVIDER STRING,\n",
        "                           PAYER STRING,\n",
        "                           ENCOUNTERCLASS STRING,\n",
        "                           CODE STRING,\n",
        "                           DESCRIPTION STRING,\n",
        "                           BASE_ENCOUNTER_COST DECIMAL(9,2),\n",
        "                           TOTAL_CLAIM_COST DECIMAL(9,2),\n",
        "                           PAYER_COVERAGE DECIMAL(9,2),\n",
        "                           REASONCODE STRING,\n",
        "                           REASONDESCRIPTION STRING,\n",
        "                           cancer_type STRING,\n",
        "                           FOREIGN KEY (PATIENT)\n",
        "                              REFERENCES patients (Id)\n",
        ");\n",
        "\n",
        "\n",
        "\n",
        "CREATE TABLE IF NOT EXISTS observations (\n",
        "                           DATE DATE,\n",
        "                           PATIENT STRING,\n",
        "                           ENCOUNTER STRING,\n",
        "                           CODE STRING,\n",
        "                           DESCRIPTION STRING,\n",
        "                           VALUE STRING,\n",
        "                           UNITS STRING,\n",
        "                           TYPE STRING,\n",
        "                           cancer_type STRING,\n",
        "                           FOREIGN KEY (PATIENT) REFERENCES patients (Id),\n",
        "                           FOREIGN KEY (Encounter) REFERENCES encounters (Id)\n",
        ");\n",
        "\n",
        "\n",
        "CREATE TABLE IF NOT EXISTS medications (\n",
        "                           START DATE,\n",
        "                           STOP DATE,\n",
        "                           PATIENT STRING,\n",
        "                           PAYER STRING,\n",
        "                           ENCOUNTER STRING,\n",
        "                           CODE STRING,\n",
        "                           DESCRIPTION STRING,\n",
        "                           BASE_COST DECIMAL(9,2),\n",
        "                           PAYER_COVERAGE DECIMAL(9,2),\n",
        "                           DISPENSES DECIMAL(9,2),\n",
        "                           TOTALCOST DECIMAL(9,2),\n",
        "                           REASONCODE STRING,\n",
        "                           REASONDESCRIPTION STRING,\n",
        "                           cancer_type STRING,\n",
        "                           FOREIGN KEY (PATIENT)\n",
        "                              REFERENCES patients (Id)\n",
        "                           FOREIGN KEY (Encounter)\n",
        "                              REFERENCES encounters (Id)\n",
        "  );\n",
        "\n",
        "CREATE TABLE IF NOT EXISTS procedures (\n",
        "                           DATE DATE,\n",
        "                           PATIENT STRING,\n",
        "                           ENCOUNTER STRING,\n",
        "                           CODE STRING,\n",
        "                           DESCRIPTION STRING,\n",
        "                           BASE_COST DECIMAL(9,2),\n",
        "                           REASONCODE STRING,\n",
        "                           REASONDESCRIPTION STRING,\n",
        "                           cancer_type STRING,\n",
        "                           FOREIGN KEY (PATIENT) REFERENCES patients (Id),\n",
        "                           FOREIGN KEY (Encounter) REFERENCES encounters (Id)\n",
        "                       );\n",
        "\n",
        "CREATE TABLE IF NOT EXISTS immunizations (\n",
        "                           DATE DATE,\n",
        "                           PATIENT STRING,\n",
        "                           ENCOUNTER STRING,\n",
        "                           CODE STRING,\n",
        "                           DESCRIPTION STRING,\n",
        "                           BASE_COST DECIMAL(9,2),\n",
        "                           cancer_type STRING,\n",
        "                           FOREIGN KEY (PATIENT)\n",
        "                              REFERENCES patients (Id)\n",
        "                           FOREIGN KEY (Encounter)\n",
        "                              REFERENCES encounters (Id)\n",
        "  );\n",
        "\n",
        "CREATE TABLE IF NOT EXISTS facts_table (\n",
        "                          cancer_type STRING,\n",
        "                          patient_ID STRING,\n",
        "                          encounter_ID STRING,\n",
        "                          patient_LAT        DECIMAL(6,2),\n",
        "                          patient_LON        DECIMAL(6,2),\n",
        "                          patient_COUNTY     STRING,\n",
        "                          patient_ZIP        STRING,\n",
        "                          patient_HEALTHCARE_EXPENSES DECIMAL(9,2),\n",
        "                          patient_HEALTHCARE_COVERAGE DECIMAL(9,2),\n",
        "                          patient_BIRTHDATE DATE,\n",
        "                          observations_CODE STRING,\n",
        "                          observations_VALUE STRING,\n",
        "                          observations_DATE  DATE,\n",
        "                          observations_AGE DECIMAL(6,2),\n",
        "                          procedures_BASE_COST DECIMAL(11,2),\n",
        "                          medications_TOTALCOST DECIMAL(11,2),\n",
        "                          immunizations_BASE_COST DECIMAL(11,2),\n",
        "                          encounter_BASE_ENCOUNTER_COST DECIMAL(11,2),\n",
        "                          FOREIGN KEY (patient_ID) REFERENCES patients (Id),\n",
        "                          FOREIGN KEY (patient_ID) REFERENCES observations (PATIENT),\n",
        "                          FOREIGN KEY (encounter_ID) REFERENCES observations (ENCOUNTER),\n",
        "                          FOREIGN KEY (patient_ID) REFERENCES encounters (PATIENT),\n",
        "                          FOREIGN KEY (encounter_ID) REFERENCES encounters (Id),\n",
        "                          FOREIGN KEY (patient_ID) REFERENCES procedures (PATIENT),\n",
        "                          FOREIGN KEY (encounter_ID) REFERENCES procedures (ENCOUNTER),\n",
        "                          FOREIGN KEY (patient_ID) REFERENCES medications (PATIENT),\n",
        "                          FOREIGN KEY (encounter_ID) REFERENCES medications (ENCOUNTER),\n",
        "                          FOREIGN KEY (patient_ID) REFERENCES immunizations (PATIENT),\n",
        "                          FOREIGN KEY (encounter_ID) REFERENCES immunizations (ENCOUNTER)\n",
        "\n",
        ");\n",
        "\"\"\"\n",
        "# Execute the SQL command\n",
        "cur.executescript(create_table_command)\n",
        "\n",
        "conn.commit()"
      ]
    },
    {
      "cell_type": "code",
      "execution_count": 15,
      "metadata": {
        "id": "WdrO61KGzTNQ"
      },
      "outputs": [],
      "source": [
        "#Insert data from the concanated data frames into the tables\n",
        "\n",
        "for csv, df in csv_dfs.items():\n",
        "    df.to_sql(csv, conn, if_exists='append', index=False)\n",
        "\n",
        "conn.commit()"
      ]
    },
    {
      "cell_type": "code",
      "execution_count": 16,
      "metadata": {
        "colab": {
          "base_uri": "https://localhost:8080/"
        },
        "id": "sq04Zs5BzTNQ",
        "outputId": "05e0ea74-8016-46b8-ba01-6ccbc3a1ff8f"
      },
      "outputs": [
        {
          "output_type": "stream",
          "name": "stdout",
          "text": [
            "SQL tables from drive/MyDrive/calico_ma_repo/Data/CALICO_MA_Database/CALICO_MA_ML.db' \n",
            "\n",
            "procedures                    DATE                               PATIENT  \\\n",
            "0  2014-12-21T23:26:40Z  bbd3db10-bbdb-8d43-61aa-ad2dab78459a   \n",
            "1  2014-05-12T09:00:42Z  d1b42847-0bae-e1be-22f5-2291d5b896f4   \n",
            "2  2012-04-10T21:56:16Z  d42d555a-8825-38af-e8c3-1b7f503730e9   \n",
            "3  2014-12-11T08:52:20Z  b132451f-94cd-9d40-6103-34741a65d610   \n",
            "4  2015-12-13T10:41:44Z  61cce672-d715-d945-c67e-d1b357904d1e   \n",
            "5  2015-05-03T22:31:55Z  530d950d-71f5-05d9-de46-0742db31191c   \n",
            "6  2016-02-26T20:33:47Z  692885aa-deee-6222-f202-743814a82ee5   \n",
            "7  2018-09-16T14:47:26Z  bcd6bed4-0458-5270-2a64-d9383e7478b3   \n",
            "8  2012-12-13T14:13:42Z  8417ea73-2556-9bc3-817e-964762bda4ae   \n",
            "9  2020-07-16T14:10:54Z  038eb669-b744-c2bc-18c6-6e37068c722f   \n",
            "\n",
            "                              ENCOUNTER       CODE  \\\n",
            "0  769fd6e3-46cd-9ebe-7895-eb6f521aa82e   71651007   \n",
            "1  903ded85-c1e8-a8bf-0a4c-d2dc0bea0c2f  180325003   \n",
            "2  3f7c694d-b3e4-2b0b-b8fd-4793af8db1fb   33195004   \n",
            "3  75f96c74-3af9-541b-a96f-dc716a5ddd35  180325003   \n",
            "4  a9aa391f-2b7b-57df-ba08-97042b6900e0  180325003   \n",
            "5  b9d90dba-0116-6555-0b61-e35677601bc8   73761001   \n",
            "6  9d653142-4308-94ff-7309-28f7627d1684  180325003   \n",
            "7  883bb94b-8759-e3cc-3101-1ad05541052f  274031008   \n",
            "8  f6d6df51-6019-ceb2-af25-2d726d250a93  367336001   \n",
            "9  a7d22c9c-aca2-56b3-a8aa-de322b1b153b   40701008   \n",
            "\n",
            "                              DESCRIPTION  BASE_COST   REASONCODE  \\\n",
            "0                 Mammography (procedure)     110.35  254837009.0   \n",
            "1                Electrical cardioversion   26746.60   49436004.0   \n",
            "2  Teleradiotherapy procedure (procedure)    1294.58  254837009.0   \n",
            "3                Electrical cardioversion   25789.09   49436004.0   \n",
            "4                Electrical cardioversion   30927.53   49436004.0   \n",
            "5                             Colonoscopy   13359.53          NaN   \n",
            "6                Electrical cardioversion   33919.79   49436004.0   \n",
            "7                      Rectal polypectomy   11477.84  713197008.0   \n",
            "8                Chemotherapy (procedure)     516.65  254837009.0   \n",
            "9            Echocardiography (procedure)    1153.60  230690007.0   \n",
            "\n",
            "                         REASONDESCRIPTION        cancer_type  \n",
            "0  Malignant neoplasm of breast (disorder)      Breast_Cancer  \n",
            "1                      Atrial Fibrillation  Colorectal_Cancer  \n",
            "2  Malignant neoplasm of breast (disorder)      Breast_Cancer  \n",
            "3                      Atrial Fibrillation  Colorectal_Cancer  \n",
            "4                      Atrial Fibrillation  Colorectal_Cancer  \n",
            "5                                     None  Colorectal_Cancer  \n",
            "6                      Atrial Fibrillation        Lung_Cancer  \n",
            "7                   Recurrent rectal polyp  Colorectal_Cancer  \n",
            "8  Malignant neoplasm of breast (disorder)      Breast_Cancer  \n",
            "9                                   Stroke  Colorectal_Cancer   \n",
            "SQL tables from drive/MyDrive/calico_ma_repo/Data/CALICO_MA_Database/CALICO_MA_ML.db' \n",
            "\n",
            "encounters                                      Id                 START  \\\n",
            "0  ef48cecd-a01d-c642-9fbd-5cb0491552bb  2001-09-05T00:42:46Z   \n",
            "1  562ccd5a-44fd-dd6d-11c3-e24205b48c57  2011-04-05T02:24:00Z   \n",
            "2  0d79ae2a-b7c7-f59d-be9c-c98abdd2b53f  2011-12-18T03:12:19Z   \n",
            "3  cfd9dc6e-3989-bdd7-21ae-e64efdb9e6ca  2018-01-05T02:37:40Z   \n",
            "4  1eb870f8-00bc-b015-a623-67d4cdffcf99  2014-08-26T03:30:00Z   \n",
            "5  0545aa50-a13a-ef37-9eea-f8f44d9edc8e  2013-02-20T04:53:56Z   \n",
            "6  9574fc9f-5b98-85ed-dbec-fd4670e9f832  2011-07-24T17:53:13Z   \n",
            "7  01127969-531c-1b4f-38a4-d679e0966933  2013-05-15T17:25:51Z   \n",
            "8  293b174c-749c-8a40-4da9-1cfb37fa96cf  2020-07-07T14:41:13Z   \n",
            "9  ee5ef7a6-55ee-b519-d42e-6ad47d3e5797  2018-09-08T19:09:55Z   \n",
            "\n",
            "                   STOP                               PATIENT  \\\n",
            "0  2001-09-05T01:42:46Z  1b9b439b-db57-0ce2-9395-919abfa208b2   \n",
            "1  2011-04-05T02:39:00Z  c65d9c4c-5ec7-8d3d-d564-ad2b3049c15c   \n",
            "2  2011-12-18T03:27:19Z  8dca19cc-1d06-cc8d-4d62-18b33d74eaaa   \n",
            "3  2018-01-05T02:52:40Z  2f1e1b15-66c4-d729-84d7-982fc17f9d82   \n",
            "4  2014-08-26T03:45:00Z  07b0e7c7-7346-70d1-7ae5-964933074576   \n",
            "5  2013-02-20T05:08:56Z  59fe40e2-5a7e-7f36-29d7-0493ab3d289c   \n",
            "6  2011-07-24T18:08:13Z  d11c5a8b-a0eb-8326-e976-d0586993a2a9   \n",
            "7  2013-05-15T17:40:51Z  e87d5925-2fc9-cc0d-3618-ee74df784dba   \n",
            "8  2020-07-07T14:56:13Z  1d5420f2-8feb-e3cf-785c-1949650f0c96   \n",
            "9  2018-09-08T19:24:55Z  06e11f4e-64af-5846-bc75-24b8232b9f35   \n",
            "\n",
            "                           ORGANIZATION                              PROVIDER  \\\n",
            "0  23834663-ed53-3da9-b330-d6e1ecb8428e  029451ed-fcf7-3106-9e57-37c31381de86   \n",
            "1  2d19d984-3cc4-3409-8857-ace5c74b3f7a  bf361cf1-23a1-3fc7-9b46-55a4a60d54ae   \n",
            "2  be658862-d1cd-38bc-b0e0-040a91071a97  ae4dcf75-c79e-3b17-9ef0-b0fa9fd5072c   \n",
            "3  80dedc30-5972-3f62-8dba-fc0f5c77cffd  15798b1b-c5b4-33be-9fc1-f6541e0fe93a   \n",
            "4  7517e2f9-f8ee-3767-8a0c-afc8899a7207  5190fa57-db4e-3dd3-9da0-1d7eacb5d551   \n",
            "5  38933c98-0aa4-3116-962a-2fbadbf27e36  abb548e2-7280-3c6b-b701-dd9f6f53ed46   \n",
            "6  3b799dce-4a5c-338d-9cfc-21be9b371d99  5661ebb6-1d57-35f1-882a-7dd089a0352f   \n",
            "7  0c53f227-687d-3162-b4bc-0f5e018f5989  3fbe18d8-1c86-340d-a371-3780f9a2e312   \n",
            "8  abd13c9a-fc39-3fac-9de2-9cd307fe49b7  c18e9c63-1553-3428-9530-5be45ab0b99f   \n",
            "9  3c8b233a-6c05-3357-b6e0-97306efcf971  c3914105-2d37-3911-b678-1762605da12f   \n",
            "\n",
            "                                  PAYER ENCOUNTERCLASS       CODE  \\\n",
            "0  6e2f1a2d-27bd-3701-8d08-dae202c58632      emergency  410429000   \n",
            "1  6e2f1a2d-27bd-3701-8d08-dae202c58632       wellness  162673000   \n",
            "2  047f6ec3-6215-35eb-9608-f9dda363a44c       wellness  162673000   \n",
            "3  5059a55e-5d6e-34d1-b6cb-d83d16e57bcf       wellness  410620009   \n",
            "4  5059a55e-5d6e-34d1-b6cb-d83d16e57bcf       wellness  410620009   \n",
            "5  5059a55e-5d6e-34d1-b6cb-d83d16e57bcf       wellness  162673000   \n",
            "6  b1c428d6-4f07-31e0-90f0-68ffa6ff8c76       wellness  410620009   \n",
            "7  42c4fca7-f8a9-3cd1-982a-dd9751bf3e2a       wellness  162673000   \n",
            "8  5059a55e-5d6e-34d1-b6cb-d83d16e57bcf       wellness  410620009   \n",
            "9  d47b3510-2895-3b70-9897-342d681c769d       wellness  162673000   \n",
            "\n",
            "                                  DESCRIPTION  BASE_ENCOUNTER_COST  \\\n",
            "0                              Cardiac Arrest               129.16   \n",
            "1  General examination of patient (procedure)               129.16   \n",
            "2  General examination of patient (procedure)               129.16   \n",
            "3                Well child visit (procedure)               129.16   \n",
            "4                Well child visit (procedure)               129.16   \n",
            "5  General examination of patient (procedure)               129.16   \n",
            "6                Well child visit (procedure)               129.16   \n",
            "7  General examination of patient (procedure)               129.16   \n",
            "8                Well child visit (procedure)               129.16   \n",
            "9  General examination of patient (procedure)               129.16   \n",
            "\n",
            "   TOTAL_CLAIM_COST  PAYER_COVERAGE REASONCODE REASONDESCRIPTION  \\\n",
            "0            129.16           54.16       None              None   \n",
            "1            129.16          129.16       None              None   \n",
            "2            129.16          129.16       None              None   \n",
            "3            129.16          129.16       None              None   \n",
            "4            129.16          129.16       None              None   \n",
            "5            129.16          129.16       None              None   \n",
            "6            129.16            0.00       None              None   \n",
            "7            129.16          129.16       None              None   \n",
            "8            129.16          129.16       None              None   \n",
            "9            129.16          129.16       None              None   \n",
            "\n",
            "         cancer_type  \n",
            "0      Breast_Cancer  \n",
            "1      Breast_Cancer  \n",
            "2  Colorectal_Cancer  \n",
            "3  Colorectal_Cancer  \n",
            "4      Breast_Cancer  \n",
            "5  Colorectal_Cancer  \n",
            "6  Colorectal_Cancer  \n",
            "7      Breast_Cancer  \n",
            "8  Colorectal_Cancer  \n",
            "9      Breast_Cancer   \n",
            "SQL tables from drive/MyDrive/calico_ma_repo/Data/CALICO_MA_Database/CALICO_MA_ML.db' \n",
            "\n",
            "immunizations                    DATE                               PATIENT  \\\n",
            "0  2013-04-30T19:36:28Z  25afb06f-104c-7b4e-adcc-2a524298bd6f   \n",
            "1  2014-12-11T01:35:25Z  1ec853e3-01be-d506-8668-7a869b851bfc   \n",
            "2  2013-04-16T03:37:34Z  6a218946-3820-8134-a996-78fbc356a6f0   \n",
            "3  2013-01-17T17:08:15Z  8ab33c1f-9a09-764f-706f-636c5da56c9c   \n",
            "4  2012-11-17T11:59:09Z  3cabe02e-e9bb-43b6-aa81-9fa99124385c   \n",
            "5  2018-09-19T10:21:26Z  d5267272-d253-c83f-92cf-478db6f9c13f   \n",
            "6  2019-03-12T08:05:15Z  d1637f19-639c-3269-c04d-c2e47a8fa66a   \n",
            "7  2011-04-27T09:15:37Z  9339d155-fb66-bc2f-a929-8fdfe0e4b4f8   \n",
            "8  2017-08-12T18:27:28Z  79d47c63-497c-2158-25f3-315526872379   \n",
            "9  2012-01-03T23:01:34Z  44511b0c-864c-5c33-e440-7acf88a89a69   \n",
            "\n",
            "                              ENCOUNTER  CODE  \\\n",
            "0  e94df968-1746-8407-d929-37d30c5173b8   133   \n",
            "1  09729ab8-613e-2f6e-f3b2-a0b0c52acb4b   119   \n",
            "2  b13586a2-4ade-ee17-d271-46d03a47cc18    49   \n",
            "3  072dff1e-1f8b-9d09-910d-ce47f488aa11     3   \n",
            "4  e36e2f98-b931-45a2-8135-75bda190617f   140   \n",
            "5  05d4e73e-a45d-bd0d-825b-cf084e0cd35e   140   \n",
            "6  3a365182-fe00-fd5b-859b-bb9429342baf   140   \n",
            "7  d38cbfcd-55a8-df60-766c-47b68dc98499   140   \n",
            "8  a219534d-aa71-e5da-086c-cbba8b088ae5   140   \n",
            "9  57b0545f-34d0-cd79-9fab-98c3fb6d57d6   140   \n",
            "\n",
            "                                         DESCRIPTION  BASE_COST  \\\n",
            "0                      Pneumococcal conjugate PCV 13     140.52   \n",
            "1                              rotavirus  monovalent     140.52   \n",
            "2                                      Hib (PRP-OMP)     140.52   \n",
            "3                                                MMR     140.52   \n",
            "4  Influenza  seasonal  injectable  preservative ...     140.52   \n",
            "5  Influenza  seasonal  injectable  preservative ...     140.52   \n",
            "6  Influenza  seasonal  injectable  preservative ...     140.52   \n",
            "7  Influenza  seasonal  injectable  preservative ...     140.52   \n",
            "8  Influenza  seasonal  injectable  preservative ...     140.52   \n",
            "9  Influenza  seasonal  injectable  preservative ...     140.52   \n",
            "\n",
            "         cancer_type  \n",
            "0        Lung_Cancer  \n",
            "1        Lung_Cancer  \n",
            "2        Lung_Cancer  \n",
            "3      Breast_Cancer  \n",
            "4      Breast_Cancer  \n",
            "5        Lung_Cancer  \n",
            "6        Lung_Cancer  \n",
            "7  Colorectal_Cancer  \n",
            "8      Breast_Cancer  \n",
            "9      Breast_Cancer   \n",
            "SQL tables from drive/MyDrive/calico_ma_repo/Data/CALICO_MA_Database/CALICO_MA_ML.db' \n",
            "\n",
            "medications                   START                  STOP  \\\n",
            "0  2004-05-10T08:58:42Z                  None   \n",
            "1  2004-09-09T23:49:25Z  2004-09-10T00:04:25Z   \n",
            "2  2016-05-10T12:20:02Z                  None   \n",
            "3  2017-10-31T23:14:52Z  2017-10-31T23:29:52Z   \n",
            "4  1996-02-28T15:11:27Z                  None   \n",
            "5  2001-12-04T03:46:47Z                  None   \n",
            "6  2005-07-10T22:08:32Z                  None   \n",
            "7  2019-10-10T11:38:13Z  2019-10-10T11:53:13Z   \n",
            "8  1994-05-02T06:59:53Z                  None   \n",
            "9  2018-07-16T04:02:12Z                  None   \n",
            "\n",
            "                                PATIENT                                 PAYER  \\\n",
            "0  b33ad292-2c09-8480-d5d8-173aab6ee41d  4d71f845-a6a9-3c39-b242-14d25ef86a8d   \n",
            "1  7daec258-9ca8-7b19-7ed8-4e6bab95a2f2  7caa7254-5050-3b5e-9eae-bd5ea30e809c   \n",
            "2  91405976-302e-7636-0423-2e843de6a99c  7c4411ce-02f1-39b5-b9ec-dfbea9ad3c1a   \n",
            "3  d0533b67-b5cd-16eb-d4de-f1346736e047  b1c428d6-4f07-31e0-90f0-68ffa6ff8c76   \n",
            "4  088d4b54-fa3c-446c-e3df-c9cc9977fdc4  4d71f845-a6a9-3c39-b242-14d25ef86a8d   \n",
            "5  40c77735-7593-34e7-b957-00a83ddc94ae  047f6ec3-6215-35eb-9608-f9dda363a44c   \n",
            "6  91da7d06-c09c-d61a-19b2-64f69a14e9e5  4d71f845-a6a9-3c39-b242-14d25ef86a8d   \n",
            "7  8cf4b096-4bb4-1ef7-685a-9bb6f4682b3b  7caa7254-5050-3b5e-9eae-bd5ea30e809c   \n",
            "8  a34267d3-201a-21c1-7816-ec4e914dc271  4d71f845-a6a9-3c39-b242-14d25ef86a8d   \n",
            "9  953bf746-fd0a-3d12-0003-244bc303d19b  42c4fca7-f8a9-3cd1-982a-dd9751bf3e2a   \n",
            "\n",
            "                              ENCOUNTER    CODE  \\\n",
            "0  03bacf3a-7555-e18c-9b36-d13304ba53b8  197604   \n",
            "1  3b51cb2d-2291-84e8-06d7-a9058afb0759  705129   \n",
            "2  f37fad61-7019-9377-f748-14b0389357de  705129   \n",
            "3  37e89758-027c-81a0-7fa3-b5cd8524afc9  259255   \n",
            "4  6bf82f2b-e135-0550-4858-ad1ba7910a66  197361   \n",
            "5  31adf095-3352-6081-6b97-7a492dd7f406  312961   \n",
            "6  532eae94-1c53-d658-5456-b48204ef107b  309362   \n",
            "7  b6a04fb1-4756-c507-2bf3-9b9e4b8ec70a  309362   \n",
            "8  40c92e65-ad06-6885-dd69-00b046c81c0d  897718   \n",
            "9  e1998f39-402e-8a6b-23cb-03e9569e86fb  897718   \n",
            "\n",
            "                                 DESCRIPTION  BASE_COST  PAYER_COVERAGE  \\\n",
            "0               Digoxin 0.125 MG Oral Tablet     125.41            0.00   \n",
            "1  Nitroglycerin 0.4 MG/ACTUAT Mucosal Spray      52.17           12.17   \n",
            "2  Nitroglycerin 0.4 MG/ACTUAT Mucosal Spray     230.28            0.00   \n",
            "3             Atorvastatin 80 MG Oral Tablet     315.34            0.00   \n",
            "4                Amlodipine 5 MG Oral Tablet       5.04            0.00   \n",
            "5              Simvastatin 20 MG Oral Tablet      22.66            0.00   \n",
            "6              Clopidogrel 75 MG Oral Tablet      31.92            0.00   \n",
            "7              Clopidogrel 75 MG Oral Tablet      48.98            8.98   \n",
            "8              Verapamil Hydrochloride 40 MG      29.94            0.00   \n",
            "9              Verapamil Hydrochloride 40 MG      44.38            0.00   \n",
            "\n",
            "   DISPENSES  TOTALCOST REASONCODE REASONDESCRIPTION        cancer_type  \n",
            "0        201   25207.41       None              None        Lung_Cancer  \n",
            "1          1      52.17       None              None        Lung_Cancer  \n",
            "2         55   12665.40       None              None      Breast_Cancer  \n",
            "3          1     315.34       None              None  Colorectal_Cancer  \n",
            "4        301    1517.04       None              None        Lung_Cancer  \n",
            "5         52    1178.32       None              None      Breast_Cancer  \n",
            "6        187    5969.04       None              None  Colorectal_Cancer  \n",
            "7          1      48.98       None              None  Colorectal_Cancer  \n",
            "8        323    9670.62       None              None  Colorectal_Cancer  \n",
            "9         29    1287.02       None              None        Lung_Cancer   \n",
            "SQL tables from drive/MyDrive/calico_ma_repo/Data/CALICO_MA_Database/CALICO_MA_ML.db' \n",
            "\n",
            "observations                    DATE                               PATIENT ENCOUNTER  CODE  \\\n",
            "0  2019-02-07T07:12:53Z  953edbc5-5192-acd5-b056-25280e7e160f      None  DALY   \n",
            "1  2018-09-18T19:07:22Z  afa14b0c-5695-c499-137e-0bc4fb99dcee      None  QALY   \n",
            "2  2010-03-13T05:31:19Z  9145f7dc-a751-8920-d9c8-cdb17998c583      None  QALY   \n",
            "3  2020-10-06T00:34:17Z  de5e4afc-f7bd-58fc-08ec-b7a5f568c455      None  QOLS   \n",
            "4  2018-10-17T16:04:25Z  66778917-abc5-139b-70cd-e983b4ce33f5      None  QOLS   \n",
            "5  2010-12-01T18:19:57Z  0e417317-1fa0-048c-15d7-a3b7951a5ddf      None  QALY   \n",
            "6  2010-07-15T17:43:00Z  f8425d06-1854-0dc4-adb7-4509ce963c6b      None  QOLS   \n",
            "7  2010-02-28T07:47:57Z  e6219657-17c0-b93e-8e0e-b0491b58d698      None  DALY   \n",
            "8  2018-10-10T22:50:26Z  bf9f476d-30f3-c70a-a129-3535b43a7c07      None  QALY   \n",
            "9  2019-05-04T10:11:58Z  bd2fd830-097d-ee62-d7fc-f6ee8a79942c      None  QALY   \n",
            "\n",
            "  DESCRIPTION  VALUE    UNITS     TYPE        cancer_type  \n",
            "0        DALY    0.0        a  numeric        Lung_Cancer  \n",
            "1        QALY   35.8        a  numeric      Breast_Cancer  \n",
            "2        QALY    5.0        a  numeric        Lung_Cancer  \n",
            "3        QOLS    1.0  {score}  numeric        Lung_Cancer  \n",
            "4        QOLS    1.0  {score}  numeric      Breast_Cancer  \n",
            "5        QALY   25.0        a  numeric  Colorectal_Cancer  \n",
            "6        QOLS    1.0  {score}  numeric      Breast_Cancer  \n",
            "7        DALY    0.0        a  numeric      Breast_Cancer  \n",
            "8        QALY    7.0        a  numeric  Colorectal_Cancer  \n",
            "9        QALY   58.3        a  numeric        Lung_Cancer   \n",
            "SQL tables from drive/MyDrive/calico_ma_repo/Data/CALICO_MA_Database/CALICO_MA_ML.db' \n",
            "\n",
            "patients                                      Id   BIRTHDATE DEATHDATE          SSN  \\\n",
            "0  979fc61d-d280-b192-c61e-dd23399e6fa9  1997-03-05      None  999-13-5723   \n",
            "1  9c74a0e2-617f-e608-84be-b6f5a2d8b600  1966-07-11      None  999-98-9679   \n",
            "2  9e4ff4e2-54e9-ab2a-4de5-e5518b1df2cd  1984-11-21      None  999-11-1322   \n",
            "3  47a901cc-8b3f-92d6-8802-03586ddece52  1965-09-26      None  999-37-8707   \n",
            "4  8cad1f64-c91d-0fca-3be5-d73b66464a2f  1965-04-19      None  999-32-5115   \n",
            "5  9a61f906-615d-5e79-234b-cbf7eb4402ce  1964-05-23      None  999-34-5587   \n",
            "6  4cf661cf-0adb-5d8e-cc79-759ec398b1d1  1991-08-06      None  999-47-7515   \n",
            "7  8585dd3f-043f-0f70-a7e2-cedf017e0c7f  1989-05-24      None  999-87-5260   \n",
            "8  f7b24f3c-5922-63f3-bb6b-971ddfe25557  1989-12-05      None  999-39-3472   \n",
            "9  8e7fc67d-6247-6606-38d8-a52fa3b539d5  1994-12-09      None  999-18-4013   \n",
            "\n",
            "     DRIVERS    PASSPORT PREFIX         FIRST            LAST SUFFIX  ...  \\\n",
            "0  S99996807  X66288131X    Ms.   Theodora872         Haag279   None  ...   \n",
            "1  S99969330  X74096122X    Mr.    Ricardo560     Predovic534   None  ...   \n",
            "2  S99933012  X83162619X   Mrs.       Yuri475  Schamberger479   None  ...   \n",
            "3  S99951649  X88967811X    Mr.   Johnathan55         Kris249   None  ...   \n",
            "4  S99975136  X57252287X    Mr.  José Luis472        Reyes140   None  ...   \n",
            "5  S99926333   X6140016X   Mrs.     Delois358        Mills423   None  ...   \n",
            "6  S99951703  X15876239X    Mr.       Rico947        Hyatt152   None  ...   \n",
            "7  S99996516  X73744252X    Mr.    Normand813      Leffler128   None  ...   \n",
            "8  S99926562  X82484119X    Mr.     Walton167       Renner328   None  ...   \n",
            "9  S99960250  X51841911X    Ms.       Vida128     Ondricka197   None  ...   \n",
            "\n",
            "                           ADDRESS        CITY          STATE  \\\n",
            "0         428 Homenick Ramp Apt 45   Arlington  Massachusetts   \n",
            "1  836 O'Reilly Crossroad Suite 93     Peabody  Massachusetts   \n",
            "2            170 Hirthe Club Apt 0      Revere  Massachusetts   \n",
            "3            1095 McClure Approach      Norton  Massachusetts   \n",
            "4        872 Wuckert Vista Unit 29  Leominster  Massachusetts   \n",
            "5              1052 Brakus Trailer     Methuen  Massachusetts   \n",
            "6                  995 Pagac Ferry      Ludlow  Massachusetts   \n",
            "7                   665 Rath Ferry     Amherst  Massachusetts   \n",
            "8         919 Padberg Wynd Unit 72      Boston  Massachusetts   \n",
            "9         271 Casper Corner Apt 57   Westfield  Massachusetts   \n",
            "\n",
            "             COUNTY     ZIP        LAT        LON HEALTHCARE_EXPENSES  \\\n",
            "0  Middlesex County     NaN  42.401677 -71.119882              487560   \n",
            "1      Essex County  1960.0  42.504959 -70.994833             1375440   \n",
            "2    Suffolk County     NaN  42.412082 -71.034767              826560   \n",
            "3    Bristol County     NaN  41.983885 -71.163994             1394400   \n",
            "4  Worcester County     NaN  42.511785 -71.794739              169470   \n",
            "5      Essex County     NaN  42.725311 -71.177026             1362275   \n",
            "6    Hampden County     NaN  42.198458 -72.484812              672310   \n",
            "7  Hampshire County     NaN  42.321108 -72.540455              837375   \n",
            "8    Suffolk County  2110.0  42.394608 -71.015861              784740   \n",
            "9    Hampden County     NaN  42.135197 -72.771071              596030   \n",
            "\n",
            "  HEALTHCARE_COVERAGE        cancer_type  \n",
            "0             2385.64        Lung_Cancer  \n",
            "1             3643.04        Lung_Cancer  \n",
            "2             2302.28  Colorectal_Cancer  \n",
            "3             3712.20      Breast_Cancer  \n",
            "4             3747.18  Colorectal_Cancer  \n",
            "5             3666.36      Breast_Cancer  \n",
            "6             2393.96      Breast_Cancer  \n",
            "7             2758.12  Colorectal_Cancer  \n",
            "8             2563.96        Lung_Cancer  \n",
            "9             2544.80  Colorectal_Cancer  \n",
            "\n",
            "[10 rows x 26 columns] \n"
          ]
        }
      ],
      "source": [
        "#Check if data is in the tables. 10 random rows are selected from each table\n",
        "\n",
        "for csv in csvs:\n",
        "    cur.execute(f\"SELECT * FROM {csv} ORDER BY RANDOM() LIMIT 10\")\n",
        "    rows = cur.fetchall()\n",
        "    df_random = pd.DataFrame(rows, columns=[desc[0] for desc in cur.description])\n",
        "    print(f\"SQL tables from {repo_home}Data/CALICO_MA_Database/{project_name}.db' \\n\\n{csv} {df_random} \")\n"
      ]
    },
    {
      "cell_type": "markdown",
      "metadata": {
        "id": "inn0cONkebqW"
      },
      "source": [
        "### Die Daten werden aus den verschiedenen Tabellen extrahiert und ggf. transformiert\n",
        " >Die Daten aus **Patients** werden erstmal in die Faktentabelle übertragen. Es handelt sich um die Krebsart, die Patienten ID, die geographische Koordinaten, die Healthcarekosten, die vom Patient getragen werden und diejenigen, die von der Krankenversicherung bezahlt werden, und zum Ende das Geburtsdatum.\n",
        "Damit die Faktentabelle keine Redundanzen aufweist, werden die Encounter ID nicht mehr einzeln gespeichert. Stattdessen werden in der Faktentabelle für jeden Patienten die gesamten Kosten gespeichert, die in jeder Kategorie (Encounters, Observations, Immunizations, Procedures umd Medications) verursacht wurden.  \n",
        "Die Transaktion in der Faktentabelle der Datenbank wird mit commit beendet.\n",
        "**AMENDMENT FOR ML: patient_COUNTY and patient_ZIP included**\n",
        "\n",
        "ACHTUNG: 53% der Patienten haben keine ZIP\n",
        "\n"
      ]
    },
    {
      "cell_type": "code",
      "execution_count": 17,
      "metadata": {
        "id": "bo0kcX-xiSMa"
      },
      "outputs": [],
      "source": [
        "# TEST how many patients undergo Procedures\n",
        "#cur.execute('''SELECT COUNT(*) from procedures GROUP BY procedures.PATIENT''')\n",
        "#records = cur.fetchall()\n",
        "#i=1\n",
        "#for row in records:\n",
        "#  print(f'patient', i, 'undergoes ', row,' procedures')\n",
        "#  i=i+1"
      ]
    },
    {
      "cell_type": "code",
      "execution_count": 18,
      "metadata": {
        "colab": {
          "base_uri": "https://localhost:8080/"
        },
        "id": "YXJ3K44okdLR",
        "outputId": "9ef8d6c7-2792-4678-cb84-a8c013688a40"
      },
      "outputs": [
        {
          "output_type": "stream",
          "name": "stdout",
          "text": [
            "('d2061cc7-bee0-0e6c-3ac4-15c197c474e0', 'Middlesex County', 2140, -71.11326024935221, 42.35992586937376, 1475230, 4244.639999999999, '1956-06-22')\n",
            "('073d8e80-ff90-1c8d-57e4-29bfca52c87f', 'Worcester County', 1535, -72.02631680460482, 42.25784546955933, 1489125, 4016.36, '1964-08-28')\n",
            "('e1ff7e68-4097-9faf-514d-e4cfcfdf252e', 'Worcester County', 1545, -71.8184488503781, 42.204289674137854, 57142.44, 2103.2, '1998-08-28')\n",
            "('a0f679cc-875f-dd72-ed13-9ca863ec6cf3', 'Norfolk County', None, -70.90408406035422, 42.15026973562508, 408520, 2709, '2004-01-20')\n",
            "('e4166a9c-f7c5-bef7-ea43-b96281a2d586', 'Worcester County', 1609, -71.78487317237207, 42.2920819230455, 320400, 2970.68, '2006-03-23')\n",
            "('ee537126-7509-05de-2349-ab19604545d8', 'Suffolk County', 2134, -71.04135024287056, 42.347570821295285, 784465, 2738.96, '1991-05-21')\n",
            "('826d5ce3-2b23-8bd8-b352-a77fdd083d68', 'Middlesex County', 1890, -71.14747985490884, 42.52234296982323, 1425900, 3841.36, '1964-07-20')\n",
            "('0edfef0f-fa74-ab35-1122-4c537bb9765d', 'Plymouth County', None, -71.00357653769244, 42.00384862981888, 512475, 2470.64, '1997-05-05')\n",
            "('0fe7e161-0f29-2b70-8e3d-757b15026295', 'Middlesex County', None, -71.68411643063111, 42.58537262421069, 302400, 2583.2, '2008-12-26')\n",
            "('478e120c-67a4-4375-646f-c41e74f72478', 'Bristol County', None, -71.19387487133108, 41.96958788099574, 1202145, 2892.24, '1971-01-02')\n"
          ]
        }
      ],
      "source": [
        "# Datenextraktion aus der Patientstabelle\n",
        "cur.execute('''INSERT INTO facts_table\n",
        "                    ( cancer_type, patient_ID, encounter_ID, patient_LAT, patient_LON, patient_COUNTY, patient_ZIP, patient_HEALTHCARE_EXPENSES , patient_HEALTHCARE_COVERAGE, patient_BIRTHDATE)\n",
        "                    SELECT\n",
        "                        p.cancer_type AS cancer_type,\n",
        "                        p.Id AS patient_ID,\n",
        "                        NULL AS encounter_ID,  -- Replace with the actual encounter_ID or set to NULL if not applicable\n",
        "                        p.LAT AS patient_LAT,\n",
        "                        p.LON AS patient_LON,\n",
        "                        p.COUNTY AS patient_COUNTY,\n",
        "                        p.ZIP AS patient_ZIP,\n",
        "                        p.HEALTHCARE_EXPENSES AS patient_HEALTHCARE_EXPENSES,\n",
        "                        p.HEALTHCARE_COVERAGE AS patient_HEALTHCARE_COVERAGE,\n",
        "                        p.BIRTHDATE AS patient_BIRTHDATE\n",
        "                    FROM patients p\n",
        "                    ;''')\n",
        "\n",
        "# Ende der Transaktion\n",
        "conn.commit()\n",
        "\n",
        "# Schnelle Überprüfung der Datenübertragung ins die Faktentabelle\n",
        "cur.execute('''SELECT patient_ID, patient_COUNTY, patient_ZIP, patient_LON, patient_LAT, patient_HEALTHCARE_EXPENSES, patient_HEALTHCARE_COVERAGE, patient_BIRTHDATE FROM facts_table''')\n",
        "records = cur.fetchall()\n",
        "# show 10 rows\n",
        "for row in records[:10]:\n",
        "  print(row)"
      ]
    },
    {
      "cell_type": "markdown",
      "metadata": {
        "id": "oXjw01ODlnpI"
      },
      "source": [
        "Die Daten werden aus **Observations** eintragen:\n",
        "nur die Tuples mit dem neuesten Datum werden berücksichtigt. Gespeichert werden die Art der Observation, in unserem Fall **nur den QALY**, den neuesten Wert und das entsprechende Datum. Ausserdem wird das Alter am Tag der letzten Observation berechnet und eingetragen. Die Transaktion wird mit commit beendet. Das Speichern der neuen Einträge wird überprüft."
      ]
    },
    {
      "cell_type": "code",
      "execution_count": 19,
      "metadata": {
        "colab": {
          "base_uri": "https://localhost:8080/"
        },
        "id": "F9g6vWyIVbmE",
        "outputId": "7150a21c-e7cd-49c3-9a46-1bf898f05cf3"
      },
      "outputs": [
        {
          "output_type": "stream",
          "name": "stdout",
          "text": [
            "('d2061cc7-bee0-0e6c-3ac4-15c197c474e0', 'QALY', 63, '1956-06-22', '2020-06-22T10:47:46Z', 64)\n",
            "('073d8e80-ff90-1c8d-57e4-29bfca52c87f', 'QALY', 55, '1964-08-28', '2020-08-28T16:45:45Z', 56)\n",
            "('e1ff7e68-4097-9faf-514d-e4cfcfdf252e', 'QALY', 21, '1998-08-28', '2020-08-28T07:43:32Z', 22)\n",
            "('a0f679cc-875f-dd72-ed13-9ca863ec6cf3', 'QALY', 15, '2004-01-20', '2020-01-20T15:27:37Z', 16)\n",
            "('e4166a9c-f7c5-bef7-ea43-b96281a2d586', 'QALY', 13, '2006-03-23', '2020-03-23T22:58:03Z', 14)\n",
            "('ee537126-7509-05de-2349-ab19604545d8', 'QALY', 28, '1991-05-21', '2020-05-21T01:23:21Z', 29)\n",
            "('826d5ce3-2b23-8bd8-b352-a77fdd083d68', 'QALY', 55, '1964-07-20', '2020-07-20T05:08:46Z', 56)\n",
            "('0edfef0f-fa74-ab35-1122-4c537bb9765d', 'QALY', 22, '1997-05-05', '2020-05-04T22:31:18Z', 23)\n",
            "('0fe7e161-0f29-2b70-8e3d-757b15026295', 'QALY', 10, '2008-12-26', '2019-12-26T13:49:03Z', 11)\n",
            "('478e120c-67a4-4375-646f-c41e74f72478', 'QALY', 49, '1971-01-02', '2020-01-02T11:38:08Z', 49)\n",
            "('622b5d81-6868-03d0-85b2-1d5bb908f6a5', 'QALY', 1, '2018-05-25', '2020-05-25T09:05:41Z', 2)\n",
            "('9a4276b9-1377-f7fc-e011-1d27499c6d01', 'QALY', 16, '2003-09-13', '2020-09-13T08:21:28Z', 17)\n",
            "('2cc8c44f-74da-eae3-72ae-ba126845090f', 'QALY', 22, '1997-10-21', '2020-10-21T02:35:08Z', 23)\n",
            "('997c74a7-dd20-7297-43cf-eac7288e5600', 'QALY', 73, '1946-11-20', '2020-11-20T16:08:00Z', 74)\n",
            "('b4001499-a15a-980e-e3bb-e73b63045411', 'QALY', 78.9, '1936-10-14', '2020-10-14T15:26:07Z', 84)\n",
            "('0d66b030-4794-8f98-431f-b9278319483b', 'QALY', 63, '1956-11-10', '2020-11-10T04:41:11Z', 64)\n",
            "('70b626d0-ac97-e723-5e28-7648fd1bc9cf', 'QALY', 31, '1988-08-31', '2020-08-31T07:30:32Z', 32)\n",
            "('daf6ffbc-efad-50be-8816-a2e6d456477b', 'QALY', 74, '1945-07-20', '2020-07-20T19:41:20Z', 75)\n",
            "('6c7c535b-322d-362f-2767-f80b0a03b7f8', 'QALY', 30.6, '1983-04-06', '2020-04-06T20:15:30Z', 37)\n",
            "('acf9dbc7-08f4-7241-229f-3bad03a29acc', 'QALY', 29, '1990-05-21', '2020-05-21T07:19:27Z', 30)\n",
            "('469faecb-5a98-fdc4-1ce1-cd200ca5868d', 'QALY', 56, '1963-10-06', '2020-10-05T23:07:31Z', 57)\n",
            "('17eeae84-fd93-4f1f-e4f4-d01f4b3d6819', 'QALY', 25, '1994-03-21', '2020-03-21T02:21:40Z', 26)\n",
            "('33684ffd-e9d9-4ed4-ec47-b12ebb06642b', 'QALY', 65, '1954-09-19', '2020-09-19T08:13:26Z', 66)\n",
            "('f5a6e3b3-781d-d800-d4c3-1782e39258e8', 'QALY', 76.9, '1942-04-01', '2020-04-01T02:29:33Z', 78)\n",
            "('cb62ff66-c7a3-dec3-01c3-f7596d1f569e', 'QALY', 63.4, '1955-02-01', '2020-02-01T18:37:33Z', 65)\n",
            "('172337a7-9ac6-39cd-37db-20e1fcab4f2e', 'QALY', 49, '1970-11-27', '2020-11-27T09:14:30Z', 50)\n",
            "('224d86b9-eeda-e164-7e1f-cba4ec973cc6', 'QALY', 12, '2007-11-24', '2020-11-24T14:42:02Z', 13)\n",
            "('1c212fec-e110-ee77-3f78-eb6141aca633', 'QALY', 40, '1979-06-29', '2020-06-29T10:10:32Z', 41)\n",
            "('f8871273-1db8-1c87-fe2e-f87766b4e7f5', 'QALY', 14, '2005-07-09', '2020-07-09T21:35:20Z', 15)\n",
            "('5ea2c6ab-c205-ca9a-9e57-3acf569b93bf', 'QALY', 37, '1981-12-07', '2019-12-07T03:31:26Z', 38)\n",
            "\n",
            "\n"
          ]
        }
      ],
      "source": [
        "# Datenextraktion aus der Observationstabelle\n",
        "cur.execute('''UPDATE\n",
        "                  facts_table\n",
        "               SET\n",
        "                  observations_CODE = obs.CODE,\n",
        "                  observations_VALUE = obs.maxVALUE,\n",
        "                  observations_DATE = obs.maxDATE,\n",
        "                  observations_AGE = obs.maxDATE- patient_BIRTHDATE\n",
        "               FROM\n",
        "                    (SELECT PATIENT, CODE, MAX(VALUE) as maxVALUE, MAX(observations.DATE) as maxDATE\n",
        "                    FROM observations\n",
        "                    WHERE CODE LIKE \"QALY\"\n",
        "                    GROUP BY PATIENT\n",
        "                    ) AS obs\n",
        "                WHERE\n",
        "                  facts_table.patient_ID = obs.PATIENT\n",
        "                    ;''')\n",
        "\n",
        "# Ende der Transaktion\n",
        "conn.commit()\n",
        "\n",
        "# Schnelle Überprüfung der Datenübertragung ins die Faktentabelle\n",
        "cur.execute('''SELECT patient_ID, observations_CODE, observations_VALUE, patient_BIRTHDATE, observations_DATE, observations_AGE  FROM facts_table ''')\n",
        "records = cur.fetchall()\n",
        "# show 10 rows\n",
        "for row in records[:30]:\n",
        "  print(row)\n",
        "\n",
        "print(\"\\n\")\n",
        "\n",
        "#cur.execute(''' SELECT COUNT(DISTINCT PATIENT) FROM observations''')\n",
        "#records = cur.fetchall()\n",
        "#print(f\"#patients in observations: {records[-1][-1]}\")\n",
        "\n",
        "#cur.execute(''' SELECT PATIENT, MAX(VALUE), MAX(DATE) FROM observations GROUP BY PATIENT ''')\n",
        "#records = cur.fetchall()\n",
        "#for row in records[:50]:\n",
        "#  print(row)\n",
        "#print(records[-1][-1])\n",
        "\n",
        "#print(\"\\n\")\n",
        "#cur.execute(''' SELECT PATIENT, CODE, VALUE, DATE FROM observations WHERE CODE LIKE \"DALY\" AND VALUE >= 1 ''')\n",
        "#records = cur.fetchall()\n",
        "#for row in records[:60]:\n",
        "#  print(row)\n",
        "#print(\"\\n\")\n",
        "\n",
        "#cur.execute(''' SELECT PATIENT, CODE, MAX(VALUE), MAX(DATE) FROM observations WHERE PATIENT = \"950a56cd-d2d5-785c-d80c-c126912fbf88\" AND CODE LIKE \"QALY\"''')\n",
        "#records = cur.fetchall()\n",
        "#for row in records[:60]:\n",
        "#  print(row)\n",
        "#print(\"\\n\")\n",
        "\n",
        "\n",
        "#print(\"\\n\")\n"
      ]
    },
    {
      "cell_type": "markdown",
      "metadata": {
        "id": "Escam_11H8Vr"
      },
      "source": [
        "Die Daten werden aus **Encounters** eintragen. Es handelt sich um die Summe aller Encounter Kosten für jeden einzelnen Patienten.\n",
        "Falls dieser Wert nicht existiert, wird an ihrer Stelle 0 eingetragen.\n",
        "Jede Transaktion wird mit commt beendet. Das Speichern der neuen Einträge in die Faktentabelle wird überprüft.\n"
      ]
    },
    {
      "cell_type": "code",
      "execution_count": 20,
      "metadata": {
        "colab": {
          "base_uri": "https://localhost:8080/"
        },
        "id": "bkOtFAoFlS5H",
        "outputId": "2c85e59c-162f-4afb-eb45-4a5cbcdd090f"
      },
      "outputs": [
        {
          "output_type": "stream",
          "name": "stdout",
          "text": [
            "('d2061cc7-bee0-0e6c-3ac4-15c197c474e0', 1291.6000000000001)\n",
            "('073d8e80-ff90-1c8d-57e4-29bfca52c87f', 1033.28)\n",
            "('e1ff7e68-4097-9faf-514d-e4cfcfdf252e', 1033.28)\n",
            "('a0f679cc-875f-dd72-ed13-9ca863ec6cf3', 1291.6000000000001)\n",
            "('e4166a9c-f7c5-bef7-ea43-b96281a2d586', 1291.6000000000001)\n",
            "('ee537126-7509-05de-2349-ab19604545d8', 387.48)\n",
            "('826d5ce3-2b23-8bd8-b352-a77fdd083d68', 1033.28)\n",
            "('0edfef0f-fa74-ab35-1122-4c537bb9765d', 904.1199999999999)\n",
            "('0fe7e161-0f29-2b70-8e3d-757b15026295', 1420.7600000000002)\n",
            "('478e120c-67a4-4375-646f-c41e74f72478', 645.8)\n"
          ]
        }
      ],
      "source": [
        "# Datenextraktion aus der Encounterstabelle und Berechnung der Summe aller Encounterkosten für jeden Patienten\n",
        "cur.execute('''UPDATE\n",
        "                  facts_table\n",
        "               SET\n",
        "                  encounter_Base_Encounter_Cost = enc.TOTALCOST\n",
        "               FROM\n",
        "                    (SELECT PATIENT, SUM(BASE_ENCOUNTER_COST) as TOTALCOST\n",
        "                    FROM encounters, facts_table\n",
        "                    WHERE facts_table.patient_ID = encounters.PATIENT\n",
        "                    GROUP BY PATIENT\n",
        "                    ) AS enc\n",
        "                WHERE\n",
        "                  facts_table.patient_ID = enc.PATIENT\n",
        "                    ;''')\n",
        "\n",
        "# Ende der Transaktion\n",
        "conn.commit()\n",
        "\n",
        "# Falls es keine Encounterkosten gibt, wird der Wert 0 stattdessen eingetragen\n",
        "cur.execute('''UPDATE\n",
        "                  facts_table\n",
        "               SET\n",
        "                  encounter_Base_Encounter_Cost = 0\n",
        "                WHERE encounter_Base_Encounter_Cost IS NULL\n",
        "                    ;''')\n",
        "\n",
        "# Ende der Transaktion\n",
        "conn.commit()\n",
        "\n",
        "# Kurze Überprüfung\n",
        "cur.execute('''SELECT patient_ID, encounter_BASE_ENCOUNTER_COST FROM facts_table''')\n",
        "records = cur.fetchall()\n",
        "# show 10 rows\n",
        "for row in records[:10]:\n",
        "  print(row)\n",
        "\n"
      ]
    },
    {
      "cell_type": "code",
      "execution_count": 21,
      "metadata": {
        "colab": {
          "base_uri": "https://localhost:8080/"
        },
        "id": "JizAqymQbKRv",
        "outputId": "82a1fe48-002f-46a5-cb32-44403662beaa"
      },
      "outputs": [
        {
          "output_type": "stream",
          "name": "stdout",
          "text": [
            "('001c3804-81e8-740e-dd91-973b584a2dd9', 387.48, 387.48)\n",
            "('002a707d-ba35-3d1a-46c0-ad8a98a22137', 774.9599999999999, 774.9599999999999)\n",
            "('003c0d44-9dfc-ca91-6121-373a8e265bd4', 1446.5800000000002, 1446.5800000000002)\n",
            "('008b26ab-5c12-7a5b-cda4-f54484d5f749', 1291.6000000000001, 1291.6000000000001)\n",
            "('009121bf-a672-8942-443e-85e18a33f766', 1162.44, 1162.44)\n",
            "('00e798f6-7d02-8485-c5fd-4b6bfb114c69', 516.64, 516.64)\n",
            "('00edcb46-afd4-4687-c16a-f4e20dfc3e92', 1188.26, 1188.26)\n",
            "('0103a559-910a-03df-6117-ec429eeb4ac9', 774.9599999999999, 774.9599999999999)\n",
            "('01518fe2-bd76-d1e9-a656-1e7eae35dd17', 1446.5800000000002, 1446.5800000000002)\n",
            "('01581211-2e47-027b-71a0-dcbf0f4e6622', 1317.42, 1317.42)\n"
          ]
        }
      ],
      "source": [
        "cur.execute('''SELECT patient_ID, encounter_BASE_ENCOUNTER_COST, SUM(BASE_ENCOUNTER_COST)\n",
        "                FROM facts_table, encounters WHERE facts_table.patient_ID = encounters.PATIENT\n",
        "                GROUP BY patient_ID''')\n",
        "records = cur.fetchall()\n",
        "# show 10 rows\n",
        "for row in records[:10]:\n",
        "  print(row)"
      ]
    },
    {
      "cell_type": "markdown",
      "metadata": {
        "id": "8w6rP5_JcgFK"
      },
      "source": [
        "Die Daten werden aus **Medications** eintragen. Es handelt sich um die Summe aller MedikationsKosten für jeden einzelnen Patienten.\n",
        "Falls dieser Wert nicht existiert, wird an ihrer Stelle 0 eingetragen.\n",
        "Jede Transaktion wird mit commt beendet. Das Speichern der neuen Einträge in die Faktentabelle wird überprüft."
      ]
    },
    {
      "cell_type": "code",
      "execution_count": 22,
      "metadata": {
        "id": "2_lPlR2bVq5Z"
      },
      "outputs": [],
      "source": [
        "cur.execute('''     UPDATE facts_table SET medications_TotalCost = med.TOTALCOST\n",
        "                    FROM\n",
        "                    (SELECT PATIENT, SUM(Totalcost) as TOTALCOST\n",
        "                    FROM medications, facts_table\n",
        "                    WHERE facts_table.patient_ID = medications.PATIENT\n",
        "                    GROUP BY PATIENT) as med\n",
        "                    WHERE facts_table.patient_ID = med.PATIENT\n",
        "                    ;''')\n",
        "conn.commit()"
      ]
    },
    {
      "cell_type": "code",
      "execution_count": 23,
      "metadata": {
        "id": "nMyPAw3Zgv9I"
      },
      "outputs": [],
      "source": [
        "cur.execute('''UPDATE\n",
        "                  facts_table\n",
        "               SET\n",
        "                  medications_TOTALCOST = 0\n",
        "                WHERE medications_TOTALCOST IS NULL\n",
        "                    ;''')\n",
        "conn.commit()"
      ]
    },
    {
      "cell_type": "code",
      "execution_count": 24,
      "metadata": {
        "colab": {
          "base_uri": "https://localhost:8080/"
        },
        "id": "24D1RL11XU9_",
        "outputId": "1fb1c203-8f5b-4093-ddff-56a47ea758df"
      },
      "outputs": [
        {
          "output_type": "stream",
          "name": "stdout",
          "text": [
            "('003c0d44-9dfc-ca91-6121-373a8e265bd4', 30329.850000000002, 30329.85)\n",
            "('01d6dc15-6313-5327-8491-49be72f40d59', 113865.26, 113865.26000000001)\n",
            "('023c4bb2-6dc3-972e-379a-af19b8a2392d', 117956.49000000002, 117956.49)\n",
            "('02db7f22-8617-0cf7-fa10-d820d596a81a', 101166.45000000001, 101166.45000000001)\n",
            "('030287cd-dbd1-d7e1-6959-cfdfa0e271bd', 230.28, 230.28)\n",
            "('037404e1-0c87-534d-0fe2-e21ef20640f6', 70052.88, 70052.88)\n",
            "('038eb669-b744-c2bc-18c6-6e37068c722f', 49598.27, 49598.270000000004)\n",
            "('05023597-744e-9369-c390-e4090447a247', 63036.16, 63036.16)\n",
            "('05a3a33e-e9b1-0aaa-66f4-f0e2b57dce04', 3219.0699999999997, 3219.0699999999997)\n",
            "('072229fb-e8b1-a9ff-61b1-0cdab70c3c4c', 6615.34, 6615.34)\n"
          ]
        }
      ],
      "source": [
        "cur.execute('''SELECT patient_ID, medications_TOTALCOST, SUM(TOTALCOST)\n",
        "                FROM facts_table, medications WHERE facts_table.patient_ID = medications.PATIENT\n",
        "                GROUP BY patient_ID''')\n",
        "records = cur.fetchall()\n",
        "# show 10 rows\n",
        "for row in records[:10]:\n",
        "  print(row)"
      ]
    },
    {
      "cell_type": "markdown",
      "metadata": {
        "id": "i_zuP5pEBWyl"
      },
      "source": [
        "Die Daten werden aus **Procedures** eintragen. Es handelt sich um die Summe aller Prozedurenkosten für jeden einzelnen Patienten. Falls dieser Wert nicht existiert, wird an ihrer Stelle 0 eingetragen. Jede Transaktion wird mit commt beendet. Das Speichern der neuen Einträge in die Faktentabelle wird überprüft"
      ]
    },
    {
      "cell_type": "code",
      "execution_count": 25,
      "metadata": {
        "id": "PhHZdBsxczzX"
      },
      "outputs": [],
      "source": [
        "cur.execute('''     UPDATE facts_table SET procedures_BASE_COST = proc.TOTALCOST\n",
        "                    FROM\n",
        "                    (SELECT PATIENT, SUM(BASE_COST) as TOTALCOST\n",
        "                    FROM procedures, facts_table\n",
        "                    WHERE facts_table.patient_ID = procedures.PATIENT\n",
        "                    GROUP BY PATIENT) as proc\n",
        "                    WHERE facts_table.patient_ID = proc.PATIENT\n",
        "                    ;''')\n",
        "conn.commit()"
      ]
    },
    {
      "cell_type": "code",
      "execution_count": 26,
      "metadata": {
        "id": "Xk-l3nUpgoQv"
      },
      "outputs": [],
      "source": [
        "cur.execute('''UPDATE\n",
        "                  facts_table\n",
        "               SET\n",
        "                  procedures_BASE_COST = 0\n",
        "                WHERE procedures_BASE_COST IS NULL\n",
        "                    ;''')\n",
        "conn.commit()"
      ]
    },
    {
      "cell_type": "code",
      "execution_count": 27,
      "metadata": {
        "colab": {
          "base_uri": "https://localhost:8080/"
        },
        "id": "kOVBHeRwdTUH",
        "outputId": "1b153d7e-717d-4c0b-81b0-932b140dabde"
      },
      "outputs": [
        {
          "output_type": "stream",
          "name": "stdout",
          "text": [
            "('003c0d44-9dfc-ca91-6121-373a8e265bd4', 297586.43, 297586.43)\n",
            "('00edcb46-afd4-4687-c16a-f4e20dfc3e92', 23882.18, 23882.18)\n",
            "('01518fe2-bd76-d1e9-a656-1e7eae35dd17', 22514.35, 22514.35)\n",
            "('01581211-2e47-027b-71a0-dcbf0f4e6622', 34044.95, 34044.95)\n",
            "('01d6dc15-6313-5327-8491-49be72f40d59', 405522.31, 405522.31)\n",
            "('023c4bb2-6dc3-972e-379a-af19b8a2392d', 56170.43, 56170.43)\n",
            "('030287cd-dbd1-d7e1-6959-cfdfa0e271bd', 34779.04, 34779.04)\n",
            "('037404e1-0c87-534d-0fe2-e21ef20640f6', 28800.590000000004, 28800.59)\n",
            "('038eb669-b744-c2bc-18c6-6e37068c722f', 225341.52000000002, 225341.52)\n",
            "('05398088-a847-099e-3c61-c6153d83e024', 35182.2, 35182.2)\n"
          ]
        }
      ],
      "source": [
        "cur.execute('''SELECT patient_ID, procedures_Base_COST, SUM(Base_COST)\n",
        "                FROM facts_table, procedures WHERE facts_table.patient_ID = procedures.PATIENT\n",
        "                GROUP BY patient_ID''')\n",
        "records = cur.fetchall()\n",
        "# show 10 rows\n",
        "for row in records[:10]:\n",
        "  print(row)"
      ]
    },
    {
      "cell_type": "markdown",
      "metadata": {
        "id": "kBhSa5_4nceK"
      },
      "source": [
        "Die Daten werden aus **Immunizations** eintragen. Es handelt sich um die Summe aller Immunizationskosten für jeden einzelnen Patienten. Falls dieser Wert nicht existiert, wird an ihrer Stelle 0 eingetragen. Jede Transaktion wird mit commt beendet. Das Speichern der neuen Einträge in die Faktentabelle wird überprüft"
      ]
    },
    {
      "cell_type": "code",
      "execution_count": 28,
      "metadata": {
        "id": "yuvXDCf5dq0P"
      },
      "outputs": [],
      "source": [
        "cur.execute('''     UPDATE facts_table SET immunizations_Base_Cost = im.TOTALCOST\n",
        "                    FROM\n",
        "                    (SELECT PATIENT, SUM(Base_Cost) as TOTALCOST\n",
        "                    FROM immunizations, facts_table\n",
        "                    WHERE facts_table.patient_ID = immunizations.PATIENT\n",
        "                    GROUP BY PATIENT) as im\n",
        "                    WHERE facts_table.patient_ID = im.PATIENT\n",
        "                    ;''')\n",
        "conn.commit()"
      ]
    },
    {
      "cell_type": "code",
      "execution_count": 29,
      "metadata": {
        "id": "Tn5448tAgivf"
      },
      "outputs": [],
      "source": [
        "cur.execute('''UPDATE\n",
        "                  facts_table\n",
        "               SET\n",
        "                  immunizations_BASE_COST = 0\n",
        "                WHERE immunizations_BASE_COST IS NULL\n",
        "                    ;''')\n",
        "conn.commit()"
      ]
    },
    {
      "cell_type": "code",
      "execution_count": 30,
      "metadata": {
        "colab": {
          "base_uri": "https://localhost:8080/"
        },
        "id": "LZqMFbLhfXC4",
        "outputId": "66563386-0f9d-4a7f-cad4-11d0650545ad"
      },
      "outputs": [
        {
          "output_type": "stream",
          "name": "stdout",
          "text": [
            "('001c3804-81e8-740e-dd91-973b584a2dd9', 562.08, 562.08)\n",
            "('002a707d-ba35-3d1a-46c0-ad8a98a22137', 1264.68, 1264.68)\n",
            "('003c0d44-9dfc-ca91-6121-373a8e265bd4', 1405.2, 1405.2)\n",
            "('008b26ab-5c12-7a5b-cda4-f54484d5f749', 1545.72, 1545.72)\n",
            "('009121bf-a672-8942-443e-85e18a33f766', 1545.72, 1545.72)\n",
            "('00e798f6-7d02-8485-c5fd-4b6bfb114c69', 983.64, 983.64)\n",
            "('00edcb46-afd4-4687-c16a-f4e20dfc3e92', 1545.72, 1545.72)\n",
            "('0103a559-910a-03df-6117-ec429eeb4ac9', 1264.68, 1264.68)\n",
            "('01518fe2-bd76-d1e9-a656-1e7eae35dd17', 1826.76, 1826.76)\n",
            "('01581211-2e47-027b-71a0-dcbf0f4e6622', 1686.24, 1686.24)\n"
          ]
        }
      ],
      "source": [
        "cur.execute(''' SELECT patient_ID, immunizations_BASE_COST, SUM(BASE_COST) FROM facts_table, immunizations\n",
        "                WHERE facts_table.patient_ID = immunizations.PATIENT\n",
        "                GROUP BY patient_ID''' )\n",
        "records = cur.fetchall()\n",
        "# show 10 rows\n",
        "for row in records[:10]:\n",
        "  print(row)"
      ]
    },
    {
      "cell_type": "markdown",
      "metadata": {
        "id": "6zKcvT4DzTNV"
      },
      "source": [
        "> Werte in der Faktentabelle haben Komma statt Dot für die Dezimale. Konvertierung dieser.\n"
      ]
    },
    {
      "cell_type": "code",
      "execution_count": 31,
      "metadata": {
        "id": "bBgzg_CDzTNV"
      },
      "outputs": [],
      "source": [
        "cur.execute(''' UPDATE facts_table SET\n",
        "patient_LAT = REPLACE(patient_LAT,',','.'),\n",
        "patient_LON = REPLACE(patient_LON,',','.'),\n",
        "patient_HEALTHCARE_EXPENSES = REPLACE(patient_HEALTHCARE_EXPENSES,',','.'),\n",
        "patient_HEALTHCARE_COVERAGE = REPLACE(patient_HEALTHCARE_COVERAGE,',','.')\n",
        ";''')\n",
        "conn.commit()"
      ]
    },
    {
      "cell_type": "markdown",
      "metadata": {
        "id": "XMGm9tGzoD78"
      },
      "source": [
        "##Das Datawarehouse ist fertig ausgefüllt.\n",
        "Hier werden die ersten Tupeln der Faktentabelle angezeigt.\n",
        "Der \"None\"-Eintrag entspricht der Spalte für Encounters. Diese Spalte wird nicht benutzt, deshalb wurde sie nicht ausgefüllt."
      ]
    },
    {
      "cell_type": "code",
      "execution_count": 32,
      "metadata": {
        "colab": {
          "base_uri": "https://localhost:8080/"
        },
        "id": "EdRm9dEhoNiU",
        "outputId": "e1842574-65c9-4baf-974a-7176e56b7d5b"
      },
      "outputs": [
        {
          "output_type": "stream",
          "name": "stdout",
          "text": [
            "('Colorectal_Cancer', '2e370d46-d229-7c08-4873-d5a9bcd699d9', None, 42.033064619444, -70.948397832431, 'Plymouth County', None, 1218210, 3033.89, '1970-05-10', 'QALY', 49, '2020-05-10T19:26:58Z', 50, 17229.31, 0, 1124.16, 723.29)\n",
            "('Breast_Cancer', 'b05f9dd9-3e1e-88ad-5f94-ead265930ccf', None, 42.7101734274005, -71.0827502980551, 'Essex County', 1830, 1773540, 6080.36, '1938-07-14', 'QALY', 81, '2020-07-14T20:13:30Z', 82, 0, 0, 1405.2, 1162.44)\n",
            "('Colorectal_Cancer', '5273f717-3833-0d7a-c9a5-e65a3d12e727', None, 41.6509934009745, -70.2707877404798, 'Barnstable County', None, 159350, 3402.21, '1968-07-30', 'QALY', 51, '2020-07-30T05:49:09Z', 52, 13181.17, 0, 1264.68, 852.4499999999999)\n",
            "('Lung_Cancer', 'c8a12262-bd17-8ce0-50ae-cd30d2b0115a', None, 42.281270998356, -71.0455594186376, 'Norfolk County', 2186, 801755, 2378.12, '1987-09-19', 'QALY', 32, '2020-09-19T09:26:02Z', 33, 0, 0, 562.08, 387.48)\n",
            "('Breast_Cancer', '8beb4bf0-b9ab-3af7-af5a-7a26a8734b26', None, 42.5504441928801, -71.8070581019936, 'Worcester County', 1420, 1492770, 4362.96, '1953-12-11', 'QALY', 65, '2019-12-11T22:26:04Z', 66, 0, 0, 1826.76, 1291.6000000000001)\n",
            "('Colorectal_Cancer', '7a55975a-0d10-109a-0e33-abdbb25b3202', None, 42.6284745820581, -71.3354279033186, 'Middlesex County', None, 1214145, 3021.4, '1970-07-22', 'QALY', 49, '2020-07-22T03:13:47Z', 50, 0, 0, 1124.16, 645.8)\n",
            "('Breast_Cancer', '46d2f853-9ccf-ac5a-c714-a6a85382e018', None, 42.2584097263282, -71.6543343871438, 'Worcester County', 1581, 81400, 1420.76, '2017-12-13', 'QALY', 1, '2019-12-13T09:10:15Z', 2, 0, 0, 3653.52, 1420.7600000000002)\n",
            "('Breast_Cancer', '8c8c7f41-436e-1198-212f-e48a8af26b53', None, 42.5113965841861, -71.7260430545426, 'Worcester County', None, 90880, 2623.96, '1991-03-14', 'QALY', 28, '2020-03-14T02:47:21Z', 29, 0, 0, 843.12, 387.48)\n",
            "('Lung_Cancer', '3bca700d-b4e2-5c93-858f-88fe64721713', None, 42.0556370050271, -71.4514192355591, 'Norfolk County', 2019, 772140, 2563.96, '1990-06-21', 'QALY', 29, '2020-06-21T03:37:32Z', 30, 0, 0, 843.12, 387.48)\n",
            "('Breast_Cancer', 'fa2976d0-635b-d5ca-51b6-186e200a8f89', None, 42.3308794917823, -71.0720714825089, 'Suffolk County', 2110, 849975, 2216.44, '1981-10-06', 'QALY', 38, '2020-10-06T14:07:14Z', 39, 0, 0, 562.08, 387.48)\n",
            "('Breast_Cancer', 'ec3af516-d06e-1dfb-8037-fdb24e12ada4', None, 42.3874011451409, -71.0059953500103, 'Suffolk County', 2151, 63632.44, 1992.36, '1993-07-15', 'QALY', 26, '2020-07-15T01:34:02Z', 27, 0, 0, 983.64, 516.64)\n",
            "('Breast_Cancer', '1245f727-8077-2c42-7fa6-65286afbd802', None, 42.3998181442556, -71.7616332472697, 'Worcester County', None, 428340, 2647.32, '2002-04-15', 'QALY', 17, '2020-04-15T07:43:01Z', 18, 0, 0, 2248.32, 1291.6000000000001)\n",
            "('Lung_Cancer', '116f1f5c-4321-4575-7042-b6d768b677c7', None, 42.1628149605035, -71.6011549266622, 'Worcester County', 1568, 1047600, 2720.6, '1979-06-28', 'QALY', 40, '2020-06-28T00:01:59Z', 41, 0, 0, 562.08, 387.48)\n",
            "('Lung_Cancer', '3d479447-c3d3-59c9-7ce7-0ea97fa5ba19', None, 42.6335032526281, -72.6450952443261, 'Franklin County', 1301, 985160, 2477.24, '1972-11-01', 'QALY', 47, '2020-11-01T20:32:51Z', 48, 0, 0, 1124.16, 645.8)\n",
            "('Lung_Cancer', 'ccb9cb61-7ded-f577-2a3f-5435aa80d7e4', None, 41.647038469464, -70.9180133013447, 'Bristol County', 2747, 986860, 2477.24, '1972-09-25', 'QALY', 47, '2020-09-25T10:14:40Z', 48, 0, 0, 1124.16, 645.8)\n",
            "('Breast_Cancer', 'ab7d559d-fd34-c376-b6ab-44ccf366d648', None, 42.3175586195107, -71.187178657868, 'Norfolk County', 2467, 1673707.48, 13675.86, '1920-03-20', 'QALY', 99, '2020-03-20T10:24:16Z', 100, 28545.57, 6508.94, 1405.2, 1291.6000000000001)\n",
            "('Colorectal_Cancer', '82c43ba2-10ff-da22-b961-876dfc8571f9', None, 42.4254128089108, -71.1840181372037, 'Middlesex County', None, 422730, 2769.84, '2005-01-05', 'QALY', 14, '2020-01-05T19:21:18Z', 15, 0, 0, 2107.8, 1291.6000000000001)\n",
            "('Colorectal_Cancer', 'fda25654-64e1-0d92-fdbe-781f9a61b184', None, 42.398974793928, -71.1466038673536, 'Suffolk County', 2136, 1026600, 2720.6, '1980-05-11', 'QALY', 39, '2020-05-11T11:58:05Z', 40, 0, 0, 843.12, 516.64)\n",
            "('Colorectal_Cancer', 'fbf85807-be39-2aa9-f8cf-e63084f87aac', None, 42.3189910172924, -71.1292603464289, 'Suffolk County', 2122, 767940, 2563.96, '1990-08-05', 'QALY', 29, '2020-08-05T20:52:11Z', 30, 0, 0, 843.12, 387.48)\n",
            "('Lung_Cancer', 'da94c7ef-b42d-68d0-2795-809d4ff0815f', None, 42.1059576864499, -72.5060731517346, 'Hampden County', 1151, 28037.28, 270.8, '1974-06-16', 'QALY', 45, '2020-06-16T08:04:31Z', 46, 0, 0, 1124.16, 645.8)\n",
            "('Colorectal_Cancer', '7252748a-5be4-6a4d-254c-3ff4449dffb2', None, 42.6429820452809, -71.261559413309, 'Middlesex County', None, 588375, 2299.8, '1993-10-29', 'QALY', 26, '2020-10-29T11:56:34Z', 27, 0, 0, 1124.16, 645.8)\n",
            "('Lung_Cancer', 'bb141d42-a734-d3a3-05e2-5a29aec4afc7', None, 42.4611396678098, -71.1530647407261, 'Middlesex County', 2144, 4627.27, 0, '1970-08-29', None, None, None, None, 47748.89, 4247.89, 1405.2, 1162.44)\n",
            "('Breast_Cancer', '62f50210-b6a7-d08d-8c5e-6e3aa5d06038', None, 42.4366155685099, -70.9690018828891, 'Essex County', None, 519675, 2470.64, '1997-01-17', 'QALY', 22, '2020-01-16T23:35:20Z', 23, 0, 0, 1545.72, 904.1199999999999)\n",
            "('Lung_Cancer', '5d00b1cf-dbb0-1e6d-e9ee-b38eeffc56fd', None, 42.4913249131953, -71.2332296990967, 'Middlesex County', 1730, 1394020, 4897.49, '1913-12-13', None, None, None, None, 61011.53, 10746.119999999999, 1545.72, 1549.9200000000003)\n",
            "('Lung_Cancer', '69358c45-1a86-f1c6-be84-20b20948fc1c', None, 42.0642242887985, -72.6937993757754, 'Hampden County', 1001, 21095.72, 516.64, '2008-01-14', 'QALY', 11, '2020-01-14T02:33:09Z', 12, 0, 0, 2950.92, 1420.7600000000002)\n",
            "('Breast_Cancer', '1ab0bb6e-6830-57bf-6698-19af50aa40aa', None, 41.6069920730089, -70.6274830850727, 'Barnstable County', 2540, 1035770, 2608.92, '1975-09-01', 'QALY', 44, '2020-09-01T12:05:08Z', 45, 0, 0, 983.64, 516.64)\n",
            "('Lung_Cancer', '8dc181a6-b7e8-b27a-a7ee-e3e36a8c70b0', None, 42.1359949113294, -72.7549446490099, 'Hampden County', None, 1048140, 2655.56, '1969-09-24', 'QALY', 50, '2020-09-24T01:20:52Z', 51, 0, 0, 1545.72, 774.9599999999999)\n",
            "('Lung_Cancer', '835433dc-6dec-10b5-efeb-b4a29d392b72', None, 42.5349088924379, -71.1932498583553, 'Middlesex County', 1801, 694260, 2614.8, '1993-07-05', 'QALY', 26, '2020-07-05T08:12:05Z', 27, 0, 0, 983.64, 516.64)\n",
            "('Breast_Cancer', '58d8d87d-4f4b-4822-4fae-0809227d8f18', None, 42.1770644083176, -71.2867250019802, 'Norfolk County', 2081, 969200, 2549.76, '1978-08-04', 'QALY', 41, '2020-08-04T21:01:07Z', 42, 0, 0, 983.64, 516.64)\n",
            "('Colorectal_Cancer', '895c488d-d73f-3d7b-4601-fe274979d786', None, 42.2082064869272, -72.6662486176947, 'Hampden County', None, 4003.96, 0, '1990-07-20', 'QALY', 29, '2020-07-20T11:42:38Z', 30, 0, 0, 843.12, 387.48)\n"
          ]
        }
      ],
      "source": [
        "cur.execute('''SELECT * FROM facts_table\n",
        " ORDER BY RANDOM()''')\n",
        "records = cur.fetchall()\n",
        "# show 4 rows\n",
        "for row in records[:30]:\n",
        "  print(row)"
      ]
    },
    {
      "cell_type": "code",
      "execution_count": 33,
      "metadata": {
        "colab": {
          "base_uri": "https://localhost:8080/"
        },
        "id": "aLWYwQVkmDrU",
        "outputId": "da8b60de-2052-4e50-ace7-9e2c75f89b93"
      },
      "outputs": [
        {
          "output_type": "stream",
          "name": "stdout",
          "text": [
            "    cid                           name           type  notnull dflt_value  pk\n",
            "0     0                    cancer_type         STRING        0       None   0\n",
            "1     1                     patient_ID         STRING        0       None   0\n",
            "2     2                   encounter_ID         STRING        0       None   0\n",
            "3     3                    patient_LAT   DECIMAL(6,2)        0       None   0\n",
            "4     4                    patient_LON   DECIMAL(6,2)        0       None   0\n",
            "5     5                 patient_COUNTY         STRING        0       None   0\n",
            "6     6                    patient_ZIP         STRING        0       None   0\n",
            "7     7    patient_HEALTHCARE_EXPENSES   DECIMAL(9,2)        0       None   0\n",
            "8     8    patient_HEALTHCARE_COVERAGE   DECIMAL(9,2)        0       None   0\n",
            "9     9              patient_BIRTHDATE           DATE        0       None   0\n",
            "10   10              observations_CODE         STRING        0       None   0\n",
            "11   11             observations_VALUE         STRING        0       None   0\n",
            "12   12              observations_DATE           DATE        0       None   0\n",
            "13   13               observations_AGE   DECIMAL(6,2)        0       None   0\n",
            "14   14           procedures_BASE_COST  DECIMAL(11,2)        0       None   0\n",
            "15   15          medications_TOTALCOST  DECIMAL(11,2)        0       None   0\n",
            "16   16        immunizations_BASE_COST  DECIMAL(11,2)        0       None   0\n",
            "17   17  encounter_BASE_ENCOUNTER_COST  DECIMAL(11,2)        0       None   0\n"
          ]
        }
      ],
      "source": [
        "print(pd.read_sql_query(\"PRAGMA table_info('facts_table')\", conn))"
      ]
    },
    {
      "cell_type": "markdown",
      "source": [
        "# Bereinigung der Faktentabelle\n",
        "\n",
        "## Delele all rows with Age = 0"
      ],
      "metadata": {
        "id": "kosWigrzTO7w"
      }
    },
    {
      "cell_type": "code",
      "source": [
        "cur.execute('''SELECT COUNT(*)  FROM facts_table\n",
        " WHERE observations_AGE == 0''')\n",
        "result = cur.fetchall()\n",
        "print(f\"Number of rows where observations_AGE == 0 : {result[-1][-1]}\")\n",
        "print(\"\\n\")\n",
        "\n",
        "cur.execute(''' DELETE FROM facts_table WHERE observations_AGE = 0\n",
        ";''')\n",
        "conn.commit()\n",
        "\n",
        "cur.execute('''SELECT COUNT(*)  FROM facts_table\n",
        " WHERE observations_AGE == 0''')\n",
        "result = cur.fetchall()\n",
        "print(f\"Nach Bereinigung: Number of rows where observations_AGE == 0 : {result[-1][-1]}\")\n",
        "print(\"\\n\")\n"
      ],
      "metadata": {
        "colab": {
          "base_uri": "https://localhost:8080/"
        },
        "id": "EvfrNdOpTDk_",
        "outputId": "1e7f4ef6-1a1f-45a4-a970-da455f60257e"
      },
      "execution_count": 34,
      "outputs": [
        {
          "output_type": "stream",
          "name": "stdout",
          "text": [
            "Number of rows where observations_AGE == 0 : 30\n",
            "\n",
            "\n",
            "Nach Bereinigung: Number of rows where observations_AGE == 0 : 0\n",
            "\n",
            "\n"
          ]
        }
      ]
    },
    {
      "cell_type": "markdown",
      "source": [
        "##Close Database connection"
      ],
      "metadata": {
        "id": "tgbR8213DgPt"
      }
    },
    {
      "cell_type": "code",
      "source": [
        "conn.close()\n",
        "print(\"The Sqlite connection is closed\")"
      ],
      "metadata": {
        "id": "UUhrJw5EDcJF",
        "colab": {
          "base_uri": "https://localhost:8080/"
        },
        "outputId": "1ece4e53-96c9-42a9-ebbd-211688f8fd32"
      },
      "execution_count": 35,
      "outputs": [
        {
          "output_type": "stream",
          "name": "stdout",
          "text": [
            "The Sqlite connection is closed\n"
          ]
        }
      ]
    }
  ],
  "metadata": {
    "colab": {
      "provenance": [],
      "include_colab_link": true
    },
    "kernelspec": {
      "display_name": "Python 3",
      "name": "python3"
    },
    "language_info": {
      "codemirror_mode": {
        "name": "ipython",
        "version": 3
      },
      "file_extension": ".py",
      "mimetype": "text/x-python",
      "name": "python",
      "nbconvert_exporter": "python",
      "pygments_lexer": "ipython3",
      "version": "3.10.13"
    }
  },
  "nbformat": 4,
  "nbformat_minor": 0
}